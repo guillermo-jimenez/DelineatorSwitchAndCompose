{
 "cells": [
  {
   "cell_type": "code",
   "execution_count": 1,
   "metadata": {},
   "outputs": [],
   "source": [
    "%load_ext autoreload\n",
    "%autoreload 2"
   ]
  },
  {
   "cell_type": "code",
   "execution_count": 2,
   "metadata": {},
   "outputs": [],
   "source": [
    "import os\n",
    "import os.path\n",
    "import skimage\n",
    "import skimage.segmentation\n",
    "import sklearn.preprocessing\n",
    "import sklearn.model_selection\n",
    "import math\n",
    "import shutil\n",
    "import pathlib\n",
    "import glob\n",
    "import shutil\n",
    "import uuid\n",
    "import random\n",
    "import platform\n",
    "import torch\n",
    "import torchvision\n",
    "import numpy as np\n",
    "import scipy as sp\n",
    "import scipy.io\n",
    "import scipy.signal\n",
    "import pandas as pd\n",
    "import networkx\n",
    "import wfdb\n",
    "import fleetfmt\n",
    "import json\n",
    "import tqdm\n",
    "import dill\n",
    "import pickle\n",
    "import time\n",
    "import matplotlib.pyplot as plt\n",
    "\n",
    "import scipy.stats\n",
    "\n",
    "import src.data\n",
    "import src.reader\n",
    "\n",
    "import sak\n",
    "import sak.signal.wavelet\n",
    "import sak.data\n",
    "import sak.data.augmentation\n",
    "import sak.visualization\n",
    "import sak.visualization.signal\n",
    "import sak.torch\n",
    "import sak.torch.nn\n",
    "import sak.torch.nn as nn\n",
    "import sak.torch.train\n",
    "import sak.torch.data\n",
    "import sak.data.preprocessing\n",
    "import sak.torch.models\n",
    "import sak.torch.models.lego\n",
    "import sak.torch.models.variational\n",
    "import sak.torch.models.classification\n",
    "\n",
    "from sak.signal import StandardHeader\n",
    "\n",
    "def smooth(x: np.ndarray, window_size: int, conv_mode: str = 'same'):\n",
    "    x = np.pad(np.copy(x),(window_size,window_size),'edge')\n",
    "    window = np.hamming(window_size)/(window_size//2)\n",
    "    x = np.convolve(x, window, mode=conv_mode)\n",
    "    x = x[window_size:-window_size]\n",
    "    return x"
   ]
  },
  {
   "cell_type": "code",
   "execution_count": null,
   "metadata": {},
   "outputs": [],
   "source": []
  },
  {
   "cell_type": "markdown",
   "metadata": {},
   "source": [
    "# From train_multi.py"
   ]
  },
  {
   "cell_type": "code",
   "execution_count": 3,
   "metadata": {},
   "outputs": [
    {
     "name": "stderr",
     "output_type": "stream",
     "text": [
      "100%|██████████| 206/206 [00:00<00:00, 2315.28it/s]\n"
     ]
    },
    {
     "name": "stdout",
     "output_type": "stream",
     "text": [
      "Issue with file sel35_0, continuing...\n",
      "Issue with file sel35_1, continuing...\n",
      "################# FOLD 1 #################\n"
     ]
    }
   ],
   "source": [
    "bool_hpc    = False\n",
    "model_name  = \"TestSemiSupervisedLearning\"\n",
    "config_file = './configurations/WNet6Levels.json'\n",
    "input_files = './pickle/'\n",
    "\n",
    "##### 1. Load configuration file #####\n",
    "with open(config_file, \"r\") as f:\n",
    "    execution = json.load(f)\n",
    "\n",
    "execution[\"root_directory\"] = os.path.expanduser(execution[\"root_directory\"])\n",
    "execution[\"save_directory\"] = os.path.expanduser(execution[\"save_directory\"])\n",
    "\n",
    "# NO ITERATOR FOR HPC, WASTE OF MEMORY\n",
    "if bool_hpc:\n",
    "    execution[\"iterator\"] = \"none\"\n",
    "\n",
    "##### 2. Load synthetic dataset #####\n",
    "# 2.1. Load individual segments\n",
    "P = sak.pickleload(os.path.join(input_files,\"Psignal_new.pkl\"))\n",
    "PQ = sak.pickleload(os.path.join(input_files,\"PQsignal_new.pkl\"))\n",
    "QRS = sak.pickleload(os.path.join(input_files,\"QRSsignal_new.pkl\"))\n",
    "ST = sak.pickleload(os.path.join(input_files,\"STsignal_new.pkl\"))\n",
    "T = sak.pickleload(os.path.join(input_files,\"Tsignal_new.pkl\"))\n",
    "TP = sak.pickleload(os.path.join(input_files,\"TPsignal_new.pkl\"))\n",
    "\n",
    "Pamplitudes = sak.pickleload(os.path.join(input_files,\"Pamplitudes_new.pkl\"))\n",
    "PQamplitudes = sak.pickleload(os.path.join(input_files,\"PQamplitudes_new.pkl\"))\n",
    "QRSamplitudes = sak.pickleload(os.path.join(input_files,\"QRSamplitudes_new.pkl\"))\n",
    "STamplitudes = sak.pickleload(os.path.join(input_files,\"STamplitudes_new.pkl\"))\n",
    "Tamplitudes = sak.pickleload(os.path.join(input_files,\"Tamplitudes_new.pkl\"))\n",
    "TPamplitudes = sak.pickleload(os.path.join(input_files,\"TPamplitudes_new.pkl\"))\n",
    "\n",
    "# 2.2. Get amplitude distribution\n",
    "Pdistribution   = scipy.stats.lognorm(*scipy.stats.lognorm.fit(np.array(list(Pamplitudes.values()))))\n",
    "PQdistribution  = scipy.stats.lognorm(*scipy.stats.lognorm.fit(np.array(list(PQamplitudes.values()))))\n",
    "QRSdistribution = scipy.stats.lognorm(*scipy.stats.lognorm.fit(np.hstack((np.array(list(QRSamplitudes.values())), 2-np.array(list(QRSamplitudes.values()))))))\n",
    "STdistribution  = scipy.stats.lognorm(*scipy.stats.lognorm.fit(np.array(list(STamplitudes.values()))))\n",
    "Tdistribution   = scipy.stats.lognorm(*scipy.stats.lognorm.fit(np.array(list(Tamplitudes.values()))))\n",
    "TPdistribution  = scipy.stats.lognorm(*scipy.stats.lognorm.fit(np.array(list(TPamplitudes.values()))))\n",
    "\n",
    "# 2.3. Smooth all\n",
    "window = 5\n",
    "P   = {k: sak.data.ball_scaling(sak.signal.on_off_correction(smooth(  P[k],window)),metric=sak.signal.abs_max) for k in   P}\n",
    "PQ  = {k: sak.data.ball_scaling(sak.signal.on_off_correction(smooth( PQ[k],window)),metric=sak.signal.abs_max) for k in  PQ}\n",
    "QRS = {k: sak.data.ball_scaling(sak.signal.on_off_correction(smooth(QRS[k],window)),metric=sak.signal.abs_max) for k in QRS}\n",
    "ST  = {k: sak.data.ball_scaling(sak.signal.on_off_correction(smooth( ST[k],window)),metric=sak.signal.abs_max) for k in  ST}\n",
    "T   = {k: sak.data.ball_scaling(sak.signal.on_off_correction(smooth(  T[k],window)),metric=sak.signal.abs_max) for k in   T}\n",
    "TP  = {k: sak.data.ball_scaling(sak.signal.on_off_correction(smooth( TP[k],window)),metric=sak.signal.abs_max) for k in  TP}\n",
    "\n",
    "\n",
    "##### 3. Load QTDB #####\n",
    "dataset             = pd.read_csv(os.path.join(input_files,'QTDB','Dataset.csv'), index_col=0)\n",
    "dataset             = dataset.sort_index(axis=1)\n",
    "labels              = np.asarray(list(dataset)) # In case no data augmentation is applied\n",
    "description         = dataset.describe()\n",
    "group               = {k: '_'.join(k.split('_')[:-1]) for k in dataset}\n",
    "unique_ids          = list(set([k.split('_')[0] for k in dataset]))\n",
    "\n",
    "# Load validity\n",
    "validity            = sak.load_data(os.path.join(input_files,'QTDB','validity.csv'))\n",
    "\n",
    "# Load fiducials\n",
    "Pon_QTDB            = sak.load_data(os.path.join(input_files,'QTDB','PonNew.csv'))\n",
    "Poff_QTDB           = sak.load_data(os.path.join(input_files,'QTDB','PoffNew.csv'))\n",
    "QRSon_QTDB          = sak.load_data(os.path.join(input_files,'QTDB','QRSonNew.csv'))\n",
    "QRSoff_QTDB         = sak.load_data(os.path.join(input_files,'QTDB','QRSoffNew.csv'))\n",
    "Ton_QTDB            = sak.load_data(os.path.join(input_files,'QTDB','TonNew.csv'))\n",
    "Toff_QTDB           = sak.load_data(os.path.join(input_files,'QTDB','ToffNew.csv'))\n",
    "\n",
    "# Generate masks & signals\n",
    "signal_QTDB = {}\n",
    "segmentation_QTDB = {}\n",
    "for k in tqdm.tqdm(QRSon_QTDB):\n",
    "    # Check file exists and all that\n",
    "    if k not in validity:\n",
    "        print(\"Issue with file {}, continuing...\".format(k))\n",
    "        continue\n",
    "\n",
    "    # Store signal\n",
    "    signal = dataset[k][validity[k][0]:validity[k][1]].values\n",
    "    signal = sak.signal.on_off_correction(signal)\n",
    "    amplitude = np.median(sak.signal.moving_lambda(signal,200,sak.signal.abs_max))\n",
    "    signal = signal/amplitude\n",
    "    signal_QTDB[k] = signal[None,]\n",
    "\n",
    "    # Generate boolean mask\n",
    "    segmentation = np.zeros((3,dataset.shape[0]),dtype=bool)\n",
    "    if k in Pon_QTDB:\n",
    "        for on,off in zip(Pon_QTDB[k],Poff_QTDB[k]):\n",
    "            segmentation[0,on:off] = True\n",
    "    if k in QRSon_QTDB:\n",
    "        for on,off in zip(QRSon_QTDB[k],QRSoff_QTDB[k]):\n",
    "            segmentation[1,on:off] = True\n",
    "    if k in Ton_QTDB:\n",
    "        for on,off in zip(Ton_QTDB[k],Toff_QTDB[k]):\n",
    "            segmentation[2,on:off] = True\n",
    "\n",
    "    segmentation_QTDB[k] = segmentation[:,validity[k][0]:validity[k][1]]\n",
    "\n",
    "\n",
    "##### 4. Generate random splits #####\n",
    "# 4.1. Split into train and test\n",
    "all_keys_synthetic = {}\n",
    "for k in list(P) + list(PQ) + list(QRS) + list(ST) + list(T) + list(TP):\n",
    "    uid = k.split(\"###\")[0].split(\"_\")[0].split(\"-\")[0]\n",
    "    if uid not in all_keys_synthetic:\n",
    "        all_keys_synthetic[uid] = [k]\n",
    "    else:\n",
    "        all_keys_synthetic[uid].append(k)\n",
    "\n",
    "all_keys_real = {}\n",
    "for k in list(signal_QTDB) + list(segmentation_QTDB):\n",
    "    uid = k.split(\"###\")[0].split(\"_\")[0].split(\"-\")[0]\n",
    "    if uid not in all_keys_real:\n",
    "        all_keys_real[uid] = [k]\n",
    "    else:\n",
    "        all_keys_real[uid].append(k)\n",
    "\n",
    "# 4.2. Get database and file\n",
    "filenames = []\n",
    "database = []\n",
    "for k in all_keys_synthetic:\n",
    "    filenames.append(k)\n",
    "    if k.startswith(\"SOO\"):\n",
    "        database.append(0)\n",
    "    elif k.startswith(\"sel\"):\n",
    "        database.append(1)\n",
    "    else:\n",
    "        database.append(2)\n",
    "filenames = np.array(filenames)\n",
    "database = np.array(database)\n",
    "\n",
    "# Set random seed for the execution and perform train/test splitting\n",
    "random.seed(execution[\"seed\"])\n",
    "np.random.seed(execution[\"seed\"])\n",
    "torch.random.manual_seed(execution[\"seed\"])\n",
    "splitter = sklearn.model_selection.StratifiedKFold(5).split(filenames,database)\n",
    "splits = list(splitter)\n",
    "indices_train = [s[0] for s in splits]\n",
    "indices_valid = [s[1] for s in splits]\n",
    "\n",
    "##### 5. Train folds #####\n",
    "# 5.1. Save model-generating files\n",
    "target_path = execution[\"save_directory\"] # Store original output path for future usage\n",
    "original_length = execution[\"dataset\"][\"length\"]\n",
    "if not os.path.isdir(os.path.join(target_path,model_name)):\n",
    "    pathlib.Path(os.path.join(target_path,model_name)).mkdir(parents=True, exist_ok=True)\n",
    "# shutil.copyfile(\"./train_multi.py\",os.path.join(target_path,model_name,\"train_multi.py\"))\n",
    "shutil.copyfile(\"./src/data.py\",os.path.join(target_path,model_name,\"data.py\"))\n",
    "shutil.copyfile(\"./src/metrics.py\",os.path.join(target_path,model_name,\"metrics.py\"))\n",
    "# shutil.copyfile(\"./sak/torch/nn/modules/loss.py\",os.path.join(target_path,model_name,\"loss.py\"))\n",
    "shutil.copyfile(config_file,os.path.join(target_path,model_name,os.path.split(config_file)[1]))\n",
    "\n",
    "# 5.2. Save folds of valid files\n",
    "all_folds_test = {\"fold_{}\".format(i+1): np.array(filenames)[ix_valid] for i,ix_valid in enumerate(indices_valid)}\n",
    "sak.save_data(all_folds_test,os.path.join(target_path,model_name,\"validation_files.csv\"))\n",
    "\n",
    "# 5.3. Iterate over folds\n",
    "for i,(ix_train,ix_valid) in enumerate(zip(indices_train,indices_valid)):\n",
    "    print(\"################# FOLD {} #################\".format(i+1))\n",
    "    # Synthetic keys\n",
    "    train_keys_synthetic, valid_keys_synthetic = ([],[])\n",
    "    for k in np.array(filenames)[ix_train]: \n",
    "        train_keys_synthetic += all_keys_synthetic[k]\n",
    "    for k in np.array(filenames)[ix_valid]: \n",
    "        valid_keys_synthetic += all_keys_synthetic[k]\n",
    "\n",
    "    # Real keys\n",
    "    train_keys_real, valid_keys_real = ([],[])\n",
    "    for k in np.array(filenames)[ix_train]: \n",
    "        if k in all_keys_real: train_keys_real += all_keys_real[k]\n",
    "    for k in np.array(filenames)[ix_valid]: \n",
    "        if k in all_keys_real: valid_keys_real += all_keys_real[k]\n",
    "\n",
    "    # Avoid repetitions\n",
    "    train_keys_synthetic = list(set(train_keys_synthetic))\n",
    "    valid_keys_synthetic = list(set(valid_keys_synthetic))\n",
    "    train_keys_real = list(set(train_keys_real))\n",
    "    valid_keys_real = list(set(valid_keys_real))\n",
    "\n",
    "    # ~~~~~~~~~~~~~~~~~~~~ Refine synthetic set ~~~~~~~~~~~~~~~~~~~~\n",
    "    # Divide train/valid segments\n",
    "    Ptrain   = {k:   P[k] for k in   P if k in train_keys_synthetic}\n",
    "    PQtrain  = {k:  PQ[k] for k in  PQ if k in train_keys_synthetic}\n",
    "    QRStrain = {k: QRS[k] for k in QRS if k in train_keys_synthetic}\n",
    "    STtrain  = {k:  ST[k] for k in  ST if k in train_keys_synthetic}\n",
    "    Ttrain   = {k:   T[k] for k in   T if k in train_keys_synthetic}\n",
    "    TPtrain  = {k:  TP[k] for k in  TP if k in train_keys_synthetic}\n",
    "\n",
    "    Pvalid   = {k:   P[k] for k in   P if k in valid_keys_synthetic}\n",
    "    PQvalid  = {k:  PQ[k] for k in  PQ if k in valid_keys_synthetic}\n",
    "    QRSvalid = {k: QRS[k] for k in QRS if k in valid_keys_synthetic}\n",
    "    STvalid  = {k:  ST[k] for k in  ST if k in valid_keys_synthetic}\n",
    "    Tvalid   = {k:   T[k] for k in   T if k in valid_keys_synthetic}\n",
    "    TPvalid  = {k:  TP[k] for k in  TP if k in valid_keys_synthetic}\n",
    "\n",
    "    # ~~~~~~~~~~~~~~~~~~~~~~ Refine real set ~~~~~~~~~~~~~~~~~~~~~~~\n",
    "    signal_QTDB_train       = {k:       signal_QTDB[k] for k in       signal_QTDB if k in train_keys_real}\n",
    "    signal_QTDB_valid       = {k:       signal_QTDB[k] for k in       signal_QTDB if k in valid_keys_real}\n",
    "    segmentation_QTDB_train = {k: segmentation_QTDB[k] for k in segmentation_QTDB if k in train_keys_real}\n",
    "    segmentation_QTDB_valid = {k: segmentation_QTDB[k] for k in segmentation_QTDB if k in valid_keys_real}\n",
    "\n",
    "\n",
    "    # Prepare folders\n",
    "    execution[\"save_directory\"] = os.path.join(target_path, model_name, \"fold_{}\".format(i+1))\n",
    "    if not os.path.isdir(execution[\"save_directory\"]):\n",
    "        pathlib.Path(execution[\"save_directory\"]).mkdir(parents=True, exist_ok=True)\n",
    "\n",
    "    # Define synthetic datasets\n",
    "    dataset_train_synthetic = src.data.Dataset(Ptrain, QRStrain, Ttrain, PQtrain, STtrain, TPtrain, \n",
    "                                               Pdistribution, QRSdistribution, Tdistribution, PQdistribution, \n",
    "                                               STdistribution, TPdistribution, **execution[\"dataset\"])\n",
    "    execution[\"dataset\"][\"length\"] = execution[\"dataset\"][\"length\"]//4 # On synthetic data, not so useful to do intensive validation\n",
    "    dataset_valid_synthetic = src.data.Dataset(Pvalid, QRSvalid, Tvalid, PQvalid, STvalid, TPvalid, \n",
    "                                               Pdistribution, QRSdistribution, Tdistribution, PQdistribution, \n",
    "                                               STdistribution, TPdistribution, **execution[\"dataset\"])\n",
    "    execution[\"dataset\"][\"length\"] = original_length # On synthetic data, not so useful to do intensive validation\n",
    "\n",
    "    # Define real datasets\n",
    "    dataset_train_real = src.data.DatasetQTDB(signal_QTDB_train,segmentation_QTDB_train,execution[\"dataset\"][\"N\"],128)\n",
    "    dataset_valid_real = src.data.DatasetQTDB(signal_QTDB_valid,segmentation_QTDB_valid,execution[\"dataset\"][\"N\"],128)\n",
    "\n",
    "    # Define merging dataset\n",
    "    dataset_train = sak.torch.data.UniformMultiDataset((dataset_train_synthetic,dataset_train_real),[10,1],[1,10],return_weights=True)\n",
    "    sampler_train = sak.torch.data.UniformMultiSampler(dataset_train)\n",
    "    dataset_valid = sak.torch.data.UniformMultiDataset((dataset_valid_synthetic,dataset_valid_real),[10,1],[1,10],return_weights=True)\n",
    "    sampler_valid = sak.torch.data.UniformMultiSampler(dataset_valid)\n",
    "\n",
    "    # Create dataloaders\n",
    "    loader_train = torch.utils.data.DataLoader(dataset_train, sampler=sampler_train, **execution[\"loader\"])\n",
    "    loader_valid = torch.utils.data.DataLoader(dataset_valid, sampler=sampler_valid, **execution[\"loader\"])\n",
    "\n",
    "    # Define model\n",
    "    model = sak.from_dict(execution[\"model\"]).float().cuda()\n",
    "\n",
    "    # Train model\n",
    "    state = {\n",
    "        \"epoch\"         : 0,\n",
    "        \"device\"        : torch.device(\"cuda\" if torch.cuda.is_available() else \"cpu\"),\n",
    "        \"optimizer\"     : sak.class_selector(execution[\"optimizer\"][\"class\"])(model.parameters(), **execution[\"optimizer\"][\"arguments\"]),\n",
    "        \"root_dir\"      : \"./\"\n",
    "    }\n",
    "    if \"scheduler\" in execution:\n",
    "        state[\"scheduler\"] = sak.class_selector(execution[\"scheduler\"][\"class\"])(state[\"optimizer\"], **execution[\"scheduler\"][\"arguments\"])\n",
    "    \n",
    "    break"
   ]
  },
  {
   "cell_type": "code",
   "execution_count": 4,
   "metadata": {},
   "outputs": [
    {
     "name": "stderr",
     "output_type": "stream",
     "text": [
      "  0%|          | 0/1135 [00:01<?, ?it/s]\n"
     ]
    }
   ],
   "source": [
    "for inputs in tqdm.tqdm(loader_train):\n",
    "    break"
   ]
  },
  {
   "cell_type": "code",
   "execution_count": 5,
   "metadata": {},
   "outputs": [],
   "source": [
    "def get_batch_ssl(loader_labeled,loader_unlabeled):\n",
    "    # Set up all stuff\n",
    "    counter_labeled,counter_unlabeled =                    0,                      0\n",
    "    length_labeled,length_unlabeled   =  len(loader_labeled),  len(loader_unlabeled)\n",
    "    iter_labeled,    iter_unlabeled   = iter(loader_labeled), iter(loader_unlabeled)\n",
    "    maxlen                            =  max(length_labeled,       length_unlabeled)\n",
    "    \n",
    "    # Get examples\n",
    "    for _ in range(maxlen):\n",
    "        if counter_labeled   == length_labeled:\n",
    "            iter_labeled   = iter(loader_labeled)\n",
    "        if counter_unlabeled == length_unlabeled:\n",
    "            iter_unlabeled = iter(loader_unlabeled)\n",
    "        counter_labeled   += 1\n",
    "        counter_unlabeled += 1\n",
    "\n",
    "        # Return next element in iterator\n",
    "        yield (next(iter_labeled), next(iter_unlabeled))\n",
    "\n"
   ]
  },
  {
   "cell_type": "code",
   "execution_count": 365,
   "metadata": {},
   "outputs": [],
   "source": [
    "class DatasetUnsupervised(torch.utils.data.Dataset):\n",
    "    '''Unsupervised dataset'''\n",
    "\n",
    "    def __init__(self, file: str, window: int, N_per_db: int = None, dtype='float32'):\n",
    "        '''Initialization'''\n",
    "        # Store inputs\n",
    "        self.file              = file\n",
    "        self.fhandle           = pathlib.Path(self.file).open('rb')\n",
    "        self.reader            = fleetfmt.FileReader(self.fhandle)\n",
    "        self.keys              = list(self.reader.keys())\n",
    "        self.window            = window\n",
    "        self.dtype             = dtype\n",
    "        self.N_per_db          = N_per_db\n",
    "            \n",
    "        if (self.N_per_db is not None):\n",
    "            self.databases         = []\n",
    "            self.N_databases       = {}\n",
    "            self.key_per_database  = {}\n",
    "            for k in self.keys:\n",
    "                DB = k.split(\"/\")[0]\n",
    "                if DB not in self.N_databases:\n",
    "                    self.databases.append(DB)\n",
    "                    self.N_databases[DB] = 0\n",
    "                    self.key_per_database[DB] = []\n",
    "                self.N_databases[DB] += 1\n",
    "                self.key_per_database[DB].append(k)\n",
    "            self.len           = self.N_per_db*len(self.N_databases)\n",
    "            self.__getkey      = self.__get_key_oversampling\n",
    "            self.max_N             = max([self.N_databases[k] for k in self.N_databases])\n",
    "        else:\n",
    "            self.len           = len(self.keys)\n",
    "            self.__getkey      = self.__get_key_all\n",
    "\n",
    "    def __len__(self):\n",
    "        '''Denotes the number of batches per epoch'''\n",
    "        return self.len\n",
    "    \n",
    "    def __get_key_oversampling(self, i):\n",
    "        db = self.databases[i//self.N_per_db]\n",
    "        return random.choice(self.key_per_database[db])\n",
    "    \n",
    "    def __get_key_all(self, i):\n",
    "        return self.keys[i]\n",
    "    \n",
    "    def __getitem__(self, i):\n",
    "        # Get key\n",
    "        key = self.__getkey(i)\n",
    "        \n",
    "        # Read fragment\n",
    "        fragment = self.reader.read(key)\n",
    "        \n",
    "        # Generate onset randomly\n",
    "        onset = random.randint(0,fragment.size-self.window)\n",
    "        \n",
    "        # Return fragment\n",
    "        return {\"x\": fragment[onset:onset+self.window].astype(self.dtype)}\n"
   ]
  },
  {
   "cell_type": "code",
   "execution_count": 379,
   "metadata": {},
   "outputs": [],
   "source": [
    "self = DatasetUnsupervised(\"/media/guille/DADES/DADES/ECG/unsupervised_float32_250hz.fleet\",2048,N_per_db=10)"
   ]
  },
  {
   "cell_type": "code",
   "execution_count": 381,
   "metadata": {},
   "outputs": [],
   "source": [
    "for i in range(len(self)):\n",
    "    self[i]"
   ]
  },
  {
   "cell_type": "code",
   "execution_count": 422,
   "metadata": {},
   "outputs": [
    {
     "data": {
      "text/plain": [
       "[<matplotlib.lines.Line2D at 0x7f30429dd5b0>]"
      ]
     },
     "execution_count": 422,
     "metadata": {},
     "output_type": "execute_result"
    },
    {
     "data": {
      "image/png": "[encoded data removed]",
      "text/plain": [
       "<Figure size 432x288 with 1 Axes>"
      ]
     },
     "metadata": {
      "needs_background": "light"
     },
     "output_type": "display_data"
    }
   ],
   "source": [
    "i = random.randint(0,len(self)-1)\n",
    "x = self[i][\"x\"]\n",
    "plt.plot(x)"
   ]
  },
  {
   "cell_type": "code",
   "execution_count": null,
   "metadata": {},
   "outputs": [],
   "source": []
  },
  {
   "cell_type": "code",
   "execution_count": null,
   "metadata": {},
   "outputs": [],
   "source": []
  },
  {
   "cell_type": "code",
   "execution_count": null,
   "metadata": {},
   "outputs": [],
   "source": []
  },
  {
   "cell_type": "code",
   "execution_count": null,
   "metadata": {},
   "outputs": [],
   "source": []
  },
  {
   "cell_type": "code",
   "execution_count": null,
   "metadata": {},
   "outputs": [],
   "source": []
  },
  {
   "cell_type": "code",
   "execution_count": null,
   "metadata": {},
   "outputs": [],
   "source": []
  },
  {
   "cell_type": "code",
   "execution_count": null,
   "metadata": {},
   "outputs": [],
   "source": []
  },
  {
   "cell_type": "code",
   "execution_count": null,
   "metadata": {},
   "outputs": [],
   "source": []
  },
  {
   "cell_type": "code",
   "execution_count": null,
   "metadata": {},
   "outputs": [],
   "source": []
  },
  {
   "cell_type": "code",
   "execution_count": null,
   "metadata": {},
   "outputs": [],
   "source": []
  },
  {
   "cell_type": "code",
   "execution_count": null,
   "metadata": {},
   "outputs": [],
   "source": []
  },
  {
   "cell_type": "code",
   "execution_count": null,
   "metadata": {},
   "outputs": [],
   "source": []
  },
  {
   "cell_type": "code",
   "execution_count": null,
   "metadata": {},
   "outputs": [],
   "source": []
  },
  {
   "cell_type": "code",
   "execution_count": null,
   "metadata": {},
   "outputs": [],
   "source": []
  },
  {
   "cell_type": "code",
   "execution_count": null,
   "metadata": {},
   "outputs": [],
   "source": [
    "def get_batch_ssl(loader_labeled,loader_unlabeled):\n",
    "    # Set up all stuff\n",
    "    counter_labeled,counter_unlabeled =                    0,                      0\n",
    "    length_labeled,length_unlabeled   =  len(loader_labeled),  len(loader_unlabeled)\n",
    "    iter_labeled,    iter_unlabeled   = iter(loader_labeled), iter(loader_unlabeled)\n",
    "    maxlen                            =  max(length_labeled,       length_unlabeled)\n",
    "    \n",
    "    # Get examples\n",
    "    for _ in range(maxlen):\n",
    "        if counter_labeled   == length_labeled:\n",
    "            iter_labeled   = iter(loader_labeled)\n",
    "        if counter_unlabeled == length_unlabeled:\n",
    "            iter_unlabeled = iter(loader_unlabeled)\n",
    "        counter_labeled   += 1\n",
    "        counter_unlabeled += 1\n",
    "\n",
    "        # Return next element in iterator\n",
    "        yield (next(iter_labeled), next(iter_unlabeled))\n",
    "\n",
    "def do_epoch_ssl(model: torch.nn.Module, state: dict, config: dict, \n",
    "                 dataloader_labeled:   torch.utils.data.DataLoader, \n",
    "                 dataloader_unlabeled: torch.utils.data.DataLoader, \n",
    "                 criterion: Callable, \n",
    "                 criterion_crossentropy: Callable) -> list:\n",
    "    \"\"\"\n",
    "    Minimum do_epoch example\n",
    "    1. Select device to send tensors\n",
    "    2. Initialize loss function\n",
    "    3. Predict + optimize batch\n",
    "    4. Save loss per batch (useful given size of dataset)\n",
    "    \"\"\"\n",
    "    \n",
    "    # Record progress\n",
    "    max_length = max(len(dataloader_labeled),len(dataloader_unlabeled))\n",
    "    batch_loss = np.zeros((max_length,),dtype='float16')\n",
    "\n",
    "    # Create transforms\n",
    "    if ('data_pre' in config):\n",
    "        data_pre     = sak.from_dict(config[\"data_pre\"])\n",
    "    if ('augmentation' in config) and model.training:\n",
    "        augmentation = sak.from_dict(config[\"augmentation\"])\n",
    "    if ('data_post' in config):\n",
    "        data_post    = sak.from_dict(config[\"data_post\"])\n",
    "\n",
    "    # Select iterator decorator\n",
    "    train_type = 'Train' if model.training else 'Valid'\n",
    "    iterator = sak.get_tqdm(dataloader, config.get('iterator',''), \n",
    "                            desc=\"({}) Epoch {:>3d}/{:>3d}, Loss {:0.3f}\".format(train_type, \n",
    "                                                                                 state['epoch']+1, \n",
    "                                                                                 config['epochs'], np.inf))\n",
    "\n",
    "    # Iterate over all data in train/validation/test dataloader:\n",
    "    print_loss = np.inf\n",
    "    for i, inputs in enumerate(iterator):\n",
    "        # Apply data transforms\n",
    "        if ('data_pre' in config):\n",
    "            data_pre(inputs=inputs)\n",
    "        if ('augmentation' in config) and model.training:\n",
    "            augmentation(inputs=inputs)\n",
    "        if ('data_post' in config):\n",
    "            data_post(inputs=inputs)\n",
    "\n",
    "        # Map all inputs to device\n",
    "        for k in inputs:\n",
    "            inputs[k] = inputs[k].to(state['device'], non_blocking=True)\n",
    "\n",
    "        # Set gradient to zero\n",
    "        if model.training: \n",
    "            state['optimizer'].zero_grad()\n",
    "\n",
    "        # Predict input data\n",
    "        outputs = model(inputs)\n",
    "\n",
    "        # Calculate loss\n",
    "        loss = criterion(inputs=inputs,outputs=outputs,state=state)\n",
    "\n",
    "        # Break early\n",
    "        if torch.isnan(loss):\n",
    "            raise ValueError(\"Nan loss value encountered. Stopping...\")\n",
    "\n",
    "        # Retrieve for printing purposes\n",
    "        print_loss = loss.item()\n",
    "        \n",
    "        # Optimize network's weights\n",
    "        if model.training:\n",
    "            loss.backward()\n",
    "            state['optimizer'].step()\n",
    "\n",
    "        # Accumulate losses\n",
    "        batch_loss[i] = print_loss\n",
    "\n",
    "        # Change iterator description\n",
    "        if isinstance(iterator,tqdm.tqdm):\n",
    "            if i == len(iterator)-1:\n",
    "                iterator.set_description(\"({}) Epoch {:>3d}/{:>3d}, Loss {:10.3f}\".format(train_type, state['epoch']+1, config['epochs'], np.mean(batch_loss)))\n",
    "            else:\n",
    "                iterator.set_description(\"({}) Epoch {:>3d}/{:>3d}, Loss {:10.3f}\".format(train_type, state['epoch']+1, config['epochs'], print_loss))\n",
    "            iterator.refresh()\n",
    "\n",
    "    return batch_loss\n",
    "\n",
    "\n",
    "def train_model_ssl(model, state: dict, config: dict, loader: torch.utils.data.DataLoader):\n",
    "    # Send model to device\n",
    "    model = model.to(state['device'])\n",
    "\n",
    "    # Instantiate criterion\n",
    "    criterion = sak.from_dict(config['loss'])\n",
    "    \n",
    "    # Initialize best loss for early stopping\n",
    "    if 'best_loss' not in state:\n",
    "        state['best_loss'] = np.inf\n",
    "\n",
    "    # Get savedir string\n",
    "    if \"savedir\" in config:          str_savedir = 'savedir'\n",
    "    elif \"save_directory\" in config: str_savedir = 'save_directory'\n",
    "    else: raise ValueError(\"Configuration file should include either the 'savedir' or 'save_directory' fields [case-sensitive]\")\n",
    "\n",
    "    # Iterate over epochs\n",
    "    for epoch in range(state['epoch'], config['epochs']):\n",
    "        try:\n",
    "            # Store current epoch\n",
    "            state['epoch'] = epoch\n",
    "            \n",
    "            # Train model\n",
    "            loss_train = do_epoch(model.train(), state, config, loader, criterion)\n",
    "            state['loss_train'] = np.mean(loss_train)\n",
    "\n",
    "            # Save model/state info\n",
    "            model = model.cpu().eval()\n",
    "            torch.save(model,              os.path.join(config[str_savedir],'checkpoint.model'),      pickle_module=dill)\n",
    "            torch.save(model.state_dict(), os.path.join(config[str_savedir],'checkpoint.state_dict'), pickle_module=dill)\n",
    "            sak.pickledump(state, os.path.join(config[str_savedir],'checkpoint.state'), mode='wb')\n",
    "            model = model.to(state['device'])\n",
    "            \n",
    "            # Log train loss\n",
    "            with open(os.path.join(config[str_savedir],'log.csv'),'a') as f:\n",
    "                csvwriter = csv.writer(f)\n",
    "                csvwriter.writerow([\"(Train) Epoch {:>3d}/{:>3d}, Loss {:10.3f}, Time {}\".format(state['epoch']+1, config['epochs'], state['loss_train'], time.ctime())])\n",
    "\n",
    "            # Check if loss is best loss\n",
    "            if state['loss_train'] < state['best_loss']:\n",
    "                state['best_loss'] = state['loss_train']\n",
    "                state['best_epoch'] = epoch\n",
    "                \n",
    "                # Copy checkpoint and mark as best\n",
    "                shutil.copyfile(os.path.join(config[str_savedir],'checkpoint.model'), os.path.join(config[str_savedir],'model_best.model'))\n",
    "                shutil.copyfile(os.path.join(config[str_savedir],'checkpoint.state'), os.path.join(config[str_savedir],'model_best.state'))\n",
    "        except KeyboardInterrupt:\n",
    "            model = model.cpu().eval()\n",
    "            torch.save(model,              os.path.join(config[str_savedir],'keyboard_interrupt.model'),      pickle_module=dill)\n",
    "            torch.save(model.state_dict(), os.path.join(config[str_savedir],'keyboard_interrupt.state_dict'), pickle_module=dill)\n",
    "            sak.pickledump(state, os.path.join(config[str_savedir],'keyboard_interrupt.state'), mode='wb')\n",
    "            raise\n",
    "        except:\n",
    "            model = model.cpu().eval()\n",
    "            torch.save(model,              os.path.join(config[str_savedir],'error.model'),      pickle_module=dill)\n",
    "            torch.save(model.state_dict(), os.path.join(config[str_savedir],'error.state_dict'), pickle_module=dill)\n",
    "            sak.pickledump(state, os.path.join(config[str_savedir],'error.state'), mode='wb')\n",
    "            raise\n",
    "\n",
    "\n",
    "def train_valid_model_ssl(model, state: dict, config: dict, \n",
    "                          loader_train: torch.utils.data.DataLoader, \n",
    "                          loader_valid: torch.utils.data.DataLoader):\n",
    "    # Send model to device\n",
    "    model = model.to(state['device'])\n",
    "\n",
    "    # Instantiate criterion\n",
    "    criterion = sak.from_dict(config['loss'])\n",
    "    \n",
    "    # Initialize best loss for early stopping\n",
    "    if 'best_loss' not in state:\n",
    "        state['best_loss'] = np.inf\n",
    "\n",
    "    # Get savedir string\n",
    "    if \"savedir\" in config:          str_savedir = 'savedir'\n",
    "    elif \"save_directory\" in config: str_savedir = 'save_directory'\n",
    "    else: raise ValueError(\"Configuration file should include either the 'savedir' or 'save_directory' fields [case-sensitive]\")\n",
    "\n",
    "    # Iterate over epochs\n",
    "    for epoch in range(state['epoch'], config['epochs']):\n",
    "        try:\n",
    "            # Store current epoch\n",
    "            state['epoch'] = epoch\n",
    "            \n",
    "            # Training model\n",
    "            loss_train = do_epoch(model.train(), state, config, loader_train, criterion)\n",
    "            state['loss_train'] = np.mean(loss_train)\n",
    "\n",
    "            # Validate results\n",
    "            with torch.no_grad():\n",
    "                loss_valid = do_epoch(model.eval(), state, config, loader_valid, criterion)\n",
    "            state['loss_validation'] = np.mean(loss_valid)\n",
    "\n",
    "            # Update learning rate scheduler\n",
    "            if 'scheduler' in state:\n",
    "                state['scheduler'].step(state['loss_validation'])\n",
    "\n",
    "            # Save model/state info\n",
    "            model = model.cpu().eval()\n",
    "            torch.save(model,              os.path.join(config[str_savedir],'checkpoint.model'),      pickle_module=dill)\n",
    "            torch.save(model.state_dict(), os.path.join(config[str_savedir],'checkpoint.state_dict'), pickle_module=dill)\n",
    "            sak.pickledump(state, os.path.join(config[str_savedir],'checkpoint.state'), mode='wb')\n",
    "            model = model.to(state['device'])\n",
    "            \n",
    "            # Log train/valid losses\n",
    "            with open(os.path.join(config[str_savedir],'log.csv'),'a') as f:\n",
    "                csvwriter = csv.writer(f)\n",
    "                csvwriter.writerow([\"(Train) Epoch {:>3d}/{:>3d}, Loss {:10.3f}, Time {}\".format(state['epoch']+1, config['epochs'], state['loss_train'], time.ctime())])\n",
    "                csvwriter.writerow([\"(Valid) Epoch {:>3d}/{:>3d}, Loss {:10.3f}, Time {}\".format(state['epoch']+1, config['epochs'], state['loss_validation'], time.ctime())])\n",
    "\n",
    "            # Check if loss is best loss\n",
    "            compound_loss = 2*state['loss_train']*state['loss_validation']/(state['loss_train']+state['loss_validation'])\n",
    "            if compound_loss < state['best_loss']:\n",
    "                state['best_loss'] = compound_loss\n",
    "                state['best_epoch'] = epoch\n",
    "                \n",
    "                # Copy checkpoint and mark as best\n",
    "                shutil.copyfile(os.path.join(config[str_savedir],'checkpoint.model'), os.path.join(config[str_savedir],'model_best.model'))\n",
    "                shutil.copyfile(os.path.join(config[str_savedir],'checkpoint.state'), os.path.join(config[str_savedir],'model_best.state'))\n",
    "            \n",
    "        except KeyboardInterrupt:\n",
    "            model = model.cpu().eval()\n",
    "            torch.save(model,              os.path.join(config[str_savedir],'keyboard_interrupt.model'),      pickle_module=dill)\n",
    "            torch.save(model.state_dict(), os.path.join(config[str_savedir],'keyboard_interrupt.state_dict'), pickle_module=dill)\n",
    "            sak.pickledump(state, os.path.join(config[str_savedir],'keyboard_interrupt.state'), mode='wb')\n",
    "            raise\n",
    "        except:\n",
    "            model = model.cpu().eval()\n",
    "            torch.save(model,              os.path.join(config[str_savedir],'error.model'),      pickle_module=dill)\n",
    "            torch.save(model.state_dict(), os.path.join(config[str_savedir],'error.state_dict'), pickle_module=dill)\n",
    "            sak.pickledump(state, os.path.join(config[str_savedir],'error.state'), mode='wb')\n",
    "            raise\n"
   ]
  },
  {
   "cell_type": "code",
   "execution_count": null,
   "metadata": {},
   "outputs": [],
   "source": []
  },
  {
   "cell_type": "code",
   "execution_count": null,
   "metadata": {},
   "outputs": [],
   "source": []
  },
  {
   "cell_type": "code",
   "execution_count": null,
   "metadata": {},
   "outputs": [],
   "source": []
  },
  {
   "cell_type": "code",
   "execution_count": null,
   "metadata": {},
   "outputs": [],
   "source": []
  },
  {
   "cell_type": "code",
   "execution_count": null,
   "metadata": {},
   "outputs": [],
   "source": []
  },
  {
   "cell_type": "code",
   "execution_count": null,
   "metadata": {},
   "outputs": [],
   "source": []
  },
  {
   "cell_type": "code",
   "execution_count": null,
   "metadata": {},
   "outputs": [],
   "source": []
  },
  {
   "cell_type": "code",
   "execution_count": null,
   "metadata": {},
   "outputs": [],
   "source": []
  },
  {
   "cell_type": "code",
   "execution_count": null,
   "metadata": {},
   "outputs": [],
   "source": []
  },
  {
   "cell_type": "code",
   "execution_count": null,
   "metadata": {},
   "outputs": [],
   "source": []
  },
  {
   "cell_type": "code",
   "execution_count": null,
   "metadata": {},
   "outputs": [],
   "source": []
  },
  {
   "cell_type": "code",
   "execution_count": null,
   "metadata": {},
   "outputs": [],
   "source": []
  },
  {
   "cell_type": "code",
   "execution_count": null,
   "metadata": {},
   "outputs": [],
   "source": []
  },
  {
   "cell_type": "code",
   "execution_count": null,
   "metadata": {},
   "outputs": [],
   "source": []
  },
  {
   "cell_type": "code",
   "execution_count": null,
   "metadata": {},
   "outputs": [],
   "source": []
  },
  {
   "cell_type": "code",
   "execution_count": null,
   "metadata": {},
   "outputs": [],
   "source": []
  },
  {
   "cell_type": "code",
   "execution_count": null,
   "metadata": {},
   "outputs": [],
   "source": []
  },
  {
   "cell_type": "markdown",
   "metadata": {},
   "source": [
    "# I/O FILES\n",
    "\n",
    "    aaa = pd.DataFrame(np.random.rand(10000,10000))\n",
    "    \n",
    "    ~~~ FEATHER ~~~\n",
    "    767M\ttest.fth\n",
    "    299 ms ± 21 ms per loop (mean ± std. dev. of 7 runs, 1 loop each)\n",
    "\n",
    "    ~~~ HDF5 ~~~\n",
    "    764M\ttest.hdf5\n",
    "    451 ms ± 92.7 ms per loop (mean ± std. dev. of 7 runs, 1 loop each)\n",
    "\n",
    "    ~~~ CSV ~~~\n",
    "    1,8G\ttest.csv\n",
    "    29 s ± 291 ms per loop (mean ± std. dev. of 7 runs, 1 loop each)\n",
    "\n",
    "    ~~~ WFDN ~~~\n",
    "    382M\ttest.dat\n",
    "    732K\ttest.hea\n",
    "    3.96 s ± 198 ms per loop (mean ± std. dev. of 7 runs, 1 loop each)\n",
    "\n",
    "    ~~~ FLEET ~~~\n",
    "    771M\ttest.fleet # With pyarrow\n",
    "    765M\ttest.fleet # With pickle protocol 5\n",
    "    # 315 ms ± 10.2 ms per loop (mean ± std. dev. of 7 runs, 1 loop each) # With pyarrow\n",
    "    161 ms ± 446 µs per loop (mean ± std. dev. of 7 runs, 10 loops each)  # With pickle protocol 5\n",
    "\n",
    "    https://towardsdatascience.com/what-format-should-i-store-my-ecg-data-in-for-dl-training-bc808eb64981"
   ]
  },
  {
   "cell_type": "code",
   "execution_count": 49,
   "metadata": {},
   "outputs": [
    {
     "name": "stdout",
     "output_type": "stream",
     "text": [
      "Writing numpy content to a new Fleet file.\n",
      "Done.\n",
      "766M\ttest.fleet\n"
     ]
    }
   ],
   "source": [
    "import pickle\n",
    "import fleetfmt\n",
    "import pathlib\n",
    "import numpy as np\n",
    "import random\n",
    "import skimage\n",
    "import skimage.util\n",
    "\n",
    "aaa = np.random.rand(10000,10000)\n",
    "print(\"Writing numpy content to a new Fleet file.\")\n",
    "with pathlib.Path(\"test.fleet\").open('wb') as fhandle, fleetfmt.FileWriter(fhandle) as writer:\n",
    "    for i,value in enumerate(aaa):\n",
    "        writer.append(f\"jakhgkjahgkjhak {i}\", value)\n",
    "print(\"Done.\")\n",
    "!du -sh test.fleet"
   ]
  },
  {
   "cell_type": "code",
   "execution_count": 50,
   "metadata": {},
   "outputs": [
    {
     "name": "stdout",
     "output_type": "stream",
     "text": [
      "162 ms ± 381 µs per loop (mean ± std. dev. of 7 runs, 10 loops each)\n"
     ]
    }
   ],
   "source": [
    "%%timeit\n",
    "with pathlib.Path(\"test.fleet\").open('rb') as fhandle, fleetfmt.FileReader(fhandle) as reader:\n",
    "    # get keys\n",
    "    dkeys = list(reader.keys())\n",
    "\n",
    "    # get values\n",
    "    for key in dkeys:\n",
    "        value = reader.read(key)\n"
   ]
  },
  {
   "cell_type": "code",
   "execution_count": 52,
   "metadata": {},
   "outputs": [
    {
     "name": "stdout",
     "output_type": "stream",
     "text": [
      "279 ns ± 1.02 ns per loop (mean ± std. dev. of 7 runs, 1000000 loops each)\n",
      "18.4 µs ± 27.2 ns per loop (mean ± std. dev. of 7 runs, 100000 loops each)\n"
     ]
    }
   ],
   "source": [
    "with pathlib.Path(\"test.fleet\").open('rb') as fhandle, fleetfmt.FileReader(fhandle) as reader:\n",
    "    # get keys\n",
    "    dkeys = list(reader.keys())\n",
    "\n",
    "    # get random value\n",
    "    %timeit key = random.choice(dkeys)\n",
    "    %timeit key = random.choice(dkeys); reader.read(key)\n"
   ]
  },
  {
   "cell_type": "code",
   "execution_count": null,
   "metadata": {},
   "outputs": [],
   "source": []
  },
  {
   "cell_type": "code",
   "execution_count": null,
   "metadata": {},
   "outputs": [],
   "source": []
  },
  {
   "cell_type": "code",
   "execution_count": null,
   "metadata": {},
   "outputs": [],
   "source": []
  },
  {
   "cell_type": "code",
   "execution_count": null,
   "metadata": {},
   "outputs": [],
   "source": []
  },
  {
   "cell_type": "code",
   "execution_count": null,
   "metadata": {},
   "outputs": [],
   "source": []
  },
  {
   "cell_type": "code",
   "execution_count": null,
   "metadata": {},
   "outputs": [],
   "source": []
  },
  {
   "cell_type": "code",
   "execution_count": null,
   "metadata": {},
   "outputs": [],
   "source": []
  },
  {
   "cell_type": "code",
   "execution_count": null,
   "metadata": {},
   "outputs": [],
   "source": []
  },
  {
   "cell_type": "code",
   "execution_count": null,
   "metadata": {},
   "outputs": [],
   "source": []
  },
  {
   "cell_type": "code",
   "execution_count": null,
   "metadata": {},
   "outputs": [],
   "source": []
  },
  {
   "cell_type": "code",
   "execution_count": null,
   "metadata": {},
   "outputs": [],
   "source": []
  },
  {
   "cell_type": "code",
   "execution_count": null,
   "metadata": {},
   "outputs": [],
   "source": []
  },
  {
   "cell_type": "code",
   "execution_count": null,
   "metadata": {},
   "outputs": [],
   "source": []
  },
  {
   "cell_type": "code",
   "execution_count": null,
   "metadata": {},
   "outputs": [],
   "source": []
  },
  {
   "cell_type": "code",
   "execution_count": null,
   "metadata": {},
   "outputs": [],
   "source": []
  },
  {
   "cell_type": "code",
   "execution_count": null,
   "metadata": {},
   "outputs": [],
   "source": []
  },
  {
   "cell_type": "code",
   "execution_count": null,
   "metadata": {},
   "outputs": [],
   "source": []
  },
  {
   "cell_type": "code",
   "execution_count": null,
   "metadata": {},
   "outputs": [],
   "source": []
  },
  {
   "cell_type": "code",
   "execution_count": null,
   "metadata": {},
   "outputs": [],
   "source": []
  },
  {
   "cell_type": "code",
   "execution_count": null,
   "metadata": {},
   "outputs": [],
   "source": []
  },
  {
   "cell_type": "code",
   "execution_count": null,
   "metadata": {},
   "outputs": [],
   "source": []
  },
  {
   "cell_type": "code",
   "execution_count": null,
   "metadata": {},
   "outputs": [],
   "source": []
  },
  {
   "cell_type": "code",
   "execution_count": null,
   "metadata": {},
   "outputs": [],
   "source": []
  },
  {
   "cell_type": "code",
   "execution_count": null,
   "metadata": {},
   "outputs": [],
   "source": []
  },
  {
   "cell_type": "code",
   "execution_count": null,
   "metadata": {},
   "outputs": [],
   "source": []
  },
  {
   "cell_type": "code",
   "execution_count": null,
   "metadata": {},
   "outputs": [],
   "source": []
  },
  {
   "cell_type": "code",
   "execution_count": null,
   "metadata": {},
   "outputs": [],
   "source": []
  },
  {
   "cell_type": "code",
   "execution_count": null,
   "metadata": {},
   "outputs": [],
   "source": []
  },
  {
   "cell_type": "code",
   "execution_count": null,
   "metadata": {},
   "outputs": [],
   "source": []
  },
  {
   "cell_type": "code",
   "execution_count": null,
   "metadata": {},
   "outputs": [],
   "source": []
  },
  {
   "cell_type": "markdown",
   "metadata": {},
   "source": [
    "# TEST I/O FORMAT"
   ]
  },
  {
   "cell_type": "code",
   "execution_count": 11,
   "metadata": {},
   "outputs": [
    {
     "name": "stdout",
     "output_type": "stream",
     "text": [
      "Writing numpy content to a new Fleet file.\n",
      "MUSE dataset\n"
     ]
    },
    {
     "name": "stderr",
     "output_type": "stream",
     "text": [
      "100%|██████████| 10646/10646 [01:45<00:00, 100.69it/s]\n"
     ]
    },
    {
     "name": "stdout",
     "output_type": "stream",
     "text": [
      "Brugada dataset\n"
     ]
    },
    {
     "name": "stderr",
     "output_type": "stream",
     "text": [
      "100%|██████████| 7/7 [01:24<00:00, 12.06s/it]\n"
     ]
    },
    {
     "name": "stdout",
     "output_type": "stream",
     "text": [
      "Fallot dataset\n"
     ]
    },
    {
     "name": "stderr",
     "output_type": "stream",
     "text": [
      "100%|██████████| 1941/1941 [00:17<00:00, 112.98it/s]\n"
     ]
    },
    {
     "name": "stdout",
     "output_type": "stream",
     "text": [
      "HCM dataset\n"
     ]
    },
    {
     "name": "stderr",
     "output_type": "stream",
     "text": [
      "100%|██████████| 153/153 [00:00<00:00, 171.67it/s]\n"
     ]
    },
    {
     "name": "stdout",
     "output_type": "stream",
     "text": [
      "Challenge dataset\n"
     ]
    },
    {
     "name": "stderr",
     "output_type": "stream",
     "text": [
      "100%|██████████| 41704/41704 [05:48<00:00, 119.61it/s]\n"
     ]
    },
    {
     "name": "stdout",
     "output_type": "stream",
     "text": [
      "LongQT dataset\n"
     ]
    },
    {
     "name": "stderr",
     "output_type": "stream",
     "text": [
      "100%|██████████| 807/807 [00:07<00:00, 109.33it/s]\n"
     ]
    },
    {
     "name": "stdout",
     "output_type": "stream",
     "text": [
      "THEW dataset\n"
     ]
    },
    {
     "name": "stderr",
     "output_type": "stream",
     "text": [
      "100%|██████████| 1700/1700 [2:58:24<00:00,  6.30s/it]  \n"
     ]
    },
    {
     "name": "stdout",
     "output_type": "stream",
     "text": [
      "DeepFake dataset\n"
     ]
    },
    {
     "name": "stderr",
     "output_type": "stream",
     "text": [
      "100%|██████████| 150000/150000 [12:54<00:00, 193.75it/s]\n"
     ]
    },
    {
     "name": "stdout",
     "output_type": "stream",
     "text": [
      "SoO dataset\n"
     ]
    },
    {
     "name": "stderr",
     "output_type": "stream",
     "text": [
      "100%|██████████| 541/541 [00:30<00:00, 17.77it/s]\n"
     ]
    },
    {
     "name": "stdout",
     "output_type": "stream",
     "text": [
      "EDB dataset\n"
     ]
    },
    {
     "name": "stderr",
     "output_type": "stream",
     "text": [
      "100%|██████████| 90/90 [00:27<00:00,  3.26it/s]\n"
     ]
    },
    {
     "name": "stdout",
     "output_type": "stream",
     "text": [
      "SVDB dataset\n"
     ]
    },
    {
     "name": "stderr",
     "output_type": "stream",
     "text": [
      "100%|██████████| 78/78 [00:05<00:00, 15.08it/s]\n"
     ]
    },
    {
     "name": "stdout",
     "output_type": "stream",
     "text": [
      "PredictAF dataset\n"
     ]
    },
    {
     "name": "stderr",
     "output_type": "stream",
     "text": [
      "100%|██████████| 235/235 [06:30<00:00,  1.66s/it]\n"
     ]
    },
    {
     "name": "stdout",
     "output_type": "stream",
     "text": [
      "Zhejiang dataset\n"
     ]
    },
    {
     "name": "stderr",
     "output_type": "stream",
     "text": [
      "100%|██████████| 336/336 [00:08<00:00, 39.79it/s]\n"
     ]
    },
    {
     "name": "stdout",
     "output_type": "stream",
     "text": [
      "HUVR_CARTO dataset\n"
     ]
    },
    {
     "name": "stderr",
     "output_type": "stream",
     "text": [
      "100%|██████████| 20618/20618 [37:29<00:00,  9.17it/s] \n"
     ]
    },
    {
     "name": "stdout",
     "output_type": "stream",
     "text": [
      "Done.\n",
      "116G\t/media/guille/DADES/DADES/ECG/unsupervised.fleet\n"
     ]
    }
   ],
   "source": [
    "import ishneholterlib\n",
    "import struct\n",
    "\n",
    "window = 2048\n",
    "max_size = window*10\n",
    "window_step = max_size-window//4\n",
    "target_fs = 250\n",
    "target_dtype = \"float32\"\n",
    "\n",
    "print(\"Writing numpy content to a new Fleet file.\")\n",
    "with pathlib.Path(f\"/media/guille/DADES/DADES/ECG/unsupervised_{target_dtype}.fleet\").open('wb') as fhandle, fleetfmt.FileWriter(fhandle) as writer:\n",
    "    print(\"MUSE dataset\")\n",
    "    time.sleep(0.5)\n",
    "    all_files = glob.glob(\"/home/guille/DADES/DADES/ECG/ECGData/*.csv\")\n",
    "    for file in tqdm.tqdm(all_files):\n",
    "        try:\n",
    "            root,fname,ext = sak.splitrfe(file)\n",
    "            tmp = pd.read_csv(file)\n",
    "            tmp = tmp.round(3)\n",
    "            tmp.columns = map(lambda x: str(x).upper(), tmp.columns)\n",
    "            fs = 500\n",
    "            hea = list(tmp.columns)\n",
    "            tmp = sak.signal.interpolate.interp1d(tmp.values,target_fs*tmp.shape[0]//fs,axis=0).T\n",
    "            for k,value in zip(hea,tmp): \n",
    "                if value.size < window: continue\n",
    "                writer.append(f\"MUSE/{fname[5:]}/{k}###0\", value.astype(target_dtype))\n",
    "        except KeyboardInterrupt:\n",
    "            raise\n",
    "        except:\n",
    "            continue\n",
    "\n",
    "    print(\"Brugada dataset\")\n",
    "    time.sleep(0.5)\n",
    "    all_files = glob.glob(\"/home/guille/DADES/DADES/ECG/Brugada/Databases/HUVR/*.ecg\")\n",
    "    for file in tqdm.tqdm(all_files):\n",
    "        try:\n",
    "            root,fname,ext = sak.splitrfe(file)\n",
    "            ecg = ishneholterlib.Holter(file)\n",
    "            ecg.load_data()\n",
    "            fs = ecg.sr\n",
    "            for lead in ecg.lead:\n",
    "                k = lead.spec_str().upper()\n",
    "                data = lead.data.copy()\n",
    "                data = sak.signal.interpolate.interp1d(data,target_fs*data.size//fs)\n",
    "                if data.size > max_size:\n",
    "                    data = skimage.util.view_as_windows(data,(max_size,),step=window_step)\n",
    "                else:\n",
    "                    data = data[None,]\n",
    "                for i,value in enumerate(data):\n",
    "                    if i == 0:\n",
    "                        continue\n",
    "                    if value.size < window: continue\n",
    "                    writer.append(f\"Brugada/{fname}/{k}###{i}\", value.astype(target_dtype))\n",
    "        except KeyboardInterrupt:\n",
    "            raise\n",
    "        except:\n",
    "            continue\n",
    "\n",
    "    print(\"Fallot dataset\")\n",
    "    time.sleep(0.5)\n",
    "    all_files = glob.glob(\"/home/guille/DADES/DADES/ECG/Fallot/ECGs/*.csv\")\n",
    "    for file in tqdm.tqdm(all_files):\n",
    "        try:\n",
    "            root,fname,ext = sak.splitrfe(file)\n",
    "            tmp = pd.read_csv(file)\n",
    "            tmp = tmp.round(3)\n",
    "            tmp.columns = map(lambda x: str(x).upper(), tmp.columns)\n",
    "            hea = map(lambda x: str(x).upper(), tmp.columns)\n",
    "            fs = 1/np.unique(np.round(np.diff(tmp[\"TIME IN SEC.\"].values),5))\n",
    "            assert fs.size == 1, \"check fs!!!\"\n",
    "            fs = int(fs[0])\n",
    "            hea = list(tmp.columns)\n",
    "            tmp = sak.signal.interpolate.interp1d(tmp.values,target_fs*tmp.shape[0]//fs,axis=0).T\n",
    "            for k,value in zip(hea,tmp): \n",
    "                if k == \"TIME IN SEC.\": continue\n",
    "                if value.size < window: continue\n",
    "                writer.append(f\"Fallot/{fname}/{k}###0\", value.astype(target_dtype))\n",
    "        except KeyboardInterrupt:\n",
    "            raise\n",
    "        except:\n",
    "            continue\n",
    "\n",
    "    print(\"HCM dataset\")\n",
    "    time.sleep(0.5)\n",
    "    all_files = glob.glob(\"/home/guille/DADES/DADES/ECG/HCMData/CSV/*.csv\")\n",
    "    for file in tqdm.tqdm(all_files):\n",
    "        try:\n",
    "            root,fname,ext = sak.splitrfe(file)\n",
    "            tmp = pd.read_csv(file,header=None)[:-500]/1000\n",
    "            tmp.columns = map(lambda x: str(x).upper(), StandardHeader)\n",
    "            fs = 500\n",
    "            tmp = sak.signal.interpolate.interp1d(tmp.values,target_fs*tmp.shape[0]//fs,axis=0).T\n",
    "            for k,value in zip(StandardHeader,tmp): \n",
    "                if value.size < window: continue\n",
    "                writer.append(f\"HCM/{fname}/{k}###0\", value.astype(target_dtype))\n",
    "        except KeyboardInterrupt:\n",
    "            raise\n",
    "        except:\n",
    "            continue\n",
    "\n",
    "    print(\"Challenge dataset\")\n",
    "    time.sleep(0.5)\n",
    "    all_files = glob.glob(\"/home/guille/DADES/DADES/ECG/Challenge/*.mat\")\n",
    "    for file in tqdm.tqdm(all_files):\n",
    "        try:\n",
    "            root,fname,ext = sak.splitrfe(file)\n",
    "            sig,hea = wfdb.rdsamp(os.path.join(root,fname),return_res=16)\n",
    "            hea[\"sig_name\"] = list(map(lambda x: str(x).upper(), hea[\"sig_name\"]))\n",
    "            fs = hea[\"fs\"]\n",
    "            sig = sak.signal.interpolate.interp1d(sig,target_fs*sig.shape[0]//fs,axis=0).T\n",
    "            for k,lead in zip(hea[\"sig_name\"],sig):\n",
    "                if lead.size > max_size:\n",
    "                    data = skimage.util.view_as_windows(lead,(max_size,),step=window_step)\n",
    "                else:\n",
    "                    data = lead[None,]\n",
    "                for i,value in enumerate(data):\n",
    "                    if value.size < window: continue\n",
    "                    writer.append(f\"Challenge/{fname}/{k}###{i}\", value.astype(target_dtype))\n",
    "        except KeyboardInterrupt:\n",
    "            raise\n",
    "        except:\n",
    "            continue\n",
    "\n",
    "    print(\"LongQT dataset\")\n",
    "    time.sleep(0.5)\n",
    "    import xml.etree.ElementTree as ET\n",
    "    ET.register_namespace(\"\",\"http://www3.medical.philips.com\")\n",
    "    all_files = (glob.glob(\"/home/guille/DADES/DADES/ECG/LONG_QT/LongQT_*/*.XML\") + \n",
    "                 glob.glob(\"/home/guille/DADES/DADES/ECG/LONG_QT/LongQT_*/*/*.XML\"))\n",
    "    head = \"{http://www3.medical.philips.com}\"\n",
    "    namespace = {\"xmlns:ns0\": \"http://www3.medical.philips.com\",\n",
    "                 \"xmlns:xsi\": \"http://www.w3.org/2001/XMLSchema-instance\",\n",
    "                 \"xsi:schemaLocation\": \"http://www3.medical.philips.com PhilipsECG.xsd\"}\n",
    "    for file in tqdm.tqdm(all_files):\n",
    "        try:\n",
    "            root,fname,ext = sak.splitrfe(file)\n",
    "            tree = ET.parse(file)\n",
    "            if len(tree.findall(\"FullDisclosure\")) != 0:\n",
    "                continue\n",
    "            fs = float(tree.findall(\"StripData/SampleRate\")[0].text)\n",
    "            ecg = {}\n",
    "            for lead in tree.findall(\"StripData/WaveformData\"):\n",
    "                ecg[lead.get(\"lead\").upper()] = np.array(lead.text.strip().split(\",\"),dtype=int)\n",
    "            ecg = np.array([ecg[k] for k in StandardHeader])\n",
    "            ecg = sak.signal.interpolate.interp1d(ecg,round(ecg.shape[1]*250/fs))\n",
    "            for k,lead in zip(StandardHeader,ecg):\n",
    "                if lead.size > max_size:\n",
    "                    data = skimage.util.view_as_windows(lead,(max_size,),step=window_step)\n",
    "                else:\n",
    "                    data = lead[None,]\n",
    "                for i,value in enumerate(data):\n",
    "                    if value.size < window: continue\n",
    "                    writer.append(f\"LongQT/{fname}/{k}###{i}\", (value/1000).astype(target_dtype))\n",
    "        except KeyboardInterrupt:\n",
    "            raise\n",
    "        except:\n",
    "            continue\n",
    "\n",
    "    print(\"THEW dataset\")\n",
    "    time.sleep(0.5)\n",
    "    all_files = glob.glob(\"/home/guille/DADES/DADES/ECG/THEWProject/*/*.ecg\")\n",
    "    for file in tqdm.tqdm(all_files):\n",
    "        try:\n",
    "            root,fname,ext = sak.splitrfe(file)\n",
    "            rt,stu_id = os.path.split(root)\n",
    "            ecg = ishneholterlib.Holter(file,check_valid=False)\n",
    "            ecg.load_data()\n",
    "            fs = ecg.sr\n",
    "            for lead in ecg.lead:\n",
    "                k = lead.spec_str().upper()\n",
    "                data = lead.data.copy()\n",
    "                data = sak.signal.interpolate.interp1d(data,target_fs*data.size//fs)\n",
    "                if data.size > max_size:\n",
    "                    data = skimage.util.view_as_windows(data,(max_size,),step=window_step)\n",
    "                else:\n",
    "                    data = data[None,]\n",
    "                for i,value in enumerate(data):\n",
    "                    if value.size < window: continue\n",
    "                    if np.all(np.abs(np.diff(value)) < 1e-6): continue\n",
    "                    writer.append(f\"THEW/{stu_id}_{fname}/{k}###{i}\", value.astype(target_dtype))\n",
    "        except KeyboardInterrupt:\n",
    "            raise\n",
    "        except:\n",
    "            continue\n",
    "\n",
    "    print(\"DeepFake dataset\")\n",
    "    time.sleep(0.5)\n",
    "    all_files = glob.glob(\"/home/guille/DADES/DADES/ECG/DeepFake/*.asc\")\n",
    "    for file in tqdm.tqdm(all_files):\n",
    "        try:\n",
    "            root,fname,ext = sak.splitrfe(file)\n",
    "            ecg = pd.read_csv(file,header=None,sep=\" \")\n",
    "            fs = 500\n",
    "            ecg = sak.signal.interpolate.interp1d(ecg.T,target_fs*ecg.shape[0]//fs)\n",
    "            for k,value in zip(StandardHeader,ecg):\n",
    "                k = k.upper()\n",
    "                if value.size < window: continue\n",
    "                writer.append(f\"DeepFake/{fname}/{k}###0\", (value/1000).astype(target_dtype))\n",
    "        except KeyboardInterrupt:\n",
    "            raise\n",
    "        except:\n",
    "            continue\n",
    "\n",
    "    print(\"SoO dataset\")\n",
    "    time.sleep(0.5)\n",
    "    all_files = glob.glob(\"/home/guille/DADES/DADES/ECG/Delineator/SoO/RETAG/*.txt\")\n",
    "    db = pd.read_csv('/home/guille/DADES/DADES/ECG/Delineator/SoO/DATABASE_MANUAL.csv')\n",
    "    for file in tqdm.tqdm(all_files):\n",
    "        try:\n",
    "            root,fname,ext = sak.splitrfe(file)\n",
    "            ecg = pd.read_csv(file,header=0,sep=\",\",index_col=0)\n",
    "            hea = list(map(lambda x: str(x).upper(), ecg.columns))\n",
    "            filt_id = (db[\"ID\"] == int(fname.split(\"-\")[0]))\n",
    "            fs = db[filt_id][\"Sampling_Freq\"].values[0]\n",
    "            ecg = np.round(sak.signal.interpolate.interp1d(ecg.T,target_fs*ecg.shape[0]//fs))/(2**15)\n",
    "            for k,lead in zip(hea,ecg):\n",
    "                k = k.upper()\n",
    "                if lead.size > max_size:\n",
    "                    lead = skimage.util.view_as_windows(lead,(max_size,),step=window_step)\n",
    "                else:\n",
    "                    lead = lead[None,]\n",
    "                for i,value in enumerate(lead):\n",
    "                    if value.size < window: continue\n",
    "                    writer.append(f\"SoO/{fname}/{k}###{i}\", value.astype(target_dtype))\n",
    "        except KeyboardInterrupt:\n",
    "            raise\n",
    "        except:\n",
    "            continue\n",
    "\n",
    "    print(\"EDB dataset\")\n",
    "    time.sleep(0.5)\n",
    "    all_files = glob.glob(\"/home/guille/DADES/DADES/ECG/PhysioNet/EDB/*.dat\")\n",
    "    for file in tqdm.tqdm(all_files):\n",
    "        try:\n",
    "            root,fname,ext = sak.splitrfe(file)\n",
    "            ecg,hea = wfdb.rdsamp(file[:-4])\n",
    "            fs = hea[\"fs\"]\n",
    "            ecg = sak.signal.interpolate.interp1d(ecg.T,target_fs*ecg.shape[0]//fs)\n",
    "            for k,lead in zip(hea[\"sig_name\"],ecg):\n",
    "                k = k.upper()\n",
    "                if lead.size > max_size:\n",
    "                    lead = skimage.util.view_as_windows(lead,(max_size,),step=window_step)\n",
    "                else:\n",
    "                    lead = lead[None,]\n",
    "                for i,value in enumerate(lead):\n",
    "                    if value.size < window: continue\n",
    "                    writer.append(f\"EDB/{fname}/{k}###{i}\", value.astype(target_dtype))\n",
    "        except KeyboardInterrupt:\n",
    "            raise\n",
    "        except:\n",
    "            continue\n",
    "\n",
    "    print(\"SVDB dataset\")\n",
    "    time.sleep(0.5)\n",
    "    all_files = glob.glob(\"/home/guille/DADES/DADES/ECG/PhysioNet/SVDB/*.dat\")\n",
    "    for file in tqdm.tqdm(all_files):\n",
    "        try:\n",
    "            root,fname,ext = sak.splitrfe(file)\n",
    "            ecg,hea = wfdb.rdsamp(file[:-4])\n",
    "            fs = hea[\"fs\"]\n",
    "            ecg = sak.signal.interpolate.interp1d(ecg.T,target_fs*ecg.shape[0]//fs)\n",
    "            for k,lead in zip(hea[\"sig_name\"],ecg):\n",
    "                k = k.upper()\n",
    "                if lead.size > max_size:\n",
    "                    lead = skimage.util.view_as_windows(lead,(max_size,),step=window_step)\n",
    "                else:\n",
    "                    lead = lead[None,]\n",
    "                for i,value in enumerate(lead):\n",
    "                    if value.size < window: continue\n",
    "                    writer.append(f\"SVDB/{fname}/{k}###{i}\", value.astype(target_dtype))\n",
    "        except KeyboardInterrupt:\n",
    "            raise\n",
    "        except:\n",
    "            continue\n",
    "\n",
    "    print(\"PredictAF dataset\")\n",
    "    time.sleep(0.5)\n",
    "    all_files = glob.glob(\"/home/guille/DADES/DADES/ECG/PredictAF/*/*/*.NHS\")\n",
    "    for file in tqdm.tqdm(all_files):\n",
    "        try:\n",
    "            root,fname,ext = sak.splitrfe(file)\n",
    "            rt,pat_id = os.path.split(root)\n",
    "            rt,stu_id = os.path.split(rt)\n",
    "            ecg,fs = src.reader.readNHS(file)\n",
    "            ecg = sak.signal.interpolate.interp1d(ecg.T,int(target_fs*ecg.shape[0]//fs)).T\n",
    "            for k,lead in zip(StandardHeader,ecg):\n",
    "                k = k.upper()\n",
    "                if lead.size > max_size:\n",
    "                    lead = skimage.util.view_as_windows(lead,(max_size,),step=window_step)\n",
    "                else:\n",
    "                    lead = lead[None,]\n",
    "                for i,value in enumerate(lead):\n",
    "                    if i < 5:\n",
    "                        continue\n",
    "                    if value.size < window: continue\n",
    "                    writer.append(f\"PredictAF/{stu_id}_{pat_id}/{k}###{i}\", value.astype(target_dtype))\n",
    "        except KeyboardInterrupt:\n",
    "            raise\n",
    "        except:\n",
    "            continue\n",
    "\n",
    "    print(\"Zhejiang dataset\")\n",
    "    time.sleep(0.5)\n",
    "    all_files = glob.glob(\"/home/guille/DADES/DADES/ECG/RubenDoste/ZhejiangDatabase/PVCVTRawECGData/*.csv\")\n",
    "    for file in tqdm.tqdm(all_files):\n",
    "        try:\n",
    "            root,fname,ext = sak.splitrfe(file)\n",
    "            if fname in [\"onsets\",\"offsets\"]: continue\n",
    "            ecg = pd.read_csv(file,header=0)\n",
    "            hea = list(ecg.columns)\n",
    "            fs = 2000\n",
    "            ecg = np.round(sak.signal.interpolate.interp1d(ecg.T,target_fs*ecg.shape[0]//fs))/(2**13)\n",
    "            for k,lead in zip(hea,ecg):\n",
    "                k = k.upper()\n",
    "                if lead.size > max_size:\n",
    "                    lead = skimage.util.view_as_windows(lead,(max_size,),step=window_step)\n",
    "                else:\n",
    "                    lead = lead[None,]\n",
    "                for i,value in enumerate(lead):\n",
    "                    if value.size < window: continue\n",
    "                    writer.append(f\"Zhejiang/{fname}/{k}###{i}\", value.astype(target_dtype))\n",
    "        except KeyboardInterrupt:\n",
    "            raise\n",
    "        except:\n",
    "            continue\n",
    "\n",
    "    print(\"HUVR_CARTO dataset\")\n",
    "    time.sleep(0.5)\n",
    "    all_files = glob.glob(\"/home/guille/DADES/DADES/EGMDelineator/Databases/CARTOEXPORT/*/*ECG_Export.txt\")\n",
    "    for file in tqdm.tqdm(all_files):\n",
    "        try:\n",
    "            root,fname,ext = sak.splitrfe(file)\n",
    "            rt,pat_id = os.path.split(root)\n",
    "            fs = 2000\n",
    "            signal,header = src.reader.Read_CARTO3_ECG(file)\n",
    "            channels = np.array(sak.map_upper([c.split(\"(\")[0].replace(\" \",\"\") for c in header[\"Channels\"]]))\n",
    "            idx_header = np.array([np.where(channels == c)[0][0] for c in StandardHeader])\n",
    "            signal = np.round(sak.signal.interpolate.interp1d(signal[idx_header],target_fs*signal.shape[1]//fs))/(2**10)\n",
    "            for k,lead in zip(StandardHeader,signal):\n",
    "                k = k.upper()\n",
    "                if lead.size > max_size:\n",
    "                    lead = skimage.util.view_as_windows(lead,(max_size,),step=window_step)\n",
    "                else:\n",
    "                    lead = lead[None,]\n",
    "                for i,value in enumerate(lead):\n",
    "                    if value.size < window: continue\n",
    "                    writer.append(f\"HUVR_CARTO/{pat_id}_{fname}/{k}###{i}\", value.astype(target_dtype))\n",
    "        except KeyboardInterrupt:\n",
    "            raise\n",
    "        except:\n",
    "            continue\n",
    "\n",
    "time.sleep(0.5)\n",
    "print(\"Done.\")\n",
    "time.sleep(0.5)\n",
    "!du -sh /media/guille/DADES/DADES/ECG/unsupervised.fleet"
   ]
  },
  {
   "cell_type": "code",
   "execution_count": 15,
   "metadata": {},
   "outputs": [
    {
     "name": "stdout",
     "output_type": "stream",
     "text": [
      "422 ns ± 0.346 ns per loop (mean ± std. dev. of 7 runs, 1000000 loops each)\n",
      "1.64 ms ± 32 µs per loop (mean ± std. dev. of 7 runs, 1000 loops each)\n"
     ]
    }
   ],
   "source": [
    "with pathlib.Path(\"/media/guille/DADES/DADES/ECG/unsupervised_16.fleet\").open('rb') as fhandle, fleetfmt.FileReader(fhandle) as reader:\n",
    "    # get keys\n",
    "    dkeys = list(reader.keys())\n",
    "\n",
    "    # get random value\n",
    "    %timeit key = random.choice(dkeys)\n",
    "    %timeit key = random.choice(dkeys); reader.read(key)\n"
   ]
  },
  {
   "cell_type": "code",
   "execution_count": 35,
   "metadata": {},
   "outputs": [
    {
     "data": {
      "text/plain": [
       "{'MUSE': 127752,\n",
       " 'Brugada': 92364,\n",
       " 'Fallot': 23292,\n",
       " 'HCM': 1836,\n",
       " 'Challenge': 519984,\n",
       " 'LongQT': 9624,\n",
       " 'THEW': 2194152,\n",
       " 'DeepFake': 1200000,\n",
       " 'SoO': 6492,\n",
       " 'EDB': 16560,\n",
       " 'SVDB': 3588,\n",
       " 'PredictAF': 210738,\n",
       " 'Zhejiang': 4008,\n",
       " 'HUVR_CARTO': 247416}"
      ]
     },
     "execution_count": 35,
     "metadata": {},
     "output_type": "execute_result"
    }
   ],
   "source": [
    "all_keys = {}\n",
    "for key in dkeys:\n",
    "    DB = key.split(\"/\")[0]\n",
    "    \n",
    "    if DB not in all_keys:\n",
    "        all_keys[DB] = 0\n",
    "        \n",
    "    all_keys[DB] += 1\n",
    "all_keys"
   ]
  },
  {
   "cell_type": "code",
   "execution_count": null,
   "metadata": {},
   "outputs": [],
   "source": []
  }
 ],
 "metadata": {
  "kernelspec": {
   "display_name": "DeepLearning",
   "language": "python",
   "name": "deeplearning"
  },
  "language_info": {
   "codemirror_mode": {
    "name": "ipython",
    "version": 3
   },
   "file_extension": ".py",
   "mimetype": "text/x-python",
   "name": "python",
   "nbconvert_exporter": "python",
   "pygments_lexer": "ipython3",
   "version": "3.8.10"
  }
 },
 "nbformat": 4,
 "nbformat_minor": 4
}
