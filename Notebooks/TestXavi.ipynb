{
 "cells": [
  {
   "cell_type": "code",
   "execution_count": 3,
   "metadata": {},
   "outputs": [],
   "source": [
    "import torch\n",
    "import matplotlib.pyplot as plt"
   ]
  },
  {
   "cell_type": "code",
   "execution_count": 2,
   "metadata": {},
   "outputs": [],
   "source": [
    "entrada = torch.rand(4,1,64,64)"
   ]
  },
  {
   "cell_type": "code",
   "execution_count": 5,
   "metadata": {},
   "outputs": [
    {
     "data": {
      "text/plain": [
       "<matplotlib.image.AxesImage at 0x7fa00c96a760>"
      ]
     },
     "execution_count": 5,
     "metadata": {},
     "output_type": "execute_result"
    },
    {
     "data": {
      "image/png": "[encoded data removed]",
      "text/plain": [
       "<Figure size 432x288 with 1 Axes>"
      ]
     },
     "metadata": {
      "needs_background": "light"
     },
     "output_type": "display_data"
    }
   ],
   "source": [
    "plt.imshow(entrada[0,0])"
   ]
  },
  {
   "cell_type": "code",
   "execution_count": 6,
   "metadata": {},
   "outputs": [
    {
     "data": {
      "text/plain": [
       "torch.Size([4, 1, 64, 64])"
      ]
     },
     "execution_count": 6,
     "metadata": {},
     "output_type": "execute_result"
    }
   ],
   "source": [
    "entrada.shape"
   ]
  },
  {
   "cell_type": "code",
   "execution_count": 12,
   "metadata": {},
   "outputs": [],
   "source": [
    "modelo = torch.nn.Sequential(\n",
    "    torch.nn.Conv2d(1,   64,  3, padding=1),\n",
    "    torch.nn.Conv2d(64,  128, 3, padding=1),\n",
    "    torch.nn.Conv2d(128, 3,   3, padding=1),\n",
    ")"
   ]
  },
  {
   "cell_type": "code",
   "execution_count": null,
   "metadata": {},
   "outputs": [],
   "source": []
  },
  {
   "cell_type": "code",
   "execution_count": null,
   "metadata": {},
   "outputs": [],
   "source": []
  },
  {
   "cell_type": "code",
   "execution_count": 20,
   "metadata": {},
   "outputs": [],
   "source": [
    "aaa = torch.nn.Upsample(scale_factor=2)"
   ]
  },
  {
   "cell_type": "code",
   "execution_count": 23,
   "metadata": {},
   "outputs": [],
   "source": [
    "import json"
   ]
  },
  {
   "cell_type": "code",
   "execution_count": 24,
   "metadata": {},
   "outputs": [],
   "source": [
    "with open(\"./configurations/UNet5Levels.json\") as f:\n",
    "    config = json.load(f)"
   ]
  },
  {
   "cell_type": "code",
   "execution_count": 26,
   "metadata": {},
   "outputs": [],
   "source": [
    "import sak"
   ]
  },
  {
   "cell_type": "code",
   "execution_count": 27,
   "metadata": {},
   "outputs": [],
   "source": [
    "modelo = sak.from_dict(config[\"model\"])"
   ]
  },
  {
   "cell_type": "code",
   "execution_count": null,
   "metadata": {},
   "outputs": [],
   "source": []
  },
  {
   "cell_type": "code",
   "execution_count": null,
   "metadata": {},
   "outputs": [],
   "source": [
    "class UNet(torch.nn.Module):\n",
    "    def __init__(self, ...):\n",
    "        jadhgkjhag\n",
    "        asdghdasighasdg\n",
    "        asdgkjhadsgkj\n",
    "        \n",
    "    def forward(self,...):\n",
    "        akjghkjagh\n",
    "        agjadskghja\n",
    "        adsgkjasdhgkjdas\n",
    "        adsgkjhdkjagh\n",
    "        adkjsghdkjasg\n"
   ]
  },
  {
   "cell_type": "code",
   "execution_count": null,
   "metadata": {},
   "outputs": [],
   "source": []
  },
  {
   "cell_type": "code",
   "execution_count": null,
   "metadata": {},
   "outputs": [],
   "source": []
  },
  {
   "cell_type": "code",
   "execution_count": 28,
   "metadata": {
    "scrolled": false
   },
   "outputs": [
    {
     "data": {
      "text/plain": [
       "ModelGraph(\n",
       "  (encoder_lvl1): CNN(\n",
       "    (operations): Sequential(\n",
       "      (0): SeparableConv1d(\n",
       "        (depthwise_conv): DepthwiseConv1d(\n",
       "          (depthwise_conv): Conv1d(1, 1, kernel_size=(3,), stride=(1,), padding=(1,))\n",
       "        )\n",
       "        (pointwise_conv): PointwiseConv1d(\n",
       "          (pointwise_conv): Conv1d(1, 16, kernel_size=(1,), stride=(1,))\n",
       "        )\n",
       "      )\n",
       "      (1): Regularization(\n",
       "        (operations): Sequential(\n",
       "          (0): LeakyReLU(negative_slope=0.01)\n",
       "          (1): BatchNorm1d(16, eps=1e-05, momentum=0.1, affine=True, track_running_stats=True)\n",
       "          (2): Dropout1d(\n",
       "            (dropout): Dropout2d(p=0.25, inplace=False)\n",
       "          )\n",
       "        )\n",
       "      )\n",
       "      (2): SeparableConv1d(\n",
       "        (depthwise_conv): DepthwiseConv1d(\n",
       "          (depthwise_conv): Conv1d(16, 16, kernel_size=(3,), stride=(1,), padding=(1,), groups=16)\n",
       "        )\n",
       "        (pointwise_conv): PointwiseConv1d(\n",
       "          (pointwise_conv): Conv1d(16, 16, kernel_size=(1,), stride=(1,))\n",
       "        )\n",
       "      )\n",
       "      (3): Regularization(\n",
       "        (operations): Sequential(\n",
       "          (0): LeakyReLU(negative_slope=0.01)\n",
       "          (1): BatchNorm1d(16, eps=1e-05, momentum=0.1, affine=True, track_running_stats=True)\n",
       "          (2): Dropout1d(\n",
       "            (dropout): Dropout2d(p=0.25, inplace=False)\n",
       "          )\n",
       "        )\n",
       "      )\n",
       "    )\n",
       "  )\n",
       "  (encoder_avgpool1): AvgPool1d(kernel_size=(2,), stride=(2,), padding=(0,))\n",
       "  (encoder_lvl2): CNN(\n",
       "    (operations): Sequential(\n",
       "      (0): SeparableConv1d(\n",
       "        (depthwise_conv): DepthwiseConv1d(\n",
       "          (depthwise_conv): Conv1d(16, 16, kernel_size=(3,), stride=(1,), padding=(1,), groups=16)\n",
       "        )\n",
       "        (pointwise_conv): PointwiseConv1d(\n",
       "          (pointwise_conv): Conv1d(16, 32, kernel_size=(1,), stride=(1,))\n",
       "        )\n",
       "      )\n",
       "      (1): Regularization(\n",
       "        (operations): Sequential(\n",
       "          (0): LeakyReLU(negative_slope=0.01)\n",
       "          (1): BatchNorm1d(32, eps=1e-05, momentum=0.1, affine=True, track_running_stats=True)\n",
       "          (2): Dropout1d(\n",
       "            (dropout): Dropout2d(p=0.25, inplace=False)\n",
       "          )\n",
       "        )\n",
       "      )\n",
       "      (2): SeparableConv1d(\n",
       "        (depthwise_conv): DepthwiseConv1d(\n",
       "          (depthwise_conv): Conv1d(32, 32, kernel_size=(3,), stride=(1,), padding=(1,), groups=32)\n",
       "        )\n",
       "        (pointwise_conv): PointwiseConv1d(\n",
       "          (pointwise_conv): Conv1d(32, 32, kernel_size=(1,), stride=(1,))\n",
       "        )\n",
       "      )\n",
       "      (3): Regularization(\n",
       "        (operations): Sequential(\n",
       "          (0): LeakyReLU(negative_slope=0.01)\n",
       "          (1): BatchNorm1d(32, eps=1e-05, momentum=0.1, affine=True, track_running_stats=True)\n",
       "          (2): Dropout1d(\n",
       "            (dropout): Dropout2d(p=0.25, inplace=False)\n",
       "          )\n",
       "        )\n",
       "      )\n",
       "    )\n",
       "  )\n",
       "  (encoder_avgpool2): AvgPool1d(kernel_size=(2,), stride=(2,), padding=(0,))\n",
       "  (encoder_lvl3): CNN(\n",
       "    (operations): Sequential(\n",
       "      (0): SeparableConv1d(\n",
       "        (depthwise_conv): DepthwiseConv1d(\n",
       "          (depthwise_conv): Conv1d(32, 32, kernel_size=(3,), stride=(1,), padding=(1,), groups=32)\n",
       "        )\n",
       "        (pointwise_conv): PointwiseConv1d(\n",
       "          (pointwise_conv): Conv1d(32, 64, kernel_size=(1,), stride=(1,))\n",
       "        )\n",
       "      )\n",
       "      (1): Regularization(\n",
       "        (operations): Sequential(\n",
       "          (0): LeakyReLU(negative_slope=0.01)\n",
       "          (1): BatchNorm1d(64, eps=1e-05, momentum=0.1, affine=True, track_running_stats=True)\n",
       "          (2): Dropout1d(\n",
       "            (dropout): Dropout2d(p=0.25, inplace=False)\n",
       "          )\n",
       "        )\n",
       "      )\n",
       "      (2): SeparableConv1d(\n",
       "        (depthwise_conv): DepthwiseConv1d(\n",
       "          (depthwise_conv): Conv1d(64, 64, kernel_size=(3,), stride=(1,), padding=(1,), groups=64)\n",
       "        )\n",
       "        (pointwise_conv): PointwiseConv1d(\n",
       "          (pointwise_conv): Conv1d(64, 64, kernel_size=(1,), stride=(1,))\n",
       "        )\n",
       "      )\n",
       "      (3): Regularization(\n",
       "        (operations): Sequential(\n",
       "          (0): LeakyReLU(negative_slope=0.01)\n",
       "          (1): BatchNorm1d(64, eps=1e-05, momentum=0.1, affine=True, track_running_stats=True)\n",
       "          (2): Dropout1d(\n",
       "            (dropout): Dropout2d(p=0.25, inplace=False)\n",
       "          )\n",
       "        )\n",
       "      )\n",
       "    )\n",
       "  )\n",
       "  (encoder_avgpool3): AvgPool1d(kernel_size=(2,), stride=(2,), padding=(0,))\n",
       "  (encoder_lvl4): CNN(\n",
       "    (operations): Sequential(\n",
       "      (0): SeparableConv1d(\n",
       "        (depthwise_conv): DepthwiseConv1d(\n",
       "          (depthwise_conv): Conv1d(64, 64, kernel_size=(3,), stride=(1,), padding=(1,), groups=64)\n",
       "        )\n",
       "        (pointwise_conv): PointwiseConv1d(\n",
       "          (pointwise_conv): Conv1d(64, 128, kernel_size=(1,), stride=(1,))\n",
       "        )\n",
       "      )\n",
       "      (1): Regularization(\n",
       "        (operations): Sequential(\n",
       "          (0): LeakyReLU(negative_slope=0.01)\n",
       "          (1): BatchNorm1d(128, eps=1e-05, momentum=0.1, affine=True, track_running_stats=True)\n",
       "          (2): Dropout1d(\n",
       "            (dropout): Dropout2d(p=0.25, inplace=False)\n",
       "          )\n",
       "        )\n",
       "      )\n",
       "      (2): SeparableConv1d(\n",
       "        (depthwise_conv): DepthwiseConv1d(\n",
       "          (depthwise_conv): Conv1d(128, 128, kernel_size=(3,), stride=(1,), padding=(1,), groups=128)\n",
       "        )\n",
       "        (pointwise_conv): PointwiseConv1d(\n",
       "          (pointwise_conv): Conv1d(128, 128, kernel_size=(1,), stride=(1,))\n",
       "        )\n",
       "      )\n",
       "      (3): Regularization(\n",
       "        (operations): Sequential(\n",
       "          (0): LeakyReLU(negative_slope=0.01)\n",
       "          (1): BatchNorm1d(128, eps=1e-05, momentum=0.1, affine=True, track_running_stats=True)\n",
       "          (2): Dropout1d(\n",
       "            (dropout): Dropout2d(p=0.25, inplace=False)\n",
       "          )\n",
       "        )\n",
       "      )\n",
       "    )\n",
       "  )\n",
       "  (encoder_avgpool4): AvgPool1d(kernel_size=(2,), stride=(2,), padding=(0,))\n",
       "  (encoder_lvl5): CNN(\n",
       "    (operations): Sequential(\n",
       "      (0): SeparableConv1d(\n",
       "        (depthwise_conv): DepthwiseConv1d(\n",
       "          (depthwise_conv): Conv1d(128, 128, kernel_size=(3,), stride=(1,), padding=(1,), groups=128)\n",
       "        )\n",
       "        (pointwise_conv): PointwiseConv1d(\n",
       "          (pointwise_conv): Conv1d(128, 256, kernel_size=(1,), stride=(1,))\n",
       "        )\n",
       "      )\n",
       "      (1): Regularization(\n",
       "        (operations): Sequential(\n",
       "          (0): LeakyReLU(negative_slope=0.01)\n",
       "          (1): BatchNorm1d(256, eps=1e-05, momentum=0.1, affine=True, track_running_stats=True)\n",
       "          (2): Dropout1d(\n",
       "            (dropout): Dropout2d(p=0.25, inplace=False)\n",
       "          )\n",
       "        )\n",
       "      )\n",
       "      (2): SeparableConv1d(\n",
       "        (depthwise_conv): DepthwiseConv1d(\n",
       "          (depthwise_conv): Conv1d(256, 256, kernel_size=(3,), stride=(1,), padding=(1,), groups=256)\n",
       "        )\n",
       "        (pointwise_conv): PointwiseConv1d(\n",
       "          (pointwise_conv): Conv1d(256, 256, kernel_size=(1,), stride=(1,))\n",
       "        )\n",
       "      )\n",
       "      (3): Regularization(\n",
       "        (operations): Sequential(\n",
       "          (0): LeakyReLU(negative_slope=0.01)\n",
       "          (1): BatchNorm1d(256, eps=1e-05, momentum=0.1, affine=True, track_running_stats=True)\n",
       "          (2): Dropout1d(\n",
       "            (dropout): Dropout2d(p=0.25, inplace=False)\n",
       "          )\n",
       "        )\n",
       "      )\n",
       "    )\n",
       "  )\n",
       "  (decoder_upsample5): Upsample(scale_factor=2.0, mode=nearest)\n",
       "  (decoder_concat4): Concatenate()\n",
       "  (decoder_lvl4): CNN(\n",
       "    (operations): Sequential(\n",
       "      (0): SeparableConv1d(\n",
       "        (depthwise_conv): DepthwiseConv1d(\n",
       "          (depthwise_conv): Conv1d(384, 384, kernel_size=(3,), stride=(1,), padding=(1,), groups=384)\n",
       "        )\n",
       "        (pointwise_conv): PointwiseConv1d(\n",
       "          (pointwise_conv): Conv1d(384, 128, kernel_size=(1,), stride=(1,))\n",
       "        )\n",
       "      )\n",
       "      (1): Regularization(\n",
       "        (operations): Sequential(\n",
       "          (0): LeakyReLU(negative_slope=0.01)\n",
       "          (1): BatchNorm1d(128, eps=1e-05, momentum=0.1, affine=True, track_running_stats=True)\n",
       "          (2): Dropout1d(\n",
       "            (dropout): Dropout2d(p=0.25, inplace=False)\n",
       "          )\n",
       "        )\n",
       "      )\n",
       "      (2): SeparableConv1d(\n",
       "        (depthwise_conv): DepthwiseConv1d(\n",
       "          (depthwise_conv): Conv1d(128, 128, kernel_size=(3,), stride=(1,), padding=(1,), groups=128)\n",
       "        )\n",
       "        (pointwise_conv): PointwiseConv1d(\n",
       "          (pointwise_conv): Conv1d(128, 128, kernel_size=(1,), stride=(1,))\n",
       "        )\n",
       "      )\n",
       "      (3): Regularization(\n",
       "        (operations): Sequential(\n",
       "          (0): LeakyReLU(negative_slope=0.01)\n",
       "          (1): BatchNorm1d(128, eps=1e-05, momentum=0.1, affine=True, track_running_stats=True)\n",
       "          (2): Dropout1d(\n",
       "            (dropout): Dropout2d(p=0.25, inplace=False)\n",
       "          )\n",
       "        )\n",
       "      )\n",
       "    )\n",
       "  )\n",
       "  (decoder_upsample4): Upsample(scale_factor=2.0, mode=nearest)\n",
       "  (decoder_concat3): Concatenate()\n",
       "  (decoder_lvl3): CNN(\n",
       "    (operations): Sequential(\n",
       "      (0): SeparableConv1d(\n",
       "        (depthwise_conv): DepthwiseConv1d(\n",
       "          (depthwise_conv): Conv1d(192, 192, kernel_size=(3,), stride=(1,), padding=(1,), groups=192)\n",
       "        )\n",
       "        (pointwise_conv): PointwiseConv1d(\n",
       "          (pointwise_conv): Conv1d(192, 64, kernel_size=(1,), stride=(1,))\n",
       "        )\n",
       "      )\n",
       "      (1): Regularization(\n",
       "        (operations): Sequential(\n",
       "          (0): LeakyReLU(negative_slope=0.01)\n",
       "          (1): BatchNorm1d(64, eps=1e-05, momentum=0.1, affine=True, track_running_stats=True)\n",
       "          (2): Dropout1d(\n",
       "            (dropout): Dropout2d(p=0.25, inplace=False)\n",
       "          )\n",
       "        )\n",
       "      )\n",
       "      (2): SeparableConv1d(\n",
       "        (depthwise_conv): DepthwiseConv1d(\n",
       "          (depthwise_conv): Conv1d(64, 64, kernel_size=(3,), stride=(1,), padding=(1,), groups=64)\n",
       "        )\n",
       "        (pointwise_conv): PointwiseConv1d(\n",
       "          (pointwise_conv): Conv1d(64, 64, kernel_size=(1,), stride=(1,))\n",
       "        )\n",
       "      )\n",
       "      (3): Regularization(\n",
       "        (operations): Sequential(\n",
       "          (0): LeakyReLU(negative_slope=0.01)\n",
       "          (1): BatchNorm1d(64, eps=1e-05, momentum=0.1, affine=True, track_running_stats=True)\n",
       "          (2): Dropout1d(\n",
       "            (dropout): Dropout2d(p=0.25, inplace=False)\n",
       "          )\n",
       "        )\n",
       "      )\n",
       "    )\n",
       "  )\n",
       "  (decoder_upsample3): Upsample(scale_factor=2.0, mode=nearest)\n",
       "  (decoder_concat2): Concatenate()\n",
       "  (decoder_lvl2): CNN(\n",
       "    (operations): Sequential(\n",
       "      (0): SeparableConv1d(\n",
       "        (depthwise_conv): DepthwiseConv1d(\n",
       "          (depthwise_conv): Conv1d(96, 96, kernel_size=(3,), stride=(1,), padding=(1,), groups=96)\n",
       "        )\n",
       "        (pointwise_conv): PointwiseConv1d(\n",
       "          (pointwise_conv): Conv1d(96, 32, kernel_size=(1,), stride=(1,))\n",
       "        )\n",
       "      )\n",
       "      (1): Regularization(\n",
       "        (operations): Sequential(\n",
       "          (0): LeakyReLU(negative_slope=0.01)\n",
       "          (1): BatchNorm1d(32, eps=1e-05, momentum=0.1, affine=True, track_running_stats=True)\n",
       "          (2): Dropout1d(\n",
       "            (dropout): Dropout2d(p=0.25, inplace=False)\n",
       "          )\n",
       "        )\n",
       "      )\n",
       "      (2): SeparableConv1d(\n",
       "        (depthwise_conv): DepthwiseConv1d(\n",
       "          (depthwise_conv): Conv1d(32, 32, kernel_size=(3,), stride=(1,), padding=(1,), groups=32)\n",
       "        )\n",
       "        (pointwise_conv): PointwiseConv1d(\n",
       "          (pointwise_conv): Conv1d(32, 32, kernel_size=(1,), stride=(1,))\n",
       "        )\n",
       "      )\n",
       "      (3): Regularization(\n",
       "        (operations): Sequential(\n",
       "          (0): LeakyReLU(negative_slope=0.01)\n",
       "          (1): BatchNorm1d(32, eps=1e-05, momentum=0.1, affine=True, track_running_stats=True)\n",
       "          (2): Dropout1d(\n",
       "            (dropout): Dropout2d(p=0.25, inplace=False)\n",
       "          )\n",
       "        )\n",
       "      )\n",
       "    )\n",
       "  )\n",
       "  (decoder_upsample2): Upsample(scale_factor=2.0, mode=nearest)\n",
       "  (decoder_concat1): Concatenate()\n",
       "  (decoder_lvl1): CNN(\n",
       "    (operations): Sequential(\n",
       "      (0): SeparableConv1d(\n",
       "        (depthwise_conv): DepthwiseConv1d(\n",
       "          (depthwise_conv): Conv1d(48, 48, kernel_size=(3,), stride=(1,), padding=(1,), groups=48)\n",
       "        )\n",
       "        (pointwise_conv): PointwiseConv1d(\n",
       "          (pointwise_conv): Conv1d(48, 16, kernel_size=(1,), stride=(1,))\n",
       "        )\n",
       "      )\n",
       "      (1): Regularization(\n",
       "        (operations): Sequential(\n",
       "          (0): LeakyReLU(negative_slope=0.01)\n",
       "          (1): BatchNorm1d(16, eps=1e-05, momentum=0.1, affine=True, track_running_stats=True)\n",
       "          (2): Dropout1d(\n",
       "            (dropout): Dropout2d(p=0.25, inplace=False)\n",
       "          )\n",
       "        )\n",
       "      )\n",
       "      (2): SeparableConv1d(\n",
       "        (depthwise_conv): DepthwiseConv1d(\n",
       "          (depthwise_conv): Conv1d(16, 16, kernel_size=(3,), stride=(1,), padding=(1,), groups=16)\n",
       "        )\n",
       "        (pointwise_conv): PointwiseConv1d(\n",
       "          (pointwise_conv): Conv1d(16, 16, kernel_size=(1,), stride=(1,))\n",
       "        )\n",
       "      )\n",
       "      (3): Regularization(\n",
       "        (operations): Sequential(\n",
       "          (0): LeakyReLU(negative_slope=0.01)\n",
       "          (1): BatchNorm1d(16, eps=1e-05, momentum=0.1, affine=True, track_running_stats=True)\n",
       "          (2): Dropout1d(\n",
       "            (dropout): Dropout2d(p=0.25, inplace=False)\n",
       "          )\n",
       "        )\n",
       "      )\n",
       "      (4): SeparableConv1d(\n",
       "        (depthwise_conv): DepthwiseConv1d(\n",
       "          (depthwise_conv): Conv1d(16, 16, kernel_size=(3,), stride=(1,), padding=(1,), groups=16)\n",
       "        )\n",
       "        (pointwise_conv): PointwiseConv1d(\n",
       "          (pointwise_conv): Conv1d(16, 3, kernel_size=(1,), stride=(1,))\n",
       "        )\n",
       "      )\n",
       "    )\n",
       "  )\n",
       "  (sigmoid): Sigmoid()\n",
       ")"
      ]
     },
     "execution_count": 28,
     "metadata": {},
     "output_type": "execute_result"
    }
   ],
   "source": [
    "modelo"
   ]
  },
  {
   "cell_type": "code",
   "execution_count": null,
   "metadata": {},
   "outputs": [],
   "source": []
  },
  {
   "cell_type": "code",
   "execution_count": null,
   "metadata": {},
   "outputs": [],
   "source": []
  },
  {
   "cell_type": "code",
   "execution_count": null,
   "metadata": {},
   "outputs": [],
   "source": []
  },
  {
   "cell_type": "code",
   "execution_count": 13,
   "metadata": {},
   "outputs": [],
   "source": [
    "salida = modelo(entrada)"
   ]
  },
  {
   "cell_type": "code",
   "execution_count": 14,
   "metadata": {},
   "outputs": [
    {
     "data": {
      "text/plain": [
       "torch.Size([4, 3, 64, 64])"
      ]
     },
     "execution_count": 14,
     "metadata": {},
     "output_type": "execute_result"
    }
   ],
   "source": [
    "salida.shape"
   ]
  },
  {
   "cell_type": "code",
   "execution_count": 19,
   "metadata": {},
   "outputs": [
    {
     "data": {
      "text/plain": [
       "<matplotlib.image.AxesImage at 0x7fa00b617730>"
      ]
     },
     "execution_count": 19,
     "metadata": {},
     "output_type": "execute_result"
    },
    {
     "data": {
      "image/png": "[encoded data removed]",
      "text/plain": [
       "<Figure size 432x288 with 1 Axes>"
      ]
     },
     "metadata": {
      "needs_background": "light"
     },
     "output_type": "display_data"
    }
   ],
   "source": [
    "plt.imshow(salida[0,].detach().numpy().swapaxes(0,1).swapaxes(1,2).astype('uint8'))"
   ]
  },
  {
   "cell_type": "code",
   "execution_count": null,
   "metadata": {},
   "outputs": [],
   "source": []
  },
  {
   "cell_type": "code",
   "execution_count": null,
   "metadata": {},
   "outputs": [],
   "source": []
  },
  {
   "cell_type": "code",
   "execution_count": null,
   "metadata": {},
   "outputs": [],
   "source": []
  }
 ],
 "metadata": {
  "kernelspec": {
   "display_name": "DeepLearning3",
   "language": "python",
   "name": "deeplearning3"
  },
  "language_info": {
   "codemirror_mode": {
    "name": "ipython",
    "version": 3
   },
   "file_extension": ".py",
   "mimetype": "text/x-python",
   "name": "python",
   "nbconvert_exporter": "python",
   "pygments_lexer": "ipython3",
   "version": "3.8.5"
  }
 },
 "nbformat": 4,
 "nbformat_minor": 4
}
