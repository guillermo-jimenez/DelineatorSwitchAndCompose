{
 "cells": [
  {
   "cell_type": "code",
   "execution_count": 1,
   "metadata": {},
   "outputs": [],
   "source": [
    "%load_ext autoreload\n",
    "%autoreload 2"
   ]
  },
  {
   "cell_type": "code",
   "execution_count": 2,
   "metadata": {},
   "outputs": [],
   "source": [
    "import platform\n",
    "import random\n",
    "import string\n",
    "import uuid\n",
    "import math\n",
    "import os\n",
    "import os.path\n",
    "import skimage\n",
    "import sak\n",
    "import sak.wavelet\n",
    "import sak.data\n",
    "import sak.data.augmentation\n",
    "import sak.data.preprocessing\n",
    "import numpy as np\n",
    "import scipy as sp\n",
    "import scipy.signal\n",
    "import pandas as pd\n",
    "import networkx\n",
    "import networkx.algorithms.approximation\n",
    "import wfdb\n",
    "import json\n",
    "import tqdm\n",
    "import matplotlib.pyplot as plt\n",
    "from scipy.stats import norm\n",
    "from sak.signal import StandardHeader\n",
    "\n",
    "import src.data\n",
    "\n",
    "# Data loader to un-clutter code    \n",
    "def load_data(filepath):\n",
    "    dic = dict()\n",
    "    with open(filepath) as f:\n",
    "        text = list(f)\n",
    "    for line in text:\n",
    "        line = line.replace(' ','').replace('\\n','').replace(',,','')\n",
    "        if line[-1] == ',': line = line[:-1]\n",
    "        head = line.split(',')[0]\n",
    "        tail = line.split(',')[1:]\n",
    "        if tail == ['']:\n",
    "            tail = np.asarray([])\n",
    "        else:\n",
    "            tail = np.asarray(tail).astype(int)\n",
    "\n",
    "        dic[head] = tail\n",
    "    return dic\n",
    "\n",
    "\n",
    "def trailonset(sig,on):\n",
    "    on = on-sig[0]\n",
    "    off = on-sig[0]+sig[-1]\n",
    "    sig = sig+np.linspace(on,off,sig.size)\n",
    "    \n",
    "    return sig\n",
    "\n",
    "def getcorr(segments):\n",
    "    if len(segments) > 0:\n",
    "        length = 2*max([seg.size for seg in segments])\n",
    "    else:\n",
    "        return np.zeros((0,0))\n",
    "\n",
    "    corr = np.zeros((len(segments),len(segments)))\n",
    "\n",
    "    for i,seg1 in enumerate(segments):\n",
    "        for j,seg2 in enumerate(segments):\n",
    "            if i != j:\n",
    "                if seg1.size != seg2.size:\n",
    "                    if seg1.size != 1:\n",
    "                        x1 = sp.interpolate.interp1d(np.linspace(0,1,len(seg1)),seg1)(np.linspace(0,1,length))\n",
    "                    else:\n",
    "                        x1 = np.full((length,),seg1[0])\n",
    "                    if seg2.size != 1:\n",
    "                        x2 = sp.interpolate.interp1d(np.linspace(0,1,len(seg2)),seg2)(np.linspace(0,1,length))\n",
    "                    else:\n",
    "                        x2 = np.full((length,),seg2[0])\n",
    "                else:\n",
    "                    x1 = seg1\n",
    "                    x2 = seg2\n",
    "                if (x1.size == 1) and (x2.size == 1):\n",
    "                    corr[i,j] = 1\n",
    "                else:\n",
    "                    c,_ = sak.signal.xcorr(x1,x2)\n",
    "                    corr[i,j] = np.max(np.abs(c))\n",
    "            else:\n",
    "                corr[i,j] = 1\n",
    "                \n",
    "    return corr\n",
    "\n",
    "def order_fiducials(qrs, other, mode='smaller'):\n",
    "    # just in case\n",
    "    other = np.copy(other)\n",
    "\n",
    "    if mode=='smaller':\n",
    "        filt = (other[None,:] < qrs[:,None])\n",
    "    elif mode=='bigger':\n",
    "        filt = (qrs[:,None] < other[None,:])\n",
    "    else:\n",
    "        raise ValueError(\"Mode must be {smaller, bigger}\")\n",
    "        \n",
    "    if other.size == 0:\n",
    "        return np.full_like(qrs,-1,dtype=int)\n",
    "        \n",
    "    for i in range(qrs.size):\n",
    "        if i >= filt.shape[1]:\n",
    "            newcol = np.zeros((qrs.size,),dtype=bool)\n",
    "            if mode=='smaller':\n",
    "                newcol[i:] = True\n",
    "            elif mode=='bigger':\n",
    "                newcol[:i+1] = True\n",
    "            other = np.insert(other,i,-1)\n",
    "            filt = np.insert(filt,i,newcol,axis=1)\n",
    "        else:\n",
    "            if mode=='smaller':\n",
    "                j = np.nonzero(filt[:,i])[0][0]\n",
    "            elif mode=='bigger':\n",
    "                j = qrs.size-np.nonzero(np.flip(filt[:,i]))[0][0]-1\n",
    "\n",
    "            if i != j:\n",
    "                newcol = np.zeros((qrs.size,),dtype=bool)\n",
    "                if mode=='smaller':\n",
    "                    newcol[i:] = True\n",
    "                elif mode=='bigger':\n",
    "                    newcol[:i+1] = True\n",
    "                other = np.insert(other,i,-1)\n",
    "                filt = np.insert(filt,i,newcol,axis=1)\n",
    "\n",
    "    return other"
   ]
  },
  {
   "cell_type": "code",
   "execution_count": 3,
   "metadata": {},
   "outputs": [],
   "source": [
    "basedir = '/media/guille/DADES/DADES/Delineator'"
   ]
  },
  {
   "cell_type": "code",
   "execution_count": 4,
   "metadata": {},
   "outputs": [],
   "source": [
    "#### LOAD DATASETS ####\n",
    "dataset             = pd.read_csv(os.path.join(basedir,'QTDB','Dataset.csv'), index_col=0)\n",
    "dataset             = dataset.sort_index(axis=1)\n",
    "labels              = np.asarray(list(dataset)) # In case no data augmentation is applied\n",
    "description         = dataset.describe()\n",
    "group               = {k: '_'.join(k.split('_')[:-1]) for k in dataset}\n",
    "unique_ids          = list(set([k.split('_')[0] for k in dataset]))\n",
    "\n",
    "# Load validity\n",
    "validity            = sak.load_data(os.path.join(basedir,'QTDB','validity.csv'))\n",
    "\n",
    "# Load fiducials\n",
    "Pon_QTDB            = load_data(os.path.join(basedir,'QTDB','PonNew.csv'))\n",
    "Poff_QTDB           = load_data(os.path.join(basedir,'QTDB','PoffNew.csv'))\n",
    "QRSon_QTDB          = load_data(os.path.join(basedir,'QTDB','QRSonNew.csv'))\n",
    "QRSoff_QTDB         = load_data(os.path.join(basedir,'QTDB','QRSoffNew.csv'))\n",
    "Ton_QTDB            = load_data(os.path.join(basedir,'QTDB','TonNew.csv'))\n",
    "Toff_QTDB           = load_data(os.path.join(basedir,'QTDB','ToffNew.csv'))"
   ]
  },
  {
   "cell_type": "code",
   "execution_count": 5,
   "metadata": {
    "scrolled": true
   },
   "outputs": [
    {
     "name": "stderr",
     "output_type": "stream",
     "text": [
      "100%|██████████| 206/206 [00:00<00:00, 1789.96it/s]"
     ]
    },
    {
     "name": "stdout",
     "output_type": "stream",
     "text": [
      "Issue with file sel35_0, continuing...\n",
      "Issue with file sel35_1, continuing...\n"
     ]
    },
    {
     "name": "stderr",
     "output_type": "stream",
     "text": [
      "\n"
     ]
    }
   ],
   "source": [
    "# Generate masks & signals\n",
    "x = {}\n",
    "y = {}\n",
    "for k in tqdm.tqdm(QRSon_QTDB):\n",
    "    # Check file exists and all that\n",
    "    if k not in validity:\n",
    "        print(\"Issue with file {}, continuing...\".format(k))\n",
    "        continue\n",
    "\n",
    "    # Store signal\n",
    "    signal = dataset[k][validity[k][0]:validity[k][1]].values\n",
    "    signal = sak.signal.on_off_correction(signal)\n",
    "    amplitude = np.median(sak.signal.moving_lambda(signal,200,sak.signal.abs_max))\n",
    "    signal = signal/amplitude\n",
    "    x[k] = signal[None,]\n",
    "    \n",
    "    # Generate boolean mask\n",
    "    segmentation = np.zeros((3,dataset.shape[0]),dtype=bool)\n",
    "    if k in Pon_QTDB:\n",
    "        for on,off in zip(Pon_QTDB[k],Poff_QTDB[k]):\n",
    "            segmentation[0,on:off] = True\n",
    "    if k in QRSon_QTDB:\n",
    "        for on,off in zip(QRSon_QTDB[k],QRSoff_QTDB[k]):\n",
    "            segmentation[1,on:off] = True\n",
    "    if k in Ton_QTDB:\n",
    "        for on,off in zip(Ton_QTDB[k],Toff_QTDB[k]):\n",
    "            segmentation[2,on:off] = True\n",
    "    \n",
    "    y[k] = segmentation[:,validity[k][0]:validity[k][1]]\n",
    "    "
   ]
  },
  {
   "cell_type": "code",
   "execution_count": 6,
   "metadata": {},
   "outputs": [],
   "source": [
    "x2 = {''.join(np.random.choice(list(string.ascii_letters),size=np.random.randint(5,10))): np.random.rand(1,2048) for i in range(210)}\n",
    "y2 = {k: np.random.rand(3,np.random.randint(3800,10872)) > 0.7 for k in x2}\n",
    "\n",
    "dataset1 = src.data.DatasetQTDB( x, y,2048,128)\n",
    "dataset2 = src.data.DatasetQTDB(x2,y2,2048,128)"
   ]
  },
  {
   "cell_type": "code",
   "execution_count": null,
   "metadata": {},
   "outputs": [],
   "source": []
  },
  {
   "cell_type": "code",
   "execution_count": null,
   "metadata": {},
   "outputs": [],
   "source": []
  },
  {
   "cell_type": "code",
   "execution_count": 227,
   "metadata": {},
   "outputs": [],
   "source": [
    "class ConcatDataset(torch.utils.data.Dataset):\n",
    "    def __init__(self, *datasets):\n",
    "        self.datasets = datasets\n",
    "\n",
    "    def __len__(self):\n",
    "        return max(len(d) for d in self.datasets)\n",
    "\n",
    "    def __getitem__(self, index):\n",
    "        out = None\n",
    "        for i,d in enumerate(self.datasets):\n",
    "            if index > len(d):\n",
    "                res = d[np.random.randint(len(d))]\n",
    "            else:\n",
    "                res = d[index%len(d)]\n",
    "            if out is None:\n",
    "                out = [[r] for r in res]\n",
    "            else:\n",
    "                for j,r in enumerate(res):\n",
    "                    out[j].append(r)\n",
    "        return tuple(out)\n"
   ]
  },
  {
   "cell_type": "code",
   "execution_count": 228,
   "metadata": {},
   "outputs": [],
   "source": [
    "composer = ConcatDataset(\n",
    "                 src.data.DatasetQTDB( x, y,2048,128),\n",
    "                 src.data.DatasetQTDB(x2,y2,2048,128),\n",
    "             )"
   ]
  },
  {
   "cell_type": "code",
   "execution_count": null,
   "metadata": {},
   "outputs": [],
   "source": []
  },
  {
   "cell_type": "code",
   "execution_count": 512,
   "metadata": {},
   "outputs": [],
   "source": [
    "def coll(outs: List[List[torch.Tensor]]) -> List[torch.Tensor]:\n",
    "    x = torch.cat(out[0])\n",
    "    y = torch.cat(out[1])\n",
    "    return (x,y)"
   ]
  },
  {
   "cell_type": "code",
   "execution_count": 513,
   "metadata": {},
   "outputs": [],
   "source": [
    "train_loader = torch.utils.data.DataLoader(\n",
    "             ConcatDataset(\n",
    "                 src.data.DatasetQTDB( x, y,2048,128),\n",
    "                 src.data.DatasetQTDB(x2,y2,2048,128),\n",
    "             ),\n",
    "             batch_size=8, shuffle=True, pin_memory=True, collate_fn=coll)\n"
   ]
  },
  {
   "cell_type": "code",
   "execution_count": 41,
   "metadata": {},
   "outputs": [],
   "source": []
  },
  {
   "cell_type": "code",
   "execution_count": null,
   "metadata": {},
   "outputs": [],
   "source": []
  },
  {
   "cell_type": "code",
   "execution_count": 353,
   "metadata": {},
   "outputs": [],
   "source": [
    "self = DatasetComposer([dataset1,dataset2],draws=[2,1])"
   ]
  },
  {
   "cell_type": "code",
   "execution_count": 339,
   "metadata": {},
   "outputs": [],
   "source": [
    "# self.iterations = math.ceil(max([len(d)/self.draws[i] for i,d in enumerate(self.datasets)]))\n",
    "# self.len = self.iterations*sum(self.draws)\n",
    "\n",
    "# self.index_dataset = np.concatenate([[i]*(self.draws[i]) for i,d in enumerate(self.datasets)])\n",
    "# self.index_dataset = np.tile(self.index_dataset,self.iterations)\n",
    "# self.index_dataset\n",
    "\n",
    "# self.index_windows = np.zeros_like(self.index_dataset)\n",
    "# for i,d in enumerate(self.draws):\n",
    "#     self.index_windows[self.index_dataset == i] = np.arange(d*self.iterations)"
   ]
  },
  {
   "cell_type": "code",
   "execution_count": 372,
   "metadata": {},
   "outputs": [],
   "source": [
    "if self.__shuffle: ordering = np.random.permutation(np.arange(len(self.datasets)))\n",
    "else:              ordering = np.arange(len(self.datasets))\n",
    "self.index_dataset = np.concatenate([[i]*(self.draws[i]) for i in ordering])\n",
    "self.index_dataset = np.tile(self.index_dataset,self.iterations)\n",
    "\n",
    "self.index_windows = np.zeros_like(self.index_dataset)\n",
    "for i,draw in enumerate(self.draws):\n",
    "    if self.__shuffle: indices = np.arange(draw*self.iterations)\n",
    "    else:              indices = np.random.permutation(np.arange(draw*self.iterations))\n",
    "    self.index_windows[self.index_dataset == i] = indices"
   ]
  },
  {
   "cell_type": "code",
   "execution_count": 373,
   "metadata": {},
   "outputs": [
    {
     "data": {
      "text/plain": [
       "array([   0,    0,    1, ..., 4034, 8068, 8069])"
      ]
     },
     "execution_count": 373,
     "metadata": {},
     "output_type": "execute_result"
    }
   ],
   "source": [
    "self.index_windows"
   ]
  },
  {
   "cell_type": "code",
   "execution_count": null,
   "metadata": {},
   "outputs": [],
   "source": []
  },
  {
   "cell_type": "code",
   "execution_count": null,
   "metadata": {},
   "outputs": [],
   "source": []
  },
  {
   "cell_type": "code",
   "execution_count": null,
   "metadata": {},
   "outputs": [],
   "source": []
  },
  {
   "cell_type": "code",
   "execution_count": null,
   "metadata": {},
   "outputs": [],
   "source": []
  },
  {
   "cell_type": "code",
   "execution_count": null,
   "metadata": {},
   "outputs": [],
   "source": []
  },
  {
   "cell_type": "code",
   "execution_count": null,
   "metadata": {},
   "outputs": [],
   "source": [
    "class DatasetComposer(torch.utils.data.Dataset):\n",
    "    '''Composer that draws samples from multiple dataset classes'''\n",
    "\n",
    "    def __init__(self, datasets: Iterable[torch.utils.data.Dataset], \n",
    "                 draws: Union[Iterable,int] = 1, \n",
    "                 weights: Union[Iterable,int] = 1,\n",
    "                 return_weights: bool = False,\n",
    "                 shuffle: bool = True):\n",
    "        # Datasets\n",
    "        if isinstance(datasets, Iterable):\n",
    "            self.datasets = datasets\n",
    "        else:\n",
    "            raise ValueError(\"'datasets' must be an iterable\")\n",
    "\n",
    "        # Draws\n",
    "        if isinstance(draws, Iterable):\n",
    "            assert len(datasets) == len(draws)\n",
    "            assert all([d > 0 for d in draws])\n",
    "            self.draws = draws\n",
    "        elif isinstance(draws, int):\n",
    "            self.draws = [draws for _ in self.datasets]\n",
    "        else:\n",
    "            raise ValueError(\"'draws' must be an iterable or a single int\")\n",
    "\n",
    "        # Weights\n",
    "        if isinstance(weights, Iterable):\n",
    "            assert len(datasets) == len(weights)\n",
    "            self.weights = weights\n",
    "        elif isinstance(weights, int):\n",
    "            self.weights = [weights for _ in self.datasets]\n",
    "        else:\n",
    "            raise ValueError(\"'weights' must be an iterable or a single int\")\n",
    "        \n",
    "        # Compute number of generable samples & iterations\n",
    "        self.iterations = math.ceil(max([len(d)/self.draws[i] for i,d in enumerate(self.datasets)]))\n",
    "        self.len = self.iterations*sum(self.draws)\n",
    "        self.__shuffle = shuffle\n",
    "        self.__return_weights = return_weights\n",
    "        self.__counter = 0\n",
    "\n",
    "        # Generate custom indexing\n",
    "        if self.__shuffle: ordering = np.random.permutation(np.arange(len(self.datasets)))\n",
    "        else:              ordering = np.arange(len(self.datasets))\n",
    "        self.index_dataset = np.concatenate([[i]*(self.draws[i]) for i in ordering])\n",
    "        self.index_dataset = np.tile(self.index_dataset,self.iterations)\n",
    "\n",
    "        self.index_windows = np.zeros_like(self.index_dataset)\n",
    "        for i,draw in enumerate(self.draws):\n",
    "            if self.__shuffle: indices = np.arange(draw*self.iterations)\n",
    "            else:              indices = np.random.permutation(np.arange(draw*self.iterations))\n",
    "            self.index_windows[self.index_dataset == i] = indices\n",
    "            \n",
    "    def __len__(self):\n",
    "        return self.len\n",
    "\n",
    "    def __getitem__(self, i):\n",
    "        # Retrieve indices\n",
    "        i_dataset = self.index_dataset[i]\n",
    "        i_window = self.index_windows[i]\n",
    "        \n",
    "        # Retrieve dataset\n",
    "        dataset = self.datasets[i_dataset]\n",
    "        \n",
    "        # If, in underpopulated classes, the index exceeds the length, generate random\n",
    "        if i_window >= len(dataset):\n",
    "            i_window = np.random.randint(len(dataset))\n",
    "        \n",
    "        # Define output\n",
    "        out = dataset[i_window]\n",
    "        if self.__return_weights: \n",
    "            out = (*out, self.weights[i_dataset])\n",
    "        \n",
    "        # Count how many have been generated\n",
    "        (counter_value,self.__counter) = (self.__counter+1, self.__counter+1 if self.__counter+1 < self.len else 0)\n",
    "        if self.__shuffle and counter_value >= self.len:\n",
    "            self.shuffle()\n",
    "\n",
    "        return out\n"
   ]
  },
  {
   "cell_type": "code",
   "execution_count": 463,
   "metadata": {},
   "outputs": [],
   "source": [
    "a = 7"
   ]
  },
  {
   "cell_type": "code",
   "execution_count": 465,
   "metadata": {},
   "outputs": [],
   "source": [
    "a,b = (a+1,a+1)"
   ]
  },
  {
   "cell_type": "code",
   "execution_count": null,
   "metadata": {},
   "outputs": [],
   "source": []
  },
  {
   "cell_type": "code",
   "execution_count": 533,
   "metadata": {},
   "outputs": [],
   "source": [
    "class TEMP(torch.utils.data.Dataset):\n",
    "    def __init__(self, N, groups):\n",
    "        self.N = N\n",
    "        self.groups = groups\n",
    "        self.counter = 0\n",
    "            \n",
    "    def __len__(self):\n",
    "        return self.N\n",
    "\n",
    "    def __getitem__(self, i):\n",
    "        (counter_value,self.counter) = (self.counter, self.counter+1 if self.counter+1 < self.groups else 0)\n",
    "        \n",
    "        return counter_value\n",
    "        "
   ]
  },
  {
   "cell_type": "code",
   "execution_count": 578,
   "metadata": {},
   "outputs": [
    {
     "name": "stderr",
     "output_type": "stream",
     "text": [
      "100%|██████████| 100/100 [02:18<00:00,  1.38s/it]\n"
     ]
    }
   ],
   "source": [
    "tests = []\n",
    "for i in tqdm.tqdm(range(100)):\n",
    "    bs = np.random.randint(2,100)\n",
    "    d = TEMP((np.random.randint(10000,100000)//bs)*bs, bs)\n",
    "    l = torch.utils.data.DataLoader(d, batch_size=bs, num_workers=8, shuffle=True, pin_memory=True)\n",
    "    outs = []\n",
    "    for i in l:\n",
    "        outs.append(i)\n",
    "    values = np.array([o.numpy().tolist() for o in outs])\n",
    "    tests.append(np.all(values == np.arange(bs)[None,]))\n",
    "np.all(tests)"
   ]
  },
  {
   "cell_type": "code",
   "execution_count": null,
   "metadata": {},
   "outputs": [],
   "source": []
  },
  {
   "cell_type": "code",
   "execution_count": null,
   "metadata": {},
   "outputs": [],
   "source": []
  },
  {
   "cell_type": "code",
   "execution_count": null,
   "metadata": {},
   "outputs": [],
   "source": []
  },
  {
   "cell_type": "code",
   "execution_count": null,
   "metadata": {},
   "outputs": [],
   "source": []
  },
  {
   "cell_type": "code",
   "execution_count": null,
   "metadata": {},
   "outputs": [],
   "source": []
  },
  {
   "cell_type": "code",
   "execution_count": null,
   "metadata": {},
   "outputs": [],
   "source": [
    "from typing import Sized\n",
    "\n",
    "class RandomSampler(torch.utils.data.Sampler[int]):\n",
    "    data_source: Sized\n",
    "    replacement: bool\n",
    "\n",
    "    def __init__(self, data_source: Sized, replacement: bool = False,\n",
    "                 num_samples: Optional[int] = None, generator=None) -> None:\n",
    "        self.data_source = data_source\n",
    "        self.replacement = replacement\n",
    "        self._num_samples = num_samples\n",
    "        self.generator = generator\n",
    "\n",
    "        if not isinstance(self.replacement, bool):\n",
    "            raise TypeError(\"replacement should be a boolean value, but got \"\n",
    "                            \"replacement={}\".format(self.replacement))\n",
    "\n",
    "        if self._num_samples is not None and not replacement:\n",
    "            raise ValueError(\"With replacement=False, num_samples should not be specified, \"\n",
    "                             \"since a random permute will be performed.\")\n",
    "\n",
    "        if not isinstance(self.num_samples, int) or self.num_samples <= 0:\n",
    "            raise ValueError(\"num_samples should be a positive integer \"\n",
    "                             \"value, but got num_samples={}\".format(self.num_samples))\n",
    "\n",
    "    @property\n",
    "    def num_samples(self) -> int:\n",
    "        # dataset size might change at runtime\n",
    "        if self._num_samples is None:\n",
    "            return len(self.data_source)\n",
    "        return self._num_samples\n",
    "\n",
    "    def __iter__(self):\n",
    "        n = len(self.data_source)\n",
    "        if self.generator is None:\n",
    "            generator = torch.Generator()\n",
    "            generator.manual_seed(int(torch.empty((), dtype=torch.int64).random_().item()))\n",
    "        else:\n",
    "            generator = self.generator\n",
    "        if self.replacement:\n",
    "            for _ in range(self.num_samples // 32):\n",
    "                yield from torch.randint(high=n, size=(32,), dtype=torch.int64, generator=generator).tolist()\n",
    "            yield from torch.randint(high=n, size=(self.num_samples % 32,), dtype=torch.int64, generator=generator).tolist()\n",
    "        else:\n",
    "            yield from torch.randperm(n, generator=self.generator).tolist()\n",
    "\n",
    "    def __len__(self):\n",
    "        return self.num_samples\n",
    "\n"
   ]
  },
  {
   "cell_type": "code",
   "execution_count": null,
   "metadata": {},
   "outputs": [],
   "source": []
  },
  {
   "cell_type": "code",
   "execution_count": null,
   "metadata": {},
   "outputs": [],
   "source": []
  },
  {
   "cell_type": "code",
   "execution_count": null,
   "metadata": {},
   "outputs": [],
   "source": []
  },
  {
   "cell_type": "code",
   "execution_count": null,
   "metadata": {},
   "outputs": [],
   "source": []
  },
  {
   "cell_type": "code",
   "execution_count": null,
   "metadata": {},
   "outputs": [],
   "source": []
  },
  {
   "cell_type": "code",
   "execution_count": null,
   "metadata": {},
   "outputs": [],
   "source": []
  },
  {
   "cell_type": "code",
   "execution_count": null,
   "metadata": {},
   "outputs": [],
   "source": []
  },
  {
   "cell_type": "code",
   "execution_count": 616,
   "metadata": {},
   "outputs": [],
   "source": [
    "import torch\n",
    "from typing import Iterable, Union, List, Callable\n",
    "\n",
    "class DatasetComposer(torch.utils.data.Dataset):\n",
    "    '''Composer that draws samples from multiple dataset classes'''\n",
    "\n",
    "    def __init__(self, datasets: Iterable[torch.utils.data.Dataset], \n",
    "                 draws: Union[Iterable,int] = 1, \n",
    "                 weights: Union[Iterable,int] = 1,\n",
    "                 return_weights: bool = False,\n",
    "                 shuffle: bool = True):\n",
    "        # Datasets\n",
    "        if isinstance(datasets, Iterable):\n",
    "            self.datasets = datasets\n",
    "        else:\n",
    "            raise ValueError(\"'datasets' must be an iterable\")\n",
    "\n",
    "        # Draws\n",
    "        if isinstance(draws, Iterable):\n",
    "            assert len(datasets) == len(draws)\n",
    "            assert all([d > 0 for d in draws])\n",
    "            self.draws = draws\n",
    "        elif isinstance(draws, int):\n",
    "            self.draws = [draws for _ in self.datasets]\n",
    "        else:\n",
    "            raise ValueError(\"'draws' must be an iterable or a single int\")\n",
    "\n",
    "        # Weights\n",
    "        if isinstance(weights, Iterable):\n",
    "            assert len(datasets) == len(weights)\n",
    "            self.weights = weights\n",
    "        elif isinstance(weights, int):\n",
    "            self.weights = [weights for _ in self.datasets]\n",
    "        else:\n",
    "            raise ValueError(\"'weights' must be an iterable or a single int\")\n",
    "        \n",
    "        # Compute number of generable samples & iterations\n",
    "        self.iterations = math.ceil(max([len(d)/self.draws[i] for i,d in enumerate(self.datasets)]))\n",
    "        self.len = self.iterations*sum(self.draws)\n",
    "        self.__shuffle = shuffle\n",
    "        self.__return_weights = return_weights\n",
    "        self.__counter = 0\n",
    "\n",
    "        # Generate custom indexing\n",
    "        if self.__shuffle: ordering = np.random.permutation(np.arange(len(self.datasets)))\n",
    "        else:              ordering = np.arange(len(self.datasets))\n",
    "        self.index_dataset = np.concatenate([[i]*(self.draws[i]) for i in ordering])\n",
    "        self.index_dataset = np.tile(self.index_dataset,self.iterations)\n",
    "\n",
    "        self.index_windows = np.zeros_like(self.index_dataset)\n",
    "        for i,draw in enumerate(self.draws):\n",
    "            if self.__shuffle: indices = np.arange(draw*self.iterations)\n",
    "            else:              indices = np.random.permutation(np.arange(draw*self.iterations))\n",
    "            self.index_windows[self.index_dataset == i] = indices\n",
    "            \n",
    "\n",
    "    def shuffle(self):\n",
    "        ordering = np.random.permutation(np.arange(len(self.datasets)))\n",
    "        self.index_dataset = np.concatenate([[i]*(self.draws[i]) for i in ordering])\n",
    "        self.index_dataset = np.tile(self.index_dataset,self.iterations)\n",
    "\n",
    "        self.index_windows = np.zeros_like(self.index_dataset)\n",
    "        for i,draw in enumerate(self.draws):\n",
    "            indices = np.arange(draw*self.iterations)\n",
    "            self.index_windows[self.index_dataset == i] = indices\n",
    "        \n",
    "    def __len__(self):\n",
    "        return self.len\n",
    "\n",
    "    def __getitem__(self, i):\n",
    "        # Retrieve actual index - \n",
    "        (i,self.__counter) = (self.__counter, self.__counter+1 if self.__counter+1 < self.len else 0)\n",
    "        \n",
    "        # Retrieve indices\n",
    "        i_dataset = self.index_dataset[i]\n",
    "        i_window = self.index_windows[i]\n",
    "        \n",
    "        # Retrieve dataset\n",
    "        dataset = self.datasets[i_dataset]\n",
    "        \n",
    "        # If, in underpopulated classes, the index exceeds the length, generate random\n",
    "        if i_window >= len(dataset):\n",
    "            i_window = np.random.randint(len(dataset))\n",
    "        \n",
    "        # Define output\n",
    "        out = dataset[i_window]\n",
    "        if self.__return_weights: \n",
    "            out = (*out, self.weights[i_dataset])\n",
    "\n",
    "        if self.__shuffle and i+1 >= self.len:\n",
    "            print(\"!!!\")\n",
    "            self.shuffle()\n",
    "            \n",
    "        return i\n"
   ]
  },
  {
   "cell_type": "code",
   "execution_count": 617,
   "metadata": {},
   "outputs": [],
   "source": [
    "self = DatasetComposer([dataset1,dataset2], draws=[2,1], weights=[0.25,1], return_weights=True)"
   ]
  },
  {
   "cell_type": "code",
   "execution_count": 618,
   "metadata": {},
   "outputs": [],
   "source": [
    "loader = torch.utils.data.DataLoader(self,batch_size=128,num_workers=4,pin_memory=True)"
   ]
  },
  {
   "cell_type": "code",
   "execution_count": 621,
   "metadata": {
    "scrolled": false
   },
   "outputs": [],
   "source": [
    "vals = [out.numpy() for out in loader]"
   ]
  },
  {
   "cell_type": "code",
   "execution_count": null,
   "metadata": {},
   "outputs": [],
   "source": []
  },
  {
   "cell_type": "code",
   "execution_count": null,
   "metadata": {},
   "outputs": [],
   "source": []
  },
  {
   "cell_type": "code",
   "execution_count": null,
   "metadata": {},
   "outputs": [],
   "source": []
  },
  {
   "cell_type": "code",
   "execution_count": 585,
   "metadata": {},
   "outputs": [
    {
     "name": "stdout",
     "output_type": "stream",
     "text": [
      "5.18 µs ± 33.2 ns per loop (mean ± std. dev. of 7 runs, 100000 loops each)\n"
     ]
    }
   ],
   "source": [
    "%%timeit\n",
    "dataset1[0]"
   ]
  },
  {
   "cell_type": "code",
   "execution_count": 586,
   "metadata": {},
   "outputs": [
    {
     "name": "stdout",
     "output_type": "stream",
     "text": [
      "5.01 µs ± 103 ns per loop (mean ± std. dev. of 7 runs, 100000 loops each)\n"
     ]
    }
   ],
   "source": [
    "%%timeit\n",
    "dataset2[0]"
   ]
  },
  {
   "cell_type": "code",
   "execution_count": 587,
   "metadata": {},
   "outputs": [
    {
     "name": "stdout",
     "output_type": "stream",
     "text": [
      "7.82 µs ± 79.9 ns per loop (mean ± std. dev. of 7 runs, 100000 loops each)\n"
     ]
    }
   ],
   "source": [
    "%%timeit\n",
    "self[0]"
   ]
  },
  {
   "cell_type": "code",
   "execution_count": 583,
   "metadata": {},
   "outputs": [],
   "source": [
    "out = []\n",
    "for i in range(self.len):\n",
    "    tmp = self[i]"
   ]
  },
  {
   "cell_type": "code",
   "execution_count": 456,
   "metadata": {},
   "outputs": [
    {
     "data": {
      "text/plain": [
       "(array([[ 0.3300709 ,  0.30020964,  0.26437515, ..., -0.00037278,\n",
       "         -0.00036787, -0.00036297]]),\n",
       " array([[False, False, False, ..., False, False, False],\n",
       "        [ True,  True,  True, ..., False, False, False],\n",
       "        [False, False, False, ..., False,  True,  True]]),\n",
       " 0.25)"
      ]
     },
     "execution_count": 456,
     "metadata": {},
     "output_type": "execute_result"
    }
   ],
   "source": [
    "tmp"
   ]
  },
  {
   "cell_type": "code",
   "execution_count": null,
   "metadata": {},
   "outputs": [],
   "source": []
  },
  {
   "cell_type": "code",
   "execution_count": null,
   "metadata": {},
   "outputs": [],
   "source": []
  },
  {
   "cell_type": "code",
   "execution_count": null,
   "metadata": {},
   "outputs": [],
   "source": []
  },
  {
   "cell_type": "code",
   "execution_count": 126,
   "metadata": {},
   "outputs": [],
   "source": [
    "lens = [1868,4974,1348]"
   ]
  },
  {
   "cell_type": "code",
   "execution_count": 134,
   "metadata": {},
   "outputs": [],
   "source": [
    "windows = np.hstack([np.arange(l) for l in lens])\n",
    "origins = np.hstack([np.full((l,),i,dtype=int) for i,l in enumerate(lens)])\n",
    "origin2 = np.hstack([np.full((l,),i,dtype=int) for i,l in enumerate(lens)])\n"
   ]
  },
  {
   "cell_type": "code",
   "execution_count": 135,
   "metadata": {},
   "outputs": [],
   "source": [
    "# 1. Shuffle\n",
    "perm = np.random.permutation(np.arange(sum(lens)))\n",
    "windows,origins = windows[perm],origins[perm]\n",
    "\n",
    "# 2. Sort origins"
   ]
  },
  {
   "cell_type": "code",
   "execution_count": 140,
   "metadata": {},
   "outputs": [],
   "source": [
    "a = np.array([3, 4, 2, 1,3, 4, 2, 1,3, 4, 2, 1,3, 4, 2, 1,3, 4, 2, 1])\n",
    "b = np.partition(a,2)"
   ]
  },
  {
   "cell_type": "code",
   "execution_count": 141,
   "metadata": {},
   "outputs": [
    {
     "data": {
      "text/plain": [
       "array([1, 1, 1, 3, 3, 4, 2, 4, 3, 4, 2, 2, 3, 4, 2, 1, 3, 4, 2, 1])"
      ]
     },
     "execution_count": 141,
     "metadata": {},
     "output_type": "execute_result"
    }
   ],
   "source": [
    "b"
   ]
  },
  {
   "cell_type": "code",
   "execution_count": null,
   "metadata": {},
   "outputs": [],
   "source": []
  },
  {
   "cell_type": "code",
   "execution_count": null,
   "metadata": {},
   "outputs": [],
   "source": []
  },
  {
   "cell_type": "code",
   "execution_count": 122,
   "metadata": {},
   "outputs": [
    {
     "data": {
      "text/plain": [
       "array([[   0,    0,    0, ...,    2,    2,    2],\n",
       "       [   0,    1,    2, ..., 9997, 9998, 9999]])"
      ]
     },
     "execution_count": 122,
     "metadata": {},
     "output_type": "execute_result"
    }
   ],
   "source": [
    "sorter"
   ]
  },
  {
   "cell_type": "code",
   "execution_count": 112,
   "metadata": {},
   "outputs": [
    {
     "data": {
      "text/plain": [
       "array([0, 2, 0, ..., 2, 1, 1])"
      ]
     },
     "execution_count": 112,
     "metadata": {},
     "output_type": "execute_result"
    }
   ],
   "source": [
    "origin[index]"
   ]
  },
  {
   "cell_type": "code",
   "execution_count": null,
   "metadata": {},
   "outputs": [],
   "source": []
  },
  {
   "cell_type": "code",
   "execution_count": null,
   "metadata": {},
   "outputs": [],
   "source": []
  },
  {
   "cell_type": "code",
   "execution_count": 104,
   "metadata": {},
   "outputs": [],
   "source": [
    "sort2 = np.argsort(index)"
   ]
  },
  {
   "cell_type": "code",
   "execution_count": null,
   "metadata": {},
   "outputs": [],
   "source": []
  },
  {
   "cell_type": "code",
   "execution_count": null,
   "metadata": {},
   "outputs": [],
   "source": []
  },
  {
   "cell_type": "code",
   "execution_count": null,
   "metadata": {},
   "outputs": [],
   "source": []
  },
  {
   "cell_type": "code",
   "execution_count": 64,
   "metadata": {},
   "outputs": [
    {
     "data": {
      "text/plain": [
       "99"
      ]
     },
     "execution_count": 64,
     "metadata": {},
     "output_type": "execute_result"
    }
   ],
   "source": [
    "max(d for d in range(100))"
   ]
  },
  {
   "cell_type": "code",
   "execution_count": 8,
   "metadata": {},
   "outputs": [],
   "source": [
    "self = src.data.DatasetQTDB(x,y,2048,128)"
   ]
  },
  {
   "cell_type": "code",
   "execution_count": 9,
   "metadata": {},
   "outputs": [
    {
     "name": "stderr",
     "output_type": "stream",
     "text": [
      "100%|██████████| 8070/8070 [00:00<00:00, 120245.53it/s]\n"
     ]
    }
   ],
   "source": [
    "for i,(a,b) in enumerate(tqdm.tqdm(self)):\n",
    "    pass"
   ]
  },
  {
   "cell_type": "code",
   "execution_count": 17,
   "metadata": {},
   "outputs": [
    {
     "data": {
      "image/png": "[encoded data removed]",
      "text/plain": [
       "<Figure size 1152x288 with 1 Axes>"
      ]
     },
     "metadata": {
      "needs_background": "light"
     },
     "output_type": "display_data"
    }
   ],
   "source": [
    "plt.figure(figsize=(16,4))\n",
    "plt.plot(a.T)\n",
    "ax = plt.gca()\n",
    "pon,poff = sak.signal.get_mask_boundary(b[0,:])\n",
    "qrson,qrsoff = sak.signal.get_mask_boundary(b[1,:])\n",
    "ton,toff = sak.signal.get_mask_boundary(b[2,:])\n",
    "[ax.axvspan(on,off,alpha=0.15,color='red') for on,off in zip(pon,poff)]\n",
    "[ax.axvspan(on,off,alpha=0.15,color='green') for on,off in zip(qrson,qrsoff)]\n",
    "[ax.axvspan(on,off,alpha=0.15,color='magenta') for on,off in zip(ton,toff)]\n",
    "_=plt.xlim([0,2048])"
   ]
  },
  {
   "cell_type": "code",
   "execution_count": null,
   "metadata": {},
   "outputs": [],
   "source": []
  },
  {
   "cell_type": "code",
   "execution_count": null,
   "metadata": {},
   "outputs": [],
   "source": []
  },
  {
   "cell_type": "code",
   "execution_count": null,
   "metadata": {},
   "outputs": [],
   "source": []
  },
  {
   "cell_type": "code",
   "execution_count": null,
   "metadata": {},
   "outputs": [],
   "source": []
  },
  {
   "cell_type": "code",
   "execution_count": null,
   "metadata": {},
   "outputs": [],
   "source": [
    "total = sum([(x[k].size - 2048 + 128)//128 for k in x])\n",
    "\n",
    "for i in range(total):\n",
    "    # Retrieve single window\n",
    "    numRecord = int(i)//int(self.num_windows)\n",
    "    key       = self.x.keys()[numRecord]\n",
    "    n_window  = (int(i)-numRecord*self.num_windows)\n"
   ]
  },
  {
   "cell_type": "code",
   "execution_count": null,
   "metadata": {},
   "outputs": [],
   "source": [
    "# Desambiguate data augmentation\n",
    "j         = i//(self.num_windows*len(self.x))\n",
    "i         = i%(self.num_windows*len(self.x))\n",
    "numRecord = int(i)//int(self.num_windows)\n",
    "key       = self.x.keys()[numRecord]\n",
    "n_window  = (int(i)-numRecord*self.num_windows)\n"
   ]
  },
  {
   "cell_type": "code",
   "execution_count": null,
   "metadata": {},
   "outputs": [],
   "source": []
  },
  {
   "cell_type": "code",
   "execution_count": null,
   "metadata": {},
   "outputs": [],
   "source": []
  },
  {
   "cell_type": "code",
   "execution_count": 108,
   "metadata": {},
   "outputs": [],
   "source": [
    "import skimage"
   ]
  },
  {
   "cell_type": "code",
   "execution_count": 119,
   "metadata": {},
   "outputs": [
    {
     "data": {
      "text/plain": [
       "(1, 8968)"
      ]
     },
     "execution_count": 119,
     "metadata": {},
     "output_type": "execute_result"
    }
   ],
   "source": [
    "x[k].shape"
   ]
  },
  {
   "cell_type": "code",
   "execution_count": 131,
   "metadata": {},
   "outputs": [
    {
     "data": {
      "text/plain": [
       "55"
      ]
     },
     "execution_count": 131,
     "metadata": {},
     "output_type": "execute_result"
    }
   ],
   "source": [
    "(x[k].size-2048+128)//128"
   ]
  },
  {
   "cell_type": "code",
   "execution_count": null,
   "metadata": {},
   "outputs": [],
   "source": []
  },
  {
   "cell_type": "code",
   "execution_count": null,
   "metadata": {},
   "outputs": [],
   "source": []
  },
  {
   "cell_type": "code",
   "execution_count": null,
   "metadata": {},
   "outputs": [],
   "source": []
  },
  {
   "cell_type": "code",
   "execution_count": null,
   "metadata": {},
   "outputs": [],
   "source": []
  },
  {
   "cell_type": "code",
   "execution_count": null,
   "metadata": {},
   "outputs": [],
   "source": []
  },
  {
   "cell_type": "code",
   "execution_count": null,
   "metadata": {},
   "outputs": [],
   "source": []
  },
  {
   "cell_type": "code",
   "execution_count": null,
   "metadata": {},
   "outputs": [],
   "source": []
  },
  {
   "cell_type": "code",
   "execution_count": null,
   "metadata": {},
   "outputs": [],
   "source": []
  },
  {
   "cell_type": "code",
   "execution_count": null,
   "metadata": {},
   "outputs": [],
   "source": []
  },
  {
   "cell_type": "code",
   "execution_count": null,
   "metadata": {},
   "outputs": [],
   "source": []
  },
  {
   "cell_type": "code",
   "execution_count": null,
   "metadata": {},
   "outputs": [],
   "source": []
  },
  {
   "cell_type": "code",
   "execution_count": null,
   "metadata": {},
   "outputs": [],
   "source": []
  },
  {
   "cell_type": "code",
   "execution_count": null,
   "metadata": {},
   "outputs": [],
   "source": []
  },
  {
   "cell_type": "code",
   "execution_count": null,
   "metadata": {},
   "outputs": [],
   "source": []
  },
  {
   "cell_type": "code",
   "execution_count": null,
   "metadata": {},
   "outputs": [],
   "source": []
  },
  {
   "cell_type": "code",
   "execution_count": null,
   "metadata": {},
   "outputs": [],
   "source": []
  },
  {
   "cell_type": "code",
   "execution_count": null,
   "metadata": {},
   "outputs": [],
   "source": []
  },
  {
   "cell_type": "code",
   "execution_count": null,
   "metadata": {},
   "outputs": [],
   "source": []
  },
  {
   "cell_type": "code",
   "execution_count": null,
   "metadata": {},
   "outputs": [],
   "source": []
  },
  {
   "cell_type": "code",
   "execution_count": null,
   "metadata": {},
   "outputs": [],
   "source": []
  },
  {
   "cell_type": "code",
   "execution_count": null,
   "metadata": {},
   "outputs": [],
   "source": []
  },
  {
   "cell_type": "code",
   "execution_count": null,
   "metadata": {},
   "outputs": [],
   "source": []
  },
  {
   "cell_type": "code",
   "execution_count": null,
   "metadata": {},
   "outputs": [],
   "source": []
  },
  {
   "cell_type": "code",
   "execution_count": null,
   "metadata": {},
   "outputs": [],
   "source": []
  },
  {
   "cell_type": "code",
   "execution_count": null,
   "metadata": {},
   "outputs": [],
   "source": []
  },
  {
   "cell_type": "code",
   "execution_count": null,
   "metadata": {},
   "outputs": [],
   "source": []
  },
  {
   "cell_type": "code",
   "execution_count": null,
   "metadata": {},
   "outputs": [],
   "source": []
  },
  {
   "cell_type": "code",
   "execution_count": null,
   "metadata": {},
   "outputs": [],
   "source": []
  },
  {
   "cell_type": "code",
   "execution_count": null,
   "metadata": {},
   "outputs": [],
   "source": []
  },
  {
   "cell_type": "code",
   "execution_count": null,
   "metadata": {},
   "outputs": [],
   "source": []
  },
  {
   "cell_type": "code",
   "execution_count": 192,
   "metadata": {},
   "outputs": [],
   "source": [
    "import sak\n",
    "import sak.torch\n",
    "import sak.torch.data"
   ]
  },
  {
   "cell_type": "code",
   "execution_count": 223,
   "metadata": {},
   "outputs": [],
   "source": [
    "dataset = sak.torch.data.UniformMultiDataset((dataset1,dataset2),draws=[5,1],weights=[0.2,1],return_weights=True)\n",
    "sampler = sak.torch.data.UniformMultiSampler(dataset)\n",
    "loader  = torch.utils.data.DataLoader(dataset,batch_size=128,sampler=sampler)"
   ]
  },
  {
   "cell_type": "code",
   "execution_count": 227,
   "metadata": {},
   "outputs": [],
   "source": [
    "for x,y,w in loader:\n",
    "    pass"
   ]
  },
  {
   "cell_type": "code",
   "execution_count": null,
   "metadata": {},
   "outputs": [],
   "source": []
  },
  {
   "cell_type": "code",
   "execution_count": null,
   "metadata": {},
   "outputs": [],
   "source": []
  },
  {
   "cell_type": "code",
   "execution_count": null,
   "metadata": {},
   "outputs": [],
   "source": []
  },
  {
   "cell_type": "code",
   "execution_count": null,
   "metadata": {},
   "outputs": [],
   "source": []
  },
  {
   "cell_type": "code",
   "execution_count": null,
   "metadata": {},
   "outputs": [],
   "source": []
  },
  {
   "cell_type": "code",
   "execution_count": null,
   "metadata": {},
   "outputs": [],
   "source": []
  },
  {
   "cell_type": "code",
   "execution_count": 179,
   "metadata": {},
   "outputs": [],
   "source": [
    "import torch\n",
    "from typing import Iterable, Union, List, Callable, Sized\n",
    "\n",
    "\n",
    "class DatasetComposer(torch.utils.data.Dataset):\n",
    "    '''Composer that draws samples from multiple dataset classes'''\n",
    "\n",
    "    def __init__(self, datasets: Iterable[torch.utils.data.Dataset], \n",
    "                 draws: Union[Iterable,int] = 1, \n",
    "                 weights: Union[Iterable,int] = 1,\n",
    "                 strategy: Union[Iterable,str] = \"randint\",\n",
    "                 return_weights: bool = False,\n",
    "                 shuffle: bool = True):\n",
    "        # Datasets\n",
    "        if isinstance(datasets, Iterable):\n",
    "            self.datasets = datasets\n",
    "        else:\n",
    "            raise ValueError(\"'datasets' must be an iterable\")\n",
    "\n",
    "        # Draws\n",
    "        if isinstance(draws, Iterable):\n",
    "            assert len(datasets) == len(draws)\n",
    "            assert all([d > 0 for d in draws])\n",
    "            self.draws = draws\n",
    "        elif isinstance(draws, int):\n",
    "            self.draws = [draws for _ in self.datasets]\n",
    "        else:\n",
    "            raise ValueError(\"'draws' must be an iterable or a single int\")\n",
    "\n",
    "        # Weights\n",
    "        if isinstance(weights, Iterable):\n",
    "            assert len(datasets) == len(weights)\n",
    "            self.weights = weights\n",
    "        elif isinstance(weights, int):\n",
    "            self.weights = [weights for _ in self.datasets]\n",
    "        else:\n",
    "            raise ValueError(\"'weights' must be an iterable or a single int\")\n",
    "        \n",
    "        # Compute number of generable samples & iterations\n",
    "        self.iterations = math.ceil(max([len(d)/self.draws[i] for i,d in enumerate(self.datasets)]))\n",
    "        self.len = self.iterations*sum(self.draws)\n",
    "        self.indices = [np.arange(len(d)) for d in self.datasets]\n",
    "        self.__return_weights = return_weights\n",
    "\n",
    "    def __len__(self):\n",
    "        return self.len\n",
    "\n",
    "    def __getitem__(self, index):\n",
    "        # Retrieve indices\n",
    "        i,g = index\n",
    "\n",
    "        # Retrieve dataset\n",
    "        dataset = self.datasets[g]\n",
    "        \n",
    "        # If the index exceeds the number of elements, module\n",
    "        i = i%len(dataset)\n",
    "        \n",
    "        # Define output\n",
    "        out = dataset[i]\n",
    "        if self.__return_weights: \n",
    "            out = (*out, self.weights[g])\n",
    "        \n",
    "        return i,g\n",
    "\n",
    "    \n",
    "class CustomSampler(torch.utils.data.Sampler):\n",
    "    def __init__(self, data_source: Sized) -> None:\n",
    "        self.data_source = data_source\n",
    "        self.groups = [len(d) for d in self.data_source.datasets]\n",
    "        self.iterations = data_source.iterations\n",
    "        self.len = data_source.len\n",
    "\n",
    "    @property\n",
    "    def num_samples(self) -> int:\n",
    "        # dataset size might change at runtime\n",
    "        return sum(self.groups)\n",
    "\n",
    "    def __iter__(self):\n",
    "        # Iterate over dataset\n",
    "        ordering = np.random.permutation(np.arange(len(self.data_source.datasets)))\n",
    "        index_dataset = np.concatenate([[i]*(self.data_source.draws[i]) for i in ordering])\n",
    "        index_dataset = np.tile(index_dataset,self.iterations)\n",
    "\n",
    "        # Iterate over windows\n",
    "        index_windows = np.zeros_like(index_dataset)\n",
    "        for i,draw in enumerate(self.data_source.draws):\n",
    "            num_indices = draw*self.iterations\n",
    "            index_temp = [np.random.permutation(start+np.arange(self.groups[i])) for start in range(0,num_indices,self.groups[i])]\n",
    "            index_windows[index_dataset == i] = np.concatenate(index_temp)[:num_indices]\n",
    "        \n",
    "        # Instantiate generator\n",
    "        generator = torch.Generator()\n",
    "        generator.manual_seed(int(torch.empty((), dtype=torch.int64).random_().item()))\n",
    "        \n",
    "        # Return iterable\n",
    "        yield from zip(index_windows,index_dataset)\n",
    "\n",
    "    def __len__(self):\n",
    "        return sum(self.groups)\n",
    "\n"
   ]
  },
  {
   "cell_type": "code",
   "execution_count": 181,
   "metadata": {},
   "outputs": [],
   "source": [
    "dataset = DatasetComposer([dataset1,dataset2], draws=[40,1], weights=[0.25,1], return_weights=True, strategy=\"module\")\n",
    "sampler = CustomSampler(dataset)\n",
    "loader  = torch.utils.data.DataLoader(dataset,batch_size=128,sampler=sampler)"
   ]
  },
  {
   "cell_type": "code",
   "execution_count": 186,
   "metadata": {
    "scrolled": false
   },
   "outputs": [
    {
     "data": {
      "text/plain": [
       "[tensor([7975, 5977, 1474, 2313, 5935, 7094, 1975, 5864, 4239, 4590, 4029,  854,\n",
       "          404, 4150,  286, 5296,   11, 1027, 5894, 5039, 3004,  989, 7379,  172,\n",
       "         1949, 6374, 6605, 7827, 4613, 7011, 2211, 3268, 6308,  166]),\n",
       " tensor([0, 0, 0, 0, 0, 0, 0, 0, 0, 0, 0, 0, 0, 0, 0, 0, 0, 0, 0, 0, 0, 0, 0, 0,\n",
       "         0, 0, 0, 0, 0, 0, 0, 0, 0, 1])]"
      ]
     },
     "execution_count": 186,
     "metadata": {},
     "output_type": "execute_result"
    }
   ],
   "source": [
    "after = []\n",
    "for i,out in enumerate(loader):\n",
    "    after.append(out[0].numpy()[out[1].numpy() == 0])\n",
    "after = np.concatenate(after)\n",
    "out"
   ]
  },
  {
   "cell_type": "code",
   "execution_count": null,
   "metadata": {},
   "outputs": [],
   "source": []
  },
  {
   "cell_type": "code",
   "execution_count": null,
   "metadata": {},
   "outputs": [],
   "source": []
  },
  {
   "cell_type": "code",
   "execution_count": null,
   "metadata": {},
   "outputs": [],
   "source": []
  },
  {
   "cell_type": "code",
   "execution_count": 61,
   "metadata": {},
   "outputs": [
    {
     "data": {
      "image/png": "[encoded data removed]",
      "text/plain": [
       "<Figure size 1152x288 with 1 Axes>"
      ]
     },
     "metadata": {
      "needs_background": "light"
     },
     "output_type": "display_data"
    }
   ],
   "source": [
    "i = 6\n",
    "sig = out[0][i,0,:]\n",
    "seg = out[1][i,:,:].numpy()\n",
    "\n",
    "pon,poff     = sak.signal.get_mask_boundary(seg[0,:])\n",
    "qrson,qrsoff = sak.signal.get_mask_boundary(seg[1,:])\n",
    "ton,toff     = sak.signal.get_mask_boundary(seg[2,:])\n",
    "\n",
    "plt.figure(figsize=(16,4))\n",
    "plt.plot(sig)\n",
    "ax = plt.gca()\n",
    "[ax.axvspan(on,off,color='red',alpha=0.15) for on,off in zip(pon,poff)]\n",
    "[ax.axvspan(on,off,color='green',alpha=0.15) for on,off in zip(qrson,qrsoff)]\n",
    "[ax.axvspan(on,off,color='magenta',alpha=0.15) for on,off in zip(ton,toff)]\n",
    "plt.show()"
   ]
  },
  {
   "cell_type": "code",
   "execution_count": null,
   "metadata": {},
   "outputs": [],
   "source": []
  },
  {
   "cell_type": "code",
   "execution_count": null,
   "metadata": {},
   "outputs": [],
   "source": []
  },
  {
   "cell_type": "code",
   "execution_count": 748,
   "metadata": {},
   "outputs": [],
   "source": [
    "sampler=CustomSampler(dataset)\n",
    "index = []\n",
    "for i,id in enumerate(sampler):\n",
    "    index.append(id)\n",
    "index = np.array(index)"
   ]
  },
  {
   "cell_type": "code",
   "execution_count": 752,
   "metadata": {},
   "outputs": [
    {
     "data": {
      "text/plain": [
       "array([   0,    1,    2, ..., 4032, 4033, 4034])"
      ]
     },
     "execution_count": 752,
     "metadata": {},
     "output_type": "execute_result"
    }
   ],
   "source": [
    "np.unique(index[index[:,0] == 1,1])"
   ]
  },
  {
   "cell_type": "code",
   "execution_count": null,
   "metadata": {},
   "outputs": [],
   "source": []
  },
  {
   "cell_type": "code",
   "execution_count": null,
   "metadata": {},
   "outputs": [],
   "source": []
  },
  {
   "cell_type": "code",
   "execution_count": 656,
   "metadata": {},
   "outputs": [
    {
     "name": "stdout",
     "output_type": "stream",
     "text": [
      "2.24 µs ± 35.2 ns per loop (mean ± std. dev. of 7 runs, 100000 loops each)\n"
     ]
    }
   ],
   "source": [
    "%%timeit\n",
    "temp2()"
   ]
  },
  {
   "cell_type": "code",
   "execution_count": null,
   "metadata": {},
   "outputs": [],
   "source": []
  },
  {
   "cell_type": "code",
   "execution_count": 633,
   "metadata": {},
   "outputs": [],
   "source": [
    "self = DatasetComposer([dataset1,dataset2], draws=[2,1], weights=[0.25,1], return_weights=True)"
   ]
  },
  {
   "cell_type": "code",
   "execution_count": 657,
   "metadata": {},
   "outputs": [
    {
     "data": {
      "text/plain": [
       "(array([[0.4096097 , 0.63108205, 0.46630633, ..., 0.23114057, 0.89139371,\n",
       "         0.55468477]]),\n",
       " array([[False, False, False, ...,  True,  True, False],\n",
       "        [ True, False, False, ...,  True, False, False],\n",
       "        [False,  True, False, ...,  True, False,  True]]),\n",
       " 1)"
      ]
     },
     "execution_count": 657,
     "metadata": {},
     "output_type": "execute_result"
    }
   ],
   "source": [
    "self[(0,1)]"
   ]
  },
  {
   "cell_type": "code",
   "execution_count": null,
   "metadata": {},
   "outputs": [],
   "source": []
  },
  {
   "cell_type": "code",
   "execution_count": null,
   "metadata": {},
   "outputs": [],
   "source": []
  },
  {
   "cell_type": "code",
   "execution_count": null,
   "metadata": {},
   "outputs": [],
   "source": []
  },
  {
   "cell_type": "code",
   "execution_count": null,
   "metadata": {},
   "outputs": [],
   "source": []
  },
  {
   "cell_type": "code",
   "execution_count": null,
   "metadata": {},
   "outputs": [],
   "source": []
  },
  {
   "cell_type": "code",
   "execution_count": null,
   "metadata": {},
   "outputs": [],
   "source": []
  },
  {
   "cell_type": "code",
   "execution_count": null,
   "metadata": {},
   "outputs": [],
   "source": []
  },
  {
   "cell_type": "code",
   "execution_count": null,
   "metadata": {},
   "outputs": [],
   "source": []
  },
  {
   "cell_type": "code",
   "execution_count": null,
   "metadata": {},
   "outputs": [],
   "source": []
  },
  {
   "cell_type": "code",
   "execution_count": null,
   "metadata": {},
   "outputs": [],
   "source": []
  }
 ],
 "metadata": {
  "kernelspec": {
   "display_name": "DeepLearning3",
   "language": "python",
   "name": "deeplearning3"
  },
  "language_info": {
   "codemirror_mode": {
    "name": "ipython",
    "version": 3
   },
   "file_extension": ".py",
   "mimetype": "text/x-python",
   "name": "python",
   "nbconvert_exporter": "python",
   "pygments_lexer": "ipython3",
   "version": "3.8.5"
  }
 },
 "nbformat": 4,
 "nbformat_minor": 4
}
