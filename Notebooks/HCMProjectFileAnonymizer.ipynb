{
 "cells": [
  {
   "cell_type": "code",
   "execution_count": 1,
   "metadata": {},
   "outputs": [],
   "source": [
    "%load_ext autoreload\n",
    "%autoreload 2"
   ]
  },
  {
   "cell_type": "code",
   "execution_count": 2,
   "metadata": {},
   "outputs": [],
   "source": [
    "import pydicom\n",
    "import glob\n",
    "import numpy as np\n",
    "import matplotlib.pyplot as plt\n",
    "import cv2\n",
    "import os\n",
    "import os.path\n",
    "import skimage\n",
    "import skimage.color\n",
    "import skimage.transform\n",
    "import skimage.segmentation\n",
    "import sklearn.preprocessing\n",
    "import sklearn.model_selection\n",
    "import math\n",
    "import shutil\n",
    "import pathlib\n",
    "import glob\n",
    "import shutil\n",
    "import uuid\n",
    "import random\n",
    "import platform\n",
    "import torch\n",
    "import torchvision\n",
    "import numpy as np\n",
    "import scipy as sp\n",
    "import scipy.io\n",
    "import scipy.signal\n",
    "import pandas as pd\n",
    "import networkx\n",
    "import wfdb\n",
    "import json\n",
    "import tqdm\n",
    "import dill\n",
    "import pickle\n",
    "import matplotlib.pyplot as plt\n",
    "\n",
    "import SimpleITK as sitk\n",
    "\n",
    "import sak\n",
    "import sak.hash\n",
    "import sak.signal.wavelet\n",
    "import sak.data\n",
    "import sak.data.augmentation\n",
    "import sak.visualization\n",
    "import sak.visualization.plot\n",
    "import sak.torch\n",
    "import sak.torch.nn\n",
    "import sak.torch.nn as nn\n",
    "import sak.torch.train\n",
    "import sak.torch.data\n",
    "import sak.data.preprocessing\n",
    "import sak.torch.models\n",
    "import sak.torch.models.lego\n",
    "import sak.torch.models.variational\n",
    "import sak.torch.models.classification\n"
   ]
  },
  {
   "cell_type": "code",
   "execution_count": 3,
   "metadata": {},
   "outputs": [],
   "source": [
    "import xml.etree.ElementTree as ET"
   ]
  },
  {
   "cell_type": "code",
   "execution_count": 4,
   "metadata": {},
   "outputs": [],
   "source": [
    "ET.register_namespace(\"\",\"http://www3.medical.philips.com\")"
   ]
  },
  {
   "cell_type": "code",
   "execution_count": 128,
   "metadata": {},
   "outputs": [
    {
     "name": "stderr",
     "output_type": "stream",
     "text": [
      "100%|██████████| 153/153 [00:01<00:00, 85.74it/s]\n"
     ]
    }
   ],
   "source": [
    "files = glob.glob('/home/guille/Descargas/ECGs/*/*.xml')\n",
    "head = \"{http://www3.medical.philips.com}\"\n",
    "namespace = {\n",
    "    \"xmlns:ns0\": \"http://www3.medical.philips.com\",\n",
    "    \"xmlns:xsi\": \"http://www.w3.org/2001/XMLSchema-instance\",\n",
    "    \"xsi:schemaLocation\": \"http://www3.medical.philips.com PhilipsECG.xsd\"\n",
    "}\n",
    "\n",
    "for file in tqdm.tqdm(files):\n",
    "    # Load SVG as xml file\n",
    "    tree = ET.parse(file)\n",
    "\n",
    "    # Get tree's root (all appended to it)\n",
    "    root = tree.getroot()\n",
    "\n",
    "    # Get patient\n",
    "    patient = root.find(f\"{head}patient\")\n",
    "\n",
    "    # Get patient's general data\n",
    "    generaldata = patient.find(f\"{head}generalpatientdata\")\n",
    "\n",
    "    # Modify patient's ID\n",
    "    generaldata.find(f\"{head}patientid\").text = \"999999\"\n",
    "\n",
    "    # Modify patient's name and surname\n",
    "    generaldata.find(f\"{head}name\").find(f\"{head}lastname\").text = \"Anon\"\n",
    "    generaldata.find(f\"{head}name\").find(f\"{head}firstname\").text = \"Anon\"\n",
    "    generaldata.find(f\"{head}name\").find(f\"{head}middlename\").text = \"Anon\"\n",
    "\n",
    "    tree.write(file, encoding='utf-16', xml_declaration=True)"
   ]
  },
  {
   "cell_type": "code",
   "execution_count": 129,
   "metadata": {},
   "outputs": [
    {
     "data": {
      "text/plain": [
       "'/home/guille/Descargas/ECGs/HCM patients/CPH-MCH84.xml'"
      ]
     },
     "execution_count": 129,
     "metadata": {},
     "output_type": "execute_result"
    }
   ],
   "source": [
    "file"
   ]
  },
  {
   "cell_type": "code",
   "execution_count": null,
   "metadata": {},
   "outputs": [],
   "source": []
  },
  {
   "cell_type": "code",
   "execution_count": 14,
   "metadata": {},
   "outputs": [
    {
     "name": "stderr",
     "output_type": "stream",
     "text": [
      "100%|██████████| 153/153 [00:01<00:00, 138.15it/s]\n"
     ]
    }
   ],
   "source": [
    "files = glob.glob('/home/guille/Descargas/ECGs/*/*.xml')\n",
    "head = \"{http://www3.medical.philips.com}\"\n",
    "namespace = {\n",
    "    \"xmlns:ns0\": \"http://www3.medical.philips.com\",\n",
    "    \"xmlns:xsi\": \"http://www.w3.org/2001/XMLSchema-instance\",\n",
    "    \"xsi:schemaLocation\": \"http://www3.medical.philips.com PhilipsECG.xsd\"\n",
    "}\n",
    "\n",
    "samplingrates = []\n",
    "\n",
    "for file in tqdm.tqdm(files):\n",
    "    # Load SVG as xml file\n",
    "    tree = ET.parse(file)\n",
    "\n",
    "    # Get tree's root (all appended to it)\n",
    "    root = tree.getroot()\n",
    "\n",
    "    # Get patient\n",
    "    patient = root.find(f\"{head}patient\")\n",
    "\n",
    "    # Get Fs\n",
    "    fs = root.find(f\"{head}dataacquisition\").find(f\"{head}signalcharacteristics\").find(f\"{head}samplingrate\").text\n",
    "    \n",
    "    # Store\n",
    "    samplingrates.append(int(fs))\n"
   ]
  },
  {
   "cell_type": "code",
   "execution_count": null,
   "metadata": {},
   "outputs": [],
   "source": []
  },
  {
   "cell_type": "code",
   "execution_count": null,
   "metadata": {},
   "outputs": [],
   "source": []
  },
  {
   "cell_type": "code",
   "execution_count": null,
   "metadata": {},
   "outputs": [],
   "source": []
  }
 ],
 "metadata": {
  "kernelspec": {
   "display_name": "DeepLearning3",
   "language": "python",
   "name": "deeplearning3"
  },
  "language_info": {
   "codemirror_mode": {
    "name": "ipython",
    "version": 3
   },
   "file_extension": ".py",
   "mimetype": "text/x-python",
   "name": "python",
   "nbconvert_exporter": "python",
   "pygments_lexer": "ipython3",
   "version": "3.8.5"
  }
 },
 "nbformat": 4,
 "nbformat_minor": 4
}
