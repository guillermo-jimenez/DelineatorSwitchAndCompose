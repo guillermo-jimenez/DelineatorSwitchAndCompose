{
 "cells": [
  {
   "cell_type": "code",
   "execution_count": 1,
   "metadata": {},
   "outputs": [],
   "source": [
    "%load_ext autoreload\n",
    "%autoreload 2"
   ]
  },
  {
   "cell_type": "code",
   "execution_count": 2,
   "metadata": {},
   "outputs": [],
   "source": [
    "import platform\n",
    "import random\n",
    "import uuid\n",
    "import os\n",
    "import os.path\n",
    "import skimage\n",
    "import utils\n",
    "import utils.wavelet\n",
    "import utils.data\n",
    "import utils.data.augmentation\n",
    "import numpy as np\n",
    "import scipy as sp\n",
    "import scipy.signal\n",
    "import pandas as pd\n",
    "import networkx\n",
    "import networkx.algorithms.approximation\n",
    "import wfdb\n",
    "import json\n",
    "import tqdm\n",
    "import matplotlib.pyplot as plt\n",
    "from scipy.stats import norm\n",
    "from utils.signal import StandardHeader\n",
    "from scipy.stats import lognorm, norm, halfnorm\n",
    "\n",
    "def trailonset(sig,on):\n",
    "    on = on-sig[0]\n",
    "    off = on-sig[0]+sig[-1]\n",
    "    sig = sig+np.linspace(on,off,sig.size,dtype=sig.dtype)\n",
    "    \n",
    "    return sig"
   ]
  },
  {
   "cell_type": "markdown",
   "metadata": {},
   "source": [
    "# Load files"
   ]
  },
  {
   "cell_type": "code",
   "execution_count": 3,
   "metadata": {},
   "outputs": [],
   "source": [
    "Psignal = utils.pickleload(os.path.join('.','pickle','Psignal2.pkl'))\n",
    "PQsignal = utils.pickleload(os.path.join('.','pickle','PQsignal2.pkl'))\n",
    "QRSsignal = utils.pickleload(os.path.join('.','pickle','QRSsignal2.pkl'))\n",
    "STsignal = utils.pickleload(os.path.join('.','pickle','STsignal2.pkl'))\n",
    "Tsignal = utils.pickleload(os.path.join('.','pickle','Tsignal2.pkl'))\n",
    "TPsignal = utils.pickleload(os.path.join('.','pickle','TPsignal2.pkl'))"
   ]
  },
  {
   "cell_type": "code",
   "execution_count": 4,
   "metadata": {},
   "outputs": [],
   "source": [
    "for key in (['104_II','104_III','104_AVR','104_AVF','103_III'] + \n",
    "            ['74_{}'.format(h) for h in StandardHeader] + \n",
    "            ['111_{}'.format(h) for h in StandardHeader] +\n",
    "            ['95_{}'.format(h) for h in StandardHeader] + \n",
    "            ['103_{}'.format(h) for h in StandardHeader] +\n",
    "            ['34_{}'.format(h) for h in StandardHeader]):\n",
    "    [Psignal.pop(k) for k in list(Psignal.keys()) if k.startswith('{}###'.format(key))]\n",
    "    [PQsignal.pop(k) for k in list(PQsignal.keys()) if k.startswith('{}###'.format(key))]\n",
    "    [QRSsignal.pop(k) for k in list(QRSsignal.keys()) if k.startswith('{}###'.format(key))]\n",
    "    [STsignal.pop(k) for k in list(STsignal.keys()) if k.startswith('{}###'.format(key))]\n",
    "    [Tsignal.pop(k) for k in list(Tsignal.keys()) if k.startswith('{}###'.format(key))]\n",
    "    [TPsignal.pop(k) for k in list(TPsignal.keys()) if k.startswith('{}###'.format(key))]"
   ]
  },
  {
   "cell_type": "code",
   "execution_count": 5,
   "metadata": {},
   "outputs": [],
   "source": [
    "for key in []: \n",
    "    if key in Psignal: Psignal.pop(key)\n",
    "for key in []: \n",
    "    if key in PQsignal: PQsignal.pop(key)\n",
    "for key in ['7_V2###0','7_V2###2','7_V2###4','95_V4###0','95_V4###1','95_V4###2']: \n",
    "    if key in QRSsignal: QRSsignal.pop(key)\n",
    "for key in []: \n",
    "    if key in STsignal: STsignal.pop(key)\n",
    "for key in []: \n",
    "    if key in Tsignal: Tsignal.pop(key)\n",
    "for key in (['52_III###4','34_V6###6','74_V4###0','74_V4###1','74_V4###2',\n",
    "             '74_V4###3','74_V4###4','74_V4###5','74_V4###6','74_V4###7',] + \n",
    "            ['111_V2###{}'.format(i) for i in range(7)]): \n",
    "    if key in TPsignal: TPsignal.pop(key)"
   ]
  },
  {
   "cell_type": "markdown",
   "metadata": {},
   "source": [
    "# Normalize amplitudes"
   ]
  },
  {
   "cell_type": "code",
   "execution_count": 6,
   "metadata": {},
   "outputs": [],
   "source": [
    "metric = np.max\n",
    "\n",
    "amplitudes = {k.split('###')[0]: [] for k in list(QRSsignal)}\n",
    "for k in QRSsignal:\n",
    "    g = k.split('###')[0]\n",
    "    segment = utils.signal.on_off_correction(QRSsignal[k])\n",
    "    amplitudes[g].append(np.max(segment) - np.min(segment))"
   ]
  },
  {
   "cell_type": "code",
   "execution_count": 7,
   "metadata": {},
   "outputs": [],
   "source": [
    "Pamplitudes = []\n",
    "for k in Psignal:\n",
    "    segment = utils.signal.on_off_correction(Psignal[k])/metric(amplitudes[k.split('###')[0]])\n",
    "    Pamplitudes.append(segment.max()-segment.min())\n",
    "Pamplitudes = np.array(Pamplitudes)\n",
    "PQamplitudes = []\n",
    "for k in PQsignal:\n",
    "    segment = utils.signal.on_off_correction(PQsignal[k])/metric(amplitudes[k.split('###')[0]])\n",
    "    PQamplitudes.append(segment.max()-segment.min())\n",
    "PQamplitudes = np.array(PQamplitudes)\n",
    "QRSamplitudes = []\n",
    "for k in QRSsignal:\n",
    "    segment = utils.signal.on_off_correction(QRSsignal[k])/metric(amplitudes[k.split('###')[0]])\n",
    "    QRSamplitudes.append(segment.max()-segment.min())\n",
    "QRSamplitudes = np.array(QRSamplitudes)\n",
    "STamplitudes = []\n",
    "for k in STsignal:\n",
    "    segment = utils.signal.on_off_correction(STsignal[k])/metric(amplitudes[k.split('###')[0]])\n",
    "    STamplitudes.append(segment.max()-segment.min())\n",
    "STamplitudes = np.array(STamplitudes)\n",
    "Tamplitudes = []\n",
    "for k in Tsignal:\n",
    "    segment = utils.signal.on_off_correction(Tsignal[k])/metric(amplitudes[k.split('###')[0]])\n",
    "    Tamplitudes.append(segment.max()-segment.min())\n",
    "Tamplitudes = np.array(Tamplitudes)\n",
    "TPamplitudes = []\n",
    "for k in TPsignal:\n",
    "    segment = utils.signal.on_off_correction(TPsignal[k])/metric(amplitudes[k.split('###')[0]])\n",
    "    TPamplitudes.append(segment.max()-segment.min())\n",
    "TPamplitudes = np.array(TPamplitudes)"
   ]
  },
  {
   "cell_type": "code",
   "execution_count": 145,
   "metadata": {},
   "outputs": [
    {
     "data": {
      "image/png": "[encoded data removed]",
      "text/plain": [
       "<Figure size 432x288 with 1 Axes>"
      ]
     },
     "metadata": {
      "needs_background": "light"
     },
     "output_type": "display_data"
    },
    {
     "data": {
      "image/png": "[encoded data removed]",
      "text/plain": [
       "<Figure size 432x288 with 1 Axes>"
      ]
     },
     "metadata": {
      "needs_background": "light"
     },
     "output_type": "display_data"
    },
    {
     "data": {
      "image/png": "[encoded data removed]",
      "text/plain": [
       "<Figure size 432x288 with 1 Axes>"
      ]
     },
     "metadata": {
      "needs_background": "light"
     },
     "output_type": "display_data"
    },
    {
     "data": {
      "image/png": "[encoded data removed]",
      "text/plain": [
       "<Figure size 432x288 with 1 Axes>"
      ]
     },
     "metadata": {
      "needs_background": "light"
     },
     "output_type": "display_data"
    },
    {
     "data": {
      "image/png": "[encoded data removed]",
      "text/plain": [
       "<Figure size 432x288 with 1 Axes>"
      ]
     },
     "metadata": {
      "needs_background": "light"
     },
     "output_type": "display_data"
    },
    {
     "data": {
      "image/png": "[encoded data removed]",
      "text/plain": [
       "<Figure size 432x288 with 1 Axes>"
      ]
     },
     "metadata": {
      "needs_background": "light"
     },
     "output_type": "display_data"
    }
   ],
   "source": [
    "plt.figure()\n",
    "_ = plt.hist(Pamplitudes,bins=1000)\n",
    "plt.savefig('./Pamplitudes.svg')\n",
    "plt.figure()\n",
    "_ = plt.hist(PQamplitudes[PQamplitudes<0.3],bins=1000)\n",
    "plt.savefig('./PQamplitudes.svg')\n",
    "plt.figure()\n",
    "_ = plt.hist(QRSamplitudes,bins=1000)\n",
    "plt.savefig('./QRSamplitudes.svg')\n",
    "plt.figure()\n",
    "_ = plt.hist(STamplitudes[STamplitudes<0.4],bins=1000)\n",
    "plt.savefig('./STamplitudes.svg')\n",
    "plt.figure()\n",
    "_ = plt.hist(Tamplitudes[Tamplitudes<0.6],bins=1000)\n",
    "plt.savefig('./Tamplitudes.svg')\n",
    "plt.figure()\n",
    "_ = plt.hist(TPamplitudes[TPamplitudes<0.4],bins=1000)\n",
    "plt.savefig('./TPamplitudes.svg')"
   ]
  },
  {
   "cell_type": "code",
   "execution_count": 10,
   "metadata": {},
   "outputs": [],
   "source": [
    "# QRSamplitudes = QRSamplitudes[:QRSamplitudes.size//2]"
   ]
  },
  {
   "cell_type": "code",
   "execution_count": 20,
   "metadata": {},
   "outputs": [],
   "source": [
    "# QRSamplitudes = np.concatenate((QRSamplitudes,2-QRSamplitudes))\n",
    "Pdist = lognorm(*lognorm.fit(Pamplitudes))\n",
    "PQdist = lognorm(*lognorm.fit(PQamplitudes[PQamplitudes<0.3]))\n",
    "QRSdist = lognorm(*lognorm.fit(QRSamplitudes))\n",
    "STdist = lognorm(*lognorm.fit(STamplitudes))\n",
    "Tdist = lognorm(*lognorm.fit(Tamplitudes[(Tamplitudes>0.05) & (Tamplitudes<0.5)]))\n",
    "TPdist = lognorm(*lognorm.fit(TPamplitudes[TPamplitudes<0.4]))"
   ]
  },
  {
   "cell_type": "code",
   "execution_count": null,
   "metadata": {},
   "outputs": [],
   "source": []
  },
  {
   "cell_type": "code",
   "execution_count": 22,
   "metadata": {},
   "outputs": [
    {
     "name": "stderr",
     "output_type": "stream",
     "text": [
      "<ipython-input-22-4e060df72ca2>:8: RuntimeWarning: invalid value encountered in true_divide\n",
      "  PQsignal[k] = segment/(np.max(segment)-np.min(segment))\n",
      "<ipython-input-22-4e060df72ca2>:18: RuntimeWarning: invalid value encountered in true_divide\n",
      "  STsignal[k] = segment/(np.max(segment)-np.min(segment))\n"
     ]
    }
   ],
   "source": [
    "for k in list(Psignal.keys()):\n",
    "    segment = utils.signal.on_off_correction(Psignal[k])\n",
    "    Psignal[k] = segment/(np.max(segment)-np.min(segment))\n",
    "    if np.any(np.isinf(Psignal[k])) or np.any(np.isnan(Psignal[k])):\n",
    "        Psignal.pop(k)\n",
    "for k in list(PQsignal.keys()):\n",
    "    segment = utils.signal.on_off_correction(PQsignal[k])\n",
    "    PQsignal[k] = segment/(np.max(segment)-np.min(segment))\n",
    "    if np.any(np.isinf(PQsignal[k])) or np.any(np.isnan(PQsignal[k])):\n",
    "        PQsignal.pop(k)\n",
    "for k in list(QRSsignal.keys()):\n",
    "    segment = utils.signal.on_off_correction(QRSsignal[k])\n",
    "    QRSsignal[k] = segment/(np.max(segment)-np.min(segment))\n",
    "    if np.any(np.isinf(QRSsignal[k])) or np.any(np.isnan(QRSsignal[k])):\n",
    "        QRSsignal.pop(k)\n",
    "for k in list(STsignal.keys()):\n",
    "    segment = utils.signal.on_off_correction(STsignal[k])\n",
    "    STsignal[k] = segment/(np.max(segment)-np.min(segment))\n",
    "    if np.any(np.isinf(STsignal[k])) or np.any(np.isnan(STsignal[k])):\n",
    "        STsignal.pop(k)\n",
    "for k in list(Tsignal.keys()):\n",
    "    segment = utils.signal.on_off_correction(Tsignal[k])\n",
    "    Tsignal[k] = segment/(np.max(segment)-np.min(segment))\n",
    "    if np.any(np.isinf(Tsignal[k])) or np.any(np.isnan(Tsignal[k])):\n",
    "        Tsignal.pop(k)\n",
    "for k in list(TPsignal.keys()):\n",
    "    segment = utils.signal.on_off_correction(TPsignal[k])\n",
    "    TPsignal[k] = segment/(np.max(segment)-np.min(segment))\n",
    "    if np.any(np.isinf(TPsignal[k])) or np.any(np.isnan(TPsignal[k])):\n",
    "        TPsignal.pop(k)"
   ]
  },
  {
   "cell_type": "code",
   "execution_count": null,
   "metadata": {},
   "outputs": [],
   "source": []
  },
  {
   "cell_type": "markdown",
   "metadata": {},
   "source": [
    "# Mixup"
   ]
  },
  {
   "cell_type": "code",
   "execution_count": 45,
   "metadata": {},
   "outputs": [],
   "source": [
    "# number = 1\n",
    "\n",
    "# too_much_it_squares_amount_of_data\n",
    "\n",
    "# permuted = np.random.permutation(list(Psignal))\n",
    "# for k1 in tqdm.tqdm(list(Psignal.keys())):\n",
    "#     visited = {}\n",
    "#     (k_all_1,g_1) = Pgroup[k1]\n",
    "#     counter = 0\n",
    "#     for k2 in permuted:\n",
    "#         (k_all_2,g_2) = Pgroup[k2]\n",
    "#         if (k1 != k2) & (g_1 != g_2):\n",
    "#             visited[g_2] = visited.get(g_2,0)+1\n",
    "#             if visited[g_2] > number:\n",
    "#                 continue\n",
    "#             if Psignal[k1].size != Psignal[k2].size:\n",
    "#                 intlen = np.random.randint(min([Psignal[k1].size,Psignal[k2].size]),max([Psignal[k1].size,Psignal[k2].size]))\n",
    "#                 x1 = sp.interpolate.interp1d(np.linspace(0,1,Psignal[k1].size),Psignal[k1])(np.linspace(0,1,intlen))\n",
    "#                 x2 = sp.interpolate.interp1d(np.linspace(0,1,Psignal[k2].size),Psignal[k2])(np.linspace(0,1,intlen))\n",
    "#             else:\n",
    "#                 x1 = Psignal[k1]\n",
    "#                 x2 = Psignal[k2]\n",
    "#             (xhat,lmbda) = utils.data.augmentation.mixup(x1,x2,5.,1.5)\n",
    "#             Psignal[k1+'m'+str(counter)] = xhat.squeeze()\n",
    "#             Pgroup[k1+'m'+str(counter)] = Pgroup[k1]\n",
    "#             counter += 1\n",
    "\n",
    "# permuted = np.random.permutation(list(QRSsignal))\n",
    "# for k1 in tqdm.tqdm(list(QRSsignal.keys())):\n",
    "#     visited = {}\n",
    "#     (k_all_1,g_1) = QRSgroup[k1]\n",
    "#     counter = 0\n",
    "#     for k2 in permuted:\n",
    "#         (k_all_2,g_2) = QRSgroup[k2]\n",
    "#         if (k1 != k2) & (g_1 != g_2):\n",
    "#             visited[g_2] = visited.get(g_2,0)+1\n",
    "#             if visited[g_2] > number:\n",
    "#                 continue\n",
    "#             if QRSsignal[k1].size != QRSsignal[k2].size:\n",
    "#                 intlen = np.random.randint(min([QRSsignal[k1].size,QRSsignal[k2].size]),max([QRSsignal[k1].size,QRSsignal[k2].size]))\n",
    "#                 x1 = sp.interpolate.interp1d(np.linspace(0,1,QRSsignal[k1].size),QRSsignal[k1])(np.linspace(0,1,intlen))\n",
    "#                 x2 = sp.interpolate.interp1d(np.linspace(0,1,QRSsignal[k2].size),QRSsignal[k2])(np.linspace(0,1,intlen))\n",
    "#             else:\n",
    "#                 x1 = QRSsignal[k1]\n",
    "#                 x2 = QRSsignal[k2]\n",
    "#             (xhat,lmbda) = utils.data.augmentation.mixup(x1,x2,5.,1.5)\n",
    "#             QRSsignal[k1+'m'+str(counter)] = xhat.squeeze()\n",
    "#             QRSgroup[k1+'m'+str(counter)] = QRSgroup[k1]\n",
    "#             counter += 1\n",
    "\n",
    "# permuted = np.random.permutation(list(Tsignal))\n",
    "# for k1 in tqdm.tqdm(list(Tsignal.keys())):\n",
    "#     visited = {}\n",
    "#     (k_all_1,g_1) = Tgroup[k1]\n",
    "#     counter = 0\n",
    "#     for k2 in permuted:\n",
    "#         (k_all_2,g_2) = Tgroup[k2]\n",
    "#         if (k1 != k2) & (g_1 != g_2):\n",
    "#             visited[g_2] = visited.get(g_2,0)+1\n",
    "#             if visited[g_2] > number:\n",
    "#                 continue\n",
    "#             if Tsignal[k1].size != Tsignal[k2].size:\n",
    "#                 intlen = np.random.randint(min([Tsignal[k1].size,Tsignal[k2].size]),max([Tsignal[k1].size,Tsignal[k2].size]))\n",
    "#                 x1 = sp.interpolate.interp1d(np.linspace(0,1,Tsignal[k1].size),Tsignal[k1])(np.linspace(0,1,intlen))\n",
    "#                 x2 = sp.interpolate.interp1d(np.linspace(0,1,Tsignal[k2].size),Tsignal[k2])(np.linspace(0,1,intlen))\n",
    "#             else:\n",
    "#                 x1 = Tsignal[k1]\n",
    "#                 x2 = Tsignal[k2]\n",
    "#             (xhat,lmbda) = utils.data.augmentation.mixup(x1,x2,5.,1.5)\n",
    "#             Tsignal[k1+'m'+str(counter)] = xhat.squeeze()\n",
    "#             Tgroup[k1+'m'+str(counter)] = Tgroup[k1]\n",
    "#             counter += 1"
   ]
  },
  {
   "cell_type": "code",
   "execution_count": 46,
   "metadata": {},
   "outputs": [],
   "source": [
    "# print(len(Psignal))\n",
    "# print(len(PQsignal))\n",
    "# print(len(QRSsignal))\n",
    "# print(len(STsignal))\n",
    "# print(len(Tsignal))\n",
    "# print(len(TPsignal))"
   ]
  },
  {
   "cell_type": "markdown",
   "metadata": {},
   "source": [
    "# Generate recording, probabilistic amplitudes"
   ]
  },
  {
   "cell_type": "code",
   "execution_count": 23,
   "metadata": {},
   "outputs": [],
   "source": [
    "Pkeys = list(Psignal.keys())\n",
    "PQkeys = list(PQsignal.keys())\n",
    "QRSkeys = list(QRSsignal.keys())\n",
    "STkeys = list(STsignal.keys())\n",
    "Tkeys = list(Tsignal.keys())\n",
    "TPkeys = list(TPsignal.keys())"
   ]
  },
  {
   "cell_type": "code",
   "execution_count": 212,
   "metadata": {},
   "outputs": [
    {
     "data": {
      "image/png": "[encoded data removed]",
      "text/plain": [
       "<Figure size 1440x360 with 1 Axes>"
      ]
     },
     "metadata": {
      "needs_background": "light"
     },
     "output_type": "display_data"
    }
   ],
   "source": [
    "# %%timeit\n",
    "N = 2048\n",
    "\n",
    "# Hyperparams\n",
    "noise = 0.005\n",
    "size = 100\n",
    "onset = np.random.randint(0,50)\n",
    "begining_wave = np.random.randint(0,6)\n",
    "has_P = (np.random.rand(1) > 0.35)\n",
    "has_PQ = (np.random.rand(1) > 0.15)\n",
    "has_ST = (np.random.rand(1) > 0.25)\n",
    "has_BBB = (np.random.rand(1) > 0.9)\n",
    "has_same_morph = (np.random.rand(1) > 0.5)\n",
    "proba_P = 0.15\n",
    "proba_PQ = 0.15\n",
    "proba_QRS = 0.01\n",
    "proba_ST = 0.15\n",
    "\n",
    "##### Data structure\n",
    "ids = []\n",
    "\n",
    "##### Identifiers\n",
    "if not has_same_morph:\n",
    "    id_P = np.random.randint(0,len(Psignal),size=size)\n",
    "    id_PQ = np.random.randint(0,len(PQsignal),size=size)\n",
    "    id_QRS = np.random.randint(0,len(QRSsignal),size=size)\n",
    "    id_ST = np.random.randint(0,len(STsignal),size=size)\n",
    "    id_T = np.random.randint(0,len(Tsignal),size=size)\n",
    "    id_TP = np.random.randint(0,len(TPsignal),size=size)\n",
    "else:\n",
    "    id_P = np.repeat(np.random.randint(0,len(Psignal),size=1),size)\n",
    "    id_PQ = np.repeat(np.random.randint(0,len(PQsignal),size=1),size)\n",
    "    id_QRS = np.repeat(np.random.randint(0,len(QRSsignal),size=1),size)\n",
    "    id_ST = np.repeat(np.random.randint(0,len(STsignal),size=1),size)\n",
    "    id_T = np.repeat(np.random.randint(0,len(Tsignal),size=1),size)\n",
    "    id_TP = np.repeat(np.random.randint(0,len(TPsignal),size=1),size)\n",
    "    \n",
    "# In case QRS is not expressed\n",
    "filt_QRS = np.random.rand(size) < proba_QRS\n",
    "\n",
    "# Except waves\n",
    "id_P[(np.random.rand(size) < proba_P) | np.logical_not(has_P)] = -1\n",
    "id_PQ[filt_QRS | (np.random.rand(size) < proba_PQ) | np.logical_not(has_PQ)] = -1\n",
    "id_QRS[filt_QRS] = -1\n",
    "id_ST[filt_QRS | (np.random.rand(size) < proba_ST) | np.logical_not(has_ST)] = -1\n",
    "id_T[filt_QRS] = -1\n",
    "\n",
    "beats = []\n",
    "masks = []\n",
    "ids = []\n",
    "offset = 0\n",
    "record_size = 0\n",
    "mark_break = False\n",
    "for i in range(size):\n",
    "    for j in range(6):\n",
    "        if (i == 0) and (j < begining_wave): \n",
    "            continue\n",
    "        if (j == 0) and (id_P[i] != -1):\n",
    "            amplitude = Pdist.rvs(1)\n",
    "            segment = trailonset(amplitude*Psignal[Pkeys[id_P[i]]],offset)\n",
    "            segment_noise = ((0.15*np.random.randn(1))+1)\n",
    "            segment *= segment_noise\n",
    "            beats.append(segment)\n",
    "            masks.append(np.full((beats[-1].size,),1,dtype='int8'))\n",
    "            ids.append(('P',Pkeys[id_P[i]]))\n",
    "            offset = beats[-1][-1]\n",
    "            record_size += beats[-1].size\n",
    "        if (j == 1) and (id_PQ[i] != -1):\n",
    "            amplitude = PQdist.rvs(1)\n",
    "            segment = trailonset(amplitude*PQsignal[PQkeys[id_PQ[i]]],offset)\n",
    "            segment_noise = ((0.15*np.random.randn(1))+1)\n",
    "            segment *= segment_noise\n",
    "            beats.append(segment)\n",
    "            masks.append(np.zeros((beats[-1].size,),dtype='int8'))\n",
    "            ids.append(('PQ',PQkeys[id_PQ[i]]))\n",
    "            offset = beats[-1][-1]\n",
    "            record_size += beats[-1].size\n",
    "        if (j == 2) and (id_QRS[i] != -1):\n",
    "            amplitude = QRSdist.rvs(1)\n",
    "#             amplitude = 0.15*np.random.randn(1)+1.05\n",
    "            segment = trailonset(amplitude*QRSsignal[QRSkeys[id_QRS[i]]],offset)\n",
    "            segment_noise = ((0.15*np.random.randn(1))+1)\n",
    "            segment *= segment_noise\n",
    "            beats.append(segment)\n",
    "            masks.append(np.full((beats[-1].size,),2,dtype='int8'))\n",
    "            ids.append(('QRS',QRSkeys[id_QRS[i]]))\n",
    "            offset = beats[-1][-1]\n",
    "            record_size += beats[-1].size\n",
    "        if (j == 3) and (id_ST[i] != -1):\n",
    "            amplitude = STdist.rvs(1)\n",
    "            segment = trailonset(amplitude*STsignal[STkeys[id_ST[i]]],offset)\n",
    "            segment_noise = ((0.15*np.random.randn(1))+1)\n",
    "            segment *= segment_noise\n",
    "            beats.append(segment)\n",
    "            masks.append(np.zeros((beats[-1].size,),dtype='int8'))\n",
    "            ids.append(('ST',STkeys[id_ST[i]]))\n",
    "            offset = beats[-1][-1]\n",
    "            record_size += beats[-1].size\n",
    "        if (j == 4) and (id_T[i] != -1):\n",
    "            amplitude = Tdist.rvs(1)\n",
    "            segment = trailonset(amplitude*Tsignal[Tkeys[id_T[i]]],offset)\n",
    "            segment_noise = ((0.15*np.random.randn(1))+1)\n",
    "            segment *= segment_noise\n",
    "            beats.append(segment)\n",
    "            masks.append(np.full((beats[-1].size,),3,dtype='int8'))\n",
    "            ids.append(('T',Tkeys[id_T[i]]))\n",
    "            offset = beats[-1][-1]\n",
    "            record_size += beats[-1].size\n",
    "        if (j == 5) and (id_TP[i] != -1):\n",
    "            amplitude = TPdist.rvs(1)\n",
    "            segment = trailonset(amplitude*TPsignal[TPkeys[id_TP[i]]],offset)\n",
    "            segment_noise = ((0.15*np.random.randn(1))+1)\n",
    "            segment *= segment_noise\n",
    "            beats.append(segment)\n",
    "            masks.append(np.zeros((beats[-1].size,),dtype='int8'))\n",
    "            ids.append(('TP',TPkeys[id_TP[i]]))\n",
    "            offset = beats[-1][-1]\n",
    "            record_size += beats[-1].size\n",
    "        if (record_size-onset) >= N:\n",
    "            mark_break = True\n",
    "            break\n",
    "    if mark_break:\n",
    "        break\n",
    "        \n",
    "# Obtain final stuff\n",
    "signal = np.concatenate(beats)\n",
    "masks = np.concatenate(masks)\n",
    "masks_all = np.zeros((record_size,3),dtype=bool)\n",
    "masks_all[:,0] = (masks == 1)\n",
    "masks_all[:,1] = (masks == 2)\n",
    "masks_all[:,2] = (masks == 3)\n",
    "\n",
    "# Move onset\n",
    "signal = signal[onset:onset+N]\n",
    "masks_all = masks_all[onset:onset+N,:]\n",
    "\n",
    "# Add baseline wander\n",
    "w = 51\n",
    "signal = signal + np.convolve(np.cumsum(norm.rvs(scale=0.01**(2*0.5),size=N)),np.hamming(w)/(w/2),mode='same')\n",
    "\n",
    "# Plotting\n",
    "mskplt = ((np.max(signal)-np.min(signal))*masks_all)+np.min(signal)\n",
    "\n",
    "plt.figure(figsize=(20,5))\n",
    "plt.plot(signal)\n",
    "plt.gca().fill_between(np.arange(N), mskplt[:,0], mskplt[:,0].min(), linewidth=0, alpha=0.15, color='red')\n",
    "plt.gca().fill_between(np.arange(N), mskplt[:,1], mskplt[:,1].min(), linewidth=0, alpha=0.15, color='green')\n",
    "plt.gca().fill_between(np.arange(N), mskplt[:,2], mskplt[:,2].min(), linewidth=0, alpha=0.15, color='magenta')\n",
    "plt.show()"
   ]
  },
  {
   "cell_type": "code",
   "execution_count": 110,
   "metadata": {},
   "outputs": [],
   "source": [
    "import skimage\n",
    "import skimage.segmentation"
   ]
  },
  {
   "cell_type": "code",
   "execution_count": 105,
   "metadata": {},
   "outputs": [],
   "source": [
    "import torch"
   ]
  },
  {
   "cell_type": "code",
   "execution_count": 108,
   "metadata": {},
   "outputs": [],
   "source": [
    "tns = torch.tensor(masks_all)"
   ]
  },
  {
   "cell_type": "code",
   "execution_count": 127,
   "metadata": {},
   "outputs": [
    {
     "data": {
      "text/plain": [
       "(2048, 3)"
      ]
     },
     "execution_count": 127,
     "metadata": {},
     "output_type": "execute_result"
    }
   ],
   "source": [
    "masks_all.shape"
   ]
  },
  {
   "cell_type": "code",
   "execution_count": 139,
   "metadata": {},
   "outputs": [],
   "source": [
    "# %%timeit\n",
    "Pbound = skimage.segmentation.find_boundaries(tns[:,0,None])\n",
    "QRSbound = skimage.segmentation.find_boundaries(tns[:,1,None])\n",
    "Tbound = skimage.segmentation.find_boundaries(tns[:,2,None])"
   ]
  },
  {
   "cell_type": "code",
   "execution_count": 143,
   "metadata": {},
   "outputs": [
    {
     "data": {
      "text/plain": [
       "[<matplotlib.lines.Line2D at 0x7f5ce9804dc0>]"
      ]
     },
     "execution_count": 143,
     "metadata": {},
     "output_type": "execute_result"
    },
    {
     "data": {
      "image/png": "[encoded data removed]",
      "text/plain": [
       "<Figure size 720x360 with 1 Axes>"
      ]
     },
     "metadata": {
      "needs_background": "light"
     },
     "output_type": "display_data"
    },
    {
     "data": {
      "image/png": "[encoded data removed]",
      "text/plain": [
       "<Figure size 720x360 with 1 Axes>"
      ]
     },
     "metadata": {
      "needs_background": "light"
     },
     "output_type": "display_data"
    },
    {
     "data": {
      "image/png": "[encoded data removed]",
      "text/plain": [
       "<Figure size 720x360 with 1 Axes>"
      ]
     },
     "metadata": {
      "needs_background": "light"
     },
     "output_type": "display_data"
    }
   ],
   "source": [
    "plt.figure(figsize=(10,5))\n",
    "plt.plot(tns[:,0])\n",
    "plt.plot(Pbound.squeeze())\n",
    "plt.figure(figsize=(10,5))\n",
    "plt.plot(tns[:,1])\n",
    "plt.plot(QRSbound.squeeze())\n",
    "plt.figure(figsize=(10,5))\n",
    "plt.plot(tns[:,2])\n",
    "plt.plot(Tbound.squeeze())"
   ]
  },
  {
   "cell_type": "code",
   "execution_count": null,
   "metadata": {},
   "outputs": [],
   "source": [
    "torch.zeros()"
   ]
  },
  {
   "cell_type": "code",
   "execution_count": null,
   "metadata": {},
   "outputs": [],
   "source": []
  },
  {
   "cell_type": "code",
   "execution_count": null,
   "metadata": {},
   "outputs": [],
   "source": []
  },
  {
   "cell_type": "code",
   "execution_count": null,
   "metadata": {},
   "outputs": [],
   "source": []
  },
  {
   "cell_type": "code",
   "execution_count": null,
   "metadata": {},
   "outputs": [],
   "source": []
  },
  {
   "cell_type": "code",
   "execution_count": null,
   "metadata": {},
   "outputs": [],
   "source": []
  },
  {
   "cell_type": "markdown",
   "metadata": {},
   "source": [
    "# Generate recording"
   ]
  },
  {
   "cell_type": "code",
   "execution_count": 72,
   "metadata": {},
   "outputs": [],
   "source": [
    "Pkeys = list(Psignal.keys())\n",
    "PQkeys = list(PQsignal.keys())\n",
    "QRSkeys = list(QRSsignal.keys())\n",
    "STkeys = list(STsignal.keys())\n",
    "Tkeys = list(Tsignal.keys())\n",
    "TPkeys = list(TPsignal.keys())"
   ]
  },
  {
   "cell_type": "code",
   "execution_count": 172,
   "metadata": {},
   "outputs": [
    {
     "data": {
      "image/png": "[encoded data removed]",
      "text/plain": [
       "<Figure size 1440x360 with 1 Axes>"
      ]
     },
     "metadata": {
      "needs_background": "light"
     },
     "output_type": "display_data"
    }
   ],
   "source": [
    "# %%timeit\n",
    "N = 2048\n",
    "\n",
    "# Hyperparams\n",
    "noise = 0.005\n",
    "size = 100\n",
    "onset = np.random.randint(0,50)\n",
    "begining_wave = np.random.randint(0,6)\n",
    "has_P = (np.random.rand(1) > 0.25)\n",
    "has_PQ = (np.random.rand(1) > 0.15)\n",
    "has_ST = (np.random.rand(1) > 0.25)\n",
    "has_BBB = (np.random.rand(1) > 0.9)\n",
    "has_same_morph = (np.random.rand(1) > 0.5)\n",
    "proba_P = 0.15\n",
    "proba_PQ = 0.15\n",
    "proba_QRS = 0.01\n",
    "proba_ST = 0.15\n",
    "\n",
    "##### Data structure\n",
    "ids = []\n",
    "\n",
    "##### Identifiers\n",
    "if not has_same_morph:\n",
    "    id_P = np.random.randint(0,len(Psignal),size=size)\n",
    "    id_PQ = np.random.randint(0,len(PQsignal),size=size)\n",
    "    id_QRS = np.random.randint(0,len(QRSsignal),size=size)\n",
    "    id_ST = np.random.randint(0,len(STsignal),size=size)\n",
    "    id_T = np.random.randint(0,len(Tsignal),size=size)\n",
    "    id_TP = np.random.randint(0,len(TPsignal),size=size)\n",
    "else:\n",
    "    id_P = np.repeat(np.random.randint(0,len(Psignal),size=1),size)\n",
    "    id_PQ = np.repeat(np.random.randint(0,len(PQsignal),size=1),size)\n",
    "    id_QRS = np.repeat(np.random.randint(0,len(QRSsignal),size=1),size)\n",
    "    id_ST = np.repeat(np.random.randint(0,len(STsignal),size=1),size)\n",
    "    id_T = np.repeat(np.random.randint(0,len(Tsignal),size=1),size)\n",
    "    id_TP = np.repeat(np.random.randint(0,len(TPsignal),size=1),size)\n",
    "    \n",
    "# In case QRS is not expressed\n",
    "filt_QRS = np.random.rand(size) < proba_QRS\n",
    "\n",
    "# P wave\n",
    "id_P[(np.random.rand(size) < proba_P) | np.logical_not(has_P)] = -1\n",
    "id_PQ[filt_QRS | (np.random.rand(size) < proba_PQ) | np.logical_not(has_PQ)] = -1\n",
    "id_QRS[filt_QRS] = -1\n",
    "id_ST[filt_QRS | (np.random.rand(size) < proba_ST) | np.logical_not(has_ST)] = -1\n",
    "id_T[filt_QRS] = -1\n",
    "\n",
    "beats = []\n",
    "masks = []\n",
    "ids = []\n",
    "offset = 0\n",
    "record_size = 0\n",
    "mark_break = False\n",
    "for i in range(size):\n",
    "    for j in range(6):\n",
    "        if (i == 0) and (j < begining_wave): \n",
    "            continue\n",
    "        if (j == 0) and (id_P[i] != -1):\n",
    "            segment = trailonset(Psignal[Pkeys[id_P[i]]],offset)\n",
    "            segment = segment*((0.15*np.random.randn(1))+1)\n",
    "            segment += noise*np.random.randn(segment.size)\n",
    "            beats.append(segment)\n",
    "            masks.append(np.full((beats[-1].size,),1,dtype='int8'))\n",
    "            ids.append(('P',Pkeys[id_P[i]]))\n",
    "            offset = beats[-1][-1]\n",
    "            record_size += beats[-1].size\n",
    "        if (j == 1) and (id_PQ[i] != -1):\n",
    "            segment = trailonset(PQsignal[PQkeys[id_PQ[i]]],offset)\n",
    "            segment = segment*((0.15*np.random.randn(1))+1)\n",
    "            segment += noise*np.random.randn(segment.size)\n",
    "            beats.append(segment)\n",
    "            masks.append(np.zeros((beats[-1].size,),dtype='int8'))\n",
    "            ids.append(('PQ',PQkeys[id_PQ[i]]))\n",
    "            offset = beats[-1][-1]\n",
    "            record_size += beats[-1].size\n",
    "        if (j == 2) and (id_QRS[i] != -1):\n",
    "            segment = trailonset(QRSsignal[QRSkeys[id_QRS[i]]],offset)\n",
    "            segment = segment*((0.15*np.random.randn(1))+1)\n",
    "            segment += noise*np.random.randn(segment.size)\n",
    "            beats.append(segment)\n",
    "            masks.append(np.full((beats[-1].size,),2,dtype='int8'))\n",
    "            ids.append(('QRS',QRSkeys[id_QRS[i]]))\n",
    "            offset = beats[-1][-1]\n",
    "            record_size += beats[-1].size\n",
    "        if (j == 3) and (id_ST[i] != -1):\n",
    "            segment = trailonset(STsignal[STkeys[id_ST[i]]],offset)\n",
    "            segment = segment*((0.15*np.random.randn(1))+1)\n",
    "            segment += noise*np.random.randn(segment.size)\n",
    "            beats.append(segment)\n",
    "            masks.append(np.zeros((beats[-1].size,),dtype='int8'))\n",
    "            ids.append(('ST',STkeys[id_ST[i]]))\n",
    "            offset = beats[-1][-1]\n",
    "            record_size += beats[-1].size\n",
    "        if (j == 4) and (id_T[i] != -1):\n",
    "            segment = trailonset(Tsignal[Tkeys[id_T[i]]],offset)\n",
    "            segment = segment*((0.15*np.random.randn(1))+1)\n",
    "            segment += noise*np.random.randn(segment.size)\n",
    "            beats.append(segment)\n",
    "            masks.append(np.full((beats[-1].size,),3,dtype='int8'))\n",
    "            ids.append(('T',Tkeys[id_T[i]]))\n",
    "            offset = beats[-1][-1]\n",
    "            record_size += beats[-1].size\n",
    "        if (j == 5) and (id_TP[i] != -1):\n",
    "            segment = trailonset(TPsignal[TPkeys[id_TP[i]]],offset)\n",
    "            segment = segment*((0.15*np.random.randn(1))+1)\n",
    "            segment += noise*np.random.randn(segment.size)\n",
    "            beats.append(segment)\n",
    "            masks.append(np.zeros((beats[-1].size,),dtype='int8'))\n",
    "            ids.append(('TP',TPkeys[id_TP[i]]))\n",
    "            offset = beats[-1][-1]\n",
    "            record_size += beats[-1].size\n",
    "        if (record_size-onset) >= N:\n",
    "            mark_break = True\n",
    "            break\n",
    "    if mark_break:\n",
    "        break\n",
    "        \n",
    "# Obtain final stuff\n",
    "signal = np.concatenate(beats)\n",
    "masks = np.concatenate(masks)\n",
    "masks_all = np.zeros((record_size,3),dtype=bool)\n",
    "masks_all[:,0] = (masks == 1)\n",
    "masks_all[:,1] = (masks == 2)\n",
    "masks_all[:,2] = (masks == 3)\n",
    "\n",
    "# Move onset\n",
    "signal = signal[onset:onset+N]\n",
    "masks_all = masks_all[onset:onset+N,:]\n",
    "\n",
    "# Add baseline wander\n",
    "w = 51\n",
    "signal = signal + np.convolve(np.cumsum(norm.rvs(scale=0.01**(2*0.5),size=N)),np.hamming(w)/(w/2),mode='same')\n",
    "\n",
    "# Plotting\n",
    "mskplt = ((np.max(signal)-np.min(signal))*masks_all)+np.min(signal)\n",
    "\n",
    "plt.figure(figsize=(20,5))\n",
    "plt.plot(signal)\n",
    "plt.gca().fill_between(np.arange(N), mskplt[:,0], mskplt[:,0].min(), linewidth=0, alpha=0.15, color='red')\n",
    "plt.gca().fill_between(np.arange(N), mskplt[:,1], mskplt[:,1].min(), linewidth=0, alpha=0.15, color='green')\n",
    "plt.gca().fill_between(np.arange(N), mskplt[:,2], mskplt[:,2].min(), linewidth=0, alpha=0.15, color='magenta')\n",
    "plt.show()"
   ]
  },
  {
   "cell_type": "code",
   "execution_count": 143,
   "metadata": {},
   "outputs": [
    {
     "data": {
      "text/plain": [
       "[('QRS', '28_III###0'),\n",
       " ('T', '114_V6###12'),\n",
       " ('TP', '136_V5###0'),\n",
       " ('PQ', '142_V1###5'),\n",
       " ('QRS', '138_V2###2'),\n",
       " ('ST', '96_V2###2'),\n",
       " ('T', 'sel33_1###1'),\n",
       " ('TP', '7_V6###0'),\n",
       " ('P', '196_V3###7'),\n",
       " ('PQ', 'sel873_1###14'),\n",
       " ('QRS', '42_AVL###6'),\n",
       " ('ST', '68_AVL###1'),\n",
       " ('T', '77_AVL###5'),\n",
       " ('TP', 'sele0126_1###0'),\n",
       " ('P', '39_V5###0'),\n",
       " ('PQ', 'sel213_0###17'),\n",
       " ('QRS', '136-1-1###V3'),\n",
       " ('ST', 'sel123_1###0'),\n",
       " ('T', '191_II###0'),\n",
       " ('TP', '17_II###7'),\n",
       " ('P', '131_AVR###5'),\n",
       " ('QRS', '393-1-1###II'),\n",
       " ('T', '158_V2###0'),\n",
       " ('TP', '85_V4###8'),\n",
       " ('P', '84_V5###0'),\n",
       " ('PQ', '62_V2###0'),\n",
       " ('QRS', '108_AVF###1'),\n",
       " ('T', '86_V1###3'),\n",
       " ('TP', '79_III###1'),\n",
       " ('P', '133_V3###0'),\n",
       " ('PQ', 'sel871_1###10'),\n",
       " ('QRS', '95_V5###0'),\n",
       " ('ST', 'sele0406_1###0'),\n",
       " ('T', '103_AVL###1'),\n",
       " ('TP', '180_III###7'),\n",
       " ('P', '92_V6###10'),\n",
       " ('PQ', '114_V2###0'),\n",
       " ('QRS', '119-1-1###V4'),\n",
       " ('ST', '152_AVF###3'),\n",
       " ('T', '190_III###0'),\n",
       " ('TP', '61_AVR###6'),\n",
       " ('P', '154_III###7'),\n",
       " ('PQ', '124_I###2'),\n",
       " ('QRS', '79_I###2'),\n",
       " ('ST', '101_V6###3'),\n",
       " ('T', 'sel51_0###0'),\n",
       " ('TP', '77_AVF###1'),\n",
       " ('P', '182_V6###5'),\n",
       " ('PQ', 'sel38_0###12'),\n",
       " ('QRS', 'sel871_1###0')]"
      ]
     },
     "execution_count": 143,
     "metadata": {},
     "output_type": "execute_result"
    }
   ],
   "source": [
    "ids"
   ]
  },
  {
   "cell_type": "code",
   "execution_count": 153,
   "metadata": {},
   "outputs": [
    {
     "ename": "KeyError",
     "evalue": "'95_II###0'",
     "output_type": "error",
     "traceback": [
      "\u001b[0;31m---------------------------------------------------------------------------\u001b[0m",
      "\u001b[0;31mKeyError\u001b[0m                                  Traceback (most recent call last)",
      "\u001b[0;32m<ipython-input-153-e468e0e1202d>\u001b[0m in \u001b[0;36m<module>\u001b[0;34m\u001b[0m\n\u001b[0;32m----> 1\u001b[0;31m \u001b[0mplt\u001b[0m\u001b[0;34m.\u001b[0m\u001b[0mplot\u001b[0m\u001b[0;34m(\u001b[0m\u001b[0mQRSsignal\u001b[0m\u001b[0;34m[\u001b[0m\u001b[0;34m'95_II###0'\u001b[0m\u001b[0;34m]\u001b[0m\u001b[0;34m)\u001b[0m\u001b[0;34m\u001b[0m\u001b[0;34m\u001b[0m\u001b[0m\n\u001b[0m",
      "\u001b[0;31mKeyError\u001b[0m: '95_II###0'"
     ]
    }
   ],
   "source": [
    "plt.plot(QRSsignal['95_II###0'])"
   ]
  },
  {
   "cell_type": "code",
   "execution_count": null,
   "metadata": {},
   "outputs": [],
   "source": []
  },
  {
   "cell_type": "markdown",
   "metadata": {},
   "source": [
    "# Define signal generator"
   ]
  },
  {
   "cell_type": "code",
   "execution_count": null,
   "metadata": {},
   "outputs": [],
   "source": []
  },
  {
   "cell_type": "code",
   "execution_count": null,
   "metadata": {},
   "outputs": [],
   "source": []
  },
  {
   "cell_type": "code",
   "execution_count": null,
   "metadata": {},
   "outputs": [],
   "source": []
  },
  {
   "cell_type": "code",
   "execution_count": 174,
   "metadata": {},
   "outputs": [
    {
     "data": {
      "text/plain": [
       "(2048, 3)"
      ]
     },
     "execution_count": 174,
     "metadata": {},
     "output_type": "execute_result"
    }
   ],
   "source": [
    "mskplt.shape"
   ]
  },
  {
   "cell_type": "code",
   "execution_count": 220,
   "metadata": {},
   "outputs": [],
   "source": [
    "class Dataset(torch.utils.data.Dataset):\n",
    "    '''Generates data for PyTorch'''\n",
    "\n",
    "    def __init__(self, P, QRS, T, PQ, ST, TP, \n",
    "                 Pamplitudes, QRSamplitudes, Tamplitudes, \n",
    "                 PQamplitudes, STamplitudes, TPamplitudes, \n",
    "                 length,N = 2048, noise = 0.005, size = 100, \n",
    "                 proba_P = 0.25,proba_QRS = 0.01, proba_PQ = 0.15, \n",
    "                 proba_ST = 0.15, proba_same_morph = 0.5,\n",
    "                 add_baseline_wander = True, window = 51):\n",
    "        # Segments\n",
    "        self.P = P\n",
    "        self.QRS = QRS\n",
    "        self.T = T\n",
    "        self.PQ = PQ\n",
    "        self.ST = ST\n",
    "        self.TP = TP\n",
    "        self.Pamplitudes = Pamplitudes\n",
    "        self.QRSamplitudes = QRSamplitudes\n",
    "        self.Tamplitudes = Tamplitudes\n",
    "        self.PQamplitudes = PQamplitudes\n",
    "        self.STamplitudes = STamplitudes\n",
    "        self.TPamplitudes = TPamplitudes\n",
    "        self.Pkeys = list(P.keys())\n",
    "        self.QRSkeys = list(QRS.keys())\n",
    "        self.Tkeys = list(T.keys())\n",
    "        self.PQkeys = list(PQ.keys())\n",
    "        self.STkeys = list(ST.keys())\n",
    "        self.TPkeys = list(TP.keys())\n",
    "        \n",
    "        # Generation hyperparams\n",
    "        self.length = length\n",
    "        self.N = N\n",
    "        self.noise = noise\n",
    "        self.size = size\n",
    "        self.add_baseline_wander = add_baseline_wander\n",
    "        self.window = window\n",
    "\n",
    "        # Probabilities\n",
    "        self.proba_P = proba_P\n",
    "        self.proba_QRS = proba_QRS\n",
    "        self.proba_PQ = proba_PQ\n",
    "        self.proba_ST = proba_ST\n",
    "        self.proba_same_morph = proba_same_morph\n",
    "        \n",
    "        \n",
    "    def __len__(self):\n",
    "        '''Denotes the number of elements in the dataset'''\n",
    "        return self.length\n",
    "\n",
    "    def __getitem__(self, i: int):\n",
    "        '''Generates one datapoint''' \n",
    "        onset = np.random.randint(0,50)\n",
    "        begining_wave = np.random.randint(0,6)\n",
    "        has_P = (np.random.rand(1) > self.proba_P)\n",
    "        has_PQ = (np.random.rand(1) > self.proba_PQ)\n",
    "        has_ST = (np.random.rand(1) > self.proba_ST)\n",
    "        has_same_morph = (np.random.rand(1) > self.proba_same_morph)\n",
    "\n",
    "        ##### Data structure\n",
    "        ids = []\n",
    "\n",
    "        ##### Identifiers\n",
    "        if not has_same_morph:\n",
    "            id_P = np.random.randint(0,len(self.P),size=self.size)\n",
    "            id_PQ = np.random.randint(0,len(self.PQ),size=self.size)\n",
    "            id_QRS = np.random.randint(0,len(self.QRS),size=self.size)\n",
    "            id_ST = np.random.randint(0,len(self.ST),size=self.size)\n",
    "            id_T = np.random.randint(0,len(self.T),size=self.size)\n",
    "            id_TP = np.random.randint(0,len(self.TP),size=self.size)\n",
    "        else:\n",
    "            id_P = np.repeat(np.random.randint(0,len(self.P),size=1),self.size)\n",
    "            id_PQ = np.repeat(np.random.randint(0,len(self.PQ),size=1),self.size)\n",
    "            id_QRS = np.repeat(np.random.randint(0,len(self.QRS),size=1),self.size)\n",
    "            id_ST = np.repeat(np.random.randint(0,len(self.ST),size=1),self.size)\n",
    "            id_T = np.repeat(np.random.randint(0,len(self.T),size=1),self.size)\n",
    "            id_TP = np.repeat(np.random.randint(0,len(self.TP),size=1),self.size)\n",
    "\n",
    "        # In case QRS is not expressed\n",
    "        filt_QRS = np.random.rand(self.size) < self.proba_QRS\n",
    "\n",
    "        # P wave\n",
    "        id_P[(np.random.rand(self.size) < self.proba_P) | np.logical_not(has_P)] = -1\n",
    "        id_PQ[filt_QRS | (np.random.rand(self.size) < self.proba_PQ) | np.logical_not(has_PQ)] = -1\n",
    "        id_QRS[filt_QRS] = -1\n",
    "        id_ST[filt_QRS | (np.random.rand(self.size) < self.proba_ST) | np.logical_not(has_ST)] = -1\n",
    "        id_T[filt_QRS] = -1\n",
    "\n",
    "        beats = []\n",
    "        masks = []\n",
    "        ids = []\n",
    "        offset = 0\n",
    "        record_size = 0\n",
    "        mark_break = False\n",
    "        for i in range(self.size):\n",
    "            for j in range(6):\n",
    "                if (i == 0) and (j < begining_wave): \n",
    "                    continue\n",
    "                if (j == 0) and (id_P[i] != -1):\n",
    "                    amplitude = self.Pamplitudes.rvs(1)\n",
    "                    segment = trailonset(amplitude*self.P[self.Pkeys[id_P[i]]],offset)\n",
    "                    segment *= 0.15*np.random.randn(1)+1\n",
    "                    beats.append(segment)\n",
    "                    masks.append(np.full((beats[-1].size,),1,dtype='int8'))\n",
    "                    ids.append(('P',self.Pkeys[id_P[i]]))\n",
    "                    offset = beats[-1][-1]\n",
    "                    record_size += beats[-1].size\n",
    "                if (j == 1) and (id_PQ[i] != -1):\n",
    "                    amplitude = self.PQamplitudes.rvs(1)\n",
    "                    segment = trailonset(amplitude*self.PQ[self.PQkeys[id_PQ[i]]],offset)\n",
    "                    segment *= 0.15*np.random.randn(1)+1\n",
    "                    beats.append(segment)\n",
    "                    masks.append(np.zeros((beats[-1].size,),dtype='int8'))\n",
    "                    ids.append(('PQ',self.PQkeys[id_PQ[i]]))\n",
    "                    offset = beats[-1][-1]\n",
    "                    record_size += beats[-1].size\n",
    "                if (j == 2) and (id_QRS[i] != -1):\n",
    "                    amplitude = self.QRSamplitudes.rvs(1)\n",
    "                    segment = trailonset(amplitude*self.QRS[self.QRSkeys[id_QRS[i]]],offset)\n",
    "                    segment *= 0.15*np.random.randn(1)+1\n",
    "                    beats.append(segment)\n",
    "                    masks.append(np.full((beats[-1].size,),2,dtype='int8'))\n",
    "                    ids.append(('QRS',self.QRSkeys[id_QRS[i]]))\n",
    "                    offset = beats[-1][-1]\n",
    "                    record_size += beats[-1].size\n",
    "                if (j == 3) and (id_ST[i] != -1):\n",
    "                    amplitude = self.STamplitudes.rvs(1)\n",
    "                    segment = trailonset(amplitude*self.ST[self.STkeys[id_ST[i]]],offset)\n",
    "                    segment *= 0.15*np.random.randn(1)+1\n",
    "                    beats.append(segment)\n",
    "                    masks.append(np.zeros((beats[-1].size,),dtype='int8'))\n",
    "                    ids.append(('ST',self.STkeys[id_ST[i]]))\n",
    "                    offset = beats[-1][-1]\n",
    "                    record_size += beats[-1].size\n",
    "                if (j == 4) and (id_T[i] != -1):\n",
    "                    amplitude = self.Tamplitudes.rvs(1)\n",
    "                    segment = trailonset(amplitude*self.T[self.Tkeys[id_T[i]]],offset)\n",
    "                    segment *= 0.15*np.random.randn(1)+1\n",
    "                    beats.append(segment)\n",
    "                    masks.append(np.full((beats[-1].size,),3,dtype='int8'))\n",
    "                    ids.append(('T',self.Tkeys[id_T[i]]))\n",
    "                    offset = beats[-1][-1]\n",
    "                    record_size += beats[-1].size\n",
    "                if (j == 5) and (id_TP[i] != -1):\n",
    "                    amplitude = self.TPamplitudes.rvs(1)\n",
    "                    segment = trailonset(amplitude*self.TP[self.TPkeys[id_TP[i]]],offset)\n",
    "                    segment *= 0.15*np.random.randn(1)+1\n",
    "                    beats.append(segment)\n",
    "                    masks.append(np.zeros((beats[-1].size,),dtype='int8'))\n",
    "                    ids.append(('TP',self.TPkeys[id_TP[i]]))\n",
    "                    offset = beats[-1][-1]\n",
    "                    record_size += beats[-1].size\n",
    "                if (record_size-onset) >= N:\n",
    "                    mark_break = True\n",
    "                    break\n",
    "            if mark_break:\n",
    "                break\n",
    "\n",
    "        # Obtain final stuff\n",
    "        signal = np.concatenate(beats,)\n",
    "        masks = np.concatenate(masks)\n",
    "        masks_all = np.zeros((3,record_size),dtype=bool)\n",
    "        masks_all[0,:] = (masks == 1)\n",
    "        masks_all[1,:] = (masks == 2)\n",
    "        masks_all[2,:] = (masks == 3)\n",
    "\n",
    "        # Move onset\n",
    "        signal = signal[onset:onset+N]\n",
    "        masks_all = masks_all[:,onset:onset+N]\n",
    "\n",
    "        # Add baseline wander\n",
    "        if self.add_baseline_wander:\n",
    "            signal = signal + np.convolve(np.cumsum(norm.rvs(scale=0.01**(2*0.5),size=N)),np.hamming(self.window)/(self.window/2),mode='same')\n",
    "        \n",
    "        return signal[None,].astype('float32'), masks_all\n"
   ]
  },
  {
   "cell_type": "code",
   "execution_count": 222,
   "metadata": {},
   "outputs": [],
   "source": [
    "data = Dataset(Psignal,QRSsignal,Tsignal,PQsignal,STsignal,TPsignal,Pdist,QRSdist,Tdist,PQdist,STdist,TPdist,256*200)\n",
    "\n",
    "# %%timeit\n",
    "# x,y = data[0]"
   ]
  },
  {
   "cell_type": "code",
   "execution_count": 227,
   "metadata": {},
   "outputs": [],
   "source": [
    "# %%timeit\n",
    "\n",
    "loader = torch.utils.data.DataLoader(data,256)\n",
    "\n",
    "for x,y in loader:\n",
    "    break"
   ]
  },
  {
   "cell_type": "code",
   "execution_count": 253,
   "metadata": {},
   "outputs": [
    {
     "data": {
      "image/png": "[encoded data removed]",
      "text/plain": [
       "<Figure size 1440x360 with 1 Axes>"
      ]
     },
     "metadata": {
      "needs_background": "light"
     },
     "output_type": "display_data"
    }
   ],
   "source": [
    "# Plotting\n",
    "i = 160\n",
    "mskplt = ((torch.max(x[i,0,:])-torch.min(x[i,0,:]))*y[i,...])+torch.min(x[i,0,:])\n",
    "\n",
    "plt.figure(figsize=(20,5))\n",
    "plt.plot(x[i,0,:])\n",
    "plt.gca().fill_between(np.arange(N), mskplt[0,:], mskplt[0,:].min(), linewidth=0, alpha=0.15, color='red')\n",
    "plt.gca().fill_between(np.arange(N), mskplt[1,:], mskplt[1,:].min(), linewidth=0, alpha=0.15, color='green')\n",
    "plt.gca().fill_between(np.arange(N), mskplt[2,:], mskplt[2,:].min(), linewidth=0, alpha=0.15, color='magenta')\n",
    "plt.show()"
   ]
  },
  {
   "cell_type": "code",
   "execution_count": null,
   "metadata": {},
   "outputs": [],
   "source": [
    "# i = 103\n",
    "# lead = 'iii'\n",
    "# rec = wfdb.rdrecord(os.path.join(basedir,'ludb','{}'.format(i)))\n",
    "# ann = wfdb.rdann(os.path.join(basedir,'ludb','{}'.format(i)),'atr_{}'.format(lead.lower()))\n",
    "# print(np.array(ann.symbol))\n",
    "# wfdb.plot.plot_wfdb(record=rec, annotation=ann, figsize=(20,40))"
   ]
  },
  {
   "cell_type": "code",
   "execution_count": null,
   "metadata": {},
   "outputs": [],
   "source": []
  },
  {
   "cell_type": "markdown",
   "metadata": {},
   "source": [
    "# fiducials to delete\n",
    "\n",
    "* QRS - 111_AVF_24\n",
    "* QRS - sel820_1_156\n",
    "* QRS - 95_AVR_16\n",
    "* ~TP - sel306_1_211~\n",
    "* ~TP - sel114_0_179~\n",
    "* PT - sel803_0_109"
   ]
  },
  {
   "cell_type": "code",
   "execution_count": null,
   "metadata": {},
   "outputs": [],
   "source": []
  },
  {
   "cell_type": "code",
   "execution_count": null,
   "metadata": {},
   "outputs": [],
   "source": []
  },
  {
   "cell_type": "code",
   "execution_count": null,
   "metadata": {},
   "outputs": [],
   "source": []
  },
  {
   "cell_type": "markdown",
   "metadata": {},
   "source": [
    "# OLD AND CREEPY"
   ]
  },
  {
   "cell_type": "markdown",
   "metadata": {},
   "source": [
    "#### Compute criteria"
   ]
  },
  {
   "cell_type": "code",
   "execution_count": null,
   "metadata": {},
   "outputs": [],
   "source": [
    "# # Generate wavelets\n",
    "# Pwavelet = {k: utils.wavelet.transform(Psignal[k],250.).squeeze() for k in tqdm.tqdm(Psignal.keys())}\n",
    "# PQwavelet = {k: utils.wavelet.transform(PQsignal[k],250.).squeeze() for k in tqdm.tqdm(PQsignal.keys())}\n",
    "# QRSwavelet = {k: utils.wavelet.transform(QRSsignal[k],250.).squeeze() for k in tqdm.tqdm(QRSsignal.keys())}\n",
    "# STwavelet = {k: utils.wavelet.transform(STsignal[k],250.).squeeze() for k in tqdm.tqdm(STsignal.keys())}\n",
    "# Twavelet = {k: utils.wavelet.transform(Tsignal[k],250.).squeeze() for k in tqdm.tqdm(Tsignal.keys())}\n",
    "# TPwavelet = {k: utils.wavelet.transform(TPsignal[k],250.).squeeze() for k in tqdm.tqdm(TPsignal.keys())}"
   ]
  },
  {
   "cell_type": "code",
   "execution_count": null,
   "metadata": {},
   "outputs": [],
   "source": [
    "# # Generate criteria\n",
    "# s = 3 # wavelet scale\n",
    "# eps = np.finfo('float').eps\n",
    "# Pcriteria = {k: ((np.sign(Pwavelet[k][0,s]),(Pwavelet[k][0,s]-Pwavelet[k][1,s]+eps)/(np.max(Pwavelet[k][:,s])-np.min(Pwavelet[k][:,s]+eps))),\n",
    "#                  (np.sign(Pwavelet[k][-1,s]),(Pwavelet[k][-1,s]-Pwavelet[k][-2,s]+eps)/(np.max(Pwavelet[k][:,s])-np.min(Pwavelet[k][:,s]+eps)))) for k in Psignal.keys()}\n",
    "# PQcriteria = {k: ((np.sign(PQwavelet[k][0,s]),(PQwavelet[k][0,s]-PQwavelet[k][1,s]+eps)/(np.max(PQwavelet[k][:,s])-np.min(PQwavelet[k][:,s]+eps))),\n",
    "#                  (np.sign(PQwavelet[k][-1,s]),(PQwavelet[k][-1,s]-PQwavelet[k][-2,s]+eps)/(np.max(PQwavelet[k][:,s])-np.min(PQwavelet[k][:,s]+eps)))) for k in PQsignal.keys()}\n",
    "# QRScriteria = {k: ((np.sign(QRSwavelet[k][0,s]),(QRSwavelet[k][0,s]-QRSwavelet[k][1,s]+eps)/(np.max(QRSwavelet[k][:,s])-np.min(QRSwavelet[k][:,s]+eps))),\n",
    "#                  (np.sign(QRSwavelet[k][-1,s]),(QRSwavelet[k][-1,s]-QRSwavelet[k][-2,s]+eps)/(np.max(QRSwavelet[k][:,s])-np.min(QRSwavelet[k][:,s]+eps)))) for k in QRSsignal.keys()}\n",
    "# STcriteria = {k: ((np.sign(STwavelet[k][0,s]),(STwavelet[k][0,s]-STwavelet[k][1,s]+eps)/(np.max(STwavelet[k][:,s])-np.min(STwavelet[k][:,s]+eps))),\n",
    "#                  (np.sign(STwavelet[k][-1,s]),(STwavelet[k][-1,s]-STwavelet[k][-2,s]+eps)/(np.max(STwavelet[k][:,s])-np.min(STwavelet[k][:,s]+eps)))) for k in STsignal.keys()}\n",
    "# Tcriteria = {k: ((np.sign(Twavelet[k][0,s]),(Twavelet[k][0,s]-Twavelet[k][1,s]+eps)/(np.max(Twavelet[k][:,s])-np.min(Twavelet[k][:,s]+eps))),\n",
    "#                  (np.sign(Twavelet[k][-1,s]),(Twavelet[k][-1,s]-Twavelet[k][-2,s]+eps)/(np.max(Twavelet[k][:,s])-np.min(Twavelet[k][:,s]+eps)))) for k in Tsignal.keys()}\n",
    "# TPcriteria = {k: ((np.sign(TPwavelet[k][0,s]),(TPwavelet[k][0,s]-TPwavelet[k][1,s]+eps)/(np.max(TPwavelet[k][:,s])-np.min(TPwavelet[k][:,s]+eps))),\n",
    "#                  (np.sign(TPwavelet[k][-1,s]),(TPwavelet[k][-1,s]-TPwavelet[k][-2,s]+eps)/(np.max(TPwavelet[k][:,s])-np.min(TPwavelet[k][:,s]+eps)))) for k in TPsignal.keys()}"
   ]
  },
  {
   "cell_type": "code",
   "execution_count": null,
   "metadata": {},
   "outputs": [],
   "source": [
    "# N = 2048\n",
    "# s = 3\n",
    "\n",
    "# has_P = np.random.rand(1) > 0.1\n",
    "# has_PQ = np.random.rand(1) > 0.2\n",
    "# has_ST = np.random.rand(1) > 0.2\n",
    "# has_BBB = np.random.rand(1) > 0.9\n",
    "# counter_BBB = 0\n",
    "# repetitions_BBB = np.random.randint(2,4)\n",
    "\n",
    "# beats = []\n",
    "# ids = []\n",
    "\n",
    "# # Include first beat\n",
    "# ids.append(('TPsignal',np.random.randint(0,len(TPsignal))))\n",
    "# beats.append(utils.signal.on_off_correction(TPsignal[list(TPsignal)[ids[-1][1]]]))\n",
    "# size = beats[0].size\n",
    "# masks = np.zeros((size,),dtype='int8')\n",
    "# onset = np.random.randint(0,size)\n",
    "# while size-onset < N:\n",
    "#     # P wave (sometimes)\n",
    "#     if has_BBB:\n",
    "#         if counter_BBB == 0:\n",
    "#             id_BBB_P = ('Psignal',np.random.randint(0,len(Psignal)))\n",
    "#         ids.append(id_BBB_P)\n",
    "#         p = trailonset(Psignal[list(Psignal)[ids[-1][1]]],beats[-1][-1])[1:]\n",
    "#         beats.append(p)\n",
    "#         masks = np.concatenate((masks,1*np.ones((p.size,),dtype='int8')))\n",
    "\n",
    "#         if has_PQ:\n",
    "#             # PQ segment\n",
    "#             ids.append(('PQsignal',np.random.randint(0,len(PQsignal))))\n",
    "#             pq = trailonset(PQsignal[list(PQsignal)[ids[-1][1]]],beats[-1][-1])[1:]\n",
    "#             beats.append(pq)\n",
    "#             masks = np.concatenate((masks,np.zeros((pq.size,),dtype='int8')))\n",
    "#     elif (np.random.rand(1) < 0.75) and (has_P):\n",
    "#         ids.append(('Psignal',np.random.randint(0,len(Psignal))))\n",
    "#         p = trailonset(Psignal[list(Psignal)[ids[-1][1]]],beats[-1][-1])[1:]\n",
    "#         beats.append(p)\n",
    "#         masks = np.concatenate((masks,1*np.ones((p.size,),dtype='int8')))\n",
    "\n",
    "#         if has_PQ:\n",
    "#             # PQ segment\n",
    "#             ids.append(('PQsignal',np.random.randint(0,len(PQsignal))))\n",
    "#             pq = trailonset(PQsignal[list(PQsignal)[ids[-1][1]]],beats[-1][-1])[1:]\n",
    "#             beats.append(pq)\n",
    "#             masks = np.concatenate((masks,np.zeros((pq.size,),dtype='int8')))\n",
    "\n",
    "#     # QRS wave\n",
    "#     has_QRS = np.random.rand(1)\n",
    "#     if has_BBB:\n",
    "#         if counter_BBB%repetitions_BBB == 0:\n",
    "#             id_BBB_QRS = ('QRSsignal',np.random.randint(0,len(QRSsignal)))\n",
    "#             ids.append(id_BBB_QRS)\n",
    "#             qrs = trailonset(QRSsignal[list(QRSsignal)[ids[-1][1]]],beats[-1][-1])[1:]\n",
    "#             beats.append(qrs)\n",
    "#             masks = np.concatenate((masks,2*np.ones((qrs.size,),dtype='int8')))\n",
    "#         else:\n",
    "#             pass\n",
    "#     elif (has_QRS < 0.99):\n",
    "#         ids.append(('QRSsignal',np.random.randint(0,len(QRSsignal))))\n",
    "#         qrs = trailonset(QRSsignal[list(QRSsignal)[ids[-1][1]]],beats[-1][-1])[1:]\n",
    "#         beats.append(qrs)\n",
    "#         masks = np.concatenate((masks,2*np.ones((qrs.size,),dtype='int8')))\n",
    "    \n",
    "#     # ST segment\n",
    "#     if has_BBB and (counter_BBB%repetitions_BBB != 0):\n",
    "#         pass\n",
    "#     elif (np.random.rand(1) < 0.75) and (has_ST):\n",
    "#         ids.append(('STsignal',np.random.randint(0,len(STsignal))))\n",
    "#         st = trailonset(STsignal[list(STsignal)[ids[-1][1]]],beats[-1][-1])[1:]\n",
    "#         beats.append(st)\n",
    "#         masks = np.concatenate((masks,np.zeros((st.size,),dtype='int8')))\n",
    "\n",
    "#     # T wave\n",
    "#     if has_BBB:\n",
    "#         if counter_BBB%repetitions_BBB == 0:\n",
    "#             ids.append(('Tsignal',np.random.randint(0,len(Tsignal))))\n",
    "#             t = trailonset(Tsignal[list(Tsignal)[ids[-1][1]]],beats[-1][-1])[1:]\n",
    "#             beats.append(t)\n",
    "#             masks = np.concatenate((masks,3*np.ones((t.size,),dtype='int8')))\n",
    "#         else:\n",
    "#             pass\n",
    "#     elif (has_QRS < 0.99):\n",
    "#         ids.append(('Tsignal',np.random.randint(0,len(Tsignal))))\n",
    "#         t = trailonset(Tsignal[list(Tsignal)[ids[-1][1]]],beats[-1][-1])[1:]\n",
    "#         beats.append(t)\n",
    "#         masks = np.concatenate((masks,3*np.ones((t.size,),dtype='int8')))\n",
    "\n",
    "#     # TP segment\n",
    "#     if has_BBB:\n",
    "#         if counter_BBB == 0:\n",
    "#             id_BBB_TP = ('TPsignal',np.random.randint(0,len(TPsignal)))\n",
    "#         ids.append(id_BBB_TP)\n",
    "#         tp = trailonset(TPsignal[list(TPsignal)[ids[-1][1]]],beats[-1][-1])[1:]\n",
    "#         beats.append(tp)\n",
    "#         masks = np.concatenate((masks,np.zeros((tp.size,),dtype='int8')))\n",
    "#     else:\n",
    "#         ids.append(('TPsignal',np.random.randint(0,len(TPsignal))))\n",
    "#         tp = trailonset(TPsignal[list(TPsignal)[ids[-1][1]]],beats[-1][-1])[1:]\n",
    "#         beats.append(tp)\n",
    "#         masks = np.concatenate((masks,np.zeros((tp.size,),dtype='int8')))\n",
    "    \n",
    "#     # Account for total signal size\n",
    "#     size = sum([beats[i].size for i in range(len(beats))])\n",
    "        \n",
    "#     # Update BBB counter\n",
    "#     if has_BBB:\n",
    "#         counter_BBB += 1\n",
    "\n",
    "# sig = np.concatenate(beats)[onset:onset+2048]\n",
    "# # sig = sp.signal.filtfilt(*sp.signal.butter(4,   0.5/250, 'high'),sig)\n",
    "# signal = sig# + np.convolve(np.cumsum(norm.rvs(scale=0.15**(2*0.5),size=N)),np.hamming(w)/(w/2),mode='same')\n",
    "\n",
    "# masks = masks[onset:onset+2048]\n",
    "# masks_all = np.zeros((N,3),dtype=bool)\n",
    "# masks_all[:,0] = masks == 1\n",
    "# masks_all[:,1] = masks == 2\n",
    "# masks_all[:,2] = masks == 3\n",
    "# mskplt = ((np.max(signal)-np.min(signal))*masks_all)+np.min(signal)\n",
    "\n",
    "# # f,ax = plt.subplots(nrows=1,figsize=(20,4))\n",
    "# # ax = np.array(ax)\n",
    "# # if len(ax.shape) == 0: ax = ax[None]\n",
    "# # [ax[i].set_xlim([0,N]) for i in range(ax.size)]\n",
    "# # [ax[i].fill_between(np.arange(N), mskplt[:,0], mskplt[:,0].min(), linewidth=0, alpha=0.15, color='red') for i in range(ax.size)]\n",
    "# # [ax[i].fill_between(np.arange(N), mskplt[:,1], mskplt[:,1].min(), linewidth=0, alpha=0.15, color='green') for i in range(ax.size)]\n",
    "# # [ax[i].fill_between(np.arange(N), mskplt[:,2], mskplt[:,2].min(), linewidth=0, alpha=0.15, color='magenta') for i in range(ax.size)]\n",
    "# # ax[0].plot(signal)\n",
    "# # # ax[1].plot(wvlts,color='orange')\n",
    "# # # ax[2].plot(wvlts_signal,color='orange')"
   ]
  },
  {
   "cell_type": "code",
   "execution_count": null,
   "metadata": {},
   "outputs": [],
   "source": [
    "# N = 2048\n",
    "\n",
    "# beats = []\n",
    "# ids = []\n",
    "\n",
    "# # Include first beat\n",
    "# ids.append(('TPsignal',np.random.randint(0,len(TPsignal))))\n",
    "# beats.append(utils.signal.on_off_correction(TPsignal[list(TPsignal)[ids[-1][1]]]))\n",
    "# # beats.append(TPsignal[list(TPsignal)[np.random.randint(0,len(TPsignal))]])\n",
    "# size = beats[0].size\n",
    "# masks = np.zeros((size,))\n",
    "# onset = np.random.randint(0,size)\n",
    "# while size-onset < N:\n",
    "#     # P wave (sometimes)\n",
    "#     if np.random.rand(1) < 0.75:\n",
    "#         # p = utils.signal.on_off_correction(Psignal[list(Psignal)[np.random.randint(0,len(Psignal))]])\n",
    "#         ids.append(('Psignal',np.random.randint(0,len(Psignal))))\n",
    "#         p = trailonset(Psignal[list(Psignal)[ids[-1][1]]],beats[-1][-1])\n",
    "#         # p = Psignal[list(Psignal)[np.random.randint(0,len(Psignal))]]\n",
    "#         beats.append(p)\n",
    "#         masks = np.concatenate((masks,1*np.ones((p.size,))))\n",
    "\n",
    "#     # PQ segment\n",
    "#     # pq = utils.signal.on_off_correction(PQsignal[list(PQsignal)[np.random.randint(0,len(PQsignal))]])\n",
    "#     ids.append(('PQsignal',np.random.randint(0,len(PQsignal))))\n",
    "#     pq = trailonset(PQsignal[list(PQsignal)[ids[-1][1]]],beats[-1][-1])\n",
    "#     # pq = PQsignal[list(PQsignal)[np.random.randint(0,len(PQsignal))]]\n",
    "#     beats.append(pq)\n",
    "#     masks = np.concatenate((masks,np.zeros((pq.size,))))\n",
    "\n",
    "#     # QRS wave\n",
    "#     # qrs = utils.signal.on_off_correction(QRSsignal[list(QRSsignal)[np.random.randint(0,len(QRSsignal))]])\n",
    "#     ids.append(('QRSsignal',np.random.randint(0,len(QRSsignal))))\n",
    "#     qrs = trailonset(QRSsignal[list(QRSsignal)[ids[-1][1]]],beats[-1][-1])\n",
    "#     # qrs = QRSsignal[list(QRSsignal)[np.random.randint(0,len(QRSsignal))]]\n",
    "#     beats.append(qrs)\n",
    "#     masks = np.concatenate((masks,2*np.ones((qrs.size,))))\n",
    "\n",
    "#     # ST segment\n",
    "#     # st = utils.signal.on_off_correction(STsignal[list(STsignal)[np.random.randint(0,len(STsignal))]])\n",
    "#     ids.append(('STsignal',np.random.randint(0,len(STsignal))))\n",
    "#     st = trailonset(STsignal[list(STsignal)[ids[-1][1]]],beats[-1][-1])\n",
    "#     # st = STsignal[list(STsignal)[np.random.randint(0,len(STsignal))]]\n",
    "#     beats.append(st)\n",
    "#     masks = np.concatenate((masks,np.zeros((st.size,))))\n",
    "\n",
    "#     # T wave\n",
    "#     # t = utils.signal.on_off_correction(Tsignal[list(Tsignal)[np.random.randint(0,len(Tsignal))]])\n",
    "#     ids.append(('Tsignal',np.random.randint(0,len(Tsignal))))\n",
    "#     t = trailonset(Tsignal[list(Tsignal)[ids[-1][1]]],beats[-1][-1])\n",
    "#     # t = Tsignal[list(Tsignal)[np.random.randint(0,len(Tsignal))]]\n",
    "#     beats.append(t)\n",
    "#     masks = np.concatenate((masks,3*np.ones((t.size,))))\n",
    "\n",
    "#     # TP segment\n",
    "#     # tp = utils.signal.on_off_correction(TPsignal[list(TPsignal)[np.random.randint(0,len(TPsignal))]])\n",
    "#     ids.append(('TPsignal',np.random.randint(0,len(TPsignal))))\n",
    "#     tp = trailonset(TPsignal[list(TPsignal)[ids[-1][1]]],beats[-1][-1])\n",
    "#     # tp = TPsignal[list(TPsignal)[np.random.randint(0,len(TPsignal))]]\n",
    "#     beats.append(tp)\n",
    "#     masks = np.concatenate((masks,np.zeros((tp.size,))))\n",
    "\n",
    "#     size = sum([beats[i].size for i in range(len(beats))])\n",
    "\n",
    "# w = 51\n",
    "# sig = np.concatenate(beats)[onset:onset+2048]\n",
    "# sig = sp.signal.filtfilt(*sp.signal.butter(4,   0.5/250, 'high'),sig)\n",
    "# signal = sig# + np.convolve(np.cumsum(norm.rvs(scale=0.15**(2*0.5),size=N)),np.hamming(w)/(w/2),mode='same')\n",
    "\n",
    "# masks = masks[onset:onset+2048]\n",
    "# masks_all = np.zeros((N,3),dtype=bool)\n",
    "# masks_all[:,0] = masks == 1\n",
    "# masks_all[:,1] = masks == 2\n",
    "# masks_all[:,2] = masks == 3\n",
    "# mskplt = ((np.max(signal)-np.min(signal))*masks_all)+np.min(signal)\n",
    "\n",
    "# plt.figure(figsize=(20,5))\n",
    "# plt.plot(signal)\n",
    "# plt.gca().fill_between(np.arange(N), mskplt[:,0], mskplt[:,0].min(), linewidth=0, alpha=0.15, color='red')\n",
    "# plt.gca().fill_between(np.arange(N), mskplt[:,1], mskplt[:,1].min(), linewidth=0, alpha=0.15, color='green')\n",
    "# plt.gca().fill_between(np.arange(N), mskplt[:,2], mskplt[:,2].min(), linewidth=0, alpha=0.15, color='magenta')\n",
    "# plt.show()"
   ]
  },
  {
   "cell_type": "code",
   "execution_count": null,
   "metadata": {},
   "outputs": [],
   "source": []
  }
 ],
 "metadata": {
  "kernelspec": {
   "display_name": "DeepLearning3",
   "language": "python",
   "name": "deeplearning3"
  },
  "language_info": {
   "codemirror_mode": {
    "name": "ipython",
    "version": 3
   },
   "file_extension": ".py",
   "mimetype": "text/x-python",
   "name": "python",
   "nbconvert_exporter": "python",
   "pygments_lexer": "ipython3",
   "version": "3.8.2"
  }
 },
 "nbformat": 4,
 "nbformat_minor": 4
}
