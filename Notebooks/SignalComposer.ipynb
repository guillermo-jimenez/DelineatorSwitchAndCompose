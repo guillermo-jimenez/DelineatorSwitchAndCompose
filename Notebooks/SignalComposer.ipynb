{
 "cells": [
  {
   "cell_type": "code",
   "execution_count": 1,
   "metadata": {},
   "outputs": [],
   "source": [
    "%load_ext autoreload\n",
    "%autoreload 2"
   ]
  },
  {
   "cell_type": "code",
   "execution_count": 2,
   "metadata": {},
   "outputs": [],
   "source": [
    "import platform\n",
    "import random\n",
    "import uuid\n",
    "import os\n",
    "import os.path\n",
    "import skimage\n",
    "import utils\n",
    "import utils.wavelet\n",
    "import utils.data\n",
    "import utils.data.augmentation\n",
    "import numpy as np\n",
    "import scipy as sp\n",
    "import scipy.signal\n",
    "import pandas as pd\n",
    "import networkx\n",
    "import networkx.algorithms.approximation\n",
    "import math\n",
    "import wfdb\n",
    "import json\n",
    "import tqdm\n",
    "import matplotlib.pyplot as plt\n",
    "import src.data\n",
    "from scipy.stats import norm\n",
    "from utils.signal import StandardHeader\n",
    "from scipy.stats import lognorm, norm, halfnorm\n",
    "\n",
    "from src.data import trailonset"
   ]
  },
  {
   "cell_type": "markdown",
   "metadata": {},
   "source": [
    "# Load files"
   ]
  },
  {
   "cell_type": "code",
   "execution_count": 3,
   "metadata": {},
   "outputs": [],
   "source": [
    "P = utils.pickleload(os.path.join('.','pickle','Psignal.pkl'))\n",
    "PQ = utils.pickleload(os.path.join('.','pickle','PQsignal.pkl'))\n",
    "QRS = utils.pickleload(os.path.join('.','pickle','QRSsignal.pkl'))\n",
    "ST = utils.pickleload(os.path.join('.','pickle','STsignal.pkl'))\n",
    "T = utils.pickleload(os.path.join('.','pickle','Tsignal.pkl'))\n",
    "TP = utils.pickleload(os.path.join('.','pickle','TPsignal.pkl'))"
   ]
  },
  {
   "cell_type": "code",
   "execution_count": 4,
   "metadata": {},
   "outputs": [],
   "source": [
    "for key in (['104_II','104_III','104_AVR','104_AVF','103_III'] + \n",
    "            ['74_{}'.format(h) for h in StandardHeader] + \n",
    "            ['111_{}'.format(h) for h in StandardHeader] +\n",
    "            ['95_{}'.format(h) for h in StandardHeader] + \n",
    "            ['103_{}'.format(h) for h in StandardHeader] +\n",
    "            ['34_{}'.format(h) for h in StandardHeader]):\n",
    "    [P.pop(k) for k in list(P.keys()) if k.startswith('{}###'.format(key))]\n",
    "    [PQ.pop(k) for k in list(PQ.keys()) if k.startswith('{}###'.format(key))]\n",
    "    [QRS.pop(k) for k in list(QRS.keys()) if k.startswith('{}###'.format(key))]\n",
    "    [ST.pop(k) for k in list(ST.keys()) if k.startswith('{}###'.format(key))]\n",
    "    [T.pop(k) for k in list(T.keys()) if k.startswith('{}###'.format(key))]\n",
    "    [TP.pop(k) for k in list(TP.keys()) if k.startswith('{}###'.format(key))]"
   ]
  },
  {
   "cell_type": "code",
   "execution_count": 5,
   "metadata": {},
   "outputs": [],
   "source": [
    "for key in []: \n",
    "    if key in P: P.pop(key)\n",
    "for key in []: \n",
    "    if key in PQ: PQ.pop(key)\n",
    "for key in ['7_V2###0','7_V2###2','7_V2###4','95_V4###0','95_V4###1','95_V4###2']: \n",
    "    if key in QRS: QRS.pop(key)\n",
    "for key in []: \n",
    "    if key in ST: ST.pop(key)\n",
    "for key in []: \n",
    "    if key in T: T.pop(key)\n",
    "for key in (['52_III###4','34_V6###6','74_V4###0','74_V4###1','74_V4###2',\n",
    "             '74_V4###3','74_V4###4','74_V4###5','74_V4###6','74_V4###7',] + \n",
    "            ['111_V2###{}'.format(i) for i in range(7)]): \n",
    "    if key in TP: TP.pop(key)"
   ]
  },
  {
   "cell_type": "markdown",
   "metadata": {},
   "source": [
    "# Normalize amplitudes"
   ]
  },
  {
   "cell_type": "code",
   "execution_count": 6,
   "metadata": {},
   "outputs": [],
   "source": [
    "metric_intralead = np.max # Must remain like this\n",
    "# metric_amplitude = lambda x: utils.signal.amplitude(x)/utils.signal.min_max_ratio(x)\n",
    "metric_amplitude = utils.signal.abs_max\n",
    "\n",
    "beat_sizes = []\n",
    "amplitudes = {k.split('###')[0]: [] for k in list(QRS)}\n",
    "for k in QRS:\n",
    "    g = k.split('###')[0]\n",
    "    segment = utils.signal.on_off_correction(QRS[k])\n",
    "    amplitudes[g].append(metric_amplitude(segment))\n",
    "    beat_sizes.append(segment.size)"
   ]
  },
  {
   "cell_type": "code",
   "execution_count": 10,
   "metadata": {},
   "outputs": [],
   "source": [
    "ALLwaves = [P, PQ, QRS, ST, T, TP]\n",
    "ALLamplitudes = [[], [], [], [], [], []]; QRSratios = []; QRSsizes = [];\n",
    "\n",
    "for i in range(len(ALLwaves)):\n",
    "    for k in ALLwaves[i]:\n",
    "        segment = utils.signal.on_off_correction(ALLwaves[i][k])/metric_intralead(amplitudes[k.split('###')[0]])\n",
    "        ALLamplitudes[i].append(metric_amplitude(segment))\n",
    "        if i == 2:\n",
    "            QRSratios.append(utils.signal.min_max_ratio(segment))\n",
    "            QRSsizes.append(segment.size)\n",
    "    ALLamplitudes[i] = np.array(ALLamplitudes[i])\n",
    "QRSratios = np.array(QRSratios); QRSsizes = np.array(QRSsizes)\n",
    "Pamplitudes, PQamplitudes, QRSamplitudes, STamplitudes, Tamplitudes, TPamplitudes = ALLamplitudes\n",
    "del ALLamplitudes"
   ]
  },
  {
   "cell_type": "code",
   "execution_count": 11,
   "metadata": {},
   "outputs": [],
   "source": [
    "# criterion = 'absmax'\n",
    "# PQthres = 1; STthres = 1; Tthres = 1; TPthres = 1;\n",
    "# # PQthres = 0.3; STthres = 0.4; Tthres = 0.6; TPthres = 0.4;\n",
    "# plt.figure(); _ = plt.hist(beat_sizes,                        bins=100);  plt.title('QRS sizes');      plt.savefig('./figures/QRSsizes.svg')\n",
    "# plt.figure(); _ = plt.hist(Pamplitudes,                       bins=1000); plt.title('P amplitudes');   plt.savefig('./figures/Pamplitudes_{}.svg'.format(criterion))\n",
    "# plt.figure(); _ = plt.hist(PQamplitudes[PQamplitudes<PQthres],bins=1000); plt.title('PQ amplitudes');  plt.savefig('./figures/PQamplitudes_{}.svg'.format(criterion))\n",
    "# plt.figure(); _ = plt.hist(QRSamplitudes,                     bins=1000); plt.title('QRS amplitudes'); plt.savefig('./figures/QRSamplitudes_{}.svg'.format(criterion))\n",
    "# plt.figure(); _ = plt.hist(STamplitudes[STamplitudes<STthres],bins=1000); plt.title('ST amplitudes');  plt.savefig('./figures/STamplitudes_{}.svg'.format(criterion))\n",
    "# plt.figure(); _ = plt.hist(Tamplitudes[Tamplitudes<Tthres],   bins=1000); plt.title('T amplitudes');   plt.savefig('./figures/Tamplitudes_{}.svg'.format(criterion))\n",
    "# plt.figure(); _ = plt.hist(TPamplitudes[TPamplitudes<TPthres],bins=1000); plt.title('TP amplitudes');  plt.savefig('./figures/TPamplitudes_{}.svg'.format(criterion))"
   ]
  },
  {
   "cell_type": "code",
   "execution_count": 12,
   "metadata": {},
   "outputs": [],
   "source": [
    "Pamplitudes = scipy.stats.lognorm(*scipy.stats.lognorm.fit(Pamplitudes/2))\n",
    "PQamplitudes = scipy.stats.lognorm(*scipy.stats.lognorm.fit(PQamplitudes[PQamplitudes<0.3]))\n",
    "QRSamplitudes = scipy.stats.lognorm(*scipy.stats.lognorm.fit(np.hstack((QRSamplitudes, 2-QRSamplitudes))))\n",
    "STamplitudes = scipy.stats.lognorm(*scipy.stats.lognorm.fit(STamplitudes))\n",
    "Tamplitudes = scipy.stats.lognorm(*scipy.stats.lognorm.fit(Tamplitudes[(Tamplitudes>0.05) & (Tamplitudes<0.5)]))\n",
    "TPamplitudes = scipy.stats.lognorm(*scipy.stats.lognorm.fit(TPamplitudes[TPamplitudes<0.4]))"
   ]
  },
  {
   "cell_type": "code",
   "execution_count": 13,
   "metadata": {},
   "outputs": [],
   "source": [
    "for i in range(len(ALLwaves)):\n",
    "    keys = list(ALLwaves[i])\n",
    "    for k in keys:\n",
    "        segment = utils.signal.on_off_correction(ALLwaves[i][k])\n",
    "        ALLwaves[i][k] = utils.data.ball_scaling(segment,metric=utils.signal.abs_max)\n",
    "        if np.any(np.isinf(ALLwaves[i][k])) or np.any(np.isnan(ALLwaves[i][k])):\n",
    "            ALLwaves[i].pop(k)\n",
    "del ALLwaves"
   ]
  },
  {
   "cell_type": "markdown",
   "metadata": {},
   "source": [
    "# Plot src.data.Dataset"
   ]
  },
  {
   "cell_type": "code",
   "execution_count": 18,
   "metadata": {},
   "outputs": [],
   "source": [
    "import src.data_temp"
   ]
  },
  {
   "cell_type": "code",
   "execution_count": 19,
   "metadata": {},
   "outputs": [],
   "source": [
    "tmp = src.data_temp.Dataset(P, QRS, T, PQ, ST, TP, \n",
    "                 Pamplitudes, QRSamplitudes, Tamplitudes, \n",
    "                 PQamplitudes, STamplitudes, TPamplitudes, \n",
    "                 200, scaling_metric=utils.signal.abs_max)"
   ]
  },
  {
   "cell_type": "code",
   "execution_count": 23,
   "metadata": {
    "scrolled": false
   },
   "outputs": [
    {
     "data": {
      "image/png": "[encoded data removed]",
      "text/plain": [
       "<Figure size 1152x216 with 1 Axes>"
      ]
     },
     "metadata": {
      "needs_background": "light"
     },
     "output_type": "display_data"
    }
   ],
   "source": [
    "out = tmp[0]\n",
    "if len(out) == 2:\n",
    "    sig,masks_all = out\n",
    "else:\n",
    "    sig,masks_all,beats,masks = out\n",
    "    wtlist = [utils.wavelet.transform(beats[i],250.) for i in range(len(beats))]\n",
    "sig = sig.squeeze()\n",
    "# wt = utils.wavelet.transform(sig,250)\n",
    "# masks_all = mask.T\n",
    "\n",
    "mskplt = ((np.max(sig)-np.min(sig))*masks_all)+np.min(sig)\n",
    "\n",
    "plt.figure(figsize=(16,3))\n",
    "plt.plot(sig)\n",
    "# plt.plot(wt[:,0,-2])\n",
    "plt.xlim([0,tmp.N])\n",
    "plt.gca().fill_between(np.arange(tmp.N), mskplt[0,:], mskplt[0,:].min(), linewidth=0, alpha=0.15, color='red')\n",
    "plt.gca().fill_between(np.arange(tmp.N), mskplt[1,:], mskplt[1,:].min(), linewidth=0, alpha=0.15, color='green')\n",
    "plt.gca().fill_between(np.arange(tmp.N), mskplt[2,:], mskplt[2,:].min(), linewidth=0, alpha=0.15, color='magenta')\n",
    "plt.show()"
   ]
  },
  {
   "cell_type": "code",
   "execution_count": null,
   "metadata": {},
   "outputs": [],
   "source": []
  },
  {
   "cell_type": "code",
   "execution_count": null,
   "metadata": {},
   "outputs": [],
   "source": [
    "# w = 0\n",
    "# s = 3\n",
    "# L = 20\n",
    "# f,ax = plt.subplots(ncols=L,figsize=(0.5*L,3),sharey=True)\n",
    "# [ax[i].plot(beats[w+i]) for i in range(L)]\n",
    "# [ax[i].plot(wtlist[w+i][:,0,s]) for i in range(L)]\n",
    "# f.tight_layout()\n",
    "# f.subplots_adjust(hspace=0.00,wspace=0.00)"
   ]
  },
  {
   "cell_type": "code",
   "execution_count": null,
   "metadata": {},
   "outputs": [],
   "source": [
    "# pad_size = 64\n",
    "# # i = 1000\n",
    "# i = 0000\n",
    "# # i = 14978\n",
    "# # i = 14979\n",
    "# s = 4\n",
    "# sig = QRS[list(QRS)[i]]\n",
    "# sig2 = np.pad(sig,((pad_size,pad_size),),mode='edge')\n",
    "# wt = utils.wavelet.transform(sig2,250.).squeeze()\n",
    "# print(wt.max(0)-wt.min(0))\n",
    "# print(np.mean((wt.max(0)-wt.min(0))[-2:]))\n",
    "# wt = wt[pad_size:-pad_size,:]\n",
    "# plt.figure(figsize=(0.5,3))\n",
    "# plt.plot(sig)\n",
    "# plt.plot(wt[:,s])"
   ]
  },
  {
   "cell_type": "code",
   "execution_count": null,
   "metadata": {},
   "outputs": [],
   "source": [
    "# s = 3\n",
    "# sig2 = np.concatenate(beats)\n",
    "# wt = utils.wavelet.transform(sig2,250)[:,0,s]\n",
    "# wtlist = [utils.wavelet.transform(beats[i],250.) for i in range(len(beats))]\n",
    "# wt2 = np.concatenate([wtlist[w][:,0,s] for w in range(len(wtlist))])\n",
    "\n",
    "# f,ax = plt.subplots(nrows=4,figsize=(15,9))\n",
    "# ax[0].plot(sig2)\n",
    "# ax[1].plot(wt)\n",
    "# ax[2].plot(wt2)\n",
    "# ax[3].plot(wt2)\n",
    "# ax[3].plot(wt)\n",
    "# [ax[i].set_xlim([0,N]) for i in range(ax.size)]"
   ]
  },
  {
   "cell_type": "code",
   "execution_count": null,
   "metadata": {},
   "outputs": [],
   "source": [
    "wt = utils.wavelet.transform(sig,250)\n",
    "f,ax = utils.visualization.plot.wavelets(sig,wt,figsize=(15,15),returns=True)\n",
    "[ax[i,0].set_xlim([0,tmp.N]) for i in range(6)]\n",
    "plt.show()"
   ]
  },
  {
   "cell_type": "markdown",
   "metadata": {},
   "source": [
    "# fiducials to delete\n",
    "\n",
    "* QRS - 111_AVF_24\n",
    "* QRS - sel820_1_156\n",
    "* QRS - 95_AVR_16\n",
    "* ~TP - sel306_1_211~\n",
    "* ~TP - sel114_0_179~\n",
    "* PT - sel803_0_109"
   ]
  },
  {
   "cell_type": "markdown",
   "metadata": {},
   "source": [
    "# Fix amplitudes"
   ]
  },
  {
   "cell_type": "code",
   "execution_count": 47,
   "metadata": {},
   "outputs": [
    {
     "data": {
      "image/png": "[encoded data removed]",
      "text/plain": [
       "<Figure size 432x288 with 1 Axes>"
      ]
     },
     "metadata": {
      "needs_background": "light"
     },
     "output_type": "display_data"
    },
    {
     "data": {
      "image/png": "[encoded data removed]",
      "text/plain": [
       "<Figure size 432x288 with 1 Axes>"
      ]
     },
     "metadata": {
      "needs_background": "light"
     },
     "output_type": "display_data"
    },
    {
     "data": {
      "image/png": "[encoded data removed]",
      "text/plain": [
       "<Figure size 432x288 with 1 Axes>"
      ]
     },
     "metadata": {
      "needs_background": "light"
     },
     "output_type": "display_data"
    },
    {
     "data": {
      "image/png": "[encoded data removed]",
      "text/plain": [
       "<Figure size 432x288 with 1 Axes>"
      ]
     },
     "metadata": {
      "needs_background": "light"
     },
     "output_type": "display_data"
    },
    {
     "data": {
      "image/png": "[encoded data removed]",
      "text/plain": [
       "<Figure size 432x288 with 1 Axes>"
      ]
     },
     "metadata": {
      "needs_background": "light"
     },
     "output_type": "display_data"
    },
    {
     "data": {
      "image/png": "[encoded data removed]",
      "text/plain": [
       "<Figure size 432x288 with 1 Axes>"
      ]
     },
     "metadata": {
      "needs_background": "light"
     },
     "output_type": "display_data"
    }
   ],
   "source": [
    "filt = QRSamplitudes < 1\n",
    "aaa = QRSamplitudes[filt]\n",
    "bbb = QRSratios[filt]\n",
    "ccc = QRSsizes[filt]\n",
    "\n",
    "plt.figure(); _ = plt.hist(QRSsizes,bins=100)\n",
    "\n",
    "plt.figure(); _ = plt.hist(aaa[bbb<0.2],bins=100)\n",
    "plt.figure(); _ = plt.hist(aaa[(bbb>=0.2) & (bbb<0.4)],bins=100)\n",
    "plt.figure(); _ = plt.hist(aaa[(bbb>=0.4) & (bbb<0.6)],bins=100)\n",
    "plt.figure(); _ = plt.hist(aaa[(bbb>=0.6) & (bbb<0.8)],bins=100)\n",
    "plt.figure(); _ = plt.hist(aaa[(bbb>=0.8)],bins=100)\n"
   ]
  },
  {
   "cell_type": "code",
   "execution_count": null,
   "metadata": {},
   "outputs": [],
   "source": []
  },
  {
   "cell_type": "code",
   "execution_count": null,
   "metadata": {},
   "outputs": [],
   "source": []
  },
  {
   "cell_type": "code",
   "execution_count": null,
   "metadata": {},
   "outputs": [],
   "source": []
  },
  {
   "cell_type": "markdown",
   "metadata": {},
   "source": [
    "# Convolve shape into another"
   ]
  },
  {
   "cell_type": "code",
   "execution_count": 199,
   "metadata": {},
   "outputs": [
    {
     "data": {
      "image/png": "[encoded data removed]",
      "text/plain": [
       "<Figure size 1152x216 with 1 Axes>"
      ]
     },
     "metadata": {
      "needs_background": "light"
     },
     "output_type": "display_data"
    }
   ],
   "source": [
    "tmp.return_beats = True\n",
    "sig,masks_all,beats,masks = tmp[0]\n",
    "sig = sig.squeeze()\n",
    "# masks_all = mask.T\n",
    "\n",
    "mskplt = ((np.max(sig)-np.min(sig))*masks_all)+np.min(sig)\n",
    "\n",
    "plt.figure(figsize=(16,3))\n",
    "plt.plot(sig)\n",
    "plt.xlim([0,tmp.N])\n",
    "plt.gca().fill_between(np.arange(tmp.N), mskplt[0,:], mskplt[0,:].min(), linewidth=0, alpha=0.15, color='red')\n",
    "plt.gca().fill_between(np.arange(tmp.N), mskplt[1,:], mskplt[1,:].min(), linewidth=0, alpha=0.15, color='green')\n",
    "plt.gca().fill_between(np.arange(tmp.N), mskplt[2,:], mskplt[2,:].min(), linewidth=0, alpha=0.15, color='magenta')\n",
    "plt.show()"
   ]
  },
  {
   "cell_type": "code",
   "execution_count": 200,
   "metadata": {},
   "outputs": [
    {
     "data": {
      "image/png": "[encoded data removed]",
      "text/plain": [
       "<Figure size 720x216 with 20 Axes>"
      ]
     },
     "metadata": {
      "needs_background": "light"
     },
     "output_type": "display_data"
    }
   ],
   "source": [
    "w = 0\n",
    "s = 3\n",
    "L = 20\n",
    "f,ax = plt.subplots(ncols=L,figsize=(0.5*L,3),sharey=True)\n",
    "[ax[i].plot(beats[w+i]) for i in range(L)]\n",
    "f.tight_layout()\n",
    "f.subplots_adjust(hspace=0.00,wspace=0.00)"
   ]
  },
  {
   "cell_type": "code",
   "execution_count": null,
   "metadata": {},
   "outputs": [],
   "source": [
    "QRSwave = np.copy(beats[4])\n",
    "Twave = np.copy(beats[6])\n",
    "TPwave = np.copy(beats[14])\n",
    "Twave2 = np.copy(Twave)\n",
    "TPwave2 = np.copy(TPwave)\n",
    "Twave2 = utils.signal.on_off_correction(Twave2)\n",
    "TPwave2 = utils.signal.on_off_correction(TPwave2)\n",
    "\n",
    "# Twave2[-TPwave2.size:] += TPwave2\n",
    "conv = np.convolve(Twave2[-TPwave2.size:], TPwave2, mode='same')\n",
    "conv += Twave[-TPwave2.size]\n",
    "# conv -= TPwave[0]\n",
    "Twave2[-TPwave2.size:] = conv"
   ]
  },
  {
   "cell_type": "code",
   "execution_count": null,
   "metadata": {},
   "outputs": [],
   "source": [
    "plt.plot(Twave)\n",
    "plt.plot(TPwave)\n",
    "# plt.plot(Twave2)\n",
    "plt.plot(np.convolve(Twave,np.pad(TPwave,((Twave.size-TPwave.size,0)), constant_values=1), mode='same'))\n"
   ]
  },
  {
   "cell_type": "code",
   "execution_count": null,
   "metadata": {},
   "outputs": [],
   "source": []
  },
  {
   "cell_type": "markdown",
   "metadata": {},
   "source": [
    "# OLD AND CREEPY"
   ]
  },
  {
   "cell_type": "markdown",
   "metadata": {},
   "source": [
    "## Callibrating QRS amplitudes"
   ]
  },
  {
   "cell_type": "code",
   "execution_count": 12,
   "metadata": {},
   "outputs": [],
   "source": [
    "# QRSamplitudes3 = np.hstack((QRSamplitudes2, 2-QRSamplitudes2))\n",
    "# QRSamplitudes3dist = scipy.stats.lognorm(*scipy.stats.lognorm.fit(QRSamplitudes3))\n",
    "# QRSamplitudesExp = scipy.stats.exponnorm(*scipy.stats.exponnorm.fit(QRSamplitudes2))\n",
    "# QRSamplitudesGamma = scipy.stats.gamma(*scipy.stats.gamma.fit(QRSamplitudes2))\n",
    "# print((QRSamplitudes2 == 1).sum())\n",
    "# print((QRSamplitudes2 < 0.1).sum())"
   ]
  },
  {
   "cell_type": "code",
   "execution_count": 13,
   "metadata": {},
   "outputs": [],
   "source": [
    "# tst3 = QRSamplitudes3dist.rvs(N)\n",
    "# tst3 = tst3[tst3 <= 1.15]\n",
    "# tst3 = tst3[tst3 > 0.1]\n",
    "# tst3 = tst3.clip(max=1)\n",
    "# (tst3 == 1).sum()"
   ]
  },
  {
   "cell_type": "code",
   "execution_count": 14,
   "metadata": {},
   "outputs": [],
   "source": [
    "# N = QRSamplitudes2.size\n",
    "# tst = QRSamplitudes.rvs(N)\n",
    "# tst = tst[tst <= 1]\n",
    "# tst = tst[tst > 0.1]\n",
    "# tst3 = QRSamplitudes3dist.rvs(N)\n",
    "# tst3 = tst3[tst3 <= 1.005]\n",
    "# tst3 = tst3[tst3 > 0.1]\n",
    "# tst3 = tst3.clip(max=1)\n",
    "# # tst4 = QRSamplitudeslognorm.rvs(N)\n",
    "# # tst4 = tst4[tst4 <= 1]\n",
    "# # tst4 = tst4[tst4 > 0.1]\n",
    "# # _ = plt.hist(tst,bins=1000);\n",
    "# _ = plt.hist(tst3,bins=1000);\n",
    "# # _ = plt.hist(tst4,bins=1000);\n",
    "# # _ = plt.hist(QRSamplitudes2[QRSamplitudes2<1],bins=1000);\n",
    "# _ = plt.hist(QRSamplitudes2,bins=1000);"
   ]
  },
  {
   "cell_type": "markdown",
   "metadata": {},
   "source": [
    "## Some old code"
   ]
  },
  {
   "cell_type": "code",
   "execution_count": null,
   "metadata": {},
   "outputs": [],
   "source": [
    "# metric = np.max\n",
    "\n",
    "# amplitudes = {k.split('###')[0]: [] for k in list(QRS)}\n",
    "# for k in QRS:\n",
    "#     g = k.split('###')[0]\n",
    "#     segment = utils.signal.on_off_correction(QRS[k])\n",
    "#     amplitudes[g].append(np.max(segment) - np.min(segment))"
   ]
  },
  {
   "cell_type": "code",
   "execution_count": null,
   "metadata": {},
   "outputs": [],
   "source": [
    "# Pamplitudes = []\n",
    "# for k in P:\n",
    "#     segment = utils.signal.on_off_correction(P[k])/metric(amplitudes[k.split('###')[0]])\n",
    "#     Pamplitudes.append(segment.max()-segment.min())\n",
    "# Pamplitudes = np.array(Pamplitudes)\n",
    "# PQamplitudes = []\n",
    "# for k in PQ:\n",
    "#     segment = utils.signal.on_off_correction(PQ[k])/metric(amplitudes[k.split('###')[0]])\n",
    "#     PQamplitudes.append(segment.max()-segment.min())\n",
    "# PQamplitudes = np.array(PQamplitudes)\n",
    "# QRSamplitudes = []\n",
    "# for k in QRS:\n",
    "#     segment = utils.signal.on_off_correction(QRS[k])/metric(amplitudes[k.split('###')[0]])\n",
    "#     QRSamplitudes.append(segment.max()-segment.min())\n",
    "# QRSamplitudes = np.array(QRSamplitudes)\n",
    "# STamplitudes = []\n",
    "# for k in ST:\n",
    "#     segment = utils.signal.on_off_correction(ST[k])/metric(amplitudes[k.split('###')[0]])\n",
    "#     STamplitudes.append(segment.max()-segment.min())\n",
    "# STamplitudes = np.array(STamplitudes)\n",
    "# Tamplitudes = []\n",
    "# for k in T:\n",
    "#     segment = utils.signal.on_off_correction(T[k])/metric(amplitudes[k.split('###')[0]])\n",
    "#     Tamplitudes.append(segment.max()-segment.min())\n",
    "# Tamplitudes = np.array(Tamplitudes)\n",
    "# TPamplitudes = []\n",
    "# for k in TP:\n",
    "#     segment = utils.signal.on_off_correction(TP[k])/metric(amplitudes[k.split('###')[0]])\n",
    "#     TPamplitudes.append(segment.max()-segment.min())\n",
    "# TPamplitudes = np.array(TPamplitudes)"
   ]
  },
  {
   "cell_type": "markdown",
   "metadata": {},
   "source": [
    "# AFib"
   ]
  },
  {
   "cell_type": "markdown",
   "metadata": {},
   "source": [
    "#### Method 1)"
   ]
  },
  {
   "cell_type": "code",
   "execution_count": null,
   "metadata": {},
   "outputs": [],
   "source": [
    "# #hyperparams\n",
    "# w = 5\n",
    "# n = np.random.randint(1,4)\n",
    "\n",
    "# # Segment retrieval\n",
    "# segment = P[list(P)[np.random.randint(0,len(P))]]\n",
    "\n",
    "# # AFib simulation\n",
    "# on = np.random.choice([0,segment.size,2*segment.size])\n",
    "\n",
    "# segment  = np.concatenate([-segment,segment]*n)/2\n",
    "# amplcor  = np.ones_like(segment)\n",
    "\n",
    "# noise = np.linspace(1,np.random.randn(1),segment.size).squeeze()*0.5+0.5\n",
    "# segment *= noise\n",
    "# amplcor *= noise\n",
    "\n",
    "# # noise = np.sin(np.linspace(0,np.random.randint(5,20),segment.size)+np.random.randn(1))*0.4+0.6\n",
    "# # segment *= noise\n",
    "# # amplcor *= noise\n",
    "\n",
    "# # noise = scipy.signal.chirp(np.linspace(0,np.random.randint(5,20),segment.size),0,200,np.random.randint(5,30))*0.4+0.6\n",
    "# # segment *= noise\n",
    "# # amplcor *= noise\n",
    "\n",
    "# noise = np.convolve(np.random.rand(2*segment.size),np.hamming(w)/(w/2),mode='same')[segment.size//2:-segment.size//2]\n",
    "# segment *= noise\n",
    "# amplcor *= noise\n",
    "\n",
    "# segment  = segment[on:]\n",
    "# amplcor  = amplcor[on:]\n",
    "# # segment *= np.max(1/amplcor)\n",
    "# # segment  = segment/(np.max(segment)-np.min(segment))\n",
    "# # segment = utils.signal.on_off_correction(segment)\n",
    "# plt.plot(segment)\n"
   ]
  },
  {
   "cell_type": "code",
   "execution_count": null,
   "metadata": {},
   "outputs": [],
   "source": [
    "# x = np.linspace(0,1,np.random.randint(10,100))\n",
    "\n",
    "# fundamentals = [\n",
    "# #     lambda x,i: x**i,\n",
    "# #     lambda x,i: (np.sin(x*np.pi/2))**i,\n",
    "# #     lambda x,i: (-np.cos(x*np.pi/2)+1)**i,\n",
    "# #     lambda x,i: -np.exp(-(i+2)*x)+1,\n",
    "#     lambda x,i: np.random.rand(1)/(1 + np.exp(-np.random.randint(10,20)*(x-0.5))),\n",
    "#     lambda x,i: x,\n",
    "# ]\n",
    "\n",
    "# for f in fundamentals:\n",
    "#     plt.plot(f(x,np.random.randint(1,5)))"
   ]
  },
  {
   "cell_type": "code",
   "execution_count": null,
   "metadata": {},
   "outputs": [],
   "source": [
    "# f = np.random.choice(fundamentals)\n",
    "# i = np.random.randint(1,10)\n",
    "# x = np.linspace(0,1,segment.size)\n",
    "\n",
    "# ix_left = np.random.randint(2,segment.size//4)\n",
    "# ix_right = np.random.randint(3*segment.size//4,segment.size-1)\n",
    "\n",
    "# ampl_left = (np.random.rand(1)*0.75+1)\n",
    "# ampl_right = (np.random.rand(1)*0.75+1)\n",
    "\n",
    "# x_left = x*ampl_left\n",
    "# x_right = x*ampl_right-(ampl_right-1)\n",
    "# x_center = f(np.linspace(0,1,np.random.randint(segment.size//8,ix_right-ix_left)),i)\n",
    "# # x_center *= np.sin(x_center)\n",
    "# # x_center\n",
    "# # x_center = f(np.linspace(0,1,ix_right-ix_left).squeeze(),i)\n",
    "# x_center = (x_right[ix_right-1]-x_left[ix_left])*x_center/(np.max(x_center)-np.min(x_center))+x_left[ix_left]\n",
    "# x2 = np.concatenate((x_left[:ix_left],x_center,x_right[ix_right:]))\n",
    "\n",
    "# print(x.size)\n",
    "# print(x2.size)\n",
    "\n",
    "# plt.plot(np.linspace(0,1,x.size),x)\n",
    "# plt.plot(np.linspace(0,1,x2.size),x2)\n"
   ]
  },
  {
   "cell_type": "code",
   "execution_count": null,
   "metadata": {},
   "outputs": [],
   "source": [
    "# fundamentals = [\n",
    "# #     lambda x,i: x**i,\n",
    "# #     lambda x,i: (np.sin(x*np.pi/2))**i,\n",
    "# #     lambda x,i: (-np.cos(x*np.pi/2)+1)**i,\n",
    "# #     lambda x,i: -np.exp(-(i+2)*x)+1,\n",
    "#     lambda x,i: np.random.rand(1)/(1 + np.exp(-np.random.randint(10,20)*(x-0.5))),\n",
    "#     lambda x,i: x,\n",
    "# ]\n",
    "\n",
    "# #hyperparams\n",
    "# w = 5\n",
    "# n = np.random.randint(4,8)\n",
    "\n",
    "# # Segment retrieval\n",
    "# segment = P[list(P)[np.random.randint(0,len(P))]]\n",
    "# # skjggl\n",
    "# # AFib simulation\n",
    "# on = np.random.choice([0,segment.size,2*segment.size])\n",
    "# seglist = []\n",
    "# x = np.linspace(0,1,segment.size)\n",
    "# for i in range(n):\n",
    "#     f = np.random.choice(fundamentals)\n",
    "\n",
    "#     ix_left = np.random.randint(2,segment.size//4)\n",
    "#     ix_right = np.random.randint(3*segment.size//4,segment.size-1)\n",
    "\n",
    "#     ampl_left = (np.random.rand(1)*0.75+1)\n",
    "#     ampl_right = (np.random.rand(1)*0.75+1)\n",
    "\n",
    "#     x_left = x*ampl_left\n",
    "#     x_right = x*ampl_right-(ampl_right-1)\n",
    "#     x_center = np.linspace(x_left[ix_left],x_right[ix_right-1],np.random.randint(segment.size//4,ix_right-ix_left))\n",
    "# #     x_center = f(np.linspace(0,1,ix_right-ix_left).squeeze(),np.random.randint(1,10))\n",
    "# #     x_center = (x_right[ix_right-1]-x_left[ix_left])*x_center/(np.max(x_center)-np.min(x_center))+x_left[ix_left]\n",
    "    \n",
    "#     x2 = np.concatenate((x_left[:ix_left],x_center,x_right[ix_right:]))\n",
    "    \n",
    "#     print(x2.size)\n",
    "#     seglist.append(sp.interpolate.interp1d(x,((-1)**i)*segment)(x2)[:-1])\n",
    "# # plt.plot(segment)\n",
    "# segment  = np.concatenate(seglist)\n",
    "# plt.figure()\n",
    "# plt.plot(segment)\n"
   ]
  },
  {
   "cell_type": "markdown",
   "metadata": {},
   "source": [
    "#### Method 2)"
   ]
  },
  {
   "cell_type": "code",
   "execution_count": null,
   "metadata": {},
   "outputs": [],
   "source": [
    "# #hyperparams\n",
    "# w = 5\n",
    "# n = np.random.randint(2,8)\n",
    "\n",
    "# # Segment retrieval\n",
    "# segment = P[list(P)[np.random.randint(0,len(P))]]\n",
    "\n",
    "# # AFib simulation\n",
    "# on = np.random.choice([0,segment.size,2*segment.size])\n",
    "# seglist = []\n",
    "# for i in range(n):\n",
    "#     x = np.linspace(0,1,segment.size)\n",
    "#     f = np.random.choice(fundamentals)\n",
    "#     seglist.append(sp.interpolate.interp1d(x,((-1)**i)*segment)(f(x,np.random.randint(1,5))))\n",
    "# afjsdlkgfj\n",
    "# plt.plot(segment)\n",
    "# segment  = np.concatenate(seglist)\n",
    "# plt.figure()\n",
    "# plt.plot(segment)\n"
   ]
  },
  {
   "cell_type": "markdown",
   "metadata": {},
   "source": [
    "#### Method 3)"
   ]
  },
  {
   "cell_type": "code",
   "execution_count": null,
   "metadata": {},
   "outputs": [],
   "source": [
    "# pAF = P[list(P)[np.random.randint(0,len(P))]]\n",
    "# pAF = sp.interpolate.interp1d(np.linspace(0,1,pAF.size),pAF)(np.linspace(0,1,pAF.size//2))\n",
    "# i = np.random.choice([0,1])\n",
    "# segment  = TP[list(TP)[np.random.randint(0,len(TP))]]\n",
    "# segment  = sp.interpolate.interp1d(np.linspace(0,1,segment.size),segment)(np.linspace(0,1,segment.size+pAF.size))\n",
    "# segment  = np.convolve(segment,np.concatenate([((-1)**(i))*pAF,((-1)**(i+1))*pAF]))\n",
    "# segment /= np.max(segment)-np.min(segment)\n",
    "# segment *= 2*Pamplitudes.rvs(1)\n",
    "\n",
    "# plt.plot(pAF)\n",
    "# plt.figure()\n",
    "# plt.plot(segment)"
   ]
  },
  {
   "cell_type": "code",
   "execution_count": null,
   "metadata": {},
   "outputs": [],
   "source": []
  },
  {
   "cell_type": "code",
   "execution_count": null,
   "metadata": {},
   "outputs": [],
   "source": []
  },
  {
   "cell_type": "markdown",
   "metadata": {},
   "source": [
    "#### Compute criteria"
   ]
  },
  {
   "cell_type": "code",
   "execution_count": null,
   "metadata": {},
   "outputs": [],
   "source": [
    "# # Generate wavelets\n",
    "# Pwavelet = {k: utils.wavelet.transform(Psignal[k],250.).squeeze() for k in tqdm.tqdm(Psignal.keys())}\n",
    "# PQwavelet = {k: utils.wavelet.transform(PQsignal[k],250.).squeeze() for k in tqdm.tqdm(PQsignal.keys())}\n",
    "# QRSwavelet = {k: utils.wavelet.transform(QRSsignal[k],250.).squeeze() for k in tqdm.tqdm(QRSsignal.keys())}\n",
    "# STwavelet = {k: utils.wavelet.transform(STsignal[k],250.).squeeze() for k in tqdm.tqdm(STsignal.keys())}\n",
    "# Twavelet = {k: utils.wavelet.transform(Tsignal[k],250.).squeeze() for k in tqdm.tqdm(Tsignal.keys())}\n",
    "# TPwavelet = {k: utils.wavelet.transform(TPsignal[k],250.).squeeze() for k in tqdm.tqdm(TPsignal.keys())}"
   ]
  },
  {
   "cell_type": "code",
   "execution_count": null,
   "metadata": {},
   "outputs": [],
   "source": [
    "# # Generate criteria\n",
    "# s = 3 # wavelet scale\n",
    "# eps = np.finfo('float').eps\n",
    "# Pcriteria = {k: ((np.sign(Pwavelet[k][0,s]),(Pwavelet[k][0,s]-Pwavelet[k][1,s]+eps)/(np.max(Pwavelet[k][:,s])-np.min(Pwavelet[k][:,s]+eps))),\n",
    "#                  (np.sign(Pwavelet[k][-1,s]),(Pwavelet[k][-1,s]-Pwavelet[k][-2,s]+eps)/(np.max(Pwavelet[k][:,s])-np.min(Pwavelet[k][:,s]+eps)))) for k in Psignal.keys()}\n",
    "# PQcriteria = {k: ((np.sign(PQwavelet[k][0,s]),(PQwavelet[k][0,s]-PQwavelet[k][1,s]+eps)/(np.max(PQwavelet[k][:,s])-np.min(PQwavelet[k][:,s]+eps))),\n",
    "#                  (np.sign(PQwavelet[k][-1,s]),(PQwavelet[k][-1,s]-PQwavelet[k][-2,s]+eps)/(np.max(PQwavelet[k][:,s])-np.min(PQwavelet[k][:,s]+eps)))) for k in PQsignal.keys()}\n",
    "# QRScriteria = {k: ((np.sign(QRSwavelet[k][0,s]),(QRSwavelet[k][0,s]-QRSwavelet[k][1,s]+eps)/(np.max(QRSwavelet[k][:,s])-np.min(QRSwavelet[k][:,s]+eps))),\n",
    "#                  (np.sign(QRSwavelet[k][-1,s]),(QRSwavelet[k][-1,s]-QRSwavelet[k][-2,s]+eps)/(np.max(QRSwavelet[k][:,s])-np.min(QRSwavelet[k][:,s]+eps)))) for k in QRSsignal.keys()}\n",
    "# STcriteria = {k: ((np.sign(STwavelet[k][0,s]),(STwavelet[k][0,s]-STwavelet[k][1,s]+eps)/(np.max(STwavelet[k][:,s])-np.min(STwavelet[k][:,s]+eps))),\n",
    "#                  (np.sign(STwavelet[k][-1,s]),(STwavelet[k][-1,s]-STwavelet[k][-2,s]+eps)/(np.max(STwavelet[k][:,s])-np.min(STwavelet[k][:,s]+eps)))) for k in STsignal.keys()}\n",
    "# Tcriteria = {k: ((np.sign(Twavelet[k][0,s]),(Twavelet[k][0,s]-Twavelet[k][1,s]+eps)/(np.max(Twavelet[k][:,s])-np.min(Twavelet[k][:,s]+eps))),\n",
    "#                  (np.sign(Twavelet[k][-1,s]),(Twavelet[k][-1,s]-Twavelet[k][-2,s]+eps)/(np.max(Twavelet[k][:,s])-np.min(Twavelet[k][:,s]+eps)))) for k in Tsignal.keys()}\n",
    "# TPcriteria = {k: ((np.sign(TPwavelet[k][0,s]),(TPwavelet[k][0,s]-TPwavelet[k][1,s]+eps)/(np.max(TPwavelet[k][:,s])-np.min(TPwavelet[k][:,s]+eps))),\n",
    "#                  (np.sign(TPwavelet[k][-1,s]),(TPwavelet[k][-1,s]-TPwavelet[k][-2,s]+eps)/(np.max(TPwavelet[k][:,s])-np.min(TPwavelet[k][:,s]+eps)))) for k in TPsignal.keys()}"
   ]
  },
  {
   "cell_type": "code",
   "execution_count": null,
   "metadata": {},
   "outputs": [],
   "source": [
    "# N = 2048\n",
    "# s = 3\n",
    "\n",
    "# has_P = np.random.rand(1) > 0.1\n",
    "# has_PQ = np.random.rand(1) > 0.2\n",
    "# has_ST = np.random.rand(1) > 0.2\n",
    "# has_BBB = np.random.rand(1) > 0.9\n",
    "# counter_BBB = 0\n",
    "# repetitions_BBB = np.random.randint(2,4)\n",
    "\n",
    "# beats = []\n",
    "# ids = []\n",
    "\n",
    "# # Include first beat\n",
    "# ids.append(('TPsignal',np.random.randint(0,len(TPsignal))))\n",
    "# beats.append(utils.signal.on_off_correction(TPsignal[list(TPsignal)[ids[-1][1]]]))\n",
    "# size = beats[0].size\n",
    "# masks = np.zeros((size,),dtype='int8')\n",
    "# onset = np.random.randint(0,size)\n",
    "# while size-onset < N:\n",
    "#     # P wave (sometimes)\n",
    "#     if has_BBB:\n",
    "#         if counter_BBB == 0:\n",
    "#             id_BBB_P = ('Psignal',np.random.randint(0,len(Psignal)))\n",
    "#         ids.append(id_BBB_P)\n",
    "#         p = trailonset(Psignal[list(Psignal)[ids[-1][1]]],beats[-1][-1])[1:]\n",
    "#         beats.append(p)\n",
    "#         masks = np.concatenate((masks,1*np.ones((p.size,),dtype='int8')))\n",
    "\n",
    "#         if has_PQ:\n",
    "#             # PQ segment\n",
    "#             ids.append(('PQsignal',np.random.randint(0,len(PQsignal))))\n",
    "#             pq = trailonset(PQsignal[list(PQsignal)[ids[-1][1]]],beats[-1][-1])[1:]\n",
    "#             beats.append(pq)\n",
    "#             masks = np.concatenate((masks,np.zeros((pq.size,),dtype='int8')))\n",
    "#     elif (np.random.rand(1) < 0.75) and (has_P):\n",
    "#         ids.append(('Psignal',np.random.randint(0,len(Psignal))))\n",
    "#         p = trailonset(Psignal[list(Psignal)[ids[-1][1]]],beats[-1][-1])[1:]\n",
    "#         beats.append(p)\n",
    "#         masks = np.concatenate((masks,1*np.ones((p.size,),dtype='int8')))\n",
    "\n",
    "#         if has_PQ:\n",
    "#             # PQ segment\n",
    "#             ids.append(('PQsignal',np.random.randint(0,len(PQsignal))))\n",
    "#             pq = trailonset(PQsignal[list(PQsignal)[ids[-1][1]]],beats[-1][-1])[1:]\n",
    "#             beats.append(pq)\n",
    "#             masks = np.concatenate((masks,np.zeros((pq.size,),dtype='int8')))\n",
    "\n",
    "#     # QRS wave\n",
    "#     has_QRS = np.random.rand(1)\n",
    "#     if has_BBB:\n",
    "#         if counter_BBB%repetitions_BBB == 0:\n",
    "#             id_BBB_QRS = ('QRSsignal',np.random.randint(0,len(QRSsignal)))\n",
    "#             ids.append(id_BBB_QRS)\n",
    "#             qrs = trailonset(QRSsignal[list(QRSsignal)[ids[-1][1]]],beats[-1][-1])[1:]\n",
    "#             beats.append(qrs)\n",
    "#             masks = np.concatenate((masks,2*np.ones((qrs.size,),dtype='int8')))\n",
    "#         else:\n",
    "#             pass\n",
    "#     elif (has_QRS < 0.99):\n",
    "#         ids.append(('QRSsignal',np.random.randint(0,len(QRSsignal))))\n",
    "#         qrs = trailonset(QRSsignal[list(QRSsignal)[ids[-1][1]]],beats[-1][-1])[1:]\n",
    "#         beats.append(qrs)\n",
    "#         masks = np.concatenate((masks,2*np.ones((qrs.size,),dtype='int8')))\n",
    "    \n",
    "#     # ST segment\n",
    "#     if has_BBB and (counter_BBB%repetitions_BBB != 0):\n",
    "#         pass\n",
    "#     elif (np.random.rand(1) < 0.75) and (has_ST):\n",
    "#         ids.append(('STsignal',np.random.randint(0,len(STsignal))))\n",
    "#         st = trailonset(STsignal[list(STsignal)[ids[-1][1]]],beats[-1][-1])[1:]\n",
    "#         beats.append(st)\n",
    "#         masks = np.concatenate((masks,np.zeros((st.size,),dtype='int8')))\n",
    "\n",
    "#     # T wave\n",
    "#     if has_BBB:\n",
    "#         if counter_BBB%repetitions_BBB == 0:\n",
    "#             ids.append(('Tsignal',np.random.randint(0,len(Tsignal))))\n",
    "#             t = trailonset(Tsignal[list(Tsignal)[ids[-1][1]]],beats[-1][-1])[1:]\n",
    "#             beats.append(t)\n",
    "#             masks = np.concatenate((masks,3*np.ones((t.size,),dtype='int8')))\n",
    "#         else:\n",
    "#             pass\n",
    "#     elif (has_QRS < 0.99):\n",
    "#         ids.append(('Tsignal',np.random.randint(0,len(Tsignal))))\n",
    "#         t = trailonset(Tsignal[list(Tsignal)[ids[-1][1]]],beats[-1][-1])[1:]\n",
    "#         beats.append(t)\n",
    "#         masks = np.concatenate((masks,3*np.ones((t.size,),dtype='int8')))\n",
    "\n",
    "#     # TP segment\n",
    "#     if has_BBB:\n",
    "#         if counter_BBB == 0:\n",
    "#             id_BBB_TP = ('TPsignal',np.random.randint(0,len(TPsignal)))\n",
    "#         ids.append(id_BBB_TP)\n",
    "#         tp = trailonset(TPsignal[list(TPsignal)[ids[-1][1]]],beats[-1][-1])[1:]\n",
    "#         beats.append(tp)\n",
    "#         masks = np.concatenate((masks,np.zeros((tp.size,),dtype='int8')))\n",
    "#     else:\n",
    "#         ids.append(('TPsignal',np.random.randint(0,len(TPsignal))))\n",
    "#         tp = trailonset(TPsignal[list(TPsignal)[ids[-1][1]]],beats[-1][-1])[1:]\n",
    "#         beats.append(tp)\n",
    "#         masks = np.concatenate((masks,np.zeros((tp.size,),dtype='int8')))\n",
    "    \n",
    "#     # Account for total signal size\n",
    "#     size = sum([beats[i].size for i in range(len(beats))])\n",
    "        \n",
    "#     # Update BBB counter\n",
    "#     if has_BBB:\n",
    "#         counter_BBB += 1\n",
    "\n",
    "# sig = np.concatenate(beats)[onset:onset+2048]\n",
    "# # sig = sp.signal.filtfilt(*sp.signal.butter(4,   0.5/250, 'high'),sig)\n",
    "# signal = sig# + np.convolve(np.cumsum(norm.rvs(scale=0.15**(2*0.5),size=N)),np.hamming(w)/(w/2),mode='same')\n",
    "\n",
    "# masks = masks[onset:onset+2048]\n",
    "# masks_all = np.zeros((N,3),dtype=bool)\n",
    "# masks_all[:,0] = masks == 1\n",
    "# masks_all[:,1] = masks == 2\n",
    "# masks_all[:,2] = masks == 3\n",
    "# mskplt = ((np.max(signal)-np.min(signal))*masks_all)+np.min(signal)\n",
    "\n",
    "# # f,ax = plt.subplots(nrows=1,figsize=(20,4))\n",
    "# # ax = np.array(ax)\n",
    "# # if len(ax.shape) == 0: ax = ax[None]\n",
    "# # [ax[i].set_xlim([0,N]) for i in range(ax.size)]\n",
    "# # [ax[i].fill_between(np.arange(N), mskplt[:,0], mskplt[:,0].min(), linewidth=0, alpha=0.15, color='red') for i in range(ax.size)]\n",
    "# # [ax[i].fill_between(np.arange(N), mskplt[:,1], mskplt[:,1].min(), linewidth=0, alpha=0.15, color='green') for i in range(ax.size)]\n",
    "# # [ax[i].fill_between(np.arange(N), mskplt[:,2], mskplt[:,2].min(), linewidth=0, alpha=0.15, color='magenta') for i in range(ax.size)]\n",
    "# # ax[0].plot(signal)\n",
    "# # # ax[1].plot(wvlts,color='orange')\n",
    "# # # ax[2].plot(wvlts_signal,color='orange')"
   ]
  },
  {
   "cell_type": "code",
   "execution_count": null,
   "metadata": {},
   "outputs": [],
   "source": [
    "# N = 2048\n",
    "\n",
    "# beats = []\n",
    "# ids = []\n",
    "\n",
    "# # Include first beat\n",
    "# ids.append(('TPsignal',np.random.randint(0,len(TPsignal))))\n",
    "# beats.append(utils.signal.on_off_correction(TPsignal[list(TPsignal)[ids[-1][1]]]))\n",
    "# # beats.append(TPsignal[list(TPsignal)[np.random.randint(0,len(TPsignal))]])\n",
    "# size = beats[0].size\n",
    "# masks = np.zeros((size,))\n",
    "# onset = np.random.randint(0,size)\n",
    "# while size-onset < N:\n",
    "#     # P wave (sometimes)\n",
    "#     if np.random.rand(1) < 0.75:\n",
    "#         # p = utils.signal.on_off_correction(Psignal[list(Psignal)[np.random.randint(0,len(Psignal))]])\n",
    "#         ids.append(('Psignal',np.random.randint(0,len(Psignal))))\n",
    "#         p = trailonset(Psignal[list(Psignal)[ids[-1][1]]],beats[-1][-1])\n",
    "#         # p = Psignal[list(Psignal)[np.random.randint(0,len(Psignal))]]\n",
    "#         beats.append(p)\n",
    "#         masks = np.concatenate((masks,1*np.ones((p.size,))))\n",
    "\n",
    "#     # PQ segment\n",
    "#     # pq = utils.signal.on_off_correction(PQsignal[list(PQsignal)[np.random.randint(0,len(PQsignal))]])\n",
    "#     ids.append(('PQsignal',np.random.randint(0,len(PQsignal))))\n",
    "#     pq = trailonset(PQsignal[list(PQsignal)[ids[-1][1]]],beats[-1][-1])\n",
    "#     # pq = PQsignal[list(PQsignal)[np.random.randint(0,len(PQsignal))]]\n",
    "#     beats.append(pq)\n",
    "#     masks = np.concatenate((masks,np.zeros((pq.size,))))\n",
    "\n",
    "#     # QRS wave\n",
    "#     # qrs = utils.signal.on_off_correction(QRSsignal[list(QRSsignal)[np.random.randint(0,len(QRSsignal))]])\n",
    "#     ids.append(('QRSsignal',np.random.randint(0,len(QRSsignal))))\n",
    "#     qrs = trailonset(QRSsignal[list(QRSsignal)[ids[-1][1]]],beats[-1][-1])\n",
    "#     # qrs = QRSsignal[list(QRSsignal)[np.random.randint(0,len(QRSsignal))]]\n",
    "#     beats.append(qrs)\n",
    "#     masks = np.concatenate((masks,2*np.ones((qrs.size,))))\n",
    "\n",
    "#     # ST segment\n",
    "#     # st = utils.signal.on_off_correction(STsignal[list(STsignal)[np.random.randint(0,len(STsignal))]])\n",
    "#     ids.append(('STsignal',np.random.randint(0,len(STsignal))))\n",
    "#     st = trailonset(STsignal[list(STsignal)[ids[-1][1]]],beats[-1][-1])\n",
    "#     # st = STsignal[list(STsignal)[np.random.randint(0,len(STsignal))]]\n",
    "#     beats.append(st)\n",
    "#     masks = np.concatenate((masks,np.zeros((st.size,))))\n",
    "\n",
    "#     # T wave\n",
    "#     # t = utils.signal.on_off_correction(Tsignal[list(Tsignal)[np.random.randint(0,len(Tsignal))]])\n",
    "#     ids.append(('Tsignal',np.random.randint(0,len(Tsignal))))\n",
    "#     t = trailonset(Tsignal[list(Tsignal)[ids[-1][1]]],beats[-1][-1])\n",
    "#     # t = Tsignal[list(Tsignal)[np.random.randint(0,len(Tsignal))]]\n",
    "#     beats.append(t)\n",
    "#     masks = np.concatenate((masks,3*np.ones((t.size,))))\n",
    "\n",
    "#     # TP segment\n",
    "#     # tp = utils.signal.on_off_correction(TPsignal[list(TPsignal)[np.random.randint(0,len(TPsignal))]])\n",
    "#     ids.append(('TPsignal',np.random.randint(0,len(TPsignal))))\n",
    "#     tp = trailonset(TPsignal[list(TPsignal)[ids[-1][1]]],beats[-1][-1])\n",
    "#     # tp = TPsignal[list(TPsignal)[np.random.randint(0,len(TPsignal))]]\n",
    "#     beats.append(tp)\n",
    "#     masks = np.concatenate((masks,np.zeros((tp.size,))))\n",
    "\n",
    "#     size = sum([beats[i].size for i in range(len(beats))])\n",
    "\n",
    "# w = 51\n",
    "# sig = np.concatenate(beats)[onset:onset+2048]\n",
    "# sig = sp.signal.filtfilt(*sp.signal.butter(4,   0.5/250, 'high'),sig)\n",
    "# signal = sig# + np.convolve(np.cumsum(norm.rvs(scale=0.15**(2*0.5),size=N)),np.hamming(w)/(w/2),mode='same')\n",
    "\n",
    "# masks = masks[onset:onset+2048]\n",
    "# masks_all = np.zeros((N,3),dtype=bool)\n",
    "# masks_all[:,0] = masks == 1\n",
    "# masks_all[:,1] = masks == 2\n",
    "# masks_all[:,2] = masks == 3\n",
    "# mskplt = ((np.max(signal)-np.min(signal))*masks_all)+np.min(signal)\n",
    "\n",
    "# plt.figure(figsize=(20,5))\n",
    "# plt.plot(signal)\n",
    "# plt.gca().fill_between(np.arange(N), mskplt[:,0], mskplt[:,0].min(), linewidth=0, alpha=0.15, color='red')\n",
    "# plt.gca().fill_between(np.arange(N), mskplt[:,1], mskplt[:,1].min(), linewidth=0, alpha=0.15, color='green')\n",
    "# plt.gca().fill_between(np.arange(N), mskplt[:,2], mskplt[:,2].min(), linewidth=0, alpha=0.15, color='magenta')\n",
    "# plt.show()"
   ]
  },
  {
   "cell_type": "code",
   "execution_count": null,
   "metadata": {},
   "outputs": [],
   "source": []
  }
 ],
 "metadata": {
  "kernelspec": {
   "display_name": "DeepLearning3",
   "language": "python",
   "name": "deeplearning3"
  },
  "language_info": {
   "codemirror_mode": {
    "name": "ipython",
    "version": 3
   },
   "file_extension": ".py",
   "mimetype": "text/x-python",
   "name": "python",
   "nbconvert_exporter": "python",
   "pygments_lexer": "ipython3",
   "version": "3.8.2"
  }
 },
 "nbformat": 4,
 "nbformat_minor": 4
}
