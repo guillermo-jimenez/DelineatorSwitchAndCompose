{
 "cells": [
  {
   "cell_type": "code",
   "execution_count": 1,
   "metadata": {},
   "outputs": [],
   "source": [
    "%load_ext autoreload\n",
    "%autoreload 2"
   ]
  },
  {
   "cell_type": "code",
   "execution_count": 2,
   "metadata": {},
   "outputs": [],
   "source": [
    "import glob\n",
    "import numpy as np\n",
    "import matplotlib.pyplot as plt\n",
    "import cv2\n",
    "import os\n",
    "import os.path\n",
    "import skimage\n",
    "import skimage.color\n",
    "import skimage.transform\n",
    "import skimage.segmentation\n",
    "import sklearn.preprocessing\n",
    "import sklearn.model_selection\n",
    "import math\n",
    "import shutil\n",
    "import pathlib\n",
    "import glob\n",
    "import shutil\n",
    "import uuid\n",
    "import random\n",
    "import platform\n",
    "import torch\n",
    "import torchvision\n",
    "import numpy as np\n",
    "import scipy as sp\n",
    "import scipy.io\n",
    "import scipy.signal\n",
    "import pandas as pd\n",
    "import networkx\n",
    "import wfdb\n",
    "import json\n",
    "import tqdm\n",
    "import dill\n",
    "import pickle\n",
    "import matplotlib.pyplot as plt\n",
    "\n",
    "import sak\n",
    "import sak.hash\n",
    "import sak.signal.wavelet\n",
    "import sak.data\n",
    "import sak.data.augmentation\n",
    "import sak.visualization\n",
    "import sak.torch\n",
    "import sak.torch.nn\n",
    "import sak.torch.nn as nn\n",
    "import sak.torch.train\n",
    "import sak.torch.data\n",
    "import sak.data.preprocessing\n",
    "import sak.torch.models\n",
    "import sak.torch.models.lego\n",
    "import sak.torch.models.variational\n",
    "import sak.torch.models.classification\n"
   ]
  },
  {
   "cell_type": "code",
   "execution_count": 3,
   "metadata": {},
   "outputs": [],
   "source": [
    "basedir = '/media/guille/DADES/DADES/Delineator'\n",
    "model_name = 'WNet5LevelsSelfAttentionDiceOnly_20201130125349'\n",
    "valid_folds = sak.load_data(os.path.join(basedir,'TrainedModels',model_name,'validation_files.csv'),dtype=None)\n",
    "\n",
    "basepath = os.path.join(basedir,'TrainedModels',model_name)"
   ]
  },
  {
   "cell_type": "markdown",
   "metadata": {},
   "source": [
    "# Save state dict"
   ]
  },
  {
   "cell_type": "code",
   "execution_count": 5,
   "metadata": {},
   "outputs": [
    {
     "name": "stderr",
     "output_type": "stream",
     "text": [
      "100%|██████████| 5/5 [00:05<00:00,  1.12s/it]\n"
     ]
    }
   ],
   "source": [
    "for i in tqdm.tqdm(range(5)):\n",
    "    for model_type in [\"model_best\", \"checkpoint\"]:\n",
    "        if os.path.isfile(os.path.join(basepath,f'fold_{i+1}',f'{model_type}_unconverted.model')):\n",
    "            model = torch.load(os.path.join(basepath,f'fold_{i+1}',f'{model_type}.model'),pickle_module=dill)\n",
    "            \n",
    "            state_dict = model.state_dict()\n",
    "            with open(os.path.join(basepath,f'fold_{i+1}',f'{model_type}.modeldict'), \"wb\") as f:\n",
    "                dill.dump(state_dict,f)\n",
    "        elif os.path.isfile(os.path.join(basepath,f'fold_{i+1}',f'{model_type}.model')):\n",
    "            model = torch.load(os.path.join(basepath,f'fold_{i+1}',f'{model_type}.model'),pickle_module=dill)\n",
    "            \n",
    "            state_dict = model.state_dict()\n",
    "            with open(os.path.join(basepath,f'fold_{i+1}',f'{model_type}.modeldict'), \"wb\") as f:\n",
    "                dill.dump(state_dict,f)\n",
    "                \n",
    "            shutil.copy(os.path.join(basepath,f'fold_{i+1}',f'{model_type}.model'),\n",
    "                        os.path.join(basepath,f'fold_{i+1}',f'{model_type}_unconverted.model'))\n",
    "        else:\n",
    "            print(\"File for fold {} not found. Continuing...\".format(i+1))"
   ]
  },
  {
   "cell_type": "markdown",
   "metadata": {},
   "source": [
    "# Change Kernel & Load state dict"
   ]
  },
  {
   "cell_type": "code",
   "execution_count": 5,
   "metadata": {},
   "outputs": [],
   "source": [
    "config = sak.load_config(os.path.join(basepath,f\"{'_'.join(model_name.split('_')[:-1])}.json\"))"
   ]
  },
  {
   "cell_type": "code",
   "execution_count": 9,
   "metadata": {},
   "outputs": [
    {
     "name": "stderr",
     "output_type": "stream",
     "text": [
      "100%|██████████| 5/5 [00:02<00:00,  1.76it/s]\n"
     ]
    }
   ],
   "source": [
    "for i in tqdm.tqdm(range(5)):\n",
    "    for model_type in [\"model_best\", \"checkpoint\"]:\n",
    "        if os.path.isfile(os.path.join(basepath,f'fold_{i+1}',f'{model_type}.modeldict')):\n",
    "            with open(os.path.join(basepath,f'fold_{i+1}',f'{model_type}.modeldict'), \"rb\") as f:\n",
    "                # Load state dict\n",
    "                state_dict = dill.load(f)\n",
    "                \n",
    "            # Define model\n",
    "            try:\n",
    "                model = nn.ModelGraph(\n",
    "                    config[\"model\"][\"functions\"],\n",
    "                    config[\"model\"][\"nodes\"],\n",
    "                    config[\"model\"][\"edges\"],\n",
    "                )\n",
    "            except:\n",
    "                model = sak.from_dict(config[\"model\"])\n",
    "            \n",
    "            model = model.float().cuda()\n",
    "                \n",
    "            # Match keys\n",
    "            model.load_state_dict(state_dict)\n",
    "            \n",
    "            # Save model\n",
    "            torch.save(model,os.path.join(basepath,f'fold_{i+1}',f'{model_type}.model'),pickle_module=dill)\n",
    "        else:\n",
    "            print(\"File for fold {} not found. Continuing...\".format(i+1))"
   ]
  },
  {
   "cell_type": "code",
   "execution_count": null,
   "metadata": {},
   "outputs": [],
   "source": []
  },
  {
   "cell_type": "code",
   "execution_count": null,
   "metadata": {},
   "outputs": [],
   "source": []
  },
  {
   "cell_type": "code",
   "execution_count": null,
   "metadata": {},
   "outputs": [],
   "source": []
  },
  {
   "cell_type": "code",
   "execution_count": null,
   "metadata": {},
   "outputs": [],
   "source": []
  },
  {
   "cell_type": "code",
   "execution_count": null,
   "metadata": {},
   "outputs": [],
   "source": []
  },
  {
   "cell_type": "code",
   "execution_count": null,
   "metadata": {},
   "outputs": [],
   "source": []
  },
  {
   "cell_type": "code",
   "execution_count": null,
   "metadata": {},
   "outputs": [],
   "source": []
  },
  {
   "cell_type": "code",
   "execution_count": null,
   "metadata": {},
   "outputs": [],
   "source": []
  },
  {
   "cell_type": "code",
   "execution_count": null,
   "metadata": {},
   "outputs": [],
   "source": []
  },
  {
   "cell_type": "code",
   "execution_count": null,
   "metadata": {},
   "outputs": [],
   "source": []
  },
  {
   "cell_type": "code",
   "execution_count": null,
   "metadata": {},
   "outputs": [],
   "source": []
  },
  {
   "cell_type": "code",
   "execution_count": null,
   "metadata": {},
   "outputs": [],
   "source": []
  }
 ],
 "metadata": {
  "kernelspec": {
   "display_name": "DeepLearning3",
   "language": "python",
   "name": "deeplearning3"
  },
  "language_info": {
   "codemirror_mode": {
    "name": "ipython",
    "version": 3
   },
   "file_extension": ".py",
   "mimetype": "text/x-python",
   "name": "python",
   "nbconvert_exporter": "python",
   "pygments_lexer": "ipython3",
   "version": "3.8.5"
  }
 },
 "nbformat": 4,
 "nbformat_minor": 4
}
