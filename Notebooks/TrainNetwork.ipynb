{
 "cells": [
  {
   "cell_type": "code",
   "execution_count": 1,
   "metadata": {},
   "outputs": [],
   "source": [
    "%load_ext autoreload\n",
    "%autoreload 2"
   ]
  },
  {
   "cell_type": "code",
   "execution_count": 2,
   "metadata": {},
   "outputs": [],
   "source": [
    "import os\n",
    "import os.path\n",
    "import skimage\n",
    "import skimage.segmentation\n",
    "import sklearn.preprocessing\n",
    "import sklearn.model_selection\n",
    "import math\n",
    "import glob\n",
    "import uuid\n",
    "import random\n",
    "import platform\n",
    "import ecgdetectors\n",
    "import torch\n",
    "import torchvision\n",
    "import numpy as np\n",
    "import scipy as sp\n",
    "import scipy.io\n",
    "import scipy.signal\n",
    "import pandas as pd\n",
    "import networkx\n",
    "import wfdb\n",
    "import json\n",
    "import tqdm\n",
    "import dill\n",
    "import pickle\n",
    "import matplotlib.pyplot as plt\n",
    "\n",
    "from scipy.stats import norm\n",
    "from scipy.stats import lognorm, norm, halfnorm\n",
    "\n",
    "import src.data\n",
    "import utils\n",
    "import utils.wavelet\n",
    "import utils.data\n",
    "import utils.data.augmentation\n",
    "import utils.visualization\n",
    "import utils.visualization.plot\n",
    "import utils.torch\n",
    "import utils.torch.nn\n",
    "import utils.torch.nn as nn\n",
    "import utils.torch.loss\n",
    "import utils.torch.train\n",
    "import utils.torch.data\n",
    "import utils.torch.preprocessing\n",
    "import utils.torch.models\n",
    "import utils.torch.models.lego\n",
    "import utils.torch.models.variational\n",
    "import utils.torch.models.classification\n",
    "\n",
    "from utils.signal import StandardHeader"
   ]
  },
  {
   "cell_type": "markdown",
   "metadata": {},
   "source": [
    "# Training the network"
   ]
  },
  {
   "cell_type": "markdown",
   "metadata": {},
   "source": [
    "# Load execution configuration"
   ]
  },
  {
   "cell_type": "code",
   "execution_count": 3,
   "metadata": {},
   "outputs": [],
   "source": [
    "# with open('./configurations/UNet4LevelsCrossEntropy.json', 'r') as f:\n",
    "#     execution = json.load(f)"
   ]
  },
  {
   "cell_type": "markdown",
   "metadata": {},
   "source": [
    "### 1. Load data\n",
    "#### 1.1. Load individual segments"
   ]
  },
  {
   "cell_type": "code",
   "execution_count": 4,
   "metadata": {},
   "outputs": [],
   "source": [
    "P = utils.pickleload(os.path.join('.','pickle','Psignal.pkl'))\n",
    "PQ = utils.pickleload(os.path.join('.','pickle','PQsignal.pkl'))\n",
    "QRS = utils.pickleload(os.path.join('.','pickle','QRSsignal.pkl'))\n",
    "ST = utils.pickleload(os.path.join('.','pickle','STsignal.pkl'))\n",
    "T = utils.pickleload(os.path.join('.','pickle','Tsignal.pkl'))\n",
    "TP = utils.pickleload(os.path.join('.','pickle','TPsignal.pkl'))"
   ]
  },
  {
   "cell_type": "markdown",
   "metadata": {},
   "source": [
    "#### 1.2. Filter out faulty segments"
   ]
  },
  {
   "cell_type": "code",
   "execution_count": 5,
   "metadata": {},
   "outputs": [],
   "source": [
    "for key in (['104_II','104_III','104_AVR','104_AVF','103_III'] + \n",
    "            ['74_{}'.format(h) for h in StandardHeader] + \n",
    "            ['111_{}'.format(h) for h in StandardHeader] +\n",
    "            ['95_{}'.format(h) for h in StandardHeader] + \n",
    "            ['103_{}'.format(h) for h in StandardHeader] +\n",
    "            ['34_{}'.format(h) for h in StandardHeader]):\n",
    "    [P.pop(k) for k in list(P.keys()) if k.startswith('{}###'.format(key))]\n",
    "    [PQ.pop(k) for k in list(PQ.keys()) if k.startswith('{}###'.format(key))]\n",
    "    [QRS.pop(k) for k in list(QRS.keys()) if k.startswith('{}###'.format(key))]\n",
    "    [ST.pop(k) for k in list(ST.keys()) if k.startswith('{}###'.format(key))]\n",
    "    [T.pop(k) for k in list(T.keys()) if k.startswith('{}###'.format(key))]\n",
    "    [TP.pop(k) for k in list(TP.keys()) if k.startswith('{}###'.format(key))]"
   ]
  },
  {
   "cell_type": "code",
   "execution_count": 6,
   "metadata": {},
   "outputs": [],
   "source": [
    "for key in []: \n",
    "    if key in P: P.pop(key)\n",
    "for key in []: \n",
    "    if key in PQ: PQ.pop(key)\n",
    "for key in ['7_V2###0','7_V2###2','7_V2###4','95_V4###0','95_V4###1','95_V4###2']: \n",
    "    if key in QRS: QRS.pop(key)\n",
    "for key in []: \n",
    "    if key in ST: ST.pop(key)\n",
    "for key in []: \n",
    "    if key in T: T.pop(key)\n",
    "for key in (['52_III###4','34_V6###6','74_V4###0','74_V4###1','74_V4###2',\n",
    "             '74_V4###3','74_V4###4','74_V4###5','74_V4###6','74_V4###7',] + \n",
    "            ['111_V2###{}'.format(i) for i in range(7)]): \n",
    "    if key in TP: TP.pop(key)"
   ]
  },
  {
   "cell_type": "markdown",
   "metadata": {},
   "source": [
    "#### 1.3. Normalize amplitudes & get amplitude distributions"
   ]
  },
  {
   "cell_type": "code",
   "execution_count": 7,
   "metadata": {},
   "outputs": [],
   "source": [
    "metric = np.max\n",
    "\n",
    "amplitudes = {k.split('###')[0]: [] for k in list(QRS)}\n",
    "for k in QRS:\n",
    "    g = k.split('###')[0]\n",
    "    segment = utils.signal.on_off_correction(QRS[k])\n",
    "    amplitudes[g].append(np.max(segment) - np.min(segment))"
   ]
  },
  {
   "cell_type": "code",
   "execution_count": 8,
   "metadata": {},
   "outputs": [],
   "source": [
    "Pamplitudes = []\n",
    "for k in P:\n",
    "    segment = utils.signal.on_off_correction(P[k])/metric(amplitudes[k.split('###')[0]])\n",
    "    Pamplitudes.append(segment.max()-segment.min())\n",
    "Pamplitudes = np.array(Pamplitudes)\n",
    "PQamplitudes = []\n",
    "for k in PQ:\n",
    "    segment = utils.signal.on_off_correction(PQ[k])/metric(amplitudes[k.split('###')[0]])\n",
    "    PQamplitudes.append(segment.max()-segment.min())\n",
    "PQamplitudes = np.array(PQamplitudes)\n",
    "QRSamplitudes = []\n",
    "for k in QRS:\n",
    "    segment = utils.signal.on_off_correction(QRS[k])/metric(amplitudes[k.split('###')[0]])\n",
    "    QRSamplitudes.append(segment.max()-segment.min())\n",
    "QRSamplitudes = np.array(QRSamplitudes)\n",
    "STamplitudes = []\n",
    "for k in ST:\n",
    "    segment = utils.signal.on_off_correction(ST[k])/metric(amplitudes[k.split('###')[0]])\n",
    "    STamplitudes.append(segment.max()-segment.min())\n",
    "STamplitudes = np.array(STamplitudes)\n",
    "Tamplitudes = []\n",
    "for k in T:\n",
    "    segment = utils.signal.on_off_correction(T[k])/metric(amplitudes[k.split('###')[0]])\n",
    "    Tamplitudes.append(segment.max()-segment.min())\n",
    "Tamplitudes = np.array(Tamplitudes)\n",
    "TPamplitudes = []\n",
    "for k in TP:\n",
    "    segment = utils.signal.on_off_correction(TP[k])/metric(amplitudes[k.split('###')[0]])\n",
    "    TPamplitudes.append(segment.max()-segment.min())\n",
    "TPamplitudes = np.array(TPamplitudes)"
   ]
  },
  {
   "cell_type": "code",
   "execution_count": 9,
   "metadata": {},
   "outputs": [],
   "source": [
    "Pamplitudes = lognorm(*lognorm.fit(Pamplitudes))\n",
    "PQamplitudes = lognorm(*lognorm.fit(PQamplitudes[PQamplitudes<0.3]))\n",
    "QRSamplitudes = lognorm(*lognorm.fit(QRSamplitudes))\n",
    "STamplitudes = lognorm(*lognorm.fit(STamplitudes))\n",
    "Tamplitudes = lognorm(*lognorm.fit(Tamplitudes[(Tamplitudes>0.05) & (Tamplitudes<0.5)]))\n",
    "TPamplitudes = lognorm(*lognorm.fit(TPamplitudes[TPamplitudes<0.4]))"
   ]
  },
  {
   "cell_type": "code",
   "execution_count": 10,
   "metadata": {},
   "outputs": [
    {
     "name": "stderr",
     "output_type": "stream",
     "text": [
      "<ipython-input-10-0e724456727d>:8: RuntimeWarning: invalid value encountered in true_divide\n",
      "  PQ[k] = segment/(np.max(segment)-np.min(segment))\n",
      "<ipython-input-10-0e724456727d>:18: RuntimeWarning: invalid value encountered in true_divide\n",
      "  ST[k] = segment/(np.max(segment)-np.min(segment))\n"
     ]
    }
   ],
   "source": [
    "for k in list(P.keys()):\n",
    "    segment = utils.signal.on_off_correction(P[k])\n",
    "    P[k] = segment/(np.max(segment)-np.min(segment))\n",
    "    if np.any(np.isinf(P[k])) or np.any(np.isnan(P[k])):\n",
    "        P.pop(k)\n",
    "for k in list(PQ.keys()):\n",
    "    segment = utils.signal.on_off_correction(PQ[k])\n",
    "    PQ[k] = segment/(np.max(segment)-np.min(segment))\n",
    "    if np.any(np.isinf(PQ[k])) or np.any(np.isnan(PQ[k])):\n",
    "        PQ.pop(k)\n",
    "for k in list(QRS.keys()):\n",
    "    segment = utils.signal.on_off_correction(QRS[k])\n",
    "    QRS[k] = segment/(np.max(segment)-np.min(segment))\n",
    "    if np.any(np.isinf(QRS[k])) or np.any(np.isnan(QRS[k])):\n",
    "        QRS.pop(k)\n",
    "for k in list(ST.keys()):\n",
    "    segment = utils.signal.on_off_correction(ST[k])\n",
    "    ST[k] = segment/(np.max(segment)-np.min(segment))\n",
    "    if np.any(np.isinf(ST[k])) or np.any(np.isnan(ST[k])):\n",
    "        ST.pop(k)\n",
    "for k in list(T.keys()):\n",
    "    segment = utils.signal.on_off_correction(T[k])\n",
    "    T[k] = segment/(np.max(segment)-np.min(segment))\n",
    "    if np.any(np.isinf(T[k])) or np.any(np.isnan(T[k])):\n",
    "        T.pop(k)\n",
    "for k in list(TP.keys()):\n",
    "    segment = utils.signal.on_off_correction(TP[k])\n",
    "    TP[k] = segment/(np.max(segment)-np.min(segment))\n",
    "    if np.any(np.isinf(TP[k])) or np.any(np.isnan(TP[k])):\n",
    "        TP.pop(k)"
   ]
  },
  {
   "cell_type": "markdown",
   "metadata": {},
   "source": [
    "#### 1.4. Split into train and test"
   ]
  },
  {
   "cell_type": "code",
   "execution_count": 11,
   "metadata": {},
   "outputs": [],
   "source": [
    "all_keys = {}\n",
    "for k in list(P) + list(PQ) + list(QRS) + list(ST) + list(T) + list(TP):\n",
    "    uid = k.split('###')[0].split('_')[0].split('-')[0]\n",
    "    if uid not in all_keys:\n",
    "        all_keys[uid] = [k]\n",
    "    else:\n",
    "        all_keys[uid].append(k)\n",
    "        \n",
    "# Get database and file\n",
    "filenames = []\n",
    "database = []\n",
    "for k in all_keys:\n",
    "    filenames.append(k)\n",
    "    if k.startswith('SOO'):\n",
    "        database.append(0)\n",
    "    elif k.startswith('sel'):\n",
    "        database.append(1)\n",
    "    else:\n",
    "        database.append(2)\n",
    "filenames = np.array(filenames)\n",
    "database = np.array(database)"
   ]
  },
  {
   "cell_type": "code",
   "execution_count": 12,
   "metadata": {},
   "outputs": [],
   "source": [
    "with open('./configurations/UNet5Levels.json', 'r') as f:\n",
    "    execution = json.load(f)\n",
    "\n",
    "random.seed(execution['seed'])\n",
    "np.random.seed(execution['seed'])\n",
    "torch.random.manual_seed(execution['seed'])\n",
    "splitter = sklearn.model_selection.StratifiedKFold(5).split(filenames,database)"
   ]
  },
  {
   "cell_type": "code",
   "execution_count": 13,
   "metadata": {},
   "outputs": [],
   "source": [
    "for ix_train,ix_test in splitter:\n",
    "    train_keys, test_keys = ([],[])\n",
    "    for k in np.array(filenames)[ix_train]: train_keys += all_keys[k]\n",
    "    for k in np.array(filenames)[ix_test]:  test_keys += all_keys[k]\n",
    "    \n",
    "    # Divide train/test segments\n",
    "    Ptrain = {k: P[k] for k in P if k in train_keys}\n",
    "    PQtrain = {k: PQ[k] for k in PQ if k in train_keys}\n",
    "    QRStrain = {k: QRS[k] for k in QRS if k in train_keys}\n",
    "    STtrain = {k: ST[k] for k in ST if k in train_keys}\n",
    "    Ttrain = {k: T[k] for k in T if k in train_keys}\n",
    "    TPtrain = {k: TP[k] for k in TP if k in train_keys}\n",
    "\n",
    "    Ptest = {k: P[k] for k in P if k in test_keys}\n",
    "    PQtest = {k: PQ[k] for k in PQ if k in test_keys}\n",
    "    QRStest = {k: QRS[k] for k in QRS if k in test_keys}\n",
    "    STtest = {k: ST[k] for k in ST if k in test_keys}\n",
    "    Ttest = {k: T[k] for k in T if k in test_keys}\n",
    "    TPtest = {k: TP[k] for k in TP if k in test_keys}\n",
    "    \n",
    "    dataset_train = src.data.Dataset(Ptrain, QRStrain, Ttrain, PQtrain, STtrain, TPtrain, \n",
    "                                     Pamplitudes, QRSamplitudes, Tamplitudes, PQamplitudes, \n",
    "                                     STamplitudes, TPamplitudes, 200*execution['loader']['batch_size'],\n",
    "                                     labels_as_masks=True)\n",
    "    dataset_test = src.data.Dataset(Ptest, QRStest, Ttest, PQtest, STtest, TPtest, \n",
    "                                    Pamplitudes, QRSamplitudes, Tamplitudes, PQamplitudes, \n",
    "                                    STamplitudes, TPamplitudes, 200*execution['loader']['batch_size'],\n",
    "                                    labels_as_masks=True)\n",
    "    \n",
    "    # Create dataloaders\n",
    "    loader_train = torch.utils.data.DataLoader(dataset_train,**execution['loader'])\n",
    "    loader_test = torch.utils.data.DataLoader(dataset_test,**execution['loader'])\n",
    "    \n",
    "    # Define model\n",
    "    model = nn.ModelGraph(execution['model']).float()\n",
    "    \n",
    "    # \n",
    "    break"
   ]
  },
  {
   "cell_type": "code",
   "execution_count": 14,
   "metadata": {},
   "outputs": [],
   "source": [
    "with open('./configurations/UNet5Levels.json', 'r') as f:\n",
    "    execution = json.load(f)\n",
    "\n",
    "# Define model\n",
    "model = nn.ModelGraph(execution['model']).float().cuda()\n"
   ]
  },
  {
   "cell_type": "code",
   "execution_count": 15,
   "metadata": {},
   "outputs": [
    {
     "name": "stderr",
     "output_type": "stream",
     "text": [
      "/home/guille/VirtEnv/DeepLearning3/lib/python3.8/site-packages/networkx/drawing/layout.py:950: FutureWarning: arrays to stack must be passed as a \"sequence\" type such as list or tuple. Support for non-sequence iterables such as generators is deprecated as of NumPy 1.16 and will raise an error in the future.\n",
      "  pos = np.row_stack((pos[x] for x in node_list))\n"
     ]
    },
    {
     "data": {
      "image/png": "[encoded data removed]",
      "text/plain": [
       "<Figure size 1080x1080 with 1 Axes>"
      ]
     },
     "metadata": {},
     "output_type": "display_data"
    }
   ],
   "source": [
    "plt.figure(figsize=(15,15))\n",
    "model.draw_networkx()"
   ]
  },
  {
   "cell_type": "code",
   "execution_count": null,
   "metadata": {},
   "outputs": [],
   "source": [
    "%%time\n",
    "for x,y in loader_test:\n",
    "    break"
   ]
  },
  {
   "cell_type": "code",
   "execution_count": null,
   "metadata": {},
   "outputs": [
    {
     "name": "stderr",
     "output_type": "stream",
     "text": [
      "(Train) Epoch   1/100, Loss      0.474:  94%|█████████▍| 188/200 [01:37<00:06,  1.90it/s]"
     ]
    }
   ],
   "source": [
    "# Loss\n",
    "criterion = lambda X,y,y_pred: utils.torch.loss.DiceLoss()(y_pred, y)\n",
    "metric = lambda X,y,y_pred: utils.torch.loss.DiceLoss()(y_pred, y)\n",
    "\n",
    "state = {\n",
    "    'epoch'         : 0,\n",
    "    'device'        : torch.device(\"cuda\" if torch.cuda.is_available() else \"cpu\"),\n",
    "    'optimizer'     : utils.class_selector('torch.optim',execution['optimizer']['class'])(model.parameters(), **execution['optimizer']['arguments']),\n",
    "    'root_dir'      : './'\n",
    "}\n",
    "if 'scheduler' in execution:\n",
    "    state['scheduler'] = utils.class_selector('torch.optim.lr_scheduler',execution['scheduler']['class'])(state['optimizer'], **execution['scheduler']['arguments'])\n",
    "\n",
    "state = utils.torch.train.train_model(model,state,execution,loader_train, loader_test, criterion, metric, smaller=False)"
   ]
  },
  {
   "cell_type": "code",
   "execution_count": null,
   "metadata": {},
   "outputs": [],
   "source": [
    "# Save model\n",
    "torch.save(model,'./modelo5nivsdice.state',pickle_module=dill)"
   ]
  },
  {
   "cell_type": "code",
   "execution_count": null,
   "metadata": {},
   "outputs": [],
   "source": [
    "%%time\n",
    "for x,y in loader_test:\n",
    "    break"
   ]
  },
  {
   "cell_type": "code",
   "execution_count": null,
   "metadata": {},
   "outputs": [],
   "source": [
    "(out,) = model(x.cuda())\n",
    "y2 = torch.clone(y)\n",
    "y = torch.zeros((64,3,2048),dtype=bool)\n",
    "y[:,0,:] = (y2 == 1)\n",
    "y[:,1,:] = (y2 == 2)\n",
    "y[:,2,:] = (y2 == 3)"
   ]
  },
  {
   "cell_type": "code",
   "execution_count": null,
   "metadata": {},
   "outputs": [],
   "source": [
    "i = 2\n",
    "w = 3\n",
    "plt.figure(figsize=(15,5))\n",
    "plt.plot(x[i,0,:])\n",
    "plt.twinx()\n",
    "plt.plot(y[i,w-1,:],alpha=0.5)\n",
    "plt.plot(out[i,w,:].cpu().detach().numpy(),alpha=0.5)\n"
   ]
  },
  {
   "cell_type": "code",
   "execution_count": null,
   "metadata": {},
   "outputs": [],
   "source": [
    "list(set([k.split('###')[0] for k in test_keys]))"
   ]
  },
  {
   "cell_type": "markdown",
   "metadata": {},
   "source": [
    "# Test against SoO db"
   ]
  },
  {
   "cell_type": "code",
   "execution_count": null,
   "metadata": {},
   "outputs": [],
   "source": [
    "with open('./configurations/UNet5Levels.json', 'r') as f:\n",
    "    execution = json.load(f)\n",
    "\n",
    "# Define model\n",
    "# model = nn.ModelGraph(execution['model']).float().cuda()\n",
    "model = torch.load('./modelo5nivsdice.state').eval().float()"
   ]
  },
  {
   "cell_type": "code",
   "execution_count": null,
   "metadata": {},
   "outputs": [],
   "source": [
    "#### LOAD DATASET ####\n",
    "basedir = '/media/guille/DADES/DADES/Delineator/'\n",
    "Files = os.listdir(os.path.join(basedir,'SoO','RETAG'))\n",
    "Files = [os.path.splitext(f)[0] for f in Files if os.path.splitext(f)[1] == '.txt']\n",
    "Segmentations = pd.read_csv(os.path.join(basedir,'SoO','SEGMENTATIONS.csv'),index_col=0,header=None).T\n",
    "Keys = Segmentations.keys().tolist()\n",
    "Keys = [k for k in Keys if '-'.join(k.split('-')[:2]) in Files]\n",
    "database = pd.read_csv(os.path.join(basedir,'SoO','DATABASE_MANUAL.csv'))\n",
    "\n",
    "# Data storage\n",
    "QRSsignalSoO = dict()\n",
    "QRSgroupSoO = dict()\n",
    "\n",
    "for k in tqdm.tqdm(Keys):\n",
    "    # Retrieve general information\n",
    "    fname = '-'.join(k.split('-')[:2]) + '.txt'\n",
    "    ID = int(k.split('-')[0])\n",
    "    \n",
    "    # Read signal and segmentation\n",
    "    Signal = pd.read_csv(os.path.join(basedir,'SoO','RETAG',fname),index_col=0).values\n",
    "    (son,soff) = Segmentations[k]\n",
    "    fs = database['Sampling_Freq'][database['ID'] == int(ID)].values[0]\n",
    "    \n",
    "    # Check correct segmentation\n",
    "    if son > soff:\n",
    "        print(\"(!!!) Check file   {:>10s} has onset ({:d}) > offset ({:d})\".format(k, son, soff))\n",
    "        continue\n",
    "\n",
    "    # Up/downsample to 1000 Hz\n",
    "    factor = int(fs/250)\n",
    "    Signal = np.round(sp.signal.decimate(Signal.T, factor)).T\n",
    "    fs = fs/factor\n",
    "\n",
    "    # Filter baseline wander and high freq. noise\n",
    "    Signal = sp.signal.filtfilt(*sp.signal.butter(4,   0.5/fs, 'high'),Signal.T).T\n",
    "    Signal = sp.signal.filtfilt(*sp.signal.butter(4, 125.0/fs,  'low'),Signal.T).T\n",
    "    \n",
    "    for i in range(len(StandardHeader)):\n",
    "        # Store data\n",
    "        QRSsignalSoO[k+'###'+str(StandardHeader[i])] = Signal[:,i]"
   ]
  },
  {
   "cell_type": "code",
   "execution_count": null,
   "metadata": {},
   "outputs": [],
   "source": [
    "list(set([k.split('###')[0] for k in test_keys]))"
   ]
  },
  {
   "cell_type": "code",
   "execution_count": null,
   "metadata": {},
   "outputs": [],
   "source": [
    "aaa = (skimage.util.view_as_windows(QRSsignalSoO['6-2-1###II']/1000,2048,1024)+0.25)[:,None,:]\n",
    "bbb = torch.zeros((aaa.shape[0],3,2048),dtype=float)\n",
    "for i in range(0,aaa.shape[0],64):\n",
    "    bbb[i:i+64] = model(torch.tensor(aaa[i:i+64]).cuda().float())[0]\n",
    "bbb = bbb.cpu().detach().numpy()\n",
    "\n",
    "i = 0\n",
    "w = 0\n",
    "f,ax = plt.subplots(nrows=3,figsize=(15,10))\n",
    "ax[0].plot(aaa[i,0,:])\n",
    "ax1 = ax[0].twinx()\n",
    "ax1.plot(bbb[i,0,:]>0.5,alpha=0.5,color='red')\n",
    "ax[1].plot(aaa[i,0,:])\n",
    "ax2 = ax[1].twinx()\n",
    "ax2.plot(bbb[i,1,:]>0.5,alpha=0.5,color='green')\n",
    "ax[2].plot(aaa[i,0,:])\n",
    "ax3 = ax[2].twinx()\n",
    "ax3.plot(bbb[i,2,:]>0.5,alpha=0.5,color='magenta')\n"
   ]
  },
  {
   "cell_type": "code",
   "execution_count": null,
   "metadata": {},
   "outputs": [],
   "source": [
    "tmp2 = tmp.operations[1]"
   ]
  },
  {
   "cell_type": "code",
   "execution_count": null,
   "metadata": {},
   "outputs": [],
   "source": [
    "tmp2.operations[2]"
   ]
  },
  {
   "cell_type": "code",
   "execution_count": null,
   "metadata": {},
   "outputs": [],
   "source": [
    "tmp = model[0]"
   ]
  },
  {
   "cell_type": "code",
   "execution_count": null,
   "metadata": {},
   "outputs": [],
   "source": [
    "tmp.operations[2].training"
   ]
  },
  {
   "cell_type": "code",
   "execution_count": null,
   "metadata": {},
   "outputs": [],
   "source": [
    "tmp.operations[1]"
   ]
  },
  {
   "cell_type": "code",
   "execution_count": null,
   "metadata": {},
   "outputs": [],
   "source": [
    "(tmp.operations[1](tmp.operations[0](torch.tensor(aaa[i:i+64]).cuda().float())))"
   ]
  },
  {
   "cell_type": "code",
   "execution_count": null,
   "metadata": {},
   "outputs": [],
   "source": [
    "model[0](torch.tensor(aaa[i:i+64]).cuda().float())"
   ]
  },
  {
   "cell_type": "code",
   "execution_count": null,
   "metadata": {},
   "outputs": [],
   "source": []
  },
  {
   "cell_type": "code",
   "execution_count": null,
   "metadata": {},
   "outputs": [],
   "source": []
  },
  {
   "cell_type": "code",
   "execution_count": null,
   "metadata": {},
   "outputs": [],
   "source": []
  },
  {
   "cell_type": "markdown",
   "metadata": {},
   "source": [
    "### 2. Load model definition"
   ]
  },
  {
   "cell_type": "code",
   "execution_count": null,
   "metadata": {},
   "outputs": [],
   "source": [
    "### IMPORT EXECUTION CONFIGURATION PARAMETERS (JSON) ###\n",
    "with open(\"./parameters.json\", 'r') as f:\n",
    "    execution = json.load(f)\n",
    "\n",
    "execution[\"root_directory\"] = input_directory\n",
    "execution[\"save_directory\"] = output_directory\n",
    "\n",
    "### SET RANDOM SEED ###\n",
    "torch.manual_seed(execution['seed'])\n",
    "random.seed(execution['seed'])\n",
    "np.random.seed(execution['seed'])\n",
    "\n",
    "### LOAD DATASET ###\n",
    "# 0) Get classes\n",
    "# print(list(glob.glob(os.path.join(input_directory,\"*.mat\"))))\n",
    "classes = get_classes(input_directory,[os.path.split(f)[-1] for f in glob.glob(os.path.join(input_directory,\"*.mat\"))])\n",
    "\n",
    "# 1) Load labels and compute detections\n",
    "print(\"########## COMPUTING DETECTIONS ##########\")\n",
    "files = []\n",
    "labels = []\n",
    "detections = []\n",
    "for f in tqdm.tqdm(glob.glob(os.path.join(input_directory,\"*.mat\"))):\n",
    "    # Load data\n",
    "    (signal,header) = wfdb.rdsamp(os.path.join(input_directory,os.path.splitext(f)[0]))\n",
    "    signal = signal.astype('float32')\n",
    "\n",
    "    # Use provided function for retrieving the true label\n",
    "    fname, label_header, label = get_true_labels(f.replace('.mat','.hea'),classes)\n",
    "\n",
    "    # Detect signal\n",
    "    detector = ecgdetectors.Detectors(header['fs'])\n",
    "    index_I = np.where(np.array(list(map(str.upper,header['sig_name']))) == 'I')[0][0]\n",
    "    qrs = detector.pan_tompkins_detector(signal[:,index_I])\n",
    "\n",
    "    # Store file name and label\n",
    "    files.append(fname)\n",
    "    detections.append(qrs)\n",
    "    labels.append(label)\n",
    "\n",
    "labels = np.array(labels)\n",
    "files = np.array(files)\n",
    "\n",
    "# 2) Train-test split\n",
    "labels_train,labels_valid,files_train,files_valid,detections_train,detections_valid = sklearn.model_selection.train_test_split(\n",
    "    labels,\n",
    "    files,\n",
    "    detections,\n",
    "    stratify=labels.argmax(-1),\n",
    "    random_state=execution['seed'],\n",
    ")\n",
    "\n",
    "# Save into folder\n",
    "src.utils.pickledump(labels_train, './training/labels_train.pkl')\n",
    "src.utils.pickledump(labels_valid, './training/labels_valid.pkl')\n",
    "src.utils.pickledump(files_train, './training/files_train.pkl')\n",
    "src.utils.pickledump(files_valid, './training/files_valid.pkl')\n",
    "src.utils.pickledump(detections_train, './training/detections_train.pkl')\n",
    "src.utils.pickledump(detections_valid, './training/detections_valid.pkl')\n",
    "\n",
    "print(\"########## GENERATING TRAIN SET ##########\")\n",
    "# Generate train/test sets\n",
    "X_train = []\n",
    "y_train = []\n",
    "X_valid = []\n",
    "y_valid = []\n",
    "\n",
    "for i in tqdm.tqdm(range(len(files_train))):\n",
    "    # Retrieve the file information\n",
    "    (signal,_) = wfdb.rdsamp(os.path.join(execution['root_directory'],files_train[i]))\n",
    "    signal = signal.astype('float32').T\n",
    "\n",
    "    if not execution['whole_record']:\n",
    "        for j in range(1,len(detections_train[i])-1):\n",
    "            onset = detections_train[i][j-1]\n",
    "            offset = detections_train[i][j+1]\n",
    "            interp = signal[:,onset:offset]\n",
    "            interp = sp.interpolate.interp1d(np.linspace(0,1,interp.shape[1]),interp,axis=-1)(np.linspace(0,1,736)).astype('float32')\n",
    "            X_train.append(interp)\n",
    "            y_train.append(labels_train[i,:])\n",
    "    else:\n",
    "        X_train.append(signal)\n",
    "        y_train.append(labels_train[i,:])\n",
    "\n",
    "print(\"########## GENERATING TRAIN SET ##########\")\n",
    "for i in tqdm.tqdm(range(len(files_valid))):\n",
    "    # Retrieve the file information\n",
    "    (signal,_) = wfdb.rdsamp(os.path.join(execution['root_directory'],files_valid[i]))\n",
    "    signal = signal.astype('float32').T\n",
    "\n",
    "    if not execution['whole_record']:\n",
    "        for j in range(1,len(detections_valid[i])-1):\n",
    "            onset = detections_valid[i][j-1]\n",
    "            offset = detections_valid[i][j+1]\n",
    "            interp = signal[:,onset:offset]\n",
    "            interp = sp.interpolate.interp1d(np.linspace(0,1,interp.shape[1]),interp,axis=-1)(np.linspace(0,1,736)).astype('float32')\n",
    "            X_valid.append(interp)\n",
    "            y_valid.append(labels_valid[i,:])\n",
    "    else:\n",
    "        X_valid.append(signal)\n",
    "        y_valid.append(labels_valid[i,:])\n",
    "\n",
    "y_valid = np.array(y_valid, dtype='float32')\n",
    "y_train = np.array(y_train, dtype='float32')\n",
    "try:\n",
    "    X_train = np.array(X_train, dtype='float32')\n",
    "    X_valid = np.array(X_valid, dtype='float32')\n",
    "except:\n",
    "    pass\n",
    "\n",
    "### TRAIN MODEL ###\n",
    "model = src.model.GAPModel(\n",
    "    torch.nn.Sequential(\n",
    "        src.model.CNN([12,16,16], regularization=execution['regularization_CNN']),\n",
    "        torch.nn.MaxPool1d(3),\n",
    "        src.model.CNN([16,16], regularization=execution['regularization_CNN']),\n",
    "        torch.nn.MaxPool1d(3),\n",
    "        src.model.CNN([16,32], regularization=execution['regularization_CNN']),\n",
    "        torch.nn.MaxPool1d(3),\n",
    "        src.model.CNN([32,32], regularization=execution['regularization_CNN']),\n",
    "        torch.nn.MaxPool1d(3),\n",
    "        src.model.CNN([32,64], regularization=execution['regularization_CNN']),\n",
    "        torch.nn.MaxPool1d(3),\n",
    "        src.model.CNN([64,128], regularization=execution['regularization_CNN']),\n",
    "        torch.nn.MaxPool1d(3),\n",
    "        src.model.CNN([128,256], regularization=execution['regularization_CNN'], regularize_extrema=False),\n",
    "    ),\n",
    "    src.model.DNN([256,128,64,32,9], regularization=execution['regularization_DNN'], regularize_extrema=False),\n",
    ")\n",
    "\n",
    "if execution['whole_record']:\n",
    "    dataset_train = src.data.PaddedDataset(X_train, y_train, padding_length=execution['padding_length'],swapaxes=False, mode='edge')\n",
    "    dataset_valid = src.data.PaddedDataset(X_valid, y_valid, padding_length=execution['padding_length'],swapaxes=False, mode='edge')\n",
    "else:\n",
    "    dataset_train = src.data.Dataset(X_train, y_train)\n",
    "    dataset_valid = src.data.Dataset(X_valid, y_valid)\n",
    "\n",
    "sampler_train = src.data.StratifiedSampler(y_train, *execution['sampler'])\n",
    "sampler_valid = src.data.StratifiedSampler(y_valid, *execution['sampler'])\n",
    "\n",
    "loader_train  = torch.utils.data.DataLoader(dataset_train, sampler=sampler_train, batch_size=execution['batch_size'], **execution['loader'])\n",
    "loader_valid  = torch.utils.data.DataLoader(dataset_valid, sampler=sampler_valid, batch_size=execution['batch_size'], **execution['loader'])\n",
    "\n",
    "# Loss\n",
    "criterion = lambda X,y,y_pred: torch.nn.MultiLabelSoftMarginLoss(reduction='mean')(y_pred, y.long())\n",
    "metric = lambda X,y,y_pred: src.evaluate.compute_beta_score(y.long().cpu().detach().numpy(),(torch.nn.functional.softmax(y_pred,-1) > 0.5).cpu().detach().numpy())[-1]\n",
    "\n",
    "state = {\n",
    "    'epoch'         : 0,\n",
    "    'device'        : torch.device(\"cuda\" if torch.cuda.is_available() else \"cpu\"),\n",
    "    'optimizer'     : src.utils.class_selector('torch.optim',execution['optimizer']['name'])(model.parameters(), **execution['optimizer']['arguments']),\n",
    "    'root_dir'      : './'\n",
    "}\n",
    "if 'scheduler' in execution:\n",
    "    state['scheduler'] = src.utils.class_selector('torch.optim.lr_scheduler',execution['scheduler']['name'])(state['optimizer'], **execution['scheduler']['arguments'])\n",
    "\n",
    "print(\"########## TRAINING THE MODEL ##########\")\n",
    "state = src.train.train_model(model,state,execution,loader_train, loader_valid, criterion, metric, smaller=False)\n"
   ]
  },
  {
   "cell_type": "code",
   "execution_count": null,
   "metadata": {},
   "outputs": [],
   "source": []
  },
  {
   "cell_type": "code",
   "execution_count": null,
   "metadata": {},
   "outputs": [],
   "source": []
  },
  {
   "cell_type": "code",
   "execution_count": null,
   "metadata": {},
   "outputs": [],
   "source": []
  },
  {
   "cell_type": "code",
   "execution_count": null,
   "metadata": {},
   "outputs": [],
   "source": []
  },
  {
   "cell_type": "code",
   "execution_count": null,
   "metadata": {},
   "outputs": [],
   "source": []
  },
  {
   "cell_type": "code",
   "execution_count": null,
   "metadata": {},
   "outputs": [],
   "source": []
  },
  {
   "cell_type": "code",
   "execution_count": null,
   "metadata": {},
   "outputs": [],
   "source": []
  },
  {
   "cell_type": "code",
   "execution_count": null,
   "metadata": {},
   "outputs": [],
   "source": []
  },
  {
   "cell_type": "code",
   "execution_count": null,
   "metadata": {},
   "outputs": [],
   "source": []
  },
  {
   "cell_type": "code",
   "execution_count": null,
   "metadata": {},
   "outputs": [],
   "source": []
  },
  {
   "cell_type": "markdown",
   "metadata": {},
   "source": [
    "# Boundary Loss"
   ]
  },
  {
   "cell_type": "code",
   "execution_count": null,
   "metadata": {},
   "outputs": [],
   "source": [
    "P = skimage.segmentation.find_boundaries(y[:,0,None,:])"
   ]
  },
  {
   "cell_type": "code",
   "execution_count": null,
   "metadata": {},
   "outputs": [],
   "source": [
    "def generate_binary_structure(rank, connectivity):\n",
    "    if connectivity < 1:\n",
    "        connectivity = 1\n",
    "    if rank < 1:\n",
    "        if connectivity < 1:\n",
    "            return np.array(0, dtype=bool)\n",
    "        else:\n",
    "            return np.array(1, dtype=bool)\n",
    "    output = np.fabs(np.indices([3] * rank) - 1)\n",
    "    output = np.add.reduce(output, 0)\n",
    "    \n",
    "    return np.asarray(output <= connectivity, dtype=bool)"
   ]
  },
  {
   "cell_type": "code",
   "execution_count": null,
   "metadata": {},
   "outputs": [],
   "source": [
    "struct = generate_binary_structure(ndim-1, 1)\n",
    "struct[0,:]=False\n",
    "struct[-1,:]=False\n",
    "struct = struct[None,None,...]\n",
    "struct"
   ]
  },
  {
   "cell_type": "code",
   "execution_count": null,
   "metadata": {},
   "outputs": [],
   "source": [
    "selem = torch.tensor(selem).type(torch.uint8)"
   ]
  },
  {
   "cell_type": "code",
   "execution_count": null,
   "metadata": {},
   "outputs": [],
   "source": [
    "import torch.nn.functional as F\n",
    "bnd = F.conv2d(label_img, selem, padding=(selem.shape[2] // 2, selem.shape[2] // 2))"
   ]
  },
  {
   "cell_type": "code",
   "execution_count": null,
   "metadata": {},
   "outputs": [],
   "source": [
    "def erosion1d(signal, selem):\n",
    "    inverted = torch.logical_not(signal).type(signal.dtype)\n",
    "    out = F.conv1d(inverted, selem, padding=(selem.shape[-1] // 2,)) > 0\n",
    "    return torch.logical_not(out)\n",
    "\n",
    "def dilation1d(signal, selem):\n",
    "    return F.conv1d(signal, selem, padding=(selem.shape[-1] // 2,)) > 0\n",
    "\n",
    "def erosion2d(image, selem):\n",
    "    inverted = torch.logical_not(image).type(image.dtype)\n",
    "    out = F.conv2d(inverted, selem, padding=(selem.shape[2] // 2, selem.shape[2] // 2)) > 0\n",
    "    return torch.logical_not(out)\n",
    "\n",
    "def dilation2d(image, selem):\n",
    "    return F.conv2d(image, selem, padding=(selem.shape[2] // 2, selem.shape[2] // 2)) > 0"
   ]
  },
  {
   "cell_type": "code",
   "execution_count": null,
   "metadata": {},
   "outputs": [],
   "source": [
    "selem = np.zeros((3,)*(ndim-1),dtype=bool)\n",
    "selem[1,1,:] = True\n",
    "selem1 = np.zeros((3,)*(ndim-1),dtype=bool)\n",
    "selem1[0,0,:] = True\n",
    "selem1[1,1,:] = True\n",
    "selem1[2,2,:] = True"
   ]
  },
  {
   "cell_type": "code",
   "execution_count": null,
   "metadata": {},
   "outputs": [],
   "source": [
    "selem1"
   ]
  },
  {
   "cell_type": "code",
   "execution_count": null,
   "metadata": {},
   "outputs": [],
   "source": [
    "label_img.shape"
   ]
  },
  {
   "cell_type": "code",
   "execution_count": null,
   "metadata": {},
   "outputs": [],
   "source": [
    "Pbound = skimage.morphology.dilation(label_img[:,0,...].numpy(),selem.astype('bool')).squeeze()\n",
    "QRSbound = skimage.morphology.dilation(label_img[:,1,...].numpy(),selem.astype('bool')).squeeze()\n",
    "Tbound = skimage.morphology.dilation(label_img[:,2,...].numpy(),selem.astype('bool')).squeeze()\n",
    "out2 = np.concatenate((Pbound[:,None,:],QRSbound[:,None,:],Tbound[:,None,:]),axis=1)\n",
    "Per = skimage.morphology.erosion(label_img[:,0,...].numpy(),selem.astype('bool')).squeeze()\n",
    "QRSer = skimage.morphology.erosion(label_img[:,1,...].numpy(),selem.astype('bool')).squeeze()\n",
    "Ter = skimage.morphology.erosion(label_img[:,2,...].numpy(),selem.astype('bool')).squeeze()\n",
    "er2 = np.concatenate((Per[:,None,:],QRSer[:,None,:],Ter[:,None,:]),axis=1)"
   ]
  },
  {
   "cell_type": "code",
   "execution_count": null,
   "metadata": {},
   "outputs": [],
   "source": [
    "out2.sum()"
   ]
  },
  {
   "cell_type": "code",
   "execution_count": null,
   "metadata": {},
   "outputs": [],
   "source": [
    "er2.sum()"
   ]
  },
  {
   "cell_type": "code",
   "execution_count": null,
   "metadata": {},
   "outputs": [],
   "source": [
    "out = dilation1d(label_img.type(torch.float32).squeeze(),torch.tensor(selem1).type(torch.float32))"
   ]
  },
  {
   "cell_type": "code",
   "execution_count": null,
   "metadata": {},
   "outputs": [],
   "source": [
    "er = erosion1d(label_img.type(torch.float32).squeeze(),torch.tensor(selem1).type(torch.float32))"
   ]
  },
  {
   "cell_type": "code",
   "execution_count": null,
   "metadata": {},
   "outputs": [],
   "source": [
    "out.sum()"
   ]
  },
  {
   "cell_type": "code",
   "execution_count": null,
   "metadata": {},
   "outputs": [],
   "source": [
    "er.sum()"
   ]
  },
  {
   "cell_type": "code",
   "execution_count": null,
   "metadata": {},
   "outputs": [],
   "source": [
    "i = 3\n",
    "l = 1\n",
    "plt.plot(er[i,l,:])\n",
    "plt.plot(er2[i,l,:])"
   ]
  },
  {
   "cell_type": "code",
   "execution_count": null,
   "metadata": {},
   "outputs": [],
   "source": [
    "np.allclose(out2.astype('bool'),out.numpy())"
   ]
  },
  {
   "cell_type": "code",
   "execution_count": null,
   "metadata": {},
   "outputs": [],
   "source": [
    "out"
   ]
  },
  {
   "cell_type": "code",
   "execution_count": null,
   "metadata": {},
   "outputs": [],
   "source": [
    "scipy.ndimage.morphology.binary_dilation(label_img,selem)"
   ]
  },
  {
   "cell_type": "code",
   "execution_count": null,
   "metadata": {},
   "outputs": [],
   "source": [
    "label_img = y[:,:,None,None,:]"
   ]
  },
  {
   "cell_type": "code",
   "execution_count": null,
   "metadata": {},
   "outputs": [],
   "source": [
    "bnds = skimage.segmentation.find_boundaries(label_img).squeeze()"
   ]
  },
  {
   "cell_type": "code",
   "execution_count": null,
   "metadata": {},
   "outputs": [],
   "source": [
    "bnds.shape"
   ]
  },
  {
   "cell_type": "code",
   "execution_count": null,
   "metadata": {},
   "outputs": [],
   "source": [
    "import cv2"
   ]
  },
  {
   "cell_type": "code",
   "execution_count": null,
   "metadata": {},
   "outputs": [],
   "source": [
    "cv2.dilate(label_img.numpy(),selem)"
   ]
  },
  {
   "cell_type": "code",
   "execution_count": null,
   "metadata": {},
   "outputs": [],
   "source": []
  },
  {
   "cell_type": "code",
   "execution_count": null,
   "metadata": {},
   "outputs": [],
   "source": [
    "plt.plot(y[0,1,:])\n",
    "plt.plot(boundaries.squeeze()[0,1,:])"
   ]
  },
  {
   "cell_type": "code",
   "execution_count": null,
   "metadata": {},
   "outputs": [],
   "source": []
  },
  {
   "cell_type": "code",
   "execution_count": null,
   "metadata": {},
   "outputs": [],
   "source": [
    "label_img = y[:,:,None,:]\n",
    "connectivity=1\n",
    "mode='thick'\n",
    "background=0"
   ]
  },
  {
   "cell_type": "code",
   "execution_count": null,
   "metadata": {},
   "outputs": [],
   "source": [
    "if label_img.dtype == torch.bool:\n",
    "    label_img = label_img.type(torch.uint8)\n",
    "ndim = label_img.ndim\n",
    "# selem = torch.tensor(generate_binary_structure(ndim, connectivity))\n",
    "selem = np.zeros((3,)*(ndim-1),dtype=bool)\n",
    "selem[1,1,1,:] = True\n",
    "if mode != 'subpixel':\n",
    "    boundaries = skimage.morphology.dilation(label_img, selem) != skimage.morphology.erosion(label_img, selem)\n",
    "    if mode == 'inner':\n",
    "        foreground_image = (label_img != background)\n",
    "        boundaries &= foreground_image\n",
    "    elif mode == 'outer':\n",
    "        max_label = torch.iinfo(label_img.dtype).max\n",
    "        background_image = (label_img == background)\n",
    "        selem = generate_binary_structure(ndim, ndim)\n",
    "        inverted_background = torch.tensor(label_img, copy=True)\n",
    "        inverted_background[background_image] = max_label\n",
    "        adjacent_objects = ((skimage.morphology.dilation(label_img, selem) !=\n",
    "                             skimage.morphology.erosion(inverted_background, selem)) &\n",
    "                            ~background_image)\n",
    "        boundaries &= (background_image | adjacent_objects)\n",
    "else:\n",
    "    boundaries = _find_boundaries_subpixel(label_img)\n"
   ]
  },
  {
   "cell_type": "code",
   "execution_count": null,
   "metadata": {},
   "outputs": [],
   "source": [
    "boundaries"
   ]
  },
  {
   "cell_type": "code",
   "execution_count": null,
   "metadata": {},
   "outputs": [],
   "source": [
    "skimage.morphology.dilation"
   ]
  },
  {
   "cell_type": "code",
   "execution_count": null,
   "metadata": {},
   "outputs": [],
   "source": [
    "math.fabs()"
   ]
  },
  {
   "cell_type": "code",
   "execution_count": null,
   "metadata": {},
   "outputs": [],
   "source": []
  }
 ],
 "metadata": {
  "kernelspec": {
   "display_name": "DeepLearning3",
   "language": "python",
   "name": "deeplearning3"
  },
  "language_info": {
   "codemirror_mode": {
    "name": "ipython",
    "version": 3
   },
   "file_extension": ".py",
   "mimetype": "text/x-python",
   "name": "python",
   "nbconvert_exporter": "python",
   "pygments_lexer": "ipython3",
   "version": "3.8.2"
  }
 },
 "nbformat": 4,
 "nbformat_minor": 4
}
