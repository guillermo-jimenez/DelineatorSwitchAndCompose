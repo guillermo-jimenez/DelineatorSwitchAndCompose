{
 "cells": [
  {
   "cell_type": "code",
   "execution_count": 6,
   "metadata": {},
   "outputs": [
    {
     "name": "stdout",
     "output_type": "stream",
     "text": [
      "The autoreload extension is already loaded. To reload it, use:\n",
      "  %reload_ext autoreload\n"
     ]
    }
   ],
   "source": [
    "%load_ext autoreload\n",
    "%autoreload 2"
   ]
  },
  {
   "cell_type": "code",
   "execution_count": 7,
   "metadata": {},
   "outputs": [],
   "source": [
    "import os\n",
    "import os.path\n",
    "import skimage\n",
    "import skimage.segmentation\n",
    "import sklearn.preprocessing\n",
    "import sklearn.model_selection\n",
    "import math\n",
    "import shutil\n",
    "import pathlib\n",
    "import glob\n",
    "import shutil\n",
    "import uuid\n",
    "import random\n",
    "import platform\n",
    "import torch\n",
    "import torchvision\n",
    "import numpy as np\n",
    "import scipy as sp\n",
    "import scipy.io\n",
    "import scipy.signal\n",
    "import pandas as pd\n",
    "import networkx\n",
    "import wfdb\n",
    "import json\n",
    "import tqdm\n",
    "import dill\n",
    "import pickle\n",
    "import matplotlib.pyplot as plt\n",
    "\n",
    "import scipy.stats\n",
    "import cv2\n",
    "\n",
    "import src.data\n",
    "import src.metrics\n",
    "import sak\n",
    "import sak.signal.wavelet\n",
    "import sak.data\n",
    "import sak.data.augmentation\n",
    "import sak.data.preprocessing\n",
    "import sak.visualization\n",
    "import sak.visualization.signal\n",
    "import sak.torch\n",
    "import sak.torch.nn\n",
    "import sak.torch.nn as nn\n",
    "import sak.torch.nn\n",
    "import sak.torch.train\n",
    "import sak.torch.data\n",
    "import sak.torch.models\n",
    "import sak.torch.models.lego\n",
    "import sak.torch.models.variational\n",
    "import sak.torch.models.classification\n",
    "\n",
    "from sak.signal import StandardHeader\n",
    "\n",
    "def smooth(x: np.ndarray, window_size: int, conv_mode: str = 'same'):\n",
    "    x = np.pad(np.copy(x),(window_size,window_size),'edge')\n",
    "    window = np.hamming(window_size)/(window_size//2)\n",
    "    x = np.convolve(x, window, mode=conv_mode)\n",
    "    x = x[window_size:-window_size]\n",
    "    return x"
   ]
  },
  {
   "cell_type": "markdown",
   "metadata": {},
   "source": [
    "# Raw"
   ]
  },
  {
   "cell_type": "code",
   "execution_count": 11,
   "metadata": {},
   "outputs": [
    {
     "name": "stderr",
     "output_type": "stream",
     "text": [
      "100%|██████████| 66/66 [00:00<00:00, 7705.18it/s]\n"
     ]
    }
   ],
   "source": [
    "results_P_single   = {}\n",
    "results_QRS_single = {}\n",
    "results_T_single   = {}\n",
    "\n",
    "for path in tqdm.tqdm(glob.glob('/home/guille/DADES/DADES/Delineator/TrainedModels/*/metrics_string.txt')):\n",
    "    mname = os.path.split(os.path.split(path)[0])[1]\n",
    "    with open(path, 'r') as f:\n",
    "        res = f.read().splitlines()\n",
    "        \n",
    "    results_P_single[mname] = {\n",
    "        \"Precision\": float(res[7].split(':')[1][:-1]),\n",
    "        \"Recall\": float(res[8].split(':')[1][:-1]),\n",
    "        \"F1 Score\": float(res[9].split(':')[1][:-1]),\n",
    "        \"Onset Error (mean)\": float(res[11].split(':')[1][:-3].split(\"±\")[0]),\n",
    "        \"Onset Error (std)\": float(res[11].split(':')[1][:-3].split(\"±\")[1]),\n",
    "        \"Offset Error (mean)\": float(res[12].split(':')[1][:-3].split(\"±\")[0]),\n",
    "        \"Offset Error (std)\": float(res[12].split(':')[1][:-3].split(\"±\")[1]),\n",
    "    }\n",
    "\n",
    "    results_QRS_single[mname] = {\n",
    "        \"Precision\": float(res[17].split(':')[1][:-1]),\n",
    "        \"Recall\": float(res[18].split(':')[1][:-1]),\n",
    "        \"F1 Score\": float(res[19].split(':')[1][:-1]),\n",
    "        \"Onset Error (mean)\": float(res[21].split(':')[1][:-3].split(\"±\")[0]),\n",
    "        \"Onset Error (std)\": float(res[21].split(':')[1][:-3].split(\"±\")[1]),\n",
    "        \"Offset Error (mean)\": float(res[22].split(':')[1][:-3].split(\"±\")[0]),\n",
    "        \"Offset Error (std)\": float(res[22].split(':')[1][:-3].split(\"±\")[1]),\n",
    "    }\n",
    "    \n",
    "    results_T_single[mname] = {\n",
    "        \"Precision\": float(res[27].split(':')[1][:-1]),\n",
    "        \"Recall\": float(res[28].split(':')[1][:-1]),\n",
    "        \"F1 Score\": float(res[29].split(':')[1][:-1]),\n",
    "        \"Onset Error (mean)\": float(res[31].split(':')[1][:-3].split(\"±\")[0]),\n",
    "        \"Onset Error (std)\": float(res[31].split(':')[1][:-3].split(\"±\")[1]),\n",
    "        \"Offset Error (mean)\": float(res[32].split(':')[1][:-3].split(\"±\")[0]),\n",
    "        \"Offset Error (std)\": float(res[32].split(':')[1][:-3].split(\"±\")[1]),\n",
    "    }\n",
    "\n",
    "results_P_single = pd.DataFrame(results_P_single).T\n",
    "results_QRS_single = pd.DataFrame(results_QRS_single).T\n",
    "results_T_single = pd.DataFrame(results_T_single).T\n"
   ]
  },
  {
   "cell_type": "code",
   "execution_count": 12,
   "metadata": {},
   "outputs": [
    {
     "name": "stdout",
     "output_type": "stream",
     "text": [
      "Precision              97.18\n",
      "Recall                 96.31\n",
      "F1 Score               96.74\n",
      "Onset Error (mean)     -0.29\n",
      "Onset Error (std)      20.20\n",
      "Offset Error (mean)     3.52\n",
      "Offset Error (std)     17.07\n",
      "Name: WNet5LevelsSelfAttentionConvDiceOnly_real_20201203231939, dtype: float64\n",
      "\n",
      "Precision              98.74\n",
      "Recall                 94.65\n",
      "F1 Score               96.65\n",
      "Onset Error (mean)     -1.73\n",
      "Onset Error (std)      18.33\n",
      "Offset Error (mean)     4.05\n",
      "Offset Error (std)     15.69\n",
      "Name: WNet5LevelsSelfAttention_synth_20201206012731, dtype: float64\n"
     ]
    }
   ],
   "source": [
    "wave = 'P'\n",
    "print(eval(f\"results_{wave}_single\").T['WNet5LevelsSelfAttentionConvDiceOnly_real_20201203231939'])\n",
    "print(\"\")\n",
    "print(eval(f\"results_{wave}_single\").T['WNet5LevelsSelfAttention_synth_20201206012731'])"
   ]
  },
  {
   "cell_type": "code",
   "execution_count": 13,
   "metadata": {},
   "outputs": [
    {
     "name": "stdout",
     "output_type": "stream",
     "text": [
      "Precision              99.27\n",
      "Recall                 98.38\n",
      "F1 Score               98.82\n",
      "Onset Error (mean)     -1.18\n",
      "Onset Error (std)      17.93\n",
      "Offset Error (mean)     1.10\n",
      "Offset Error (std)     16.58\n",
      "Name: WNet5LevelsSelfAttentionDiceOnly_20201130125349, dtype: float64\n",
      "\n",
      "Precision              99.31\n",
      "Recall                 99.94\n",
      "F1 Score               99.62\n",
      "Onset Error (mean)     -0.53\n",
      "Onset Error (std)      11.24\n",
      "Offset Error (mean)     3.74\n",
      "Offset Error (std)     13.05\n",
      "Name: WNet5LevelsSelfAttentionDiceOnly_20201130125349, dtype: float64\n",
      "\n",
      "Precision              98.73\n",
      "Recall                 99.78\n",
      "F1 Score               99.25\n",
      "Onset Error (mean)      5.80\n",
      "Onset Error (std)      39.56\n",
      "Offset Error (mean)     2.35\n",
      "Offset Error (std)     51.27\n",
      "Name: WNet5LevelsSelfAttentionDiceOnly_20201130125349, dtype: float64\n"
     ]
    }
   ],
   "source": [
    "best = ((results_P_single['F1 Score']+results_QRS_single['F1 Score']+results_T_single['F1 Score'])/3).argmax()\n",
    "print(results_P_single.T[list(results_P_single.T)[best]])\n",
    "print(\"\")\n",
    "print(results_QRS_single.T[list(results_QRS_single.T)[best]])\n",
    "print(\"\")\n",
    "print(results_T_single.T[list(results_T_single.T)[best]])"
   ]
  },
  {
   "cell_type": "code",
   "execution_count": 14,
   "metadata": {},
   "outputs": [
    {
     "name": "stdout",
     "output_type": "stream",
     "text": [
      "Precision              98.93\n",
      "Recall                 97.34\n",
      "F1 Score               98.13\n",
      "Onset Error (mean)     -1.23\n",
      "Onset Error (std)      18.44\n",
      "Offset Error (mean)     1.45\n",
      "Offset Error (std)     15.15\n",
      "Name: UNet7LevelsConvDiceOnly_20201203124825, dtype: float64\n",
      "\n",
      "Precision              99.60\n",
      "Recall                 99.89\n",
      "F1 Score               99.74\n",
      "Onset Error (mean)     -1.08\n",
      "Onset Error (std)      11.07\n",
      "Offset Error (mean)     5.18\n",
      "Offset Error (std)     13.80\n",
      "Name: UNet7LevelsConvDiceOnly_20201203124825, dtype: float64\n",
      "\n",
      "Precision              99.43\n",
      "Recall                 99.78\n",
      "F1 Score               99.60\n",
      "Onset Error (mean)      3.76\n",
      "Onset Error (std)      38.62\n",
      "Offset Error (mean)     3.85\n",
      "Offset Error (std)     48.37\n",
      "Name: UNet7LevelsConvDiceOnly_20201203124825, dtype: float64\n"
     ]
    }
   ],
   "source": [
    "best = (\n",
    "    (\n",
    "        np.abs(results_P_single['Onset Error (std)'])+\n",
    "        np.abs(results_P_single['Offset Error (std)'])+\n",
    "        np.abs(results_QRS_single['Onset Error (std)'])+\n",
    "        np.abs(results_QRS_single['Offset Error (std)'])+\n",
    "        np.abs(results_T_single['Onset Error (std)'])+\n",
    "        np.abs(results_T_single['Offset Error (std)'])\n",
    "    )/6\n",
    ").argmin()\n",
    "print(results_P_single.T[list(results_P_single.T)[best]])\n",
    "print(\"\")\n",
    "print(results_QRS_single.T[list(results_QRS_single.T)[best]])\n",
    "print(\"\")\n",
    "print(results_T_single.T[list(results_T_single.T)[best]])"
   ]
  },
  {
   "cell_type": "code",
   "execution_count": null,
   "metadata": {},
   "outputs": [],
   "source": []
  },
  {
   "cell_type": "markdown",
   "metadata": {},
   "source": [
    "# Multi-lead"
   ]
  },
  {
   "cell_type": "code",
   "execution_count": 24,
   "metadata": {},
   "outputs": [
    {
     "name": "stderr",
     "output_type": "stream",
     "text": [
      "100%|██████████| 66/66 [00:00<00:00, 5596.81it/s]\n"
     ]
    }
   ],
   "source": [
    "results_P_multi   = {}\n",
    "results_QRS_multi = {}\n",
    "results_T_multi   = {}\n",
    "\n",
    "for path in tqdm.tqdm(glob.glob('/home/guille/DADES/DADES/Delineator/TrainedModels/*/metrics_string.txt')):\n",
    "    mname = os.path.split(os.path.split(path)[0])[1]\n",
    "    with open(path, 'r') as f:\n",
    "        res = f.read().splitlines()\n",
    "        \n",
    "    results_P_multi[mname] = {\n",
    "        \"Precision\": float(res[41].split(':')[1][:-1]),\n",
    "        \"Recall\": float(res[42].split(':')[1][:-1]),\n",
    "        \"F1 Score\": float(res[43].split(':')[1][:-1]),\n",
    "        \"Onset Error (mean)\": float(res[45].split(':')[1][:-3].split(\"±\")[0]),\n",
    "        \"Onset Error (std)\": float(res[45].split(':')[1][:-3].split(\"±\")[1]),\n",
    "        \"Offset Error (mean)\": float(res[46].split(':')[1][:-3].split(\"±\")[0]),\n",
    "        \"Offset Error (std)\": float(res[46].split(':')[1][:-3].split(\"±\")[1]),\n",
    "    }\n",
    "\n",
    "    results_QRS_multi[mname] = {\n",
    "        \"Precision\": float(res[51].split(':')[1][:-1]),\n",
    "        \"Recall\": float(res[52].split(':')[1][:-1]),\n",
    "        \"F1 Score\": float(res[53].split(':')[1][:-1]),\n",
    "        \"Onset Error (mean)\": float(res[55].split(':')[1][:-3].split(\"±\")[0]),\n",
    "        \"Onset Error (std)\": float(res[55].split(':')[1][:-3].split(\"±\")[1]),\n",
    "        \"Offset Error (mean)\": float(res[56].split(':')[1][:-3].split(\"±\")[0]),\n",
    "        \"Offset Error (std)\": float(res[56].split(':')[1][:-3].split(\"±\")[1]),\n",
    "    }\n",
    "    \n",
    "    results_T_multi[mname] = {\n",
    "        \"Precision\": float(res[61].split(':')[1][:-1]),\n",
    "        \"Recall\": float(res[62].split(':')[1][:-1]),\n",
    "        \"F1 Score\": float(res[63].split(':')[1][:-1]),\n",
    "        \"Onset Error (mean)\": float(res[65].split(':')[1][:-3].split(\"±\")[0]),\n",
    "        \"Onset Error (std)\": float(res[65].split(':')[1][:-3].split(\"±\")[1]),\n",
    "        \"Offset Error (mean)\": float(res[66].split(':')[1][:-3].split(\"±\")[0]),\n",
    "        \"Offset Error (std)\": float(res[66].split(':')[1][:-3].split(\"±\")[1]),\n",
    "    }\n",
    "\n",
    "results_P_multi = pd.DataFrame(results_P_multi).T\n",
    "results_QRS_multi = pd.DataFrame(results_QRS_multi).T\n",
    "results_T_multi = pd.DataFrame(results_T_multi).T\n"
   ]
  },
  {
   "cell_type": "code",
   "execution_count": 25,
   "metadata": {},
   "outputs": [
    {
     "name": "stdout",
     "output_type": "stream",
     "text": [
      "Precision              98.90\n",
      "Recall                 99.72\n",
      "F1 Score               99.31\n",
      "Onset Error (mean)     -0.84\n",
      "Onset Error (std)      13.54\n",
      "Offset Error (mean)    -0.57\n",
      "Offset Error (std)     12.71\n",
      "Name: WNet5LevelsSelfAttentionDiceOnly_20201130125349, dtype: float64\n",
      "\n",
      "Precision              99.24\n",
      "Recall                 99.97\n",
      "F1 Score               99.60\n",
      "Onset Error (mean)      0.06\n",
      "Onset Error (std)       7.59\n",
      "Offset Error (mean)     1.67\n",
      "Offset Error (std)      7.81\n",
      "Name: WNet5LevelsSelfAttentionDiceOnly_20201130125349, dtype: float64\n",
      "\n",
      "Precision              98.24\n",
      "Recall                 99.97\n",
      "F1 Score               99.10\n",
      "Onset Error (mean)      5.21\n",
      "Onset Error (std)      31.11\n",
      "Offset Error (mean)     3.79\n",
      "Offset Error (std)     37.18\n",
      "Name: WNet5LevelsSelfAttentionDiceOnly_20201130125349, dtype: float64\n"
     ]
    }
   ],
   "source": [
    "best = results_P_multi['Recall'].argmax()\n",
    "print(results_P_multi.T[list(results_P_multi.T)[best]])\n",
    "print(\"\")\n",
    "print(results_QRS_multi.T[list(results_QRS_multi.T)[best]])\n",
    "print(\"\")\n",
    "print(results_T_multi.T[list(results_T_multi.T)[best]])"
   ]
  },
  {
   "cell_type": "code",
   "execution_count": 28,
   "metadata": {},
   "outputs": [
    {
     "name": "stdout",
     "output_type": "stream",
     "text": [
      "Precision              98.90\n",
      "Recall                 99.72\n",
      "F1 Score               99.31\n",
      "Onset Error (mean)     -0.84\n",
      "Onset Error (std)      13.54\n",
      "Offset Error (mean)    -0.57\n",
      "Offset Error (std)     12.71\n",
      "Name: WNet5LevelsSelfAttentionDiceOnly_20201130125349, dtype: float64\n",
      "\n",
      "Precision              99.24\n",
      "Recall                 99.97\n",
      "F1 Score               99.60\n",
      "Onset Error (mean)      0.06\n",
      "Onset Error (std)       7.59\n",
      "Offset Error (mean)     1.67\n",
      "Offset Error (std)      7.81\n",
      "Name: WNet5LevelsSelfAttentionDiceOnly_20201130125349, dtype: float64\n",
      "\n",
      "Precision              98.24\n",
      "Recall                 99.97\n",
      "F1 Score               99.10\n",
      "Onset Error (mean)      5.21\n",
      "Onset Error (std)      31.11\n",
      "Offset Error (mean)     3.79\n",
      "Offset Error (std)     37.18\n",
      "Name: WNet5LevelsSelfAttentionDiceOnly_20201130125349, dtype: float64\n"
     ]
    }
   ],
   "source": [
    "best = ((results_P_multi['F1 Score']+results_QRS_multi['F1 Score']+results_T_multi['F1 Score'])/3).argmax()\n",
    "print(results_P_multi.T[list(results_P_multi.T)[best]])\n",
    "print(\"\")\n",
    "print(results_QRS_multi.T[list(results_QRS_multi.T)[best]])\n",
    "print(\"\")\n",
    "print(results_T_multi.T[list(results_T_multi.T)[best]])"
   ]
  },
  {
   "cell_type": "code",
   "execution_count": 29,
   "metadata": {},
   "outputs": [
    {
     "name": "stdout",
     "output_type": "stream",
     "text": [
      "Precision              98.58\n",
      "Recall                 98.45\n",
      "F1 Score               98.52\n",
      "Onset Error (mean)     -0.80\n",
      "Onset Error (std)      12.65\n",
      "Offset Error (mean)     0.08\n",
      "Offset Error (std)     10.03\n",
      "Name: UNet7LevelsConvDiceOnly_20201203124825, dtype: float64\n",
      "\n",
      "Precision              99.52\n",
      "Recall                 99.94\n",
      "F1 Score               99.73\n",
      "Onset Error (mean)     -0.42\n",
      "Onset Error (std)       7.32\n",
      "Offset Error (mean)     2.52\n",
      "Offset Error (std)      8.45\n",
      "Name: UNet7LevelsConvDiceOnly_20201203124825, dtype: float64\n",
      "\n",
      "Precision              99.11\n",
      "Recall                 99.94\n",
      "F1 Score               99.52\n",
      "Onset Error (mean)      3.84\n",
      "Onset Error (std)      30.74\n",
      "Offset Error (mean)     4.25\n",
      "Offset Error (std)     35.53\n",
      "Name: UNet7LevelsConvDiceOnly_20201203124825, dtype: float64\n"
     ]
    }
   ],
   "source": [
    "best = (\n",
    "    (\n",
    "        np.abs(results_P_multi['Onset Error (std)'])+\n",
    "        np.abs(results_P_multi['Offset Error (std)'])+\n",
    "        np.abs(results_QRS_multi['Onset Error (std)'])+\n",
    "        np.abs(results_QRS_multi['Offset Error (std)'])+\n",
    "        np.abs(results_T_multi['Onset Error (std)'])+\n",
    "        np.abs(results_T_multi['Offset Error (std)'])\n",
    "    )/6\n",
    ").argmin()\n",
    "print(results_P_multi.T[list(results_P_multi.T)[best]])\n",
    "print(\"\")\n",
    "print(results_QRS_multi.T[list(results_QRS_multi.T)[best]])\n",
    "print(\"\")\n",
    "print(results_T_multi.T[list(results_T_multi.T)[best]])"
   ]
  },
  {
   "cell_type": "code",
   "execution_count": null,
   "metadata": {},
   "outputs": [],
   "source": []
  },
  {
   "cell_type": "markdown",
   "metadata": {},
   "source": [
    "# Real vs synthetic vs Real+Synthetic"
   ]
  },
  {
   "cell_type": "code",
   "execution_count": 123,
   "metadata": {},
   "outputs": [],
   "source": [
    "results_P_real_single = pd.DataFrame({k.split(\"_\")[0]: results_P_single.T[k].to_dict() for k in results_P_single.T if \"_real_\" in k}).T\n",
    "results_P_synth_single = pd.DataFrame({k.split(\"_\")[0]: results_P_single.T[k].to_dict() for k in results_P_single.T if \"_synth_\" in k}).T\n",
    "results_P_all_single = pd.DataFrame({k.split(\"_\")[0]: results_P_single.T[k].to_dict() for k in results_P_single.T if ((\"_real_\" not in k) and (\"_synth_\" not in k))}).T\n",
    "results_P_real_multi = pd.DataFrame({k.split(\"_\")[0]: results_P_multi.T[k].to_dict() for k in results_P_multi.T if \"_real_\" in k}).T\n",
    "results_P_synth_multi = pd.DataFrame({k.split(\"_\")[0]: results_P_multi.T[k].to_dict() for k in results_P_multi.T if \"_synth_\" in k}).T\n",
    "results_P_all_multi = pd.DataFrame({k.split(\"_\")[0]: results_P_multi.T[k].to_dict() for k in results_P_multi.T if ((\"_real_\" not in k) and (\"_synth_\" not in k))}).T\n",
    "\n",
    "results_QRS_real_single = pd.DataFrame({k.split(\"_\")[0]: results_QRS_single.T[k].to_dict() for k in results_QRS_single.T if \"_real_\" in k}).T\n",
    "results_QRS_synth_single = pd.DataFrame({k.split(\"_\")[0]: results_QRS_single.T[k].to_dict() for k in results_QRS_single.T if \"_synth_\" in k}).T\n",
    "results_QRS_all_single = pd.DataFrame({k.split(\"_\")[0]: results_QRS_single.T[k].to_dict() for k in results_QRS_single.T if ((\"_real_\" not in k) and (\"_synth_\" not in k))}).T\n",
    "results_QRS_real_multi = pd.DataFrame({k.split(\"_\")[0]: results_QRS_multi.T[k].to_dict() for k in results_QRS_multi.T if \"_real_\" in k}).T\n",
    "results_QRS_synth_multi = pd.DataFrame({k.split(\"_\")[0]: results_QRS_multi.T[k].to_dict() for k in results_QRS_multi.T if \"_synth_\" in k}).T\n",
    "results_QRS_all_multi = pd.DataFrame({k.split(\"_\")[0]: results_QRS_multi.T[k].to_dict() for k in results_QRS_multi.T if ((\"_real_\" not in k) and (\"_synth_\" not in k))}).T\n",
    "\n",
    "results_T_real_single = pd.DataFrame({k.split(\"_\")[0]: results_T_single.T[k].to_dict() for k in results_T_single.T if \"_real_\" in k}).T\n",
    "results_T_synth_single = pd.DataFrame({k.split(\"_\")[0]: results_T_single.T[k].to_dict() for k in results_T_single.T if \"_synth_\" in k}).T\n",
    "results_T_all_single = pd.DataFrame({k.split(\"_\")[0]: results_T_single.T[k].to_dict() for k in results_T_single.T if ((\"_real_\" not in k) and (\"_synth_\" not in k))}).T\n",
    "results_T_real_multi = pd.DataFrame({k.split(\"_\")[0]: results_T_multi.T[k].to_dict() for k in results_T_multi.T if \"_real_\" in k}).T\n",
    "results_T_synth_multi = pd.DataFrame({k.split(\"_\")[0]: results_T_multi.T[k].to_dict() for k in results_T_multi.T if \"_synth_\" in k}).T\n",
    "results_T_all_multi = pd.DataFrame({k.split(\"_\")[0]: results_T_multi.T[k].to_dict() for k in results_T_multi.T if ((\"_real_\" not in k) and (\"_synth_\" not in k))}).T"
   ]
  },
  {
   "cell_type": "code",
   "execution_count": 136,
   "metadata": {},
   "outputs": [
    {
     "name": "stdout",
     "output_type": "stream",
     "text": [
      "############## P wave ##############\n",
      "### Precision ###\n",
      "Synth -  Real: 0.51\n",
      "All   -  Real: 0.65\n",
      "All   - Synth: 0.25\n",
      "\n",
      "### Recall ###\n",
      "Synth -  Real: 0.91\n",
      "All   -  Real: 1.85\n",
      "All   - Synth: 0.76\n",
      "\n",
      "### On ###\n",
      "Synth -  Real: -3.9$\\pm$0.25\n",
      "All   -  Real: -1.81$\\pm$-0.99\n",
      "All   - Synth: 2.01$\\pm$-1.04\n",
      "\n",
      "### Off ###\n",
      "Synth -  Real: -2.3$\\pm$-0.57\n",
      "All   -  Real: -1.35$\\pm$-1.19\n",
      "All   - Synth: 0.94$\\pm$-0.8\n",
      "\n",
      "############## QRS wave ##############\n",
      "### Precision ###\n",
      "Synth -  Real: 0.49\n",
      "All   -  Real: 0.41\n",
      "All   - Synth: -0.03\n",
      "\n",
      "### Recall ###\n",
      "Synth -  Real: -0.02\n",
      "All   -  Real: 0.0\n",
      "All   - Synth: 0.0\n",
      "\n",
      "### On ###\n",
      "Synth -  Real: -2.04$\\pm$-0.75\n",
      "All   -  Real: -0.95$\\pm$-0.99\n",
      "All   - Synth: 1.01$\\pm$-0.27\n",
      "\n",
      "### Off ###\n",
      "Synth -  Real: 1.22$\\pm$-0.86\n",
      "All   -  Real: 0.4$\\pm$-2.42\n",
      "All   - Synth: -0.58$\\pm$-1.17\n",
      "\n",
      "############## T wave ##############\n",
      "### Precision ###\n",
      "Synth -  Real: 0.72\n",
      "All   -  Real: 1.25\n",
      "All   - Synth: -0.02\n",
      "\n",
      "### Recall ###\n",
      "Synth -  Real: -0.21\n",
      "All   -  Real: -0.12\n",
      "All   - Synth: 0.13\n",
      "\n",
      "### On ###\n",
      "Synth -  Real: -6.13$\\pm$-2.28\n",
      "All   -  Real: -0.66$\\pm$-3.96\n",
      "All   - Synth: 4.36$\\pm$-2.04\n",
      "\n",
      "### Off ###\n",
      "Synth -  Real: 2.66$\\pm$4.15\n",
      "All   -  Real: -0.48$\\pm$2.51\n",
      "All   - Synth: -0.61$\\pm$-1.51\n",
      "\n"
     ]
    }
   ],
   "source": [
    "for wave in [\"P\", \"QRS\", \"T\"]:\n",
    "    print(f\"############## {wave} wave ##############\")\n",
    "\n",
    "    real = eval(f\"results_{wave}_real_single\")\n",
    "    synth = eval(f\"results_{wave}_synth_single\")\n",
    "    allres = eval(f\"results_{wave}_all_single\")\n",
    "\n",
    "    for m in [\"Precision\",\"Recall\",\"On\", \"Off\"]:\n",
    "        print(f\"### {m} ###\")\n",
    "        if m in [\"On\", \"Off\"]:\n",
    "            print(f\"Synth -  Real: {np.round(np.median(synth[f'{m}set Error (mean)']-real[f'{m}set Error (mean)']),2)}$\\pm${np.round(np.median(synth[f'{m}set Error (std)']-real[f'{m}set Error (std)']),2)}\") # ± {np.std(synth[m]-real[m])}\")\n",
    "            print(f\"All   -  Real: {np.round(np.median(allres[f'{m}set Error (mean)']-real[f'{m}set Error (mean)']),2)}$\\pm${np.round(np.median(allres[f'{m}set Error (std)']-real[f'{m}set Error (std)']),2)}\") # ± {np.std(allres[m]-real[m])}\")\n",
    "            print(f\"All   - Synth: {np.round(np.median(allres[f'{m}set Error (mean)']-synth[f'{m}set Error (mean)']),2)}$\\pm${np.round(np.median(allres[f'{m}set Error (std)']-synth[f'{m}set Error (std)']),2)}\") # ± {np.std(allres[m]-synth[m])}\")\n",
    "        else:\n",
    "            print(f\"Synth -  Real: {np.round(np.median(synth[m]-real[m]),2)}\") # ± {np.std(synth[m]-real[m])}\")\n",
    "            print(f\"All   -  Real: {np.round(np.median(allres[m]-real[m]),2)}\") # ± {np.std(allres[m]-real[m])}\")\n",
    "            print(f\"All   - Synth: {np.round(np.median(allres[m]-synth[m]),2)}\") # ± {np.std(allres[m]-synth[m])}\")\n",
    "        print(\"\")"
   ]
  },
  {
   "cell_type": "code",
   "execution_count": 137,
   "metadata": {},
   "outputs": [
    {
     "name": "stdout",
     "output_type": "stream",
     "text": [
      "############## P wave ##############\n",
      "### Precision ###\n",
      "Synth -  Real: 0.56\n",
      "All   -  Real: 1.27\n",
      "All   - Synth: 0.39\n",
      "\n",
      "### Recall ###\n",
      "Synth -  Real: -0.19\n",
      "All   -  Real: 0.38\n",
      "All   - Synth: 0.38\n",
      "\n",
      "### On ###\n",
      "Synth -  Real: -2.12$\\pm$0.74\n",
      "All   -  Real: -1.08$\\pm$-0.08\n",
      "All   - Synth: 1.46$\\pm$-0.8\n",
      "\n",
      "### Off ###\n",
      "Synth -  Real: -2.01$\\pm$-1.13\n",
      "All   -  Real: -1.23$\\pm$-1.76\n",
      "All   - Synth: 0.62$\\pm$-0.6\n",
      "\n",
      "############## QRS wave ##############\n",
      "### Precision ###\n",
      "Synth -  Real: 0.08\n",
      "All   -  Real: -0.19\n",
      "All   - Synth: -0.17\n",
      "\n",
      "### Recall ###\n",
      "Synth -  Real: 0.0\n",
      "All   -  Real: 0.0\n",
      "All   - Synth: 0.0\n",
      "\n",
      "### On ###\n",
      "Synth -  Real: -1.27$\\pm$0.02\n",
      "All   -  Real: -0.68$\\pm$-0.16\n",
      "All   - Synth: 0.75$\\pm$-0.21\n",
      "\n",
      "### Off ###\n",
      "Synth -  Real: -0.07$\\pm$-1.41\n",
      "All   -  Real: -0.53$\\pm$-2.21\n",
      "All   - Synth: -0.18$\\pm$-0.99\n",
      "\n",
      "############## T wave ##############\n",
      "### Precision ###\n",
      "Synth -  Real: 1.13\n",
      "All   -  Real: 1.27\n",
      "All   - Synth: 0.09\n",
      "\n",
      "### Recall ###\n",
      "Synth -  Real: -0.16\n",
      "All   -  Real: -0.1\n",
      "All   - Synth: 0.08\n",
      "\n",
      "### On ###\n",
      "Synth -  Real: -3.86$\\pm$-1.96\n",
      "All   -  Real: -0.34$\\pm$-3.3\n",
      "All   - Synth: 3.08$\\pm$-0.91\n",
      "\n",
      "### Off ###\n",
      "Synth -  Real: 0.24$\\pm$4.97\n",
      "All   -  Real: -1.77$\\pm$4.14\n",
      "All   - Synth: -0.33$\\pm$-1.09\n",
      "\n"
     ]
    }
   ],
   "source": [
    "for wave in [\"P\", \"QRS\", \"T\"]:\n",
    "    print(f\"############## {wave} wave ##############\")\n",
    "\n",
    "    real = eval(f\"results_{wave}_real_multi\")\n",
    "    synth = eval(f\"results_{wave}_synth_multi\")\n",
    "    allres = eval(f\"results_{wave}_all_multi\")\n",
    "\n",
    "    for m in [\"Precision\",\"Recall\",\"On\", \"Off\"]:\n",
    "        print(f\"### {m} ###\")\n",
    "        if m in [\"On\", \"Off\"]:\n",
    "            print(f\"Synth -  Real: {np.round(np.median(synth[f'{m}set Error (mean)']-real[f'{m}set Error (mean)']),2)}$\\pm${np.round(np.median(synth[f'{m}set Error (std)']-real[f'{m}set Error (std)']),2)}\") # ± {np.std(synth[m]-real[m])}\")\n",
    "            print(f\"All   -  Real: {np.round(np.median(allres[f'{m}set Error (mean)']-real[f'{m}set Error (mean)']),2)}$\\pm${np.round(np.median(allres[f'{m}set Error (std)']-real[f'{m}set Error (std)']),2)}\") # ± {np.std(allres[m]-real[m])}\")\n",
    "            print(f\"All   - Synth: {np.round(np.median(allres[f'{m}set Error (mean)']-synth[f'{m}set Error (mean)']),2)}$\\pm${np.round(np.median(allres[f'{m}set Error (std)']-synth[f'{m}set Error (std)']),2)}\") # ± {np.std(allres[m]-synth[m])}\")\n",
    "        else:\n",
    "            print(f\"Synth -  Real: {np.round(np.median(synth[m]-real[m]),2)}\") # ± {np.std(synth[m]-real[m])}\")\n",
    "            print(f\"All   -  Real: {np.round(np.median(allres[m]-real[m]),2)}\") # ± {np.std(allres[m]-real[m])}\")\n",
    "            print(f\"All   - Synth: {np.round(np.median(allres[m]-synth[m]),2)}\") # ± {np.std(allres[m]-synth[m])}\")\n",
    "        print(\"\")"
   ]
  },
  {
   "cell_type": "code",
   "execution_count": null,
   "metadata": {},
   "outputs": [],
   "source": []
  },
  {
   "cell_type": "markdown",
   "metadata": {},
   "source": [
    "# U-Net vs W-Net"
   ]
  },
  {
   "cell_type": "code",
   "execution_count": 152,
   "metadata": {},
   "outputs": [],
   "source": [
    "results_P_UNet_single = pd.DataFrame({\"_\".join(k.split(\"_\")[:-1])[4:]: results_P_single.T[k].to_dict() for k in results_P_single.T if \"UNet\" in k}).T\n",
    "results_P_WNet_single = pd.DataFrame({\"_\".join(k.split(\"_\")[:-1])[4:]: results_P_single.T[k].to_dict() for k in results_P_single.T if \"WNet\" in k}).T\n",
    "results_P_UNet_multi = pd.DataFrame({\"_\".join(k.split(\"_\")[:-1])[4:]: results_P_multi.T[k].to_dict() for k in results_P_multi.T if \"UNet\" in k}).T\n",
    "results_P_WNet_multi = pd.DataFrame({\"_\".join(k.split(\"_\")[:-1])[4:]: results_P_multi.T[k].to_dict() for k in results_P_multi.T if \"WNet\" in k}).T\n",
    "\n",
    "results_QRS_UNet_single = pd.DataFrame({\"_\".join(k.split(\"_\")[:-1])[4:]: results_QRS_single.T[k].to_dict() for k in results_QRS_single.T if \"UNet\" in k}).T\n",
    "results_QRS_WNet_single = pd.DataFrame({\"_\".join(k.split(\"_\")[:-1])[4:]: results_QRS_single.T[k].to_dict() for k in results_QRS_single.T if \"WNet\" in k}).T\n",
    "results_QRS_UNet_multi = pd.DataFrame({\"_\".join(k.split(\"_\")[:-1])[4:]: results_QRS_multi.T[k].to_dict() for k in results_QRS_multi.T if \"UNet\" in k}).T\n",
    "results_QRS_WNet_multi = pd.DataFrame({\"_\".join(k.split(\"_\")[:-1])[4:]: results_QRS_multi.T[k].to_dict() for k in results_QRS_multi.T if \"WNet\" in k}).T\n",
    "\n",
    "results_T_UNet_single = pd.DataFrame({\"_\".join(k.split(\"_\")[:-1])[4:]: results_T_single.T[k].to_dict() for k in results_T_single.T if \"UNet\" in k}).T\n",
    "results_T_WNet_single = pd.DataFrame({\"_\".join(k.split(\"_\")[:-1])[4:]: results_T_single.T[k].to_dict() for k in results_T_single.T if \"WNet\" in k}).T\n",
    "results_T_UNet_multi = pd.DataFrame({\"_\".join(k.split(\"_\")[:-1])[4:]: results_T_multi.T[k].to_dict() for k in results_T_multi.T if \"UNet\" in k}).T\n",
    "results_T_WNet_multi = pd.DataFrame({\"_\".join(k.split(\"_\")[:-1])[4:]: results_T_multi.T[k].to_dict() for k in results_T_multi.T if \"WNet\" in k}).T"
   ]
  },
  {
   "cell_type": "code",
   "execution_count": 153,
   "metadata": {},
   "outputs": [],
   "source": [
    "filt = np.array(list(results_P_UNet_single.T))[:,None] == np.array(list(results_P_WNet_single.T))\n",
    "filt_names = np.array(list(results_P_UNet_single.T))[np.argwhere(filt)[:,0]]\n",
    "\n",
    "results_P_UNet_single = results_P_UNet_single.T[filt_names].T\n",
    "results_P_WNet_single = results_P_WNet_single.T[filt_names].T\n",
    "results_QRS_UNet_single = results_QRS_UNet_single.T[filt_names].T\n",
    "results_QRS_WNet_single = results_QRS_WNet_single.T[filt_names].T\n",
    "results_T_UNet_single = results_T_UNet_single.T[filt_names].T\n",
    "results_T_WNet_single = results_T_WNet_single.T[filt_names].T\n",
    "results_P_UNet_multi = results_P_UNet_multi.T[filt_names].T\n",
    "results_P_WNet_multi = results_P_WNet_multi.T[filt_names].T\n",
    "results_QRS_UNet_multi = results_QRS_UNet_multi.T[filt_names].T\n",
    "results_QRS_WNet_multi = results_QRS_WNet_multi.T[filt_names].T\n",
    "results_T_UNet_multi = results_T_UNet_multi.T[filt_names].T\n",
    "results_T_WNet_multi = results_T_WNet_multi.T[filt_names].T"
   ]
  },
  {
   "cell_type": "code",
   "execution_count": 154,
   "metadata": {},
   "outputs": [
    {
     "name": "stdout",
     "output_type": "stream",
     "text": [
      "############## P wave ##############\n",
      "### Pr ###    WNet - UNet: 0.31\n",
      "### Re ###    WNet - UNet: -0.46\n",
      "### On ###    WNet - UNet: -0.2$\\pm$0.59\n",
      "### Of ###    WNet - UNet: -0.0$\\pm$0.29\n",
      "\n",
      "############## QRS wave ##############\n",
      "### Pr ###    WNet - UNet: 0.22\n",
      "### Re ###    WNet - UNet: 0.02\n",
      "### On ###    WNet - UNet: -0.02$\\pm$0.1\n",
      "### Of ###    WNet - UNet: -0.01$\\pm$-0.63\n",
      "\n",
      "############## T wave ##############\n",
      "### Pr ###    WNet - UNet: 1.93\n",
      "### Re ###    WNet - UNet: 0.09\n",
      "### On ###    WNet - UNet: 2.43$\\pm$1.77\n",
      "### Of ###    WNet - UNet: -2.93$\\pm$0.86\n",
      "\n"
     ]
    }
   ],
   "source": [
    "for wave in [\"P\", \"QRS\", \"T\"]:\n",
    "    print(f\"############## {wave} wave ##############\")\n",
    "\n",
    "    wnet = eval(f\"results_{wave}_WNet_single\")\n",
    "    unet = eval(f\"results_{wave}_UNet_single\")\n",
    "\n",
    "    for m in [\"Precision\",\"Recall\",\"On\", \"Off\"]:\n",
    "        if m in [\"On\", \"Off\"]:\n",
    "            print(f\"### {m[:2]} ###    WNet - UNet: {np.round(np.median(wnet[f'{m}set Error (mean)']-unet[f'{m}set Error (mean)']),2)}$\\pm${np.round(np.median(wnet[f'{m}set Error (std)']-unet[f'{m}set Error (std)']),2)}\")\n",
    "        else:\n",
    "            print(f\"### {m[:2]} ###    WNet - UNet: {np.round(np.median(wnet[m]-unet[m]),2)}\")\n",
    "    print(\"\")"
   ]
  },
  {
   "cell_type": "code",
   "execution_count": 155,
   "metadata": {},
   "outputs": [
    {
     "name": "stdout",
     "output_type": "stream",
     "text": [
      "############## P wave ##############\n",
      "### Pr ###    WNet - UNet: 0.4\n",
      "### Re ###    WNet - UNet: -0.12\n",
      "### On ###    WNet - UNet: -0.27$\\pm$0.48\n",
      "### Of ###    WNet - UNet: -0.04$\\pm$0.33\n",
      "\n",
      "############## QRS wave ##############\n",
      "### Pr ###    WNet - UNet: 0.29\n",
      "### Re ###    WNet - UNet: 0.0\n",
      "### On ###    WNet - UNet: -0.08$\\pm$0.0\n",
      "### Of ###    WNet - UNet: -0.17$\\pm$-0.58\n",
      "\n",
      "############## T wave ##############\n",
      "### Pr ###    WNet - UNet: 2.33\n",
      "### Re ###    WNet - UNet: 0.05\n",
      "### On ###    WNet - UNet: 1.95$\\pm$2.0\n",
      "### Of ###    WNet - UNet: -1.18$\\pm$0.08\n",
      "\n"
     ]
    }
   ],
   "source": [
    "for wave in [\"P\", \"QRS\", \"T\"]:\n",
    "    print(f\"############## {wave} wave ##############\")\n",
    "\n",
    "    wnet = eval(f\"results_{wave}_WNet_multi\")\n",
    "    unet = eval(f\"results_{wave}_UNet_multi\")\n",
    "\n",
    "    for m in [\"Precision\",\"Recall\",\"On\", \"Off\"]:\n",
    "        if m in [\"On\", \"Off\"]:\n",
    "            print(f\"### {m[:2]} ###    WNet - UNet: {np.round(np.median(wnet[f'{m}set Error (mean)']-unet[f'{m}set Error (mean)']),2)}$\\pm${np.round(np.median(wnet[f'{m}set Error (std)']-unet[f'{m}set Error (std)']),2)}\") # ± {np.std(synth[m]-real[m])}\")\n",
    "        else:\n",
    "            print(f\"### {m[:2]} ###    WNet - UNet: {np.round(np.median(wnet[m]-unet[m]),2)}\") # ± {np.std(synth[m]-real[m])}\")\n",
    "    print(\"\")"
   ]
  },
  {
   "cell_type": "code",
   "execution_count": null,
   "metadata": {},
   "outputs": [],
   "source": []
  },
  {
   "cell_type": "markdown",
   "metadata": {},
   "source": [
    "# Dice vs F1"
   ]
  },
  {
   "cell_type": "code",
   "execution_count": 176,
   "metadata": {},
   "outputs": [],
   "source": [
    "results_P_Dice_single = pd.DataFrame({\"_\".join(k.split(\"_\")[:-1]).replace(\"DiceOnly\",\"\"): results_P_single.T[k].to_dict() for k in results_P_single.T if \"DiceOnly\" in k}).T\n",
    "results_P_F1_single = pd.DataFrame({\"_\".join(k.split(\"_\")[:-1]).replace(\"DiceOnly\",\"\"): results_P_single.T[k].to_dict() for k in results_P_single.T if not (\"DiceOnly\" in k)}).T\n",
    "results_P_Dice_multi = pd.DataFrame({\"_\".join(k.split(\"_\")[:-1]).replace(\"DiceOnly\",\"\"): results_P_multi.T[k].to_dict() for k in results_P_multi.T if \"DiceOnly\" in k}).T\n",
    "results_P_F1_multi = pd.DataFrame({\"_\".join(k.split(\"_\")[:-1]).replace(\"DiceOnly\",\"\"): results_P_multi.T[k].to_dict() for k in results_P_multi.T if not (\"DiceOnly\" in k)}).T\n",
    "\n",
    "results_QRS_Dice_single = pd.DataFrame({\"_\".join(k.split(\"_\")[:-1]).replace(\"DiceOnly\",\"\"): results_QRS_single.T[k].to_dict() for k in results_QRS_single.T if \"DiceOnly\" in k}).T\n",
    "results_QRS_F1_single = pd.DataFrame({\"_\".join(k.split(\"_\")[:-1]).replace(\"DiceOnly\",\"\"): results_QRS_single.T[k].to_dict() for k in results_QRS_single.T if not (\"DiceOnly\" in k)}).T\n",
    "results_QRS_Dice_multi = pd.DataFrame({\"_\".join(k.split(\"_\")[:-1]).replace(\"DiceOnly\",\"\"): results_QRS_multi.T[k].to_dict() for k in results_QRS_multi.T if \"DiceOnly\" in k}).T\n",
    "results_QRS_F1_multi = pd.DataFrame({\"_\".join(k.split(\"_\")[:-1]).replace(\"DiceOnly\",\"\"): results_QRS_multi.T[k].to_dict() for k in results_QRS_multi.T if not (\"DiceOnly\" in k)}).T\n",
    "\n",
    "results_T_Dice_single = pd.DataFrame({\"_\".join(k.split(\"_\")[:-1]).replace(\"DiceOnly\",\"\"): results_T_single.T[k].to_dict() for k in results_T_single.T if \"DiceOnly\" in k}).T\n",
    "results_T_F1_single = pd.DataFrame({\"_\".join(k.split(\"_\")[:-1]).replace(\"DiceOnly\",\"\"): results_T_single.T[k].to_dict() for k in results_T_single.T if not (\"DiceOnly\" in k)}).T\n",
    "results_T_Dice_multi = pd.DataFrame({\"_\".join(k.split(\"_\")[:-1]).replace(\"DiceOnly\",\"\"): results_T_multi.T[k].to_dict() for k in results_T_multi.T if \"DiceOnly\" in k}).T\n",
    "results_T_F1_multi = pd.DataFrame({\"_\".join(k.split(\"_\")[:-1]).replace(\"DiceOnly\",\"\"): results_T_multi.T[k].to_dict() for k in results_T_multi.T if not (\"DiceOnly\" in k)}).T"
   ]
  },
  {
   "cell_type": "code",
   "execution_count": 177,
   "metadata": {},
   "outputs": [
    {
     "name": "stdout",
     "output_type": "stream",
     "text": [
      "############## P wave ##############\n",
      "### Pr ###    F1 - Dice: 0.0\n",
      "### Re ###    F1 - Dice: -0.41\n",
      "### On ###    F1 - Dice: -1.69$\\pm$-0.12\n",
      "### Of ###    F1 - Dice: 1.15$\\pm$-0.41\n",
      "\n",
      "############## QRS wave ##############\n",
      "### Pr ###    F1 - Dice: 0.02\n",
      "### Re ###    F1 - Dice: 0.02\n",
      "### On ###    F1 - Dice: -0.87$\\pm$0.21\n",
      "### Of ###    F1 - Dice: 1.03$\\pm$0.44\n",
      "\n",
      "############## T wave ##############\n",
      "### Pr ###    F1 - Dice: 0.72\n",
      "### Re ###    F1 - Dice: -0.04\n",
      "### On ###    F1 - Dice: -7.56$\\pm$0.07\n",
      "### Of ###    F1 - Dice: 8.42$\\pm$-1.0\n",
      "\n"
     ]
    }
   ],
   "source": [
    "for wave in [\"P\", \"QRS\", \"T\"]:\n",
    "    print(f\"############## {wave} wave ##############\")\n",
    "\n",
    "    f1 = eval(f\"results_{wave}_F1_single\")\n",
    "    dice = eval(f\"results_{wave}_Dice_single\")\n",
    "\n",
    "    for m in [\"Precision\",\"Recall\",\"On\", \"Off\"]:\n",
    "        if m in [\"On\", \"Off\"]:\n",
    "            print(f\"### {m[:2]} ###    F1 - Dice: {np.round(np.median(f1[f'{m}set Error (mean)']-dice[f'{m}set Error (mean)']),2)}$\\pm${np.round(np.median(f1[f'{m}set Error (std)']-dice[f'{m}set Error (std)']),2)}\")\n",
    "        else:\n",
    "            print(f\"### {m[:2]} ###    F1 - Dice: {np.round(np.median(f1[m]-dice[m]),2)}\")\n",
    "    print(\"\")"
   ]
  },
  {
   "cell_type": "code",
   "execution_count": 179,
   "metadata": {},
   "outputs": [
    {
     "name": "stdout",
     "output_type": "stream",
     "text": [
      "############## P wave ##############\n",
      "### Pr ###    F1 - Dice: -0.13\n",
      "### Re ###    F1 - Dice: -0.48\n",
      "### On ###    F1 - Dice: -1.07$\\pm$-0.07\n",
      "### Of ###    F1 - Dice: 0.69$\\pm$-0.29\n",
      "\n",
      "############## QRS wave ##############\n",
      "### Pr ###    F1 - Dice: 0.0\n",
      "### Re ###    F1 - Dice: 0.03\n",
      "### On ###    F1 - Dice: -0.54$\\pm$0.17\n",
      "### Of ###    F1 - Dice: 0.59$\\pm$0.1\n",
      "\n",
      "############## T wave ##############\n",
      "### Pr ###    F1 - Dice: 1.12\n",
      "### Re ###    F1 - Dice: -0.03\n",
      "### On ###    F1 - Dice: -4.79$\\pm$0.14\n",
      "### Of ###    F1 - Dice: 5.78$\\pm$0.35\n",
      "\n"
     ]
    }
   ],
   "source": [
    "for wave in [\"P\", \"QRS\", \"T\"]:\n",
    "    print(f\"############## {wave} wave ##############\")\n",
    "\n",
    "    f1 = eval(f\"results_{wave}_F1_multi\")\n",
    "    dice = eval(f\"results_{wave}_Dice_multi\")\n",
    "\n",
    "    for m in [\"Precision\",\"Recall\",\"On\", \"Off\"]:\n",
    "        if m in [\"On\", \"Off\"]:\n",
    "            print(f\"### {m[:2]} ###    F1 - Dice: {np.round(np.median(f1[f'{m}set Error (mean)']-dice[f'{m}set Error (mean)']),2)}$\\pm${np.round(np.median(f1[f'{m}set Error (std)']-dice[f'{m}set Error (std)']),2)}\")\n",
    "        else:\n",
    "            print(f\"### {m[:2]} ###    F1 - Dice: {np.round(np.median(f1[m]-dice[m]),2)}\")\n",
    "    print(\"\")"
   ]
  },
  {
   "cell_type": "code",
   "execution_count": null,
   "metadata": {},
   "outputs": [],
   "source": []
  },
  {
   "cell_type": "markdown",
   "metadata": {},
   "source": [
    "# SelfAttention vs Not"
   ]
  },
  {
   "cell_type": "code",
   "execution_count": 180,
   "metadata": {},
   "outputs": [],
   "source": [
    "results_P_Self_single = pd.DataFrame({\"_\".join(k.split(\"_\")[:-1]).replace(\"SelfAttention\",\"\"): results_P_single.T[k].to_dict() for k in results_P_single.T if \"SelfAttention\" in k}).T\n",
    "results_P_NotSelf_single = pd.DataFrame({\"_\".join(k.split(\"_\")[:-1]).replace(\"SelfAttention\",\"\"): results_P_single.T[k].to_dict() for k in results_P_single.T if not (\"SelfAttention\" in k)}).T\n",
    "results_P_Self_multi = pd.DataFrame({\"_\".join(k.split(\"_\")[:-1]).replace(\"SelfAttention\",\"\"): results_P_multi.T[k].to_dict() for k in results_P_multi.T if \"SelfAttention\" in k}).T\n",
    "results_P_NotSelf_multi = pd.DataFrame({\"_\".join(k.split(\"_\")[:-1]).replace(\"SelfAttention\",\"\"): results_P_multi.T[k].to_dict() for k in results_P_multi.T if not (\"SelfAttention\" in k)}).T\n",
    "\n",
    "results_QRS_Self_single = pd.DataFrame({\"_\".join(k.split(\"_\")[:-1]).replace(\"SelfAttention\",\"\"): results_QRS_single.T[k].to_dict() for k in results_QRS_single.T if \"SelfAttention\" in k}).T\n",
    "results_QRS_NotSelf_single = pd.DataFrame({\"_\".join(k.split(\"_\")[:-1]).replace(\"SelfAttention\",\"\"): results_QRS_single.T[k].to_dict() for k in results_QRS_single.T if not (\"SelfAttention\" in k)}).T\n",
    "results_QRS_Self_multi = pd.DataFrame({\"_\".join(k.split(\"_\")[:-1]).replace(\"SelfAttention\",\"\"): results_QRS_multi.T[k].to_dict() for k in results_QRS_multi.T if \"SelfAttention\" in k}).T\n",
    "results_QRS_NotSelf_multi = pd.DataFrame({\"_\".join(k.split(\"_\")[:-1]).replace(\"SelfAttention\",\"\"): results_QRS_multi.T[k].to_dict() for k in results_QRS_multi.T if not (\"SelfAttention\" in k)}).T\n",
    "\n",
    "results_T_Self_single = pd.DataFrame({\"_\".join(k.split(\"_\")[:-1]).replace(\"SelfAttention\",\"\"): results_T_single.T[k].to_dict() for k in results_T_single.T if \"SelfAttention\" in k}).T\n",
    "results_T_NotSelf_single = pd.DataFrame({\"_\".join(k.split(\"_\")[:-1]).replace(\"SelfAttention\",\"\"): results_T_single.T[k].to_dict() for k in results_T_single.T if not (\"SelfAttention\" in k)}).T\n",
    "results_T_Self_multi = pd.DataFrame({\"_\".join(k.split(\"_\")[:-1]).replace(\"SelfAttention\",\"\"): results_T_multi.T[k].to_dict() for k in results_T_multi.T if \"SelfAttention\" in k}).T\n",
    "results_T_NotSelf_multi = pd.DataFrame({\"_\".join(k.split(\"_\")[:-1]).replace(\"SelfAttention\",\"\"): results_T_multi.T[k].to_dict() for k in results_T_multi.T if not (\"SelfAttention\" in k)}).T"
   ]
  },
  {
   "cell_type": "code",
   "execution_count": 181,
   "metadata": {},
   "outputs": [],
   "source": [
    "filt = np.array(list(results_P_Self_single.T))[:,None] == np.array(list(results_P_NotSelf_single.T))\n",
    "filt_names = np.array(list(results_P_Self_single.T))[np.argwhere(filt)[:,0]]\n",
    "\n",
    "results_P_Self_single = results_P_Self_single.T[filt_names].T\n",
    "results_P_NotSelf_single = results_P_NotSelf_single.T[filt_names].T\n",
    "results_QRS_Self_single = results_QRS_Self_single.T[filt_names].T\n",
    "results_QRS_NotSelf_single = results_QRS_NotSelf_single.T[filt_names].T\n",
    "results_T_Self_single = results_T_Self_single.T[filt_names].T\n",
    "results_T_NotSelf_single = results_T_NotSelf_single.T[filt_names].T\n",
    "results_P_Self_multi = results_P_Self_multi.T[filt_names].T\n",
    "results_P_NotSelf_multi = results_P_NotSelf_multi.T[filt_names].T\n",
    "results_QRS_Self_multi = results_QRS_Self_multi.T[filt_names].T\n",
    "results_QRS_NotSelf_multi = results_QRS_NotSelf_multi.T[filt_names].T\n",
    "results_T_Self_multi = results_T_Self_multi.T[filt_names].T\n",
    "results_T_NotSelf_multi = results_T_NotSelf_multi.T[filt_names].T"
   ]
  },
  {
   "cell_type": "code",
   "execution_count": 182,
   "metadata": {},
   "outputs": [
    {
     "name": "stdout",
     "output_type": "stream",
     "text": [
      "############## P wave ##############\n",
      "### Pr ###    Attention - Not: -0.11\n",
      "### Re ###    Attention - Not: 1.41\n",
      "### On ###    Attention - Not: 3.18$\\pm$-1.48\n",
      "### Of ###    Attention - Not: 0.7$\\pm$-0.15\n",
      "\n",
      "############## QRS wave ##############\n",
      "### Pr ###    Attention - Not: -0.38\n",
      "### Re ###    Attention - Not: 0.04\n",
      "### On ###    Attention - Not: 1.06$\\pm$-0.41\n",
      "### Of ###    Attention - Not: -1.61$\\pm$-1.0\n",
      "\n",
      "############## T wave ##############\n",
      "### Pr ###    Attention - Not: -0.04\n",
      "### Re ###    Attention - Not: 0.23\n",
      "### On ###    Attention - Not: 0.07$\\pm$-3.1\n",
      "### Of ###    Attention - Not: -0.57$\\pm$-4.39\n",
      "\n"
     ]
    }
   ],
   "source": [
    "for wave in [\"P\", \"QRS\", \"T\"]:\n",
    "    print(f\"############## {wave} wave ##############\")\n",
    "\n",
    "    Self = eval(f\"results_{wave}_Self_single\")\n",
    "    NotSelf = eval(f\"results_{wave}_NotSelf_single\")\n",
    "\n",
    "    for m in [\"Precision\",\"Recall\",\"On\", \"Off\"]:\n",
    "        if m in [\"On\", \"Off\"]:\n",
    "            print(f\"### {m[:2]} ###    Attention - Not: {np.round(np.median(Self[f'{m}set Error (mean)']-NotSelf[f'{m}set Error (mean)']),2)}$\\pm${np.round(np.median(Self[f'{m}set Error (std)']-NotSelf[f'{m}set Error (std)']),2)}\")\n",
    "        else:\n",
    "            print(f\"### {m[:2]} ###    Attention - Not: {np.round(np.median(Self[m]-NotSelf[m]),2)}\")\n",
    "    print(\"\")"
   ]
  },
  {
   "cell_type": "code",
   "execution_count": 183,
   "metadata": {},
   "outputs": [
    {
     "name": "stdout",
     "output_type": "stream",
     "text": [
      "############## P wave ##############\n",
      "### Pr ###    Attention - Not: 0.04\n",
      "### Re ###    Attention - Not: 0.76\n",
      "### On ###    Attention - Not: 2.06$\\pm$-2.15\n",
      "### Of ###    Attention - Not: 0.49$\\pm$-0.12\n",
      "\n",
      "############## QRS wave ##############\n",
      "### Pr ###    Attention - Not: -0.3\n",
      "### Re ###    Attention - Not: 0.05\n",
      "### On ###    Attention - Not: 0.8$\\pm$-0.07\n",
      "### Of ###    Attention - Not: -0.93$\\pm$-0.59\n",
      "\n",
      "############## T wave ##############\n",
      "### Pr ###    Attention - Not: -0.03\n",
      "### Re ###    Attention - Not: 0.16\n",
      "### On ###    Attention - Not: 1.1$\\pm$-3.66\n",
      "### Of ###    Attention - Not: -0.28$\\pm$-5.5\n",
      "\n"
     ]
    }
   ],
   "source": [
    "for wave in [\"P\", \"QRS\", \"T\"]:\n",
    "    print(f\"############## {wave} wave ##############\")\n",
    "\n",
    "    Self = eval(f\"results_{wave}_Self_multi\")\n",
    "    NotSelf = eval(f\"results_{wave}_NotSelf_multi\")\n",
    "\n",
    "    for m in [\"Precision\",\"Recall\",\"On\", \"Off\"]:\n",
    "        if m in [\"On\", \"Off\"]:\n",
    "            print(f\"### {m[:2]} ###    Attention - Not: {np.round(np.median(Self[f'{m}set Error (mean)']-NotSelf[f'{m}set Error (mean)']),2)}$\\pm${np.round(np.median(Self[f'{m}set Error (std)']-NotSelf[f'{m}set Error (std)']),2)}\")\n",
    "        else:\n",
    "            print(f\"### {m[:2]} ###    Attention - Not: {np.round(np.median(Self[m]-NotSelf[m]),2)}\")\n",
    "    print(\"\")"
   ]
  },
  {
   "cell_type": "code",
   "execution_count": null,
   "metadata": {},
   "outputs": [],
   "source": []
  },
  {
   "cell_type": "markdown",
   "metadata": {},
   "source": [
    "# Levels"
   ]
  },
  {
   "cell_type": "code",
   "execution_count": 184,
   "metadata": {},
   "outputs": [
    {
     "data": {
      "text/plain": [
       "Index(['WNet5LevelsConvDiceOnly_20201130125349',\n",
       "       'WNet5LevelsConvDiceOnly_real_20201204020927',\n",
       "       'WNet5LevelsConvDiceOnly_synth_20201210195924',\n",
       "       'WNet5LevelsConv_20201124143432', 'WNet5LevelsConv_real_20201128064651',\n",
       "       'WNet5LevelsConv_synth_20201206145918',\n",
       "       'WNet5LevelsDiceOnly_20201130125349',\n",
       "       'WNet5LevelsDiceOnly_real_20201203185909',\n",
       "       'WNet5LevelsDiceOnly_synth_20201209185735',\n",
       "       'WNet5LevelsSelfAttentionConvDiceOnly_20201130125349',\n",
       "       'WNet5LevelsSelfAttentionConvDiceOnly_real_20201203231939',\n",
       "       'WNet5LevelsSelfAttentionConvDiceOnly_synth_20201210041533',\n",
       "       'WNet5LevelsSelfAttentionConv_20201124143433',\n",
       "       'WNet5LevelsSelfAttentionConv_real_20201128033608',\n",
       "       'UNet5LevelsConvDiceOnly_20201202003451',\n",
       "       'UNet5LevelsConvDiceOnly_real_20201204204042',\n",
       "       'UNet5LevelsConvDiceOnly_synth_20201211065325',\n",
       "       'UNet7LevelsConvDiceOnly_20201203124825',\n",
       "       'WNet5LevelsSelfAttentionConv_synth_20201206085318',\n",
       "       'WNet6LevelsDiceOnly_real_20201205030934', 'WNet6Levels_20201126051114',\n",
       "       'WNet6LevelsDiceOnly_20201202044521',\n",
       "       'WNet5LevelsSelfAttentionDiceOnly_20201130125349',\n",
       "       'WNet5LevelsSelfAttentionDiceOnly_real_20201203192805',\n",
       "       'WNet5LevelsSelfAttentionDiceOnly_synth_20201209215314',\n",
       "       'WNet5LevelsSelfAttention_20201124143433',\n",
       "       'WNet5LevelsSelfAttention_real_20201127200934',\n",
       "       'WNet5LevelsSelfAttention_synth_20201206012731',\n",
       "       'WNet5Levels_20201124143434', 'WNet5Levels_real_20201127155141',\n",
       "       'WNet5Levels_synth_20201205201348', 'UNet5LevelsConv_20201126031519',\n",
       "       'UNet5LevelsConv_real_20201128082143',\n",
       "       'UNet5LevelsConv_synth_20201207090502',\n",
       "       'UNet5LevelsDiceOnly_20201130125350',\n",
       "       'UNet5LevelsDiceOnly_real_20201203140435',\n",
       "       'UNet5LevelsDiceOnly_synth_20201209121447',\n",
       "       'UNet5Levels_20201124143433', 'UNet5Levels_real_20201127152623',\n",
       "       'UNet5Levels_synth_20201205163610',\n",
       "       'UNet6LevelsConvDiceOnly_20201202055324',\n",
       "       'UNet6LevelsConvDiceOnly_real_20201205031809',\n",
       "       'UNet6LevelsConvDiceOnly_synth_20201212001457',\n",
       "       'UNet6LevelsConv_20201126052228', 'UNet6LevelsConv_real_20201128200118',\n",
       "       'UNet6LevelsConv_synth_20201208041815',\n",
       "       'UNet6LevelsDiceOnly_20201202004750',\n",
       "       'UNet6LevelsDiceOnly_real_20201205001620',\n",
       "       'UNet6LevelsDiceOnly_synth_20201211150555',\n",
       "       'UNet6Levels_20201126042437', 'UNet6Levels_real_20201128150827',\n",
       "       'UNet6Levels_synth_20201207160352',\n",
       "       'UNet7LevelsConvDiceOnly_real_20201205081529',\n",
       "       'UNet7LevelsConvDiceOnly_synth_20201213012639',\n",
       "       'UNet7LevelsConv_20201127152515', 'UNet7LevelsConv_real_20201129035943',\n",
       "       'UNet7LevelsConv_synth_20201209013204',\n",
       "       'UNet7LevelsDiceOnly_20201202071040',\n",
       "       'UNet7LevelsDiceOnly_real_20201205041709',\n",
       "       'UNet7LevelsDiceOnly_synth_20201212143531',\n",
       "       'UNet7Levels_20201126170003', 'UNet7Levels_real_20201129011017',\n",
       "       'UNet7Levels_synth_20201208095004', 'WNet6Levels_real_20201128171738',\n",
       "       'WNet6Levels_synth_20201207220959',\n",
       "       'WNet6LevelsDiceOnly_synth_20201211183622'],\n",
       "      dtype='object')"
      ]
     },
     "execution_count": 184,
     "metadata": {},
     "output_type": "execute_result"
    }
   ],
   "source": [
    "results_P_single.T.keys()"
   ]
  },
  {
   "cell_type": "code",
   "execution_count": 185,
   "metadata": {},
   "outputs": [],
   "source": [
    "results_P_5Levels_single = pd.DataFrame({\"_\".join(k.split(\"_\")[:-1]).replace(\"5Levels\",\"\"): results_P_single.T[k].to_dict() for k in results_P_single.T if \"5Levels\" in k}).T\n",
    "results_P_6Levels_single = pd.DataFrame({\"_\".join(k.split(\"_\")[:-1]).replace(\"6Levels\",\"\"): results_P_single.T[k].to_dict() for k in results_P_single.T if \"6Levels\" in k}).T\n",
    "results_P_7Levels_single = pd.DataFrame({\"_\".join(k.split(\"_\")[:-1]).replace(\"7Levels\",\"\"): results_P_single.T[k].to_dict() for k in results_P_single.T if \"7Levels\" in k}).T\n",
    "results_P_5Levels_multi = pd.DataFrame({\"_\".join(k.split(\"_\")[:-1]).replace(\"5Levels\",\"\"): results_P_multi.T[k].to_dict() for k in results_P_multi.T if \"5Levels\" in k}).T\n",
    "results_P_6Levels_multi = pd.DataFrame({\"_\".join(k.split(\"_\")[:-1]).replace(\"6Levels\",\"\"): results_P_multi.T[k].to_dict() for k in results_P_multi.T if \"6Levels\" in k}).T\n",
    "results_P_7Levels_multi = pd.DataFrame({\"_\".join(k.split(\"_\")[:-1]).replace(\"7Levels\",\"\"): results_P_multi.T[k].to_dict() for k in results_P_multi.T if \"7Levels\" in k}).T\n",
    "\n",
    "results_QRS_5Levels_single = pd.DataFrame({\"_\".join(k.split(\"_\")[:-1]).replace(\"5Levels\",\"\"): results_QRS_single.T[k].to_dict() for k in results_QRS_single.T if \"5Levels\" in k}).T\n",
    "results_QRS_6Levels_single = pd.DataFrame({\"_\".join(k.split(\"_\")[:-1]).replace(\"6Levels\",\"\"): results_QRS_single.T[k].to_dict() for k in results_QRS_single.T if \"6Levels\" in k}).T\n",
    "results_QRS_7Levels_single = pd.DataFrame({\"_\".join(k.split(\"_\")[:-1]).replace(\"7Levels\",\"\"): results_QRS_single.T[k].to_dict() for k in results_QRS_single.T if \"7Levels\" in k}).T\n",
    "results_QRS_5Levels_multi = pd.DataFrame({\"_\".join(k.split(\"_\")[:-1]).replace(\"5Levels\",\"\"): results_QRS_multi.T[k].to_dict() for k in results_QRS_multi.T if \"5Levels\" in k}).T\n",
    "results_QRS_6Levels_multi = pd.DataFrame({\"_\".join(k.split(\"_\")[:-1]).replace(\"6Levels\",\"\"): results_QRS_multi.T[k].to_dict() for k in results_QRS_multi.T if \"6Levels\" in k}).T\n",
    "results_QRS_7Levels_multi = pd.DataFrame({\"_\".join(k.split(\"_\")[:-1]).replace(\"7Levels\",\"\"): results_QRS_multi.T[k].to_dict() for k in results_QRS_multi.T if \"7Levels\" in k}).T\n",
    "\n",
    "results_T_5Levels_single = pd.DataFrame({\"_\".join(k.split(\"_\")[:-1]).replace(\"5Levels\",\"\"): results_T_single.T[k].to_dict() for k in results_T_single.T if \"5Levels\" in k}).T\n",
    "results_T_6Levels_single = pd.DataFrame({\"_\".join(k.split(\"_\")[:-1]).replace(\"6Levels\",\"\"): results_T_single.T[k].to_dict() for k in results_T_single.T if \"6Levels\" in k}).T\n",
    "results_T_7Levels_single = pd.DataFrame({\"_\".join(k.split(\"_\")[:-1]).replace(\"7Levels\",\"\"): results_T_single.T[k].to_dict() for k in results_T_single.T if \"7Levels\" in k}).T\n",
    "results_T_5Levels_multi = pd.DataFrame({\"_\".join(k.split(\"_\")[:-1]).replace(\"5Levels\",\"\"): results_T_multi.T[k].to_dict() for k in results_T_multi.T if \"5Levels\" in k}).T\n",
    "results_T_6Levels_multi = pd.DataFrame({\"_\".join(k.split(\"_\")[:-1]).replace(\"6Levels\",\"\"): results_T_multi.T[k].to_dict() for k in results_T_multi.T if \"6Levels\" in k}).T\n",
    "results_T_7Levels_multi = pd.DataFrame({\"_\".join(k.split(\"_\")[:-1]).replace(\"7Levels\",\"\"): results_T_multi.T[k].to_dict() for k in results_T_multi.T if \"7Levels\" in k}).T"
   ]
  },
  {
   "cell_type": "code",
   "execution_count": 196,
   "metadata": {},
   "outputs": [
    {
     "name": "stdout",
     "output_type": "stream",
     "text": [
      "############## P wave ##############\n",
      "### Precision ###\n",
      "Lvl6 - Lvl5: 0.12\n",
      "Lvl7 - Lvl5: 0.18\n",
      "Lvl7 - Lvl6: 0.1\n",
      "\n",
      "### Recall ###\n",
      "Lvl6 - Lvl5: 0.17\n",
      "Lvl7 - Lvl5: -0.13\n",
      "Lvl7 - Lvl6: 0.17\n",
      "\n",
      "### On ###\n",
      "Lvl6 - Lvl5: 0.72$\\pm$0.01\n",
      "Lvl7 - Lvl5: 1.04$\\pm$0.7\n",
      "Lvl7 - Lvl6: 0.45$\\pm$0.4\n",
      "\n",
      "### Off ###\n",
      "Lvl6 - Lvl5: 0.26$\\pm$-0.31\n",
      "Lvl7 - Lvl5: 0.55$\\pm$0.25\n",
      "Lvl7 - Lvl6: -0.12$\\pm$0.13\n",
      "\n",
      "############## QRS wave ##############\n",
      "### Precision ###\n",
      "Lvl6 - Lvl5: 0.2\n",
      "Lvl7 - Lvl5: 0.42\n",
      "Lvl7 - Lvl6: 0.14\n",
      "\n",
      "### Recall ###\n",
      "Lvl6 - Lvl5: 0.03\n",
      "Lvl7 - Lvl5: 0.0\n",
      "Lvl7 - Lvl6: -0.02\n",
      "\n",
      "### On ###\n",
      "Lvl6 - Lvl5: 0.22$\\pm$-0.06\n",
      "Lvl7 - Lvl5: 0.33$\\pm$0.11\n",
      "Lvl7 - Lvl6: -0.13$\\pm$-0.04\n",
      "\n",
      "### Off ###\n",
      "Lvl6 - Lvl5: -0.32$\\pm$-1.26\n",
      "Lvl7 - Lvl5: -0.68$\\pm$-2.52\n",
      "Lvl7 - Lvl6: -0.05$\\pm$0.38\n",
      "\n",
      "############## T wave ##############\n",
      "### Precision ###\n",
      "Lvl6 - Lvl5: 2.09\n",
      "Lvl7 - Lvl5: 3.42\n",
      "Lvl7 - Lvl6: 0.21\n",
      "\n",
      "### Recall ###\n",
      "Lvl6 - Lvl5: 0.23\n",
      "Lvl7 - Lvl5: 0.58\n",
      "Lvl7 - Lvl6: 0.04\n",
      "\n",
      "### On ###\n",
      "Lvl6 - Lvl5: 1.28$\\pm$0.4\n",
      "Lvl7 - Lvl5: 1.0$\\pm$0.23\n",
      "Lvl7 - Lvl6: -0.58$\\pm$-0.02\n",
      "\n",
      "### Off ###\n",
      "Lvl6 - Lvl5: -3.7$\\pm$-0.2\n",
      "Lvl7 - Lvl5: -6.37$\\pm$-3.26\n",
      "Lvl7 - Lvl6: -0.66$\\pm$-1.42\n",
      "\n"
     ]
    }
   ],
   "source": [
    "for wave in [\"P\", \"QRS\", \"T\"]:\n",
    "    print(f\"############## {wave} wave ##############\")\n",
    "\n",
    "    lvl5 = eval(f\"results_{wave}_5Levels_single\")\n",
    "    lvl6 = eval(f\"results_{wave}_6Levels_single\")\n",
    "    lvl7 = eval(f\"results_{wave}_7Levels_single\")\n",
    "    \n",
    "    filt = np.array(list(lvl5.T))[:,None] == np.array(list(lvl6.T))\n",
    "    filt_names = np.array(list(lvl5.T))[np.argwhere(filt)[:,0]]\n",
    "    lvl65 = (lvl6.T[filt_names].T).copy()-(lvl5.T[filt_names].T).copy()\n",
    "\n",
    "    filt = np.array(list(lvl5.T))[:,None] == np.array(list(lvl7.T))\n",
    "    filt_names = np.array(list(lvl5.T))[np.argwhere(filt)[:,0]]\n",
    "    lvl75 = (lvl7.T[filt_names].T).copy()-(lvl5.T[filt_names].T).copy()\n",
    "\n",
    "    filt = np.array(list(lvl6.T))[:,None] == np.array(list(lvl7.T))\n",
    "    filt_names = np.array(list(lvl6.T))[np.argwhere(filt)[:,0]]\n",
    "    lvl76 = (lvl7.T[filt_names].T).copy()-(lvl6.T[filt_names].T).copy()\n",
    "\n",
    "    for m in [\"Precision\",\"Recall\",\"On\", \"Off\"]:\n",
    "        print(f\"### {m} ###\")\n",
    "        if m in [\"On\", \"Off\"]:\n",
    "            print(f\"Lvl6 - Lvl5: {np.round(np.median(lvl65[f'{m}set Error (mean)']),2)}$\\pm${np.round(np.median(lvl65[f'{m}set Error (std)']),2)}\")\n",
    "            print(f\"Lvl7 - Lvl5: {np.round(np.median(lvl75[f'{m}set Error (mean)']),2)}$\\pm${np.round(np.median(lvl75[f'{m}set Error (std)']),2)}\")\n",
    "            print(f\"Lvl7 - Lvl6: {np.round(np.median(lvl76[f'{m}set Error (mean)']),2)}$\\pm${np.round(np.median(lvl76[f'{m}set Error (std)']),2)}\")\n",
    "        else:\n",
    "            print(f\"Lvl6 - Lvl5: {np.round(np.median(lvl65[m]),2)}\")\n",
    "            print(f\"Lvl7 - Lvl5: {np.round(np.median(lvl75[m]),2)}\")\n",
    "            print(f\"Lvl7 - Lvl6: {np.round(np.median(lvl76[m]),2)}\")\n",
    "        print(\"\")"
   ]
  },
  {
   "cell_type": "code",
   "execution_count": 197,
   "metadata": {},
   "outputs": [
    {
     "name": "stdout",
     "output_type": "stream",
     "text": [
      "############## P wave ##############\n",
      "### Precision ###\n",
      "Lvl6 - Lvl5: 0.13\n",
      "Lvl7 - Lvl5: 0.25\n",
      "Lvl7 - Lvl6: 0.23\n",
      "\n",
      "### Recall ###\n",
      "Lvl6 - Lvl5: 0.46\n",
      "Lvl7 - Lvl5: 0.33\n",
      "Lvl7 - Lvl6: 0.19\n",
      "\n",
      "### On ###\n",
      "Lvl6 - Lvl5: 0.47$\\pm$-0.06\n",
      "Lvl7 - Lvl5: 0.79$\\pm$0.22\n",
      "Lvl7 - Lvl6: 0.4$\\pm$0.09\n",
      "\n",
      "### Off ###\n",
      "Lvl6 - Lvl5: 0.24$\\pm$-0.12\n",
      "Lvl7 - Lvl5: 0.11$\\pm$0.32\n",
      "Lvl7 - Lvl6: -0.16$\\pm$-0.0\n",
      "\n",
      "############## QRS wave ##############\n",
      "### Precision ###\n",
      "Lvl6 - Lvl5: 0.05\n",
      "Lvl7 - Lvl5: 0.52\n",
      "Lvl7 - Lvl6: 0.2\n",
      "\n",
      "### Recall ###\n",
      "Lvl6 - Lvl5: 0.0\n",
      "Lvl7 - Lvl5: -0.02\n",
      "Lvl7 - Lvl6: 0.0\n",
      "\n",
      "### On ###\n",
      "Lvl6 - Lvl5: 0.07$\\pm$0.04\n",
      "Lvl7 - Lvl5: 0.08$\\pm$0.32\n",
      "Lvl7 - Lvl6: -0.19$\\pm$0.25\n",
      "\n",
      "### Off ###\n",
      "Lvl6 - Lvl5: -0.17$\\pm$-0.77\n",
      "Lvl7 - Lvl5: -0.53$\\pm$-2.42\n",
      "Lvl7 - Lvl6: -0.01$\\pm$0.37\n",
      "\n",
      "############## T wave ##############\n",
      "### Precision ###\n",
      "Lvl6 - Lvl5: 2.69\n",
      "Lvl7 - Lvl5: 3.68\n",
      "Lvl7 - Lvl6: 0.33\n",
      "\n",
      "### Recall ###\n",
      "Lvl6 - Lvl5: 0.06\n",
      "Lvl7 - Lvl5: 0.11\n",
      "Lvl7 - Lvl6: 0.03\n",
      "\n",
      "### On ###\n",
      "Lvl6 - Lvl5: 1.84$\\pm$1.14\n",
      "Lvl7 - Lvl5: 1.56$\\pm$0.73\n",
      "Lvl7 - Lvl6: -0.23$\\pm$-0.58\n",
      "\n",
      "### Off ###\n",
      "Lvl6 - Lvl5: -1.94$\\pm$-1.73\n",
      "Lvl7 - Lvl5: -5.24$\\pm$-4.95\n",
      "Lvl7 - Lvl6: 0.04$\\pm$-1.85\n",
      "\n"
     ]
    }
   ],
   "source": [
    "for wave in [\"P\", \"QRS\", \"T\"]:\n",
    "    print(f\"############## {wave} wave ##############\")\n",
    "\n",
    "    lvl5 = eval(f\"results_{wave}_5Levels_multi\")\n",
    "    lvl6 = eval(f\"results_{wave}_6Levels_multi\")\n",
    "    lvl7 = eval(f\"results_{wave}_7Levels_multi\")\n",
    "    \n",
    "    filt = np.array(list(lvl5.T))[:,None] == np.array(list(lvl6.T))\n",
    "    filt_names = np.array(list(lvl5.T))[np.argwhere(filt)[:,0]]\n",
    "    lvl65 = (lvl6.T[filt_names].T).copy()-(lvl5.T[filt_names].T).copy()\n",
    "\n",
    "    filt = np.array(list(lvl5.T))[:,None] == np.array(list(lvl7.T))\n",
    "    filt_names = np.array(list(lvl5.T))[np.argwhere(filt)[:,0]]\n",
    "    lvl75 = (lvl7.T[filt_names].T).copy()-(lvl5.T[filt_names].T).copy()\n",
    "\n",
    "    filt = np.array(list(lvl6.T))[:,None] == np.array(list(lvl7.T))\n",
    "    filt_names = np.array(list(lvl6.T))[np.argwhere(filt)[:,0]]\n",
    "    lvl76 = (lvl7.T[filt_names].T).copy()-(lvl6.T[filt_names].T).copy()\n",
    "\n",
    "    for m in [\"Precision\",\"Recall\",\"On\", \"Off\"]:\n",
    "        print(f\"### {m} ###\")\n",
    "        if m in [\"On\", \"Off\"]:\n",
    "            print(f\"Lvl6 - Lvl5: {np.round(np.median(lvl65[f'{m}set Error (mean)']),2)}$\\pm${np.round(np.median(lvl65[f'{m}set Error (std)']),2)}\")\n",
    "            print(f\"Lvl7 - Lvl5: {np.round(np.median(lvl75[f'{m}set Error (mean)']),2)}$\\pm${np.round(np.median(lvl75[f'{m}set Error (std)']),2)}\")\n",
    "            print(f\"Lvl7 - Lvl6: {np.round(np.median(lvl76[f'{m}set Error (mean)']),2)}$\\pm${np.round(np.median(lvl76[f'{m}set Error (std)']),2)}\")\n",
    "        else:\n",
    "            print(f\"Lvl6 - Lvl5: {np.round(np.median(lvl65[m]),2)}\")\n",
    "            print(f\"Lvl7 - Lvl5: {np.round(np.median(lvl75[m]),2)}\")\n",
    "            print(f\"Lvl7 - Lvl6: {np.round(np.median(lvl76[m]),2)}\")\n",
    "        print(\"\")"
   ]
  },
  {
   "cell_type": "code",
   "execution_count": null,
   "metadata": {},
   "outputs": [],
   "source": []
  },
  {
   "cell_type": "code",
   "execution_count": null,
   "metadata": {},
   "outputs": [],
   "source": []
  },
  {
   "cell_type": "code",
   "execution_count": null,
   "metadata": {},
   "outputs": [],
   "source": []
  },
  {
   "cell_type": "code",
   "execution_count": null,
   "metadata": {},
   "outputs": [],
   "source": []
  },
  {
   "cell_type": "code",
   "execution_count": null,
   "metadata": {},
   "outputs": [],
   "source": []
  },
  {
   "cell_type": "code",
   "execution_count": null,
   "metadata": {},
   "outputs": [],
   "source": []
  },
  {
   "cell_type": "code",
   "execution_count": null,
   "metadata": {},
   "outputs": [],
   "source": []
  },
  {
   "cell_type": "code",
   "execution_count": null,
   "metadata": {},
   "outputs": [],
   "source": []
  },
  {
   "cell_type": "code",
   "execution_count": null,
   "metadata": {},
   "outputs": [],
   "source": []
  },
  {
   "cell_type": "code",
   "execution_count": null,
   "metadata": {},
   "outputs": [],
   "source": []
  },
  {
   "cell_type": "code",
   "execution_count": null,
   "metadata": {},
   "outputs": [],
   "source": []
  },
  {
   "cell_type": "code",
   "execution_count": null,
   "metadata": {},
   "outputs": [],
   "source": []
  },
  {
   "cell_type": "code",
   "execution_count": null,
   "metadata": {},
   "outputs": [],
   "source": []
  },
  {
   "cell_type": "code",
   "execution_count": null,
   "metadata": {},
   "outputs": [],
   "source": []
  },
  {
   "cell_type": "code",
   "execution_count": null,
   "metadata": {},
   "outputs": [],
   "source": []
  },
  {
   "cell_type": "code",
   "execution_count": null,
   "metadata": {},
   "outputs": [],
   "source": []
  },
  {
   "cell_type": "code",
   "execution_count": null,
   "metadata": {},
   "outputs": [],
   "source": []
  },
  {
   "cell_type": "code",
   "execution_count": null,
   "metadata": {},
   "outputs": [],
   "source": []
  },
  {
   "cell_type": "code",
   "execution_count": null,
   "metadata": {},
   "outputs": [],
   "source": []
  },
  {
   "cell_type": "code",
   "execution_count": null,
   "metadata": {},
   "outputs": [],
   "source": []
  },
  {
   "cell_type": "code",
   "execution_count": null,
   "metadata": {},
   "outputs": [],
   "source": []
  },
  {
   "cell_type": "code",
   "execution_count": null,
   "metadata": {},
   "outputs": [],
   "source": []
  },
  {
   "cell_type": "code",
   "execution_count": null,
   "metadata": {},
   "outputs": [],
   "source": []
  },
  {
   "cell_type": "code",
   "execution_count": null,
   "metadata": {},
   "outputs": [],
   "source": []
  },
  {
   "cell_type": "code",
   "execution_count": null,
   "metadata": {},
   "outputs": [],
   "source": []
  },
  {
   "cell_type": "code",
   "execution_count": null,
   "metadata": {},
   "outputs": [],
   "source": []
  },
  {
   "cell_type": "code",
   "execution_count": null,
   "metadata": {},
   "outputs": [],
   "source": []
  },
  {
   "cell_type": "code",
   "execution_count": null,
   "metadata": {},
   "outputs": [],
   "source": []
  },
  {
   "cell_type": "code",
   "execution_count": null,
   "metadata": {},
   "outputs": [],
   "source": []
  },
  {
   "cell_type": "code",
   "execution_count": null,
   "metadata": {},
   "outputs": [],
   "source": []
  },
  {
   "cell_type": "code",
   "execution_count": null,
   "metadata": {},
   "outputs": [],
   "source": []
  },
  {
   "cell_type": "code",
   "execution_count": null,
   "metadata": {},
   "outputs": [],
   "source": []
  },
  {
   "cell_type": "code",
   "execution_count": null,
   "metadata": {},
   "outputs": [],
   "source": []
  },
  {
   "cell_type": "code",
   "execution_count": null,
   "metadata": {},
   "outputs": [],
   "source": []
  },
  {
   "cell_type": "code",
   "execution_count": null,
   "metadata": {},
   "outputs": [],
   "source": []
  },
  {
   "cell_type": "code",
   "execution_count": null,
   "metadata": {},
   "outputs": [],
   "source": []
  },
  {
   "cell_type": "code",
   "execution_count": null,
   "metadata": {},
   "outputs": [],
   "source": []
  },
  {
   "cell_type": "code",
   "execution_count": null,
   "metadata": {},
   "outputs": [],
   "source": []
  },
  {
   "cell_type": "code",
   "execution_count": null,
   "metadata": {},
   "outputs": [],
   "source": []
  },
  {
   "cell_type": "code",
   "execution_count": null,
   "metadata": {},
   "outputs": [],
   "source": []
  },
  {
   "cell_type": "code",
   "execution_count": null,
   "metadata": {},
   "outputs": [],
   "source": []
  },
  {
   "cell_type": "code",
   "execution_count": null,
   "metadata": {},
   "outputs": [],
   "source": []
  },
  {
   "cell_type": "code",
   "execution_count": null,
   "metadata": {},
   "outputs": [],
   "source": []
  },
  {
   "cell_type": "code",
   "execution_count": null,
   "metadata": {},
   "outputs": [],
   "source": []
  },
  {
   "cell_type": "code",
   "execution_count": null,
   "metadata": {},
   "outputs": [],
   "source": []
  },
  {
   "cell_type": "code",
   "execution_count": null,
   "metadata": {},
   "outputs": [],
   "source": []
  },
  {
   "cell_type": "code",
   "execution_count": null,
   "metadata": {},
   "outputs": [],
   "source": []
  },
  {
   "cell_type": "code",
   "execution_count": null,
   "metadata": {},
   "outputs": [],
   "source": []
  },
  {
   "cell_type": "markdown",
   "metadata": {},
   "source": [
    "# Dice vs F1 - SINGLE"
   ]
  },
  {
   "cell_type": "code",
   "execution_count": 141,
   "metadata": {},
   "outputs": [
    {
     "name": "stderr",
     "output_type": "stream",
     "text": [
      "100%|██████████| 66/66 [00:00<00:00, 6142.36it/s]\n"
     ]
    }
   ],
   "source": [
    "results_P_single_Dice   = {}\n",
    "results_P_single_F1     = {}\n",
    "results_QRS_single_Dice = {}\n",
    "results_QRS_single_F1   = {}\n",
    "results_T_single_Dice   = {}\n",
    "results_T_single_F1     = {}\n",
    "\n",
    "for path in tqdm.tqdm(glob.glob('/home/guille/DADES/DADES/Delineator/TrainedModels/*/metrics_string.txt')):\n",
    "    full_mname = os.path.split(os.path.split(path)[0])[1]\n",
    "    mname = \"_\".join(full_mname.replace(\"DiceOnly\",\"\").split(\"_\")[:-1])\n",
    "    \n",
    "    with open(path, 'r') as f:\n",
    "        res = f.read().splitlines()\n",
    "    \n",
    "    if \"DiceOnly\" in full_mname:\n",
    "        results_P_single_Dice[mname] = {\n",
    "            \"Precision\": float(res[7].split(':')[1][:-1]),\n",
    "            \"Recall\": float(res[8].split(':')[1][:-1]),\n",
    "            \"F1 Score\": float(res[9].split(':')[1][:-1]),\n",
    "            \"Onset Error (mean)\": float(res[11].split(':')[1][:-3].split(\"±\")[0]),\n",
    "            \"Onset Error (std)\": float(res[11].split(':')[1][:-3].split(\"±\")[1]),\n",
    "            \"Offset Error (mean)\": float(res[12].split(':')[1][:-3].split(\"±\")[0]),\n",
    "            \"Offset Error (std)\": float(res[12].split(':')[1][:-3].split(\"±\")[1]),\n",
    "        }\n",
    "\n",
    "        results_QRS_single_Dice[mname] = {\n",
    "            \"Precision\": float(res[17].split(':')[1][:-1]),\n",
    "            \"Recall\": float(res[18].split(':')[1][:-1]),\n",
    "            \"F1 Score\": float(res[19].split(':')[1][:-1]),\n",
    "            \"Onset Error (mean)\": float(res[21].split(':')[1][:-3].split(\"±\")[0]),\n",
    "            \"Onset Error (std)\": float(res[21].split(':')[1][:-3].split(\"±\")[1]),\n",
    "            \"Offset Error (mean)\": float(res[22].split(':')[1][:-3].split(\"±\")[0]),\n",
    "            \"Offset Error (std)\": float(res[22].split(':')[1][:-3].split(\"±\")[1]),\n",
    "        }\n",
    "\n",
    "        results_T_single_Dice[mname] = {\n",
    "            \"Precision\": float(res[27].split(':')[1][:-1]),\n",
    "            \"Recall\": float(res[28].split(':')[1][:-1]),\n",
    "            \"F1 Score\": float(res[29].split(':')[1][:-1]),\n",
    "            \"Onset Error (mean)\": float(res[31].split(':')[1][:-3].split(\"±\")[0]),\n",
    "            \"Onset Error (std)\": float(res[31].split(':')[1][:-3].split(\"±\")[1]),\n",
    "            \"Offset Error (mean)\": float(res[32].split(':')[1][:-3].split(\"±\")[0]),\n",
    "            \"Offset Error (std)\": float(res[32].split(':')[1][:-3].split(\"±\")[1]),\n",
    "        }\n",
    "    else:\n",
    "        results_P_single_F1[mname] = {\n",
    "            \"Precision\": float(res[7].split(':')[1][:-1]),\n",
    "            \"Recall\": float(res[8].split(':')[1][:-1]),\n",
    "            \"F1 Score\": float(res[9].split(':')[1][:-1]),\n",
    "            \"Onset Error (mean)\": float(res[11].split(':')[1][:-3].split(\"±\")[0]),\n",
    "            \"Onset Error (std)\": float(res[11].split(':')[1][:-3].split(\"±\")[1]),\n",
    "            \"Offset Error (mean)\": float(res[12].split(':')[1][:-3].split(\"±\")[0]),\n",
    "            \"Offset Error (std)\": float(res[12].split(':')[1][:-3].split(\"±\")[1]),\n",
    "        }\n",
    "\n",
    "        results_QRS_single_F1[mname] = {\n",
    "            \"Precision\": float(res[17].split(':')[1][:-1]),\n",
    "            \"Recall\": float(res[18].split(':')[1][:-1]),\n",
    "            \"F1 Score\": float(res[19].split(':')[1][:-1]),\n",
    "            \"Onset Error (mean)\": float(res[21].split(':')[1][:-3].split(\"±\")[0]),\n",
    "            \"Onset Error (std)\": float(res[21].split(':')[1][:-3].split(\"±\")[1]),\n",
    "            \"Offset Error (mean)\": float(res[22].split(':')[1][:-3].split(\"±\")[0]),\n",
    "            \"Offset Error (std)\": float(res[22].split(':')[1][:-3].split(\"±\")[1]),\n",
    "        }\n",
    "\n",
    "        results_T_single_F1[mname] = {\n",
    "            \"Precision\": float(res[27].split(':')[1][:-1]),\n",
    "            \"Recall\": float(res[28].split(':')[1][:-1]),\n",
    "            \"F1 Score\": float(res[29].split(':')[1][:-1]),\n",
    "            \"Onset Error (mean)\": float(res[31].split(':')[1][:-3].split(\"±\")[0]),\n",
    "            \"Onset Error (std)\": float(res[31].split(':')[1][:-3].split(\"±\")[1]),\n",
    "            \"Offset Error (mean)\": float(res[32].split(':')[1][:-3].split(\"±\")[0]),\n",
    "            \"Offset Error (std)\": float(res[32].split(':')[1][:-3].split(\"±\")[1]),\n",
    "        }\n",
    "\n",
    "results_P_single_Dice = pd.DataFrame(results_P_single_Dice).T\n",
    "results_P_single_F1   = pd.DataFrame(results_P_single_F1).T\n",
    "results_QRS_single_Dice = pd.DataFrame(results_QRS_single_Dice).T\n",
    "results_QRS_single_F1   = pd.DataFrame(results_QRS_single_F1).T\n",
    "results_T_single_Dice = pd.DataFrame(results_T_single_Dice).T\n",
    "results_T_single_F1   = pd.DataFrame(results_T_single_F1).T\n"
   ]
  },
  {
   "cell_type": "code",
   "execution_count": 149,
   "metadata": {},
   "outputs": [
    {
     "data": {
      "text/plain": [
       "Index(['Precision', 'Recall', 'F1 Score', 'Onset Error (mean)',\n",
       "       'Onset Error (std)', 'Offset Error (mean)', 'Offset Error (std)'],\n",
       "      dtype='object')"
      ]
     },
     "execution_count": 149,
     "metadata": {},
     "output_type": "execute_result"
    }
   ],
   "source": [
    "results_P_single_Dice.keys()"
   ]
  },
  {
   "cell_type": "code",
   "execution_count": 194,
   "metadata": {},
   "outputs": [],
   "source": [
    "difference_P = {\n",
    "    \"Precision\": [],\n",
    "    \"Recall\": [],\n",
    "    \"F1 Score\": [],\n",
    "    \"Onset Error (mean)\": [],\n",
    "    \"Onset Error (std)\": [],\n",
    "    \"Offset Error (mean)\": [],\n",
    "    \"Offset Error (std)\": [],\n",
    "}\n",
    "difference_QRS = {k: [] for k in difference_P}\n",
    "difference_T   = {k: [] for k in difference_P}\n",
    "\n",
    "for k in results_P_single_Dice.T:\n",
    "    difference_P['Precision'].append(results_P_single_Dice[\"Precision\"][k]-results_P_single_F1[\"Precision\"][k])\n",
    "    difference_P['Recall'].append(results_P_single_Dice[\"Recall\"][k]-results_P_single_F1[\"Recall\"][k])\n",
    "    difference_P['F1 Score'].append(results_P_single_Dice[\"F1 Score\"][k]-results_P_single_F1[\"F1 Score\"][k])\n",
    "    difference_P['Onset Error (mean)'].append(results_P_single_Dice[\"Onset Error (mean)\"][k]-results_P_single_F1[\"Onset Error (mean)\"][k])\n",
    "    difference_P['Onset Error (std)'].append(results_P_single_Dice[\"Onset Error (std)\"][k]-results_P_single_F1[\"Onset Error (std)\"][k])\n",
    "    difference_P['Offset Error (mean)'].append(results_P_single_Dice[\"Offset Error (mean)\"][k]-results_P_single_F1[\"Offset Error (mean)\"][k])\n",
    "    difference_P['Offset Error (std)'].append(results_P_single_Dice[\"Offset Error (std)\"][k]-results_P_single_F1[\"Offset Error (std)\"][k])\n",
    "\n",
    "    difference_QRS['Precision'].append(results_QRS_single_Dice[\"Precision\"][k]-results_QRS_single_F1[\"Precision\"][k])\n",
    "    difference_QRS['Recall'].append(results_QRS_single_Dice[\"Recall\"][k]-results_QRS_single_F1[\"Recall\"][k])\n",
    "    difference_QRS['F1 Score'].append(results_QRS_single_Dice[\"F1 Score\"][k]-results_QRS_single_F1[\"F1 Score\"][k])\n",
    "    difference_QRS['Onset Error (mean)'].append(results_QRS_single_Dice[\"Onset Error (mean)\"][k]-results_QRS_single_F1[\"Onset Error (mean)\"][k])\n",
    "    difference_QRS['Onset Error (std)'].append(results_QRS_single_Dice[\"Onset Error (std)\"][k]-results_QRS_single_F1[\"Onset Error (std)\"][k])\n",
    "    difference_QRS['Offset Error (mean)'].append(results_QRS_single_Dice[\"Offset Error (mean)\"][k]-results_QRS_single_F1[\"Offset Error (mean)\"][k])\n",
    "    difference_QRS['Offset Error (std)'].append(results_QRS_single_Dice[\"Offset Error (std)\"][k]-results_QRS_single_F1[\"Offset Error (std)\"][k])\n",
    "\n",
    "    difference_T['Precision'].append(results_T_single_Dice[\"Precision\"][k]-results_T_single_F1[\"Precision\"][k])\n",
    "    difference_T['Recall'].append(results_T_single_Dice[\"Recall\"][k]-results_T_single_F1[\"Recall\"][k])\n",
    "    difference_T['F1 Score'].append(results_T_single_Dice[\"F1 Score\"][k]-results_T_single_F1[\"F1 Score\"][k])\n",
    "    difference_T['Onset Error (mean)'].append(results_T_single_Dice[\"Onset Error (mean)\"][k]-results_T_single_F1[\"Onset Error (mean)\"][k])\n",
    "    difference_T['Onset Error (std)'].append(results_T_single_Dice[\"Onset Error (std)\"][k]-results_T_single_F1[\"Onset Error (std)\"][k])\n",
    "    difference_T['Offset Error (mean)'].append(results_T_single_Dice[\"Offset Error (mean)\"][k]-results_T_single_F1[\"Offset Error (mean)\"][k])\n",
    "    difference_T['Offset Error (std)'].append(results_T_single_Dice[\"Offset Error (std)\"][k]-results_T_single_F1[\"Offset Error (std)\"][k])\n"
   ]
  },
  {
   "cell_type": "code",
   "execution_count": 195,
   "metadata": {},
   "outputs": [
    {
     "data": {
      "image/png": "[encoded data removed]",
      "text/plain": [
       "<Figure size 432x288 with 1 Axes>"
      ]
     },
     "metadata": {
      "needs_background": "light"
     },
     "output_type": "display_data"
    }
   ],
   "source": [
    "m = 'Offset Error (mean)'\n",
    "_=plt.hist(np.array(difference_P[m])[np.abs(np.array(difference_P[m])) < 500],bins=100)"
   ]
  },
  {
   "cell_type": "code",
   "execution_count": 203,
   "metadata": {},
   "outputs": [],
   "source": [
    "wave = 'T'"
   ]
  },
  {
   "cell_type": "code",
   "execution_count": 204,
   "metadata": {},
   "outputs": [
    {
     "name": "stdout",
     "output_type": "stream",
     "text": [
      "-0.7199999999999989\n",
      "1.0326809457527746\n"
     ]
    }
   ],
   "source": [
    "m = 'Precision'\n",
    "threshold = 10\n",
    "\n",
    "diff = np.array(eval(f\"difference_{wave}\")[m])\n",
    "print(np.median(diff[np.abs(diff) < threshold]))\n",
    "print(np.std(diff[np.abs(diff) < threshold]))"
   ]
  },
  {
   "cell_type": "code",
   "execution_count": 205,
   "metadata": {},
   "outputs": [
    {
     "name": "stdout",
     "output_type": "stream",
     "text": [
      "0.04000000000000625\n",
      "0.2501606462735192\n"
     ]
    }
   ],
   "source": [
    "m = 'Recall'\n",
    "threshold = 10\n",
    "\n",
    "diff = np.array(eval(f\"difference_{wave}\")[m])\n",
    "print(np.median(diff[np.abs(diff) < threshold]))\n",
    "print(np.std(diff[np.abs(diff) < threshold]))"
   ]
  },
  {
   "cell_type": "code",
   "execution_count": 206,
   "metadata": {},
   "outputs": [
    {
     "name": "stdout",
     "output_type": "stream",
     "text": [
      "-0.3100000000000023\n",
      "0.5496361598117748\n"
     ]
    }
   ],
   "source": [
    "m = 'F1 Score'\n",
    "threshold = 5\n",
    "\n",
    "diff = np.array(eval(f\"difference_{wave}\")[m])\n",
    "print(np.median(diff[np.abs(diff) < threshold]))\n",
    "print(np.std(diff[np.abs(diff) < threshold]))"
   ]
  },
  {
   "cell_type": "code",
   "execution_count": 207,
   "metadata": {},
   "outputs": [
    {
     "name": "stdout",
     "output_type": "stream",
     "text": [
      "7.5600000000000005\n",
      "5.939448840191531\n"
     ]
    }
   ],
   "source": [
    "m = 'Onset Error (mean)'\n",
    "threshold = 500\n",
    "\n",
    "diff = np.array(eval(f\"difference_{wave}\")[m])\n",
    "print(np.median(diff[np.abs(diff) < threshold]))\n",
    "print(np.std(diff[np.abs(diff) < threshold]))"
   ]
  },
  {
   "cell_type": "code",
   "execution_count": 208,
   "metadata": {},
   "outputs": [
    {
     "name": "stdout",
     "output_type": "stream",
     "text": [
      "-8.419999999999998\n",
      "5.174024885617392\n"
     ]
    }
   ],
   "source": [
    "m = 'Offset Error (mean)'\n",
    "threshold = 500\n",
    "\n",
    "diff = np.array(eval(f\"difference_{wave}\")[m])\n",
    "print(np.median(diff[np.abs(diff) < threshold]))\n",
    "print(np.std(diff[np.abs(diff) < threshold]))"
   ]
  },
  {
   "cell_type": "code",
   "execution_count": null,
   "metadata": {},
   "outputs": [],
   "source": []
  },
  {
   "cell_type": "code",
   "execution_count": null,
   "metadata": {},
   "outputs": [],
   "source": []
  },
  {
   "cell_type": "code",
   "execution_count": null,
   "metadata": {},
   "outputs": [],
   "source": []
  },
  {
   "cell_type": "markdown",
   "metadata": {},
   "source": [
    "# Dice vs F1 - MULTI"
   ]
  },
  {
   "cell_type": "code",
   "execution_count": 218,
   "metadata": {},
   "outputs": [
    {
     "name": "stderr",
     "output_type": "stream",
     "text": [
      "100%|██████████| 66/66 [00:00<00:00, 6965.88it/s]\n"
     ]
    }
   ],
   "source": [
    "results_P_multi_Dice   = {}\n",
    "results_P_multi_F1     = {}\n",
    "results_QRS_multi_Dice = {}\n",
    "results_QRS_multi_F1   = {}\n",
    "results_T_multi_Dice   = {}\n",
    "results_T_multi_F1     = {}\n",
    "\n",
    "for path in tqdm.tqdm(glob.glob('/home/guille/DADES/DADES/Delineator/TrainedModels/*/metrics_string.txt')):\n",
    "    full_mname = os.path.split(os.path.split(path)[0])[1]\n",
    "    mname = \"_\".join(full_mname.replace(\"DiceOnly\",\"\").split(\"_\")[:-1])\n",
    "    \n",
    "    with open(path, 'r') as f:\n",
    "        res = f.read().splitlines()\n",
    "    \n",
    "    if \"DiceOnly\" in full_mname:\n",
    "        results_P_multi_Dice[mname] = {\n",
    "            \"Precision\": float(res[41].split(':')[1][:-1]),\n",
    "            \"Recall\": float(res[42].split(':')[1][:-1]),\n",
    "            \"F1 Score\": float(res[43].split(':')[1][:-1]),\n",
    "            \"Onset Error (mean)\": float(res[45].split(':')[1][:-3].split(\"±\")[0]),\n",
    "            \"Onset Error (std)\": float(res[45].split(':')[1][:-3].split(\"±\")[1]),\n",
    "            \"Offset Error (mean)\": float(res[46].split(':')[1][:-3].split(\"±\")[0]),\n",
    "            \"Offset Error (std)\": float(res[46].split(':')[1][:-3].split(\"±\")[1]),\n",
    "        }\n",
    "\n",
    "        results_QRS_multi_Dice[mname] = {\n",
    "            \"Precision\": float(res[51].split(':')[1][:-1]),\n",
    "            \"Recall\": float(res[52].split(':')[1][:-1]),\n",
    "            \"F1 Score\": float(res[53].split(':')[1][:-1]),\n",
    "            \"Onset Error (mean)\": float(res[55].split(':')[1][:-3].split(\"±\")[0]),\n",
    "            \"Onset Error (std)\": float(res[55].split(':')[1][:-3].split(\"±\")[1]),\n",
    "            \"Offset Error (mean)\": float(res[56].split(':')[1][:-3].split(\"±\")[0]),\n",
    "            \"Offset Error (std)\": float(res[56].split(':')[1][:-3].split(\"±\")[1]),\n",
    "        }\n",
    "\n",
    "        results_T_multi_Dice[mname] = {\n",
    "            \"Precision\": float(res[61].split(':')[1][:-1]),\n",
    "            \"Recall\": float(res[62].split(':')[1][:-1]),\n",
    "            \"F1 Score\": float(res[63].split(':')[1][:-1]),\n",
    "            \"Onset Error (mean)\": float(res[65].split(':')[1][:-3].split(\"±\")[0]),\n",
    "            \"Onset Error (std)\": float(res[65].split(':')[1][:-3].split(\"±\")[1]),\n",
    "            \"Offset Error (mean)\": float(res[66].split(':')[1][:-3].split(\"±\")[0]),\n",
    "            \"Offset Error (std)\": float(res[66].split(':')[1][:-3].split(\"±\")[1]),\n",
    "        }\n",
    "    else:\n",
    "        results_P_multi_F1[mname] = {\n",
    "            \"Precision\": float(res[41].split(':')[1][:-1]),\n",
    "            \"Recall\": float(res[42].split(':')[1][:-1]),\n",
    "            \"F1 Score\": float(res[43].split(':')[1][:-1]),\n",
    "            \"Onset Error (mean)\": float(res[45].split(':')[1][:-3].split(\"±\")[0]),\n",
    "            \"Onset Error (std)\": float(res[45].split(':')[1][:-3].split(\"±\")[1]),\n",
    "            \"Offset Error (mean)\": float(res[46].split(':')[1][:-3].split(\"±\")[0]),\n",
    "            \"Offset Error (std)\": float(res[46].split(':')[1][:-3].split(\"±\")[1]),\n",
    "        }\n",
    "\n",
    "        results_QRS_multi_F1[mname] = {\n",
    "            \"Precision\": float(res[51].split(':')[1][:-1]),\n",
    "            \"Recall\": float(res[52].split(':')[1][:-1]),\n",
    "            \"F1 Score\": float(res[53].split(':')[1][:-1]),\n",
    "            \"Onset Error (mean)\": float(res[55].split(':')[1][:-3].split(\"±\")[0]),\n",
    "            \"Onset Error (std)\": float(res[55].split(':')[1][:-3].split(\"±\")[1]),\n",
    "            \"Offset Error (mean)\": float(res[56].split(':')[1][:-3].split(\"±\")[0]),\n",
    "            \"Offset Error (std)\": float(res[56].split(':')[1][:-3].split(\"±\")[1]),\n",
    "        }\n",
    "\n",
    "        results_T_multi_F1[mname] = {\n",
    "            \"Precision\": float(res[61].split(':')[1][:-1]),\n",
    "            \"Recall\": float(res[62].split(':')[1][:-1]),\n",
    "            \"F1 Score\": float(res[63].split(':')[1][:-1]),\n",
    "            \"Onset Error (mean)\": float(res[65].split(':')[1][:-3].split(\"±\")[0]),\n",
    "            \"Onset Error (std)\": float(res[65].split(':')[1][:-3].split(\"±\")[1]),\n",
    "            \"Offset Error (mean)\": float(res[66].split(':')[1][:-3].split(\"±\")[0]),\n",
    "            \"Offset Error (std)\": float(res[66].split(':')[1][:-3].split(\"±\")[1]),\n",
    "        }\n",
    "\n",
    "results_P_multi_Dice = pd.DataFrame(results_P_multi_Dice).T\n",
    "results_P_multi_F1   = pd.DataFrame(results_P_multi_F1).T\n",
    "results_QRS_multi_Dice = pd.DataFrame(results_QRS_multi_Dice).T\n",
    "results_QRS_multi_F1   = pd.DataFrame(results_QRS_multi_F1).T\n",
    "results_T_multi_Dice = pd.DataFrame(results_T_multi_Dice).T\n",
    "results_T_multi_F1   = pd.DataFrame(results_T_multi_F1).T\n"
   ]
  },
  {
   "cell_type": "code",
   "execution_count": 219,
   "metadata": {},
   "outputs": [],
   "source": [
    "difference_P = {\n",
    "    \"Precision\": [],\n",
    "    \"Recall\": [],\n",
    "    \"F1 Score\": [],\n",
    "    \"Onset Error (mean)\": [],\n",
    "    \"Onset Error (std)\": [],\n",
    "    \"Offset Error (mean)\": [],\n",
    "    \"Offset Error (std)\": [],\n",
    "}\n",
    "difference_QRS = {k: [] for k in difference_P}\n",
    "difference_T   = {k: [] for k in difference_P}\n",
    "\n",
    "for k in results_P_multi_Dice.T:\n",
    "    difference_P['Precision'].append(results_P_multi_Dice[\"Precision\"][k]-results_P_multi_F1[\"Precision\"][k])\n",
    "    difference_P['Recall'].append(results_P_multi_Dice[\"Recall\"][k]-results_P_multi_F1[\"Recall\"][k])\n",
    "    difference_P['F1 Score'].append(results_P_multi_Dice[\"F1 Score\"][k]-results_P_multi_F1[\"F1 Score\"][k])\n",
    "    difference_P['Onset Error (mean)'].append(results_P_multi_Dice[\"Onset Error (mean)\"][k]-results_P_multi_F1[\"Onset Error (mean)\"][k])\n",
    "    difference_P['Onset Error (std)'].append(results_P_multi_Dice[\"Onset Error (std)\"][k]-results_P_multi_F1[\"Onset Error (std)\"][k])\n",
    "    difference_P['Offset Error (mean)'].append(results_P_multi_Dice[\"Offset Error (mean)\"][k]-results_P_multi_F1[\"Offset Error (mean)\"][k])\n",
    "    difference_P['Offset Error (std)'].append(results_P_multi_Dice[\"Offset Error (std)\"][k]-results_P_multi_F1[\"Offset Error (std)\"][k])\n",
    "\n",
    "    difference_QRS['Precision'].append(results_QRS_multi_Dice[\"Precision\"][k]-results_QRS_multi_F1[\"Precision\"][k])\n",
    "    difference_QRS['Recall'].append(results_QRS_multi_Dice[\"Recall\"][k]-results_QRS_multi_F1[\"Recall\"][k])\n",
    "    difference_QRS['F1 Score'].append(results_QRS_multi_Dice[\"F1 Score\"][k]-results_QRS_multi_F1[\"F1 Score\"][k])\n",
    "    difference_QRS['Onset Error (mean)'].append(results_QRS_multi_Dice[\"Onset Error (mean)\"][k]-results_QRS_multi_F1[\"Onset Error (mean)\"][k])\n",
    "    difference_QRS['Onset Error (std)'].append(results_QRS_multi_Dice[\"Onset Error (std)\"][k]-results_QRS_multi_F1[\"Onset Error (std)\"][k])\n",
    "    difference_QRS['Offset Error (mean)'].append(results_QRS_multi_Dice[\"Offset Error (mean)\"][k]-results_QRS_multi_F1[\"Offset Error (mean)\"][k])\n",
    "    difference_QRS['Offset Error (std)'].append(results_QRS_multi_Dice[\"Offset Error (std)\"][k]-results_QRS_multi_F1[\"Offset Error (std)\"][k])\n",
    "\n",
    "    difference_T['Precision'].append(results_T_multi_Dice[\"Precision\"][k]-results_T_multi_F1[\"Precision\"][k])\n",
    "    difference_T['Recall'].append(results_T_multi_Dice[\"Recall\"][k]-results_T_multi_F1[\"Recall\"][k])\n",
    "    difference_T['F1 Score'].append(results_T_multi_Dice[\"F1 Score\"][k]-results_T_multi_F1[\"F1 Score\"][k])\n",
    "    difference_T['Onset Error (mean)'].append(results_T_multi_Dice[\"Onset Error (mean)\"][k]-results_T_multi_F1[\"Onset Error (mean)\"][k])\n",
    "    difference_T['Onset Error (std)'].append(results_T_multi_Dice[\"Onset Error (std)\"][k]-results_T_multi_F1[\"Onset Error (std)\"][k])\n",
    "    difference_T['Offset Error (mean)'].append(results_T_multi_Dice[\"Offset Error (mean)\"][k]-results_T_multi_F1[\"Offset Error (mean)\"][k])\n",
    "    difference_T['Offset Error (std)'].append(results_T_multi_Dice[\"Offset Error (std)\"][k]-results_T_multi_F1[\"Offset Error (std)\"][k])\n"
   ]
  },
  {
   "cell_type": "code",
   "execution_count": 220,
   "metadata": {},
   "outputs": [
    {
     "data": {
      "image/png": "[encoded data removed]",
      "text/plain": [
       "<Figure size 432x288 with 1 Axes>"
      ]
     },
     "metadata": {
      "needs_background": "light"
     },
     "output_type": "display_data"
    }
   ],
   "source": [
    "m = 'Offset Error (mean)'\n",
    "_=plt.hist(np.array(difference_P[m])[np.abs(np.array(difference_P[m])) < 500],bins=100)"
   ]
  },
  {
   "cell_type": "code",
   "execution_count": 233,
   "metadata": {},
   "outputs": [],
   "source": [
    "wave = 'QRS'"
   ]
  },
  {
   "cell_type": "code",
   "execution_count": 234,
   "metadata": {},
   "outputs": [
    {
     "name": "stdout",
     "output_type": "stream",
     "text": [
      "0.0\n",
      "0.3936292485418493\n"
     ]
    }
   ],
   "source": [
    "m = 'Precision'\n",
    "threshold = 10\n",
    "\n",
    "diff = np.array(eval(f\"difference_{wave}\")[m])\n",
    "print(np.median(diff[np.abs(diff) < threshold]))\n",
    "print(np.std(diff[np.abs(diff) < threshold]))"
   ]
  },
  {
   "cell_type": "code",
   "execution_count": 235,
   "metadata": {},
   "outputs": [
    {
     "name": "stdout",
     "output_type": "stream",
     "text": [
      "-0.030000000000001137\n",
      "0.03567015507772652\n"
     ]
    }
   ],
   "source": [
    "m = 'Recall'\n",
    "threshold = 10\n",
    "\n",
    "diff = np.array(eval(f\"difference_{wave}\")[m])\n",
    "print(np.median(diff[np.abs(diff) < threshold]))\n",
    "print(np.std(diff[np.abs(diff) < threshold]))"
   ]
  },
  {
   "cell_type": "code",
   "execution_count": 236,
   "metadata": {},
   "outputs": [
    {
     "name": "stdout",
     "output_type": "stream",
     "text": [
      "-0.020000000000010232\n",
      "0.2072040467463481\n"
     ]
    }
   ],
   "source": [
    "m = 'F1 Score'\n",
    "threshold = 5\n",
    "\n",
    "diff = np.array(eval(f\"difference_{wave}\")[m])\n",
    "print(np.median(diff[np.abs(diff) < threshold]))\n",
    "print(np.std(diff[np.abs(diff) < threshold]))"
   ]
  },
  {
   "cell_type": "code",
   "execution_count": 237,
   "metadata": {},
   "outputs": [
    {
     "name": "stdout",
     "output_type": "stream",
     "text": [
      "0.54\n",
      "0.5718246856112283\n"
     ]
    }
   ],
   "source": [
    "m = 'Onset Error (mean)'\n",
    "threshold = 500\n",
    "\n",
    "diff = np.array(eval(f\"difference_{wave}\")[m])\n",
    "print(np.median(diff[np.abs(diff) < threshold]))\n",
    "print(np.std(diff[np.abs(diff) < threshold]))"
   ]
  },
  {
   "cell_type": "code",
   "execution_count": 238,
   "metadata": {},
   "outputs": [
    {
     "name": "stdout",
     "output_type": "stream",
     "text": [
      "-0.5899999999999999\n",
      "0.5295957187745692\n"
     ]
    }
   ],
   "source": [
    "m = 'Offset Error (mean)'\n",
    "threshold = 500\n",
    "\n",
    "diff = np.array(eval(f\"difference_{wave}\")[m])\n",
    "print(np.median(diff[np.abs(diff) < threshold]))\n",
    "print(np.std(diff[np.abs(diff) < threshold]))"
   ]
  },
  {
   "cell_type": "code",
   "execution_count": null,
   "metadata": {},
   "outputs": [],
   "source": []
  },
  {
   "cell_type": "code",
   "execution_count": null,
   "metadata": {},
   "outputs": [],
   "source": []
  },
  {
   "cell_type": "code",
   "execution_count": null,
   "metadata": {},
   "outputs": [],
   "source": []
  },
  {
   "cell_type": "code",
   "execution_count": null,
   "metadata": {},
   "outputs": [],
   "source": []
  },
  {
   "cell_type": "code",
   "execution_count": 125,
   "metadata": {},
   "outputs": [
    {
     "data": {
      "text/plain": [
       "[(0, ''),\n",
       " (1, '# WNet5LevelsConvDiceOnly_20201130125349'),\n",
       " (2, ''),\n",
       " (3, '--- SINGLE ---'),\n",
       " (4, ''),\n",
       " (5, '######### P wave #########'),\n",
       " (6, ''),\n",
       " (7, 'Precision:    99.0%'),\n",
       " (8, 'Recall:       94.34%'),\n",
       " (9, 'F1 score:     96.62%'),\n",
       " (10, ''),\n",
       " (11, 'Onset Error:  -6.04 ± 22.67 ms'),\n",
       " (12, 'Offset Error: -2.29 ± 17.41 ms'),\n",
       " (13, ''),\n",
       " (14, ''),\n",
       " (15, '######### QRS wave #########'),\n",
       " (16, ''),\n",
       " (17, 'Precision:    99.6%'),\n",
       " (18, 'Recall:       99.9%'),\n",
       " (19, 'F1 score:     99.75%'),\n",
       " (20, ''),\n",
       " (21, 'Onset Error:  -1.98 ± 12.0 ms'),\n",
       " (22, 'Offset Error: 5.51 ± 14.93 ms'),\n",
       " (23, ''),\n",
       " (24, ''),\n",
       " (25, '######### T wave #########'),\n",
       " (26, ''),\n",
       " (27, 'Precision:    98.05%'),\n",
       " (28, 'Recall:       99.39%'),\n",
       " (29, 'F1 score:     98.71%'),\n",
       " (30, ''),\n",
       " (31, 'Onset Error:  19.4 ± 46.95 ms'),\n",
       " (32, 'Offset Error: 0.96 ± 62.74 ms'),\n",
       " (33, ''),\n",
       " (34, ''),\n",
       " (35, '---'),\n",
       " (36, ''),\n",
       " (37, '--- MULTI ---'),\n",
       " (38, ''),\n",
       " (39, '######### P wave #########'),\n",
       " (40, ''),\n",
       " (41, 'Precision:    98.56%'),\n",
       " (42, 'Recall:       96.58%'),\n",
       " (43, 'F1 score:     97.56%'),\n",
       " (44, ''),\n",
       " (45, 'Onset Error:  -3.64 ± 17.91 ms'),\n",
       " (46, 'Offset Error: -1.98 ± 11.07 ms'),\n",
       " (47, ''),\n",
       " (48, ''),\n",
       " (49, '######### QRS wave #########'),\n",
       " (50, ''),\n",
       " (51, 'Precision:    99.52%'),\n",
       " (52, 'Recall:       99.94%'),\n",
       " (53, 'F1 score:     99.73%'),\n",
       " (54, ''),\n",
       " (55, 'Onset Error:  -0.96 ± 7.81 ms'),\n",
       " (56, 'Offset Error: 2.74 ± 9.97 ms'),\n",
       " (57, ''),\n",
       " (58, ''),\n",
       " (59, '######### T wave #########'),\n",
       " (60, ''),\n",
       " (61, 'Precision:    97.17%'),\n",
       " (62, 'Recall:       99.74%'),\n",
       " (63, 'F1 score:     98.44%'),\n",
       " (64, ''),\n",
       " (65, 'Onset Error:  14.16 ± 36.64 ms'),\n",
       " (66, 'Offset Error: 1.98 ± 47.12 ms'),\n",
       " (67, ''),\n",
       " (68, '')]"
      ]
     },
     "execution_count": 125,
     "metadata": {},
     "output_type": "execute_result"
    }
   ],
   "source": [
    "list(zip(list(range(len(tmp))),tmp))"
   ]
  },
  {
   "cell_type": "code",
   "execution_count": null,
   "metadata": {},
   "outputs": [],
   "source": []
  },
  {
   "cell_type": "code",
   "execution_count": null,
   "metadata": {},
   "outputs": [],
   "source": []
  },
  {
   "cell_type": "code",
   "execution_count": null,
   "metadata": {},
   "outputs": [],
   "source": []
  },
  {
   "cell_type": "code",
   "execution_count": null,
   "metadata": {},
   "outputs": [],
   "source": []
  },
  {
   "cell_type": "code",
   "execution_count": null,
   "metadata": {},
   "outputs": [],
   "source": []
  }
 ],
 "metadata": {
  "kernelspec": {
   "display_name": "DeepLearning3",
   "language": "python",
   "name": "deeplearning3"
  },
  "language_info": {
   "codemirror_mode": {
    "name": "ipython",
    "version": 3
   },
   "file_extension": ".py",
   "mimetype": "text/x-python",
   "name": "python",
   "nbconvert_exporter": "python",
   "pygments_lexer": "ipython3",
   "version": "3.8.5"
  }
 },
 "nbformat": 4,
 "nbformat_minor": 4
}
