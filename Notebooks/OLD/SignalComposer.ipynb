{
 "cells": [
  {
   "cell_type": "code",
   "execution_count": 1,
   "metadata": {},
   "outputs": [],
   "source": [
    "%load_ext autoreload\n",
    "%autoreload 2"
   ]
  },
  {
   "cell_type": "code",
   "execution_count": 2,
   "metadata": {},
   "outputs": [],
   "source": [
    "import platform\n",
    "import random\n",
    "import uuid\n",
    "import os\n",
    "import os.path\n",
    "import skimage\n",
    "import utils\n",
    "import sak.wavelet\n",
    "import sak.data\n",
    "import sak.data.augmentation\n",
    "import numpy as np\n",
    "import scipy as sp\n",
    "import scipy.signal\n",
    "import pandas as pd\n",
    "import networkx\n",
    "import networkx.algorithms.approximation\n",
    "import math\n",
    "import wfdb\n",
    "import json\n",
    "import tqdm\n",
    "import matplotlib.pyplot as plt\n",
    "import src.data\n",
    "from scipy.stats import norm\n",
    "from sak.signal import StandardHeader\n",
    "from scipy.stats import lognorm, norm, halfnorm"
   ]
  },
  {
   "cell_type": "markdown",
   "metadata": {},
   "source": [
    "# Load files"
   ]
  },
  {
   "cell_type": "code",
   "execution_count": 3,
   "metadata": {},
   "outputs": [],
   "source": [
    "P = sak.pickleload(os.path.join('.','pickle','Psignal.pkl'))\n",
    "PQ = sak.pickleload(os.path.join('.','pickle','PQsignal.pkl'))\n",
    "QRS = sak.pickleload(os.path.join('.','pickle','QRSsignal.pkl'))\n",
    "ST = sak.pickleload(os.path.join('.','pickle','STsignal.pkl'))\n",
    "T = sak.pickleload(os.path.join('.','pickle','Tsignal.pkl'))\n",
    "TP = sak.pickleload(os.path.join('.','pickle','TPsignal.pkl'))"
   ]
  },
  {
   "cell_type": "code",
   "execution_count": 4,
   "metadata": {},
   "outputs": [],
   "source": [
    "for key in (['104_II','104_III','104_AVR','104_AVF','103_III'] + \n",
    "            ['74_{}'.format(h) for h in StandardHeader] + \n",
    "            ['111_{}'.format(h) for h in StandardHeader] +\n",
    "            ['95_{}'.format(h) for h in StandardHeader] + \n",
    "            ['103_{}'.format(h) for h in StandardHeader] +\n",
    "            ['34_{}'.format(h) for h in StandardHeader]):\n",
    "    [P.pop(k) for k in list(P.keys()) if k.startswith('{}###'.format(key))]\n",
    "    [PQ.pop(k) for k in list(PQ.keys()) if k.startswith('{}###'.format(key))]\n",
    "    [QRS.pop(k) for k in list(QRS.keys()) if k.startswith('{}###'.format(key))]\n",
    "    [ST.pop(k) for k in list(ST.keys()) if k.startswith('{}###'.format(key))]\n",
    "    [T.pop(k) for k in list(T.keys()) if k.startswith('{}###'.format(key))]\n",
    "    [TP.pop(k) for k in list(TP.keys()) if k.startswith('{}###'.format(key))]"
   ]
  },
  {
   "cell_type": "code",
   "execution_count": 5,
   "metadata": {},
   "outputs": [],
   "source": [
    "for key in []: \n",
    "    if key in P: P.pop(key)\n",
    "for key in []: \n",
    "    if key in PQ: PQ.pop(key)\n",
    "for key in ['7_V2###0','7_V2###2','7_V2###4','95_V4###0','95_V4###1','95_V4###2']: \n",
    "    if key in QRS: QRS.pop(key)\n",
    "for key in []: \n",
    "    if key in ST: ST.pop(key)\n",
    "for key in []: \n",
    "    if key in T: T.pop(key)\n",
    "for key in (['52_III###4','34_V6###6','74_V4###0','74_V4###1','74_V4###2',\n",
    "             '74_V4###3','74_V4###4','74_V4###5','74_V4###6','74_V4###7',] + \n",
    "            ['111_V2###{}'.format(i) for i in range(7)]): \n",
    "    if key in TP: TP.pop(key)"
   ]
  },
  {
   "cell_type": "markdown",
   "metadata": {},
   "source": [
    "# Normalize amplitudes"
   ]
  },
  {
   "cell_type": "code",
   "execution_count": 6,
   "metadata": {},
   "outputs": [],
   "source": [
    "metric_intralead = np.max # Must remain like this\n",
    "# metric_amplitude = lambda x: sak.signal.amplitude(x)/sak.signal.min_max_ratio(x)\n",
    "metric_amplitude = sak.signal.abs_max\n",
    "\n",
    "beat_sizes = []\n",
    "amplitudes = {k.split('###')[0]: [] for k in list(QRS)}\n",
    "for k in QRS:\n",
    "    g = k.split('###')[0]\n",
    "    segment = sak.signal.on_off_correction(QRS[k])\n",
    "    amplitudes[g].append(metric_amplitude(segment))\n",
    "    beat_sizes.append(segment.size)"
   ]
  },
  {
   "cell_type": "code",
   "execution_count": 63,
   "metadata": {},
   "outputs": [
    {
     "name": "stdout",
     "output_type": "stream",
     "text": [
      "k: sel100_0, min_ampl: 0.8905702002100562\n",
      "k: sel100_1, min_ampl: 0.6068178282822199\n",
      "k: sel102_0, min_ampl: 0.7387343160013043\n",
      "k: sel102_1, min_ampl: 0.8058774504561089\n",
      "k: sel103_0, min_ampl: 0.9121362371847639\n",
      "k: sel103_1, min_ampl: 0.7613442669854311\n",
      "k: sel104_0, min_ampl: 0.35499163886092827\n",
      "k: sel104_1, min_ampl: 0.38590681605764976\n",
      "k: sel114_0, min_ampl: 0.5863559426284947\n",
      "k: sel114_1, min_ampl: 0.8664404035097286\n",
      "k: sel116_0, min_ampl: 0.6306195013832993\n",
      "k: sel116_1, min_ampl: 0.3590163809132717\n",
      "k: sel117_0, min_ampl: 0.6354449417524974\n",
      "k: sel117_1, min_ampl: 0.6902646437420161\n",
      "k: sel123_0, min_ampl: 0.8627256711361485\n",
      "k: sel123_1, min_ampl: 0.808447315362472\n",
      "k: sel14046_0, min_ampl: 0.8639488959138636\n",
      "k: sel14046_1, min_ampl: 0.9654035607646121\n",
      "k: sel14157_0, min_ampl: 0.13455447744456037\n",
      "k: sel14157_1, min_ampl: 0.1985580141058875\n",
      "k: sel14172_0, min_ampl: 0.6066817546457911\n",
      "k: sel14172_1, min_ampl: 0.961597081428351\n",
      "k: sel15814_0, min_ampl: 0.38239170459949245\n",
      "k: sel15814_1, min_ampl: 0.25631056334283936\n",
      "k: sel16265_0, min_ampl: 0.8823366177952218\n",
      "k: sel16265_1, min_ampl: 0.70391102727431\n",
      "k: sel16272_0, min_ampl: 0.791220323549598\n",
      "k: sel16272_1, min_ampl: 0.4303133233613469\n",
      "k: sel16273_0, min_ampl: 0.9134547897298291\n",
      "k: sel16273_1, min_ampl: 0.7731231901640522\n",
      "k: sel16420_0, min_ampl: 0.8786210136249369\n",
      "k: sel16420_1, min_ampl: 0.8671600310058509\n",
      "k: sel16483_0, min_ampl: 0.9120156398653814\n",
      "k: sel16483_1, min_ampl: 0.871773622907606\n",
      "k: sel16539_0, min_ampl: 0.8194498490203157\n",
      "k: sel16539_1, min_ampl: 0.8170905971194046\n",
      "k: sel16773_0, min_ampl: 0.9071585529295131\n",
      "k: sel16773_1, min_ampl: 0.8186462782664718\n",
      "k: sel16786_0, min_ampl: 0.9294387226271965\n",
      "k: sel16786_1, min_ampl: 0.6027554839078518\n",
      "k: sel16795_0, min_ampl: 0.8618962534329503\n",
      "k: sel16795_1, min_ampl: 0.8712912629587694\n",
      "k: sel17152_0, min_ampl: 0.8113968053412826\n",
      "k: sel17152_1, min_ampl: 0.8069543755986626\n",
      "k: sel17453_0, min_ampl: 0.919602872461335\n",
      "k: sel17453_1, min_ampl: 0.8377279909884111\n",
      "k: sel213_0, min_ampl: 0.5791025041258602\n",
      "k: sel213_1, min_ampl: 0.3335310940662312\n",
      "k: sel221_0, min_ampl: 0.7998287472416774\n",
      "k: sel221_1, min_ampl: 0.12076893433253492\n",
      "k: sel223_0, min_ampl: 0.24288852100652014\n",
      "k: sel223_1, min_ampl: 0.18700686451150214\n",
      "k: sel230_0, min_ampl: 0.6132998949827302\n",
      "k: sel230_1, min_ampl: 0.4623992016253718\n",
      "k: sel231_0, min_ampl: 0.7691876114289284\n",
      "k: sel231_1, min_ampl: 0.13589594026761043\n",
      "k: sel233_0, min_ampl: 0.9733513954383199\n",
      "k: sel233_1, min_ampl: 0.9666994099244347\n",
      "k: sel301_0, min_ampl: 0.8664751102938834\n",
      "k: sel301_1, min_ampl: 0.8723750101934897\n",
      "k: sel302_0, min_ampl: 0.5991480792991303\n",
      "k: sel302_1, min_ampl: 0.15873229600536926\n",
      "k: sel306_0, min_ampl: 0.829994128410737\n",
      "k: sel306_1, min_ampl: 0.9930321859340338\n",
      "k: sel307_0, min_ampl: 0.8556981238367188\n",
      "k: sel307_1, min_ampl: 0.6489815904815551\n",
      "k: sel308_0, min_ampl: 0.6427261257375803\n",
      "k: sel308_1, min_ampl: 0.6403695760120701\n",
      "k: sel30_0, min_ampl: 0.857862945410427\n",
      "k: sel30_1, min_ampl: 0.8984903247265518\n",
      "k: sel310_0, min_ampl: 0.7252860014570577\n",
      "k: sel310_1, min_ampl: 0.7692717067091493\n",
      "k: sel31_0, min_ampl: 0.658867632303129\n",
      "k: sel31_1, min_ampl: 0.8107408258204424\n",
      "k: sel32_0, min_ampl: 0.8040508880325824\n",
      "k: sel32_1, min_ampl: 0.7873021309063051\n",
      "k: sel33_0, min_ampl: 0.8304985542433426\n",
      "k: sel33_1, min_ampl: 0.7901206507718845\n",
      "k: sel34_0, min_ampl: 0.8306208890722399\n",
      "k: sel34_1, min_ampl: 0.6926237939999048\n",
      "k: sel35_0, min_ampl: 0.19069316282005613\n",
      "k: sel35_1, min_ampl: 0.2966470227671667\n",
      "k: sel37_0, min_ampl: 0.1020451028125147\n",
      "k: sel37_1, min_ampl: 0.10485454157278176\n",
      "k: sel38_0, min_ampl: 0.9356710733748602\n",
      "k: sel38_1, min_ampl: 0.7838722559659463\n",
      "k: sel39_0, min_ampl: 0.7389786393305227\n",
      "k: sel39_1, min_ampl: 0.768952306610458\n",
      "k: sel40_0, min_ampl: 0.9586282234126763\n",
      "k: sel40_1, min_ampl: 0.9679522735082221\n",
      "k: sel41_0, min_ampl: 0.9167563119324356\n",
      "k: sel41_1, min_ampl: 0.9488091384847389\n",
      "k: sel42_0, min_ampl: 0.895873021491334\n",
      "k: sel42_1, min_ampl: 0.9138510839456027\n",
      "k: sel43_0, min_ampl: 0.645661365004552\n",
      "k: sel43_1, min_ampl: 0.6652211845373623\n",
      "k: sel44_0, min_ampl: 0.595004886060765\n",
      "k: sel44_1, min_ampl: 0.4448549818857406\n",
      "k: sel45_0, min_ampl: 0.6854363609487467\n",
      "k: sel45_1, min_ampl: 0.6718033704503945\n"
     ]
    }
   ],
   "source": [
    "counter = 0\n",
    "minima = []\n",
    "for k in amplitudes:\n",
    "    print(\"k: {}, min_ampl: {}\".format(k,(amplitudes[k]/np.max(amplitudes[k])).min()))\n",
    "    minima.append((k,(amplitudes[k]/np.max(amplitudes[k])).min()))\n",
    "    counter += 1\n",
    "    if counter == 100:\n",
    "        break\n",
    "minima = np.array(minima)"
   ]
  },
  {
   "cell_type": "code",
   "execution_count": 91,
   "metadata": {},
   "outputs": [
    {
     "data": {
      "text/plain": [
       "0.0054"
      ]
     },
     "execution_count": 91,
     "metadata": {},
     "output_type": "execute_result"
    }
   ],
   "source": [
    "(QRSdistribution.rvs(N) < 0.1).sum()/N*2"
   ]
  },
  {
   "cell_type": "code",
   "execution_count": 77,
   "metadata": {},
   "outputs": [
    {
     "data": {
      "text/plain": [
       "[4.477613708259789,\n",
       " 3.460003414529738,\n",
       " 3.2786491611087563,\n",
       " 2.992900796343534,\n",
       " 2.422680057927895,\n",
       " 3.3540017232302985,\n",
       " 5.004822536776116,\n",
       " 4.423652043349885,\n",
       " 4.652097062749386,\n",
       " 0.5247783727467863,\n",
       " 0.592711007135612,\n",
       " 4.789667116359156,\n",
       " 3.1681574210841736,\n",
       " 3.546887718466596,\n",
       " 3.0965297005722303,\n",
       " 3.6260801883069465,\n",
       " 3.1891846503828316]"
      ]
     },
     "execution_count": 77,
     "metadata": {},
     "output_type": "execute_result"
    }
   ],
   "source": [
    "amplitudes['sel37_1']"
   ]
  },
  {
   "cell_type": "code",
   "execution_count": 73,
   "metadata": {},
   "outputs": [
    {
     "data": {
      "text/plain": [
       "array([ 0.        , -0.40265698, -0.73445357, -0.90940334, -0.93707856,\n",
       "       -0.81510159, -0.45679195,  0.1295575 ,  0.70385686,  1.        ,\n",
       "        0.98483438,  0.7915098 ,  0.49748323,  0.11813287, -0.23403046,\n",
       "       -0.36336258, -0.21141598,  0.06058225,  0.26590557,  0.35801948,\n",
       "        0.35579687,  0.23865982,  0.        ])"
      ]
     },
     "execution_count": 73,
     "metadata": {},
     "output_type": "execute_result"
    }
   ],
   "source": [
    "QRS['sel37_0###10']"
   ]
  },
  {
   "cell_type": "code",
   "execution_count": 69,
   "metadata": {},
   "outputs": [
    {
     "data": {
      "text/plain": [
       "'sel37_0'"
      ]
     },
     "execution_count": 69,
     "metadata": {},
     "output_type": "execute_result"
    }
   ],
   "source": [
    "minima[82,0]"
   ]
  },
  {
   "cell_type": "code",
   "execution_count": 68,
   "metadata": {},
   "outputs": [
    {
     "data": {
      "text/plain": [
       "82"
      ]
     },
     "execution_count": 68,
     "metadata": {},
     "output_type": "execute_result"
    }
   ],
   "source": [
    "minima[:,1].astype(float).argmin()"
   ]
  },
  {
   "cell_type": "code",
   "execution_count": 7,
   "metadata": {},
   "outputs": [],
   "source": [
    "ALLwaves = [P, PQ, QRS, ST, T, TP]\n",
    "ALLamplitudes = [[], [], [], [], [], []]; QRSratios = []; QRSsizes = [];\n",
    "\n",
    "for i in range(len(ALLwaves)):\n",
    "    for k in ALLwaves[i]:\n",
    "        segment = sak.signal.on_off_correction(ALLwaves[i][k])/metric_intralead(amplitudes[k.split('###')[0]])\n",
    "        ALLamplitudes[i].append(metric_amplitude(segment))\n",
    "        if i == 2: #QRS\n",
    "            QRSratios.append(sak.signal.min_max_ratio(segment))\n",
    "            QRSsizes.append(segment.size)\n",
    "    ALLamplitudes[i] = np.array(ALLamplitudes[i])\n",
    "QRSratios = np.array(QRSratios); QRSsizes = np.array(QRSsizes)\n",
    "Pamplitudes, PQamplitudes, QRSamplitudes, STamplitudes, Tamplitudes, TPamplitudes = ALLamplitudes\n",
    "del ALLamplitudes"
   ]
  },
  {
   "cell_type": "code",
   "execution_count": 8,
   "metadata": {},
   "outputs": [],
   "source": [
    "# criterion = 'absmax'\n",
    "# PQthres = 1; STthres = 1; Tthres = 1; TPthres = 1;\n",
    "# # PQthres = 0.3; STthres = 0.4; Tthres = 0.6; TPthres = 0.4;\n",
    "# plt.figure(); _ = plt.hist(beat_sizes,                        bins=100);  plt.title('QRS sizes');      plt.savefig('./figures/QRSsizes.svg')\n",
    "# plt.figure(); _ = plt.hist(Pamplitudes,                       bins=1000); plt.title('P amplitudes');   plt.savefig('./figures/Pamplitudes_{}.svg'.format(criterion))\n",
    "# plt.figure(); _ = plt.hist(PQamplitudes[PQamplitudes<PQthres],bins=1000); plt.title('PQ amplitudes');  plt.savefig('./figures/PQamplitudes_{}.svg'.format(criterion))\n",
    "# plt.figure(); _ = plt.hist(QRSamplitudes,                     bins=1000); plt.title('QRS amplitudes'); plt.savefig('./figures/QRSamplitudes_{}.svg'.format(criterion))\n",
    "# plt.figure(); _ = plt.hist(STamplitudes[STamplitudes<STthres],bins=1000); plt.title('ST amplitudes');  plt.savefig('./figures/STamplitudes_{}.svg'.format(criterion))\n",
    "# plt.figure(); _ = plt.hist(Tamplitudes[Tamplitudes<Tthres],   bins=1000); plt.title('T amplitudes');   plt.savefig('./figures/Tamplitudes_{}.svg'.format(criterion))\n",
    "# plt.figure(); _ = plt.hist(TPamplitudes[TPamplitudes<TPthres],bins=1000); plt.title('TP amplitudes');  plt.savefig('./figures/TPamplitudes_{}.svg'.format(criterion))"
   ]
  },
  {
   "cell_type": "code",
   "execution_count": 9,
   "metadata": {},
   "outputs": [],
   "source": [
    "Pdistribution = scipy.stats.lognorm(*scipy.stats.lognorm.fit(Pamplitudes))#/2))\n",
    "PQdistribution = scipy.stats.lognorm(*scipy.stats.lognorm.fit(PQamplitudes[PQamplitudes<0.3]))\n",
    "QRSdistribution = scipy.stats.lognorm(*scipy.stats.lognorm.fit(np.hstack((QRSamplitudes, 2-QRSamplitudes))))\n",
    "STdistribution = scipy.stats.lognorm(*scipy.stats.lognorm.fit(STamplitudes))\n",
    "Tdistribution = scipy.stats.lognorm(*scipy.stats.lognorm.fit(Tamplitudes[(Tamplitudes>0.05) & (Tamplitudes<0.5)]))\n",
    "TPdistribution = scipy.stats.lognorm(*scipy.stats.lognorm.fit(TPamplitudes[TPamplitudes<0.4]))"
   ]
  },
  {
   "cell_type": "code",
   "execution_count": 10,
   "metadata": {},
   "outputs": [],
   "source": [
    "for i in range(len(ALLwaves)):\n",
    "    keys = list(ALLwaves[i])\n",
    "    for k in keys:\n",
    "        segment = sak.signal.on_off_correction(ALLwaves[i][k])\n",
    "        ALLwaves[i][k] = sak.data.ball_scaling(segment,metric=sak.signal.abs_max)\n",
    "        if np.any(np.isinf(ALLwaves[i][k])) or np.any(np.isnan(ALLwaves[i][k])):\n",
    "            ALLwaves[i].pop(k)\n",
    "del ALLwaves"
   ]
  },
  {
   "cell_type": "markdown",
   "metadata": {},
   "source": [
    "# Plot src.data.Dataset"
   ]
  },
  {
   "cell_type": "code",
   "execution_count": 166,
   "metadata": {},
   "outputs": [],
   "source": [
    "self = src.data.Dataset(P, QRS, T, PQ, ST, TP, \n",
    "                       Pdistribution, QRSdistribution, Tdistribution, \n",
    "                       PQdistribution, STdistribution, TPdistribution, \n",
    "                       200, scaling_metric=sak.signal.abs_max)"
   ]
  },
  {
   "cell_type": "code",
   "execution_count": 164,
   "metadata": {},
   "outputs": [],
   "source": [
    "dict_globals = tmp.generate_globals()\n",
    "dict_IDs = tmp.generate_IDs(dict_globals)\n",
    "templates = tmp.generate_templates(dict_globals, dict_IDs)"
   ]
  },
  {
   "cell_type": "code",
   "execution_count": 250,
   "metadata": {},
   "outputs": [
    {
     "name": "stdout",
     "output_type": "stream",
     "text": [
      "AAA\n"
     ]
    },
    {
     "data": {
      "text/plain": [
       "[<matplotlib.lines.Line2D at 0x7fde1e21da90>]"
      ]
     },
     "execution_count": 250,
     "metadata": {},
     "output_type": "execute_result"
    },
    {
     "data": {
      "image/png": "[encoded data removed]",
      "text/plain": [
       "<Figure size 432x288 with 1 Axes>"
      ]
     },
     "metadata": {
      "needs_background": "light"
     },
     "output_type": "display_data"
    }
   ],
   "source": [
    "ty = 'QRS'\n",
    "seg = self.generate_segment_2(dict_IDs[ty][0], ty, dict_globals, templates.get(ty, None))\n",
    "plt.plot(seg)"
   ]
  },
  {
   "cell_type": "code",
   "execution_count": null,
   "metadata": {},
   "outputs": [],
   "source": []
  },
  {
   "cell_type": "code",
   "execution_count": 140,
   "metadata": {},
   "outputs": [
    {
     "name": "stdout",
     "output_type": "stream",
     "text": [
      "[ 0.          0.0109391  -0.00144471 -0.02347239 -0.03010416 -0.01780217\n",
      " -0.01327015 -0.03305401 -0.04772332 -0.00110092  0.10645279  0.22275498\n",
      "  0.33257661  0.44550253  0.53903604  0.57924627  0.54546634  0.40905842\n",
      "  0.13821466 -0.16485387 -0.24698284 -0.15489754 -0.05705612  0.        ]\n"
     ]
    },
    {
     "data": {
      "image/png": "[encoded data removed]",
      "text/plain": [
       "<Figure size 432x288 with 1 Axes>"
      ]
     },
     "metadata": {
      "needs_background": "light"
     },
     "output_type": "display_data"
    }
   ],
   "source": [
    "segment = np.copy(tmp.QRS[tmp.QRSkeys[1987]])\n",
    "segment2 = tmp.apply_amplitude_2(segment,'QRS',np.random.rand())\n",
    "plt.plot(segment)\n",
    "plt.plot(segment2)\n",
    "print(segment/segment2)"
   ]
  },
  {
   "cell_type": "code",
   "execution_count": null,
   "metadata": {},
   "outputs": [],
   "source": []
  },
  {
   "cell_type": "code",
   "execution_count": null,
   "metadata": {},
   "outputs": [],
   "source": []
  },
  {
   "cell_type": "code",
   "execution_count": 13,
   "metadata": {
    "scrolled": false
   },
   "outputs": [
    {
     "data": {
      "image/png": "[encoded data removed]",
      "text/plain": [
       "<Figure size 1152x216 with 1 Axes>"
      ]
     },
     "metadata": {
      "needs_background": "light"
     },
     "output_type": "display_data"
    }
   ],
   "source": [
    "out = tmp[0]\n",
    "if len(out) == 2:\n",
    "    sig,masks_all = out\n",
    "else:\n",
    "    sig,masks_all,beats,masks = out\n",
    "    wtlist = [sak.wavelet.transform(beats[i],250.) for i in range(len(beats))]\n",
    "sig = sig.squeeze()\n",
    "# wt = sak.wavelet.transform(sig,250)\n",
    "# masks_all = mask.T\n",
    "\n",
    "mskplt = ((np.max(sig)-np.min(sig))*masks_all)+np.min(sig)\n",
    "\n",
    "plt.figure(figsize=(16,3))\n",
    "plt.plot(sig)\n",
    "# plt.plot(wt[:,0,-2])\n",
    "plt.xlim([0,tmp.N])\n",
    "plt.gca().fill_between(np.arange(tmp.N), mskplt[0,:], mskplt[0,:].min(), linewidth=0, alpha=0.15, color='red')\n",
    "plt.gca().fill_between(np.arange(tmp.N), mskplt[1,:], mskplt[1,:].min(), linewidth=0, alpha=0.15, color='green')\n",
    "plt.gca().fill_between(np.arange(tmp.N), mskplt[2,:], mskplt[2,:].min(), linewidth=0, alpha=0.15, color='magenta')\n",
    "plt.show()"
   ]
  },
  {
   "cell_type": "code",
   "execution_count": null,
   "metadata": {},
   "outputs": [],
   "source": []
  },
  {
   "cell_type": "code",
   "execution_count": null,
   "metadata": {},
   "outputs": [],
   "source": [
    "# w = 0\n",
    "# s = 3\n",
    "# L = 20\n",
    "# f,ax = plt.subplots(ncols=L,figsize=(0.5*L,3),sharey=True)\n",
    "# [ax[i].plot(beats[w+i]) for i in range(L)]\n",
    "# [ax[i].plot(wtlist[w+i][:,0,s]) for i in range(L)]\n",
    "# f.tight_layout()\n",
    "# f.subplots_adjust(hspace=0.00,wspace=0.00)"
   ]
  },
  {
   "cell_type": "code",
   "execution_count": null,
   "metadata": {},
   "outputs": [],
   "source": [
    "# pad_size = 64\n",
    "# # i = 1000\n",
    "# i = 0000\n",
    "# # i = 14978\n",
    "# # i = 14979\n",
    "# s = 4\n",
    "# sig = QRS[list(QRS)[i]]\n",
    "# sig2 = np.pad(sig,((pad_size,pad_size),),mode='edge')\n",
    "# wt = sak.wavelet.transform(sig2,250.).squeeze()\n",
    "# print(wt.max(0)-wt.min(0))\n",
    "# print(np.mean((wt.max(0)-wt.min(0))[-2:]))\n",
    "# wt = wt[pad_size:-pad_size,:]\n",
    "# plt.figure(figsize=(0.5,3))\n",
    "# plt.plot(sig)\n",
    "# plt.plot(wt[:,s])"
   ]
  },
  {
   "cell_type": "code",
   "execution_count": null,
   "metadata": {},
   "outputs": [],
   "source": [
    "# s = 3\n",
    "# sig2 = np.concatenate(beats)\n",
    "# wt = sak.wavelet.transform(sig2,250)[:,0,s]\n",
    "# wtlist = [sak.wavelet.transform(beats[i],250.) for i in range(len(beats))]\n",
    "# wt2 = np.concatenate([wtlist[w][:,0,s] for w in range(len(wtlist))])\n",
    "\n",
    "# f,ax = plt.subplots(nrows=4,figsize=(15,9))\n",
    "# ax[0].plot(sig2)\n",
    "# ax[1].plot(wt)\n",
    "# ax[2].plot(wt2)\n",
    "# ax[3].plot(wt2)\n",
    "# ax[3].plot(wt)\n",
    "# [ax[i].set_xlim([0,N]) for i in range(ax.size)]"
   ]
  },
  {
   "cell_type": "code",
   "execution_count": null,
   "metadata": {},
   "outputs": [],
   "source": [
    "wt = sak.wavelet.transform(sig,250)\n",
    "f,ax = sak.visualization.plot.wavelets(sig,wt,figsize=(15,15),returns=True)\n",
    "[ax[i,0].set_xlim([0,tmp.N]) for i in range(6)]\n",
    "plt.show()"
   ]
  },
  {
   "cell_type": "markdown",
   "metadata": {},
   "source": [
    "# fiducials to delete\n",
    "\n",
    "* QRS - 111_AVF_24\n",
    "* QRS - sel820_1_156\n",
    "* QRS - 95_AVR_16\n",
    "* ~TP - sel306_1_211~\n",
    "* ~TP - sel114_0_179~\n",
    "* PT - sel803_0_109"
   ]
  },
  {
   "cell_type": "code",
   "execution_count": null,
   "metadata": {},
   "outputs": [],
   "source": []
  },
  {
   "cell_type": "markdown",
   "metadata": {},
   "source": [
    "# FIXES ON CURRENT SIGNAL GENERATION CODE"
   ]
  },
  {
   "cell_type": "markdown",
   "metadata": {},
   "source": [
    "## 1. Conditional amplitudes"
   ]
  },
  {
   "cell_type": "markdown",
   "metadata": {},
   "source": [
    "### 1.1. Compute conditional probabilities (e.g. P wave is larger than T wave)"
   ]
  },
  {
   "cell_type": "code",
   "execution_count": 14,
   "metadata": {},
   "outputs": [],
   "source": [
    "Pkeys = list(P)\n",
    "PQkeys = list(PQ)\n",
    "QRSkeys = list(QRS)\n",
    "STkeys = list(ST)\n",
    "Tkeys = list(T)\n",
    "TPkeys = list(TP)"
   ]
  },
  {
   "cell_type": "code",
   "execution_count": 53,
   "metadata": {},
   "outputs": [
    {
     "name": "stdout",
     "output_type": "stream",
     "text": [
      "20.15\n",
      "4.32\n",
      "5.04\n",
      "5.79\n"
     ]
    }
   ],
   "source": [
    "bootstrap = []\n",
    "conditional_bootstrap = []\n",
    "N = 10000\n",
    "N_bootstrap = 2000\n",
    "dist1 = Pdistribution\n",
    "dist2 = Tdistribution\n",
    "func = lambda d1, d2: d1 > d2\n",
    "for _ in range(N_bootstrap):\n",
    "    d1amp = dist1.rvs(N)\n",
    "    d2amp = dist2.rvs(N)\n",
    "    condt = np.random.rand(N) < 0.25\n",
    "    bootstrap.append(func(d1amp,d2amp).sum()/N)\n",
    "    conditional_bootstrap.append((func(d1amp,d2amp) & condt).sum()/N)\n",
    "print(np.round(np.mean(bootstrap)*100,decimals=2))\n",
    "print(np.round(np.min(conditional_bootstrap)*100,decimals=2))\n",
    "print(np.round(np.mean(conditional_bootstrap)*100,decimals=2))\n",
    "print(np.round(np.max(conditional_bootstrap)*100,decimals=2))"
   ]
  },
  {
   "cell_type": "markdown",
   "metadata": {},
   "source": [
    "### 1.2. Stratify amplitude according to other stuff (minmax ratio, e.g.)"
   ]
  },
  {
   "cell_type": "code",
   "execution_count": 47,
   "metadata": {},
   "outputs": [
    {
     "data": {
      "image/png": "[encoded data removed]",
      "text/plain": [
       "<Figure size 432x288 with 1 Axes>"
      ]
     },
     "metadata": {
      "needs_background": "light"
     },
     "output_type": "display_data"
    },
    {
     "data": {
      "image/png": "[encoded data removed]",
      "text/plain": [
       "<Figure size 432x288 with 1 Axes>"
      ]
     },
     "metadata": {
      "needs_background": "light"
     },
     "output_type": "display_data"
    },
    {
     "data": {
      "image/png": "[encoded data removed]",
      "text/plain": [
       "<Figure size 432x288 with 1 Axes>"
      ]
     },
     "metadata": {
      "needs_background": "light"
     },
     "output_type": "display_data"
    },
    {
     "data": {
      "image/png": "[encoded data removed]",
      "text/plain": [
       "<Figure size 432x288 with 1 Axes>"
      ]
     },
     "metadata": {
      "needs_background": "light"
     },
     "output_type": "display_data"
    },
    {
     "data": {
      "image/png": "[encoded data removed]",
      "text/plain": [
       "<Figure size 432x288 with 1 Axes>"
      ]
     },
     "metadata": {
      "needs_background": "light"
     },
     "output_type": "display_data"
    },
    {
     "data": {
      "image/png": "[encoded data removed]",
      "text/plain": [
       "<Figure size 432x288 with 1 Axes>"
      ]
     },
     "metadata": {
      "needs_background": "light"
     },
     "output_type": "display_data"
    }
   ],
   "source": [
    "filt = QRSamplitudes < 1\n",
    "aaa = QRSamplitudes[filt]\n",
    "bbb = QRSratios[filt]\n",
    "ccc = QRSsizes[filt]\n",
    "\n",
    "plt.figure(); _ = plt.hist(QRSsizes,bins=100)\n",
    "\n",
    "plt.figure(); _ = plt.hist(aaa[bbb<0.2],bins=100)\n",
    "plt.figure(); _ = plt.hist(aaa[(bbb>=0.2) & (bbb<0.4)],bins=100)\n",
    "plt.figure(); _ = plt.hist(aaa[(bbb>=0.4) & (bbb<0.6)],bins=100)\n",
    "plt.figure(); _ = plt.hist(aaa[(bbb>=0.6) & (bbb<0.8)],bins=100)\n",
    "plt.figure(); _ = plt.hist(aaa[(bbb>=0.8)],bins=100)\n"
   ]
  },
  {
   "cell_type": "code",
   "execution_count": null,
   "metadata": {},
   "outputs": [],
   "source": []
  },
  {
   "cell_type": "markdown",
   "metadata": {},
   "source": [
    "## 2. Efficiency stuff"
   ]
  },
  {
   "cell_type": "code",
   "execution_count": 12,
   "metadata": {},
   "outputs": [
    {
     "name": "stdout",
     "output_type": "stream",
     "text": [
      "14.3 ms ± 610 µs per loop (mean ± std. dev. of 7 runs, 100 loops each)\n"
     ]
    }
   ],
   "source": [
    "%%timeit\n",
    "# Old one, before generating per-cycle\n",
    "tmp[0]"
   ]
  },
  {
   "cell_type": "markdown",
   "metadata": {},
   "source": [
    "## 3. Convolve shape into another"
   ]
  },
  {
   "cell_type": "code",
   "execution_count": 15,
   "metadata": {},
   "outputs": [
    {
     "data": {
      "image/png": "[encoded data removed]",
      "text/plain": [
       "<Figure size 1152x216 with 1 Axes>"
      ]
     },
     "metadata": {
      "needs_background": "light"
     },
     "output_type": "display_data"
    }
   ],
   "source": [
    "tmp.return_beats = True\n",
    "sig,masks_all,beats,masks = tmp[0]\n",
    "sig = sig.squeeze()\n",
    "# masks_all = mask.T\n",
    "\n",
    "mskplt = ((np.max(sig)-np.min(sig))*masks_all)+np.min(sig)\n",
    "\n",
    "plt.figure(figsize=(16,3))\n",
    "plt.plot(sig)\n",
    "plt.xlim([0,tmp.N])\n",
    "plt.gca().fill_between(np.arange(tmp.N), mskplt[0,:], mskplt[0,:].min(), linewidth=0, alpha=0.15, color='red')\n",
    "plt.gca().fill_between(np.arange(tmp.N), mskplt[1,:], mskplt[1,:].min(), linewidth=0, alpha=0.15, color='green')\n",
    "plt.gca().fill_between(np.arange(tmp.N), mskplt[2,:], mskplt[2,:].min(), linewidth=0, alpha=0.15, color='magenta')\n",
    "plt.show()"
   ]
  },
  {
   "cell_type": "code",
   "execution_count": 16,
   "metadata": {},
   "outputs": [
    {
     "data": {
      "image/png": "[encoded data removed]",
      "text/plain": [
       "<Figure size 720x216 with 20 Axes>"
      ]
     },
     "metadata": {
      "needs_background": "light"
     },
     "output_type": "display_data"
    }
   ],
   "source": [
    "w = 0\n",
    "s = 3\n",
    "L = 20\n",
    "f,ax = plt.subplots(ncols=L,figsize=(0.5*L,3),sharey=True)\n",
    "[ax[i].plot(beats[w+i]) for i in range(L)]\n",
    "f.tight_layout()\n",
    "f.subplots_adjust(hspace=0.00,wspace=0.00)"
   ]
  },
  {
   "cell_type": "code",
   "execution_count": 52,
   "metadata": {},
   "outputs": [
    {
     "data": {
      "text/plain": [
       "<matplotlib.collections.PolyCollection at 0x7fde26ffb5e0>"
      ]
     },
     "execution_count": 52,
     "metadata": {},
     "output_type": "execute_result"
    },
    {
     "data": {
      "image/png": "[encoded data removed]",
      "text/plain": [
       "<Figure size 432x288 with 1 Axes>"
      ]
     },
     "metadata": {
      "needs_background": "light"
     },
     "output_type": "display_data"
    }
   ],
   "source": [
    "wave1 = T[list(T)[np.random.randint(len(T))]]*tmp.distribution_draw('T')\n",
    "wave2 = P[list(P)[np.random.randint(len(P))]]*tmp.distribution_draw('P')\n",
    "wave3 = np.pad(wave1,((0,int(wave2.size*(np.random.rand()*0.5+0.25)))),mode='edge')\n",
    "msk = np.zeros((wave3.size,3),dtype=bool)\n",
    "msk[:,2] = 1\n",
    "plt.plot(wave1)\n",
    "plt.plot(wave2)\n",
    "\n",
    "wave4 = np.copy(wave3)\n",
    "# wave4[-wave2.size:] += np.convolve(wave4[-wave2.size:],wave2,mode='valid')\n",
    "# wave4[-wave2.size:] = np.vstack((wave3[-wave2.size:],wave2)).max(axis=0)\n",
    "# loc = np.nonzero((1-(wave3[-wave2.size:]-wave2)/(wave3[-wave2.size:]-wave2).max()) > 0.5)[0][0]\n",
    "wave4[-wave2.size:] += wave2*(1-(wave3[-wave2.size:]-wave2)/(wave3[-wave2.size:]-wave2).max())\n",
    "loc = np.nonzero(np.abs(wave3-wave4)/wave1.max() > 0.1)[0]\n",
    "if loc.size != 0:\n",
    "    loc = loc[0]-1\n",
    "    msk[loc:,2] = 0\n",
    "    msk[loc:,0] = 1\n",
    "#     wave4[loc:] /= np.linspace(1,2,wave4.size-loc)**2\n",
    "plt.plot(wave4)\n",
    "plt.gca().fill_between(np.arange(0,loc+1), wave4.min(), wave4.max(), linewidth=1, alpha=0.15, color='red')\n",
    "plt.gca().fill_between(np.arange(loc,wave4.size), wave4.min(), wave4.max(), linewidth=1, alpha=0.15, color='magenta')\n",
    "\n",
    "\n",
    "# # Twave2[-TPwave2.size:] += TPwave2\n",
    "# conv = np.convolve(wave1[-wave2.size:], wave2, mode='same')\n",
    "# conv += wave1[-wave2.size]\n",
    "# Twave2[-TPwave2.size:] = conv"
   ]
  },
  {
   "cell_type": "code",
   "execution_count": 34,
   "metadata": {},
   "outputs": [
    {
     "data": {
      "text/plain": [
       "array([1.        , 1.07692308, 1.15384615, 1.23076923, 1.30769231,\n",
       "       1.38461538, 1.46153846, 1.53846154, 1.61538462, 1.69230769,\n",
       "       1.76923077, 1.84615385, 1.92307692, 2.        ])"
      ]
     },
     "execution_count": 34,
     "metadata": {},
     "output_type": "execute_result"
    }
   ],
   "source": [
    "np.linspace(1,2,wave4.size-loc)"
   ]
  },
  {
   "cell_type": "code",
   "execution_count": 30,
   "metadata": {},
   "outputs": [
    {
     "data": {
      "text/plain": [
       "array([21, 22, 23, 24, 25, 26, 27, 28, 29, 30, 31, 32, 33, 34, 36, 37, 38,\n",
       "       39, 40, 41, 42, 43])"
      ]
     },
     "execution_count": 30,
     "metadata": {},
     "output_type": "execute_result"
    }
   ],
   "source": [
    "loc"
   ]
  },
  {
   "cell_type": "code",
   "execution_count": null,
   "metadata": {},
   "outputs": [],
   "source": []
  },
  {
   "cell_type": "markdown",
   "metadata": {},
   "source": [
    "# OLD AND CREEPY"
   ]
  },
  {
   "cell_type": "markdown",
   "metadata": {},
   "source": [
    "## Callibrating QRS amplitudes"
   ]
  },
  {
   "cell_type": "code",
   "execution_count": 12,
   "metadata": {},
   "outputs": [],
   "source": [
    "# QRSamplitudes3 = np.hstack((QRSamplitudes2, 2-QRSamplitudes2))\n",
    "# QRSamplitudes3dist = scipy.stats.lognorm(*scipy.stats.lognorm.fit(QRSamplitudes3))\n",
    "# QRSamplitudesExp = scipy.stats.exponnorm(*scipy.stats.exponnorm.fit(QRSamplitudes2))\n",
    "# QRSamplitudesGamma = scipy.stats.gamma(*scipy.stats.gamma.fit(QRSamplitudes2))\n",
    "# print((QRSamplitudes2 == 1).sum())\n",
    "# print((QRSamplitudes2 < 0.1).sum())"
   ]
  },
  {
   "cell_type": "code",
   "execution_count": 13,
   "metadata": {},
   "outputs": [],
   "source": [
    "# tst3 = QRSamplitudes3dist.rvs(N)\n",
    "# tst3 = tst3[tst3 <= 1.15]\n",
    "# tst3 = tst3[tst3 > 0.1]\n",
    "# tst3 = tst3.clip(max=1)\n",
    "# (tst3 == 1).sum()"
   ]
  },
  {
   "cell_type": "code",
   "execution_count": 14,
   "metadata": {},
   "outputs": [],
   "source": [
    "# N = QRSamplitudes2.size\n",
    "# tst = QRSamplitudes.rvs(N)\n",
    "# tst = tst[tst <= 1]\n",
    "# tst = tst[tst > 0.1]\n",
    "# tst3 = QRSamplitudes3dist.rvs(N)\n",
    "# tst3 = tst3[tst3 <= 1.005]\n",
    "# tst3 = tst3[tst3 > 0.1]\n",
    "# tst3 = tst3.clip(max=1)\n",
    "# # tst4 = QRSamplitudeslognorm.rvs(N)\n",
    "# # tst4 = tst4[tst4 <= 1]\n",
    "# # tst4 = tst4[tst4 > 0.1]\n",
    "# # _ = plt.hist(tst,bins=1000);\n",
    "# _ = plt.hist(tst3,bins=1000);\n",
    "# # _ = plt.hist(tst4,bins=1000);\n",
    "# # _ = plt.hist(QRSamplitudes2[QRSamplitudes2<1],bins=1000);\n",
    "# _ = plt.hist(QRSamplitudes2,bins=1000);"
   ]
  },
  {
   "cell_type": "markdown",
   "metadata": {},
   "source": [
    "## Some old code"
   ]
  },
  {
   "cell_type": "code",
   "execution_count": null,
   "metadata": {},
   "outputs": [],
   "source": [
    "# metric = np.max\n",
    "\n",
    "# amplitudes = {k.split('###')[0]: [] for k in list(QRS)}\n",
    "# for k in QRS:\n",
    "#     g = k.split('###')[0]\n",
    "#     segment = sak.signal.on_off_correction(QRS[k])\n",
    "#     amplitudes[g].append(np.max(segment) - np.min(segment))"
   ]
  },
  {
   "cell_type": "code",
   "execution_count": null,
   "metadata": {},
   "outputs": [],
   "source": [
    "# Pamplitudes = []\n",
    "# for k in P:\n",
    "#     segment = sak.signal.on_off_correction(P[k])/metric(amplitudes[k.split('###')[0]])\n",
    "#     Pamplitudes.append(segment.max()-segment.min())\n",
    "# Pamplitudes = np.array(Pamplitudes)\n",
    "# PQamplitudes = []\n",
    "# for k in PQ:\n",
    "#     segment = sak.signal.on_off_correction(PQ[k])/metric(amplitudes[k.split('###')[0]])\n",
    "#     PQamplitudes.append(segment.max()-segment.min())\n",
    "# PQamplitudes = np.array(PQamplitudes)\n",
    "# QRSamplitudes = []\n",
    "# for k in QRS:\n",
    "#     segment = sak.signal.on_off_correction(QRS[k])/metric(amplitudes[k.split('###')[0]])\n",
    "#     QRSamplitudes.append(segment.max()-segment.min())\n",
    "# QRSamplitudes = np.array(QRSamplitudes)\n",
    "# STamplitudes = []\n",
    "# for k in ST:\n",
    "#     segment = sak.signal.on_off_correction(ST[k])/metric(amplitudes[k.split('###')[0]])\n",
    "#     STamplitudes.append(segment.max()-segment.min())\n",
    "# STamplitudes = np.array(STamplitudes)\n",
    "# Tamplitudes = []\n",
    "# for k in T:\n",
    "#     segment = sak.signal.on_off_correction(T[k])/metric(amplitudes[k.split('###')[0]])\n",
    "#     Tamplitudes.append(segment.max()-segment.min())\n",
    "# Tamplitudes = np.array(Tamplitudes)\n",
    "# TPamplitudes = []\n",
    "# for k in TP:\n",
    "#     segment = sak.signal.on_off_correction(TP[k])/metric(amplitudes[k.split('###')[0]])\n",
    "#     TPamplitudes.append(segment.max()-segment.min())\n",
    "# TPamplitudes = np.array(TPamplitudes)"
   ]
  },
  {
   "cell_type": "markdown",
   "metadata": {},
   "source": [
    "# AFib"
   ]
  },
  {
   "cell_type": "markdown",
   "metadata": {},
   "source": [
    "#### Method 1)"
   ]
  },
  {
   "cell_type": "code",
   "execution_count": null,
   "metadata": {},
   "outputs": [],
   "source": [
    "# #hyperparams\n",
    "# w = 5\n",
    "# n = np.random.randint(1,4)\n",
    "\n",
    "# # Segment retrieval\n",
    "# segment = P[list(P)[np.random.randint(0,len(P))]]\n",
    "\n",
    "# # AFib simulation\n",
    "# on = np.random.choice([0,segment.size,2*segment.size])\n",
    "\n",
    "# segment  = np.concatenate([-segment,segment]*n)/2\n",
    "# amplcor  = np.ones_like(segment)\n",
    "\n",
    "# noise = np.linspace(1,np.random.randn(1),segment.size).squeeze()*0.5+0.5\n",
    "# segment *= noise\n",
    "# amplcor *= noise\n",
    "\n",
    "# # noise = np.sin(np.linspace(0,np.random.randint(5,20),segment.size)+np.random.randn(1))*0.4+0.6\n",
    "# # segment *= noise\n",
    "# # amplcor *= noise\n",
    "\n",
    "# # noise = scipy.signal.chirp(np.linspace(0,np.random.randint(5,20),segment.size),0,200,np.random.randint(5,30))*0.4+0.6\n",
    "# # segment *= noise\n",
    "# # amplcor *= noise\n",
    "\n",
    "# noise = np.convolve(np.random.rand(2*segment.size),np.hamming(w)/(w/2),mode='same')[segment.size//2:-segment.size//2]\n",
    "# segment *= noise\n",
    "# amplcor *= noise\n",
    "\n",
    "# segment  = segment[on:]\n",
    "# amplcor  = amplcor[on:]\n",
    "# # segment *= np.max(1/amplcor)\n",
    "# # segment  = segment/(np.max(segment)-np.min(segment))\n",
    "# # segment = sak.signal.on_off_correction(segment)\n",
    "# plt.plot(segment)\n"
   ]
  },
  {
   "cell_type": "code",
   "execution_count": null,
   "metadata": {},
   "outputs": [],
   "source": [
    "# x = np.linspace(0,1,np.random.randint(10,100))\n",
    "\n",
    "# fundamentals = [\n",
    "# #     lambda x,i: x**i,\n",
    "# #     lambda x,i: (np.sin(x*np.pi/2))**i,\n",
    "# #     lambda x,i: (-np.cos(x*np.pi/2)+1)**i,\n",
    "# #     lambda x,i: -np.exp(-(i+2)*x)+1,\n",
    "#     lambda x,i: np.random.rand(1)/(1 + np.exp(-np.random.randint(10,20)*(x-0.5))),\n",
    "#     lambda x,i: x,\n",
    "# ]\n",
    "\n",
    "# for f in fundamentals:\n",
    "#     plt.plot(f(x,np.random.randint(1,5)))"
   ]
  },
  {
   "cell_type": "code",
   "execution_count": null,
   "metadata": {},
   "outputs": [],
   "source": [
    "# f = np.random.choice(fundamentals)\n",
    "# i = np.random.randint(1,10)\n",
    "# x = np.linspace(0,1,segment.size)\n",
    "\n",
    "# ix_left = np.random.randint(2,segment.size//4)\n",
    "# ix_right = np.random.randint(3*segment.size//4,segment.size-1)\n",
    "\n",
    "# ampl_left = (np.random.rand(1)*0.75+1)\n",
    "# ampl_right = (np.random.rand(1)*0.75+1)\n",
    "\n",
    "# x_left = x*ampl_left\n",
    "# x_right = x*ampl_right-(ampl_right-1)\n",
    "# x_center = f(np.linspace(0,1,np.random.randint(segment.size//8,ix_right-ix_left)),i)\n",
    "# # x_center *= np.sin(x_center)\n",
    "# # x_center\n",
    "# # x_center = f(np.linspace(0,1,ix_right-ix_left).squeeze(),i)\n",
    "# x_center = (x_right[ix_right-1]-x_left[ix_left])*x_center/(np.max(x_center)-np.min(x_center))+x_left[ix_left]\n",
    "# x2 = np.concatenate((x_left[:ix_left],x_center,x_right[ix_right:]))\n",
    "\n",
    "# print(x.size)\n",
    "# print(x2.size)\n",
    "\n",
    "# plt.plot(np.linspace(0,1,x.size),x)\n",
    "# plt.plot(np.linspace(0,1,x2.size),x2)\n"
   ]
  },
  {
   "cell_type": "code",
   "execution_count": null,
   "metadata": {},
   "outputs": [],
   "source": [
    "# fundamentals = [\n",
    "# #     lambda x,i: x**i,\n",
    "# #     lambda x,i: (np.sin(x*np.pi/2))**i,\n",
    "# #     lambda x,i: (-np.cos(x*np.pi/2)+1)**i,\n",
    "# #     lambda x,i: -np.exp(-(i+2)*x)+1,\n",
    "#     lambda x,i: np.random.rand(1)/(1 + np.exp(-np.random.randint(10,20)*(x-0.5))),\n",
    "#     lambda x,i: x,\n",
    "# ]\n",
    "\n",
    "# #hyperparams\n",
    "# w = 5\n",
    "# n = np.random.randint(4,8)\n",
    "\n",
    "# # Segment retrieval\n",
    "# segment = P[list(P)[np.random.randint(0,len(P))]]\n",
    "# # skjggl\n",
    "# # AFib simulation\n",
    "# on = np.random.choice([0,segment.size,2*segment.size])\n",
    "# seglist = []\n",
    "# x = np.linspace(0,1,segment.size)\n",
    "# for i in range(n):\n",
    "#     f = np.random.choice(fundamentals)\n",
    "\n",
    "#     ix_left = np.random.randint(2,segment.size//4)\n",
    "#     ix_right = np.random.randint(3*segment.size//4,segment.size-1)\n",
    "\n",
    "#     ampl_left = (np.random.rand(1)*0.75+1)\n",
    "#     ampl_right = (np.random.rand(1)*0.75+1)\n",
    "\n",
    "#     x_left = x*ampl_left\n",
    "#     x_right = x*ampl_right-(ampl_right-1)\n",
    "#     x_center = np.linspace(x_left[ix_left],x_right[ix_right-1],np.random.randint(segment.size//4,ix_right-ix_left))\n",
    "# #     x_center = f(np.linspace(0,1,ix_right-ix_left).squeeze(),np.random.randint(1,10))\n",
    "# #     x_center = (x_right[ix_right-1]-x_left[ix_left])*x_center/(np.max(x_center)-np.min(x_center))+x_left[ix_left]\n",
    "    \n",
    "#     x2 = np.concatenate((x_left[:ix_left],x_center,x_right[ix_right:]))\n",
    "    \n",
    "#     print(x2.size)\n",
    "#     seglist.append(sp.interpolate.interp1d(x,((-1)**i)*segment)(x2)[:-1])\n",
    "# # plt.plot(segment)\n",
    "# segment  = np.concatenate(seglist)\n",
    "# plt.figure()\n",
    "# plt.plot(segment)\n"
   ]
  },
  {
   "cell_type": "markdown",
   "metadata": {},
   "source": [
    "#### Method 2)"
   ]
  },
  {
   "cell_type": "code",
   "execution_count": null,
   "metadata": {},
   "outputs": [],
   "source": [
    "# #hyperparams\n",
    "# w = 5\n",
    "# n = np.random.randint(2,8)\n",
    "\n",
    "# # Segment retrieval\n",
    "# segment = P[list(P)[np.random.randint(0,len(P))]]\n",
    "\n",
    "# # AFib simulation\n",
    "# on = np.random.choice([0,segment.size,2*segment.size])\n",
    "# seglist = []\n",
    "# for i in range(n):\n",
    "#     x = np.linspace(0,1,segment.size)\n",
    "#     f = np.random.choice(fundamentals)\n",
    "#     seglist.append(sp.interpolate.interp1d(x,((-1)**i)*segment)(f(x,np.random.randint(1,5))))\n",
    "# afjsdlkgfj\n",
    "# plt.plot(segment)\n",
    "# segment  = np.concatenate(seglist)\n",
    "# plt.figure()\n",
    "# plt.plot(segment)\n"
   ]
  },
  {
   "cell_type": "markdown",
   "metadata": {},
   "source": [
    "#### Method 3)"
   ]
  },
  {
   "cell_type": "code",
   "execution_count": null,
   "metadata": {},
   "outputs": [],
   "source": [
    "# pAF = P[list(P)[np.random.randint(0,len(P))]]\n",
    "# pAF = sp.interpolate.interp1d(np.linspace(0,1,pAF.size),pAF)(np.linspace(0,1,pAF.size//2))\n",
    "# i = np.random.choice([0,1])\n",
    "# segment  = TP[list(TP)[np.random.randint(0,len(TP))]]\n",
    "# segment  = sp.interpolate.interp1d(np.linspace(0,1,segment.size),segment)(np.linspace(0,1,segment.size+pAF.size))\n",
    "# segment  = np.convolve(segment,np.concatenate([((-1)**(i))*pAF,((-1)**(i+1))*pAF]))\n",
    "# segment /= np.max(segment)-np.min(segment)\n",
    "# segment *= 2*Pamplitudes.rvs(1)\n",
    "\n",
    "# plt.plot(pAF)\n",
    "# plt.figure()\n",
    "# plt.plot(segment)"
   ]
  },
  {
   "cell_type": "code",
   "execution_count": null,
   "metadata": {},
   "outputs": [],
   "source": []
  },
  {
   "cell_type": "code",
   "execution_count": null,
   "metadata": {},
   "outputs": [],
   "source": []
  },
  {
   "cell_type": "markdown",
   "metadata": {},
   "source": [
    "#### Compute criteria"
   ]
  },
  {
   "cell_type": "code",
   "execution_count": null,
   "metadata": {},
   "outputs": [],
   "source": [
    "# # Generate wavelets\n",
    "# Pwavelet = {k: sak.wavelet.transform(Psignal[k],250.).squeeze() for k in tqdm.tqdm(Psignal.keys())}\n",
    "# PQwavelet = {k: sak.wavelet.transform(PQsignal[k],250.).squeeze() for k in tqdm.tqdm(PQsignal.keys())}\n",
    "# QRSwavelet = {k: sak.wavelet.transform(QRSsignal[k],250.).squeeze() for k in tqdm.tqdm(QRSsignal.keys())}\n",
    "# STwavelet = {k: sak.wavelet.transform(STsignal[k],250.).squeeze() for k in tqdm.tqdm(STsignal.keys())}\n",
    "# Twavelet = {k: sak.wavelet.transform(Tsignal[k],250.).squeeze() for k in tqdm.tqdm(Tsignal.keys())}\n",
    "# TPwavelet = {k: sak.wavelet.transform(TPsignal[k],250.).squeeze() for k in tqdm.tqdm(TPsignal.keys())}"
   ]
  },
  {
   "cell_type": "code",
   "execution_count": null,
   "metadata": {},
   "outputs": [],
   "source": [
    "# # Generate criteria\n",
    "# s = 3 # wavelet scale\n",
    "# eps = np.finfo('float').eps\n",
    "# Pcriteria = {k: ((np.sign(Pwavelet[k][0,s]),(Pwavelet[k][0,s]-Pwavelet[k][1,s]+eps)/(np.max(Pwavelet[k][:,s])-np.min(Pwavelet[k][:,s]+eps))),\n",
    "#                  (np.sign(Pwavelet[k][-1,s]),(Pwavelet[k][-1,s]-Pwavelet[k][-2,s]+eps)/(np.max(Pwavelet[k][:,s])-np.min(Pwavelet[k][:,s]+eps)))) for k in Psignal.keys()}\n",
    "# PQcriteria = {k: ((np.sign(PQwavelet[k][0,s]),(PQwavelet[k][0,s]-PQwavelet[k][1,s]+eps)/(np.max(PQwavelet[k][:,s])-np.min(PQwavelet[k][:,s]+eps))),\n",
    "#                  (np.sign(PQwavelet[k][-1,s]),(PQwavelet[k][-1,s]-PQwavelet[k][-2,s]+eps)/(np.max(PQwavelet[k][:,s])-np.min(PQwavelet[k][:,s]+eps)))) for k in PQsignal.keys()}\n",
    "# QRScriteria = {k: ((np.sign(QRSwavelet[k][0,s]),(QRSwavelet[k][0,s]-QRSwavelet[k][1,s]+eps)/(np.max(QRSwavelet[k][:,s])-np.min(QRSwavelet[k][:,s]+eps))),\n",
    "#                  (np.sign(QRSwavelet[k][-1,s]),(QRSwavelet[k][-1,s]-QRSwavelet[k][-2,s]+eps)/(np.max(QRSwavelet[k][:,s])-np.min(QRSwavelet[k][:,s]+eps)))) for k in QRSsignal.keys()}\n",
    "# STcriteria = {k: ((np.sign(STwavelet[k][0,s]),(STwavelet[k][0,s]-STwavelet[k][1,s]+eps)/(np.max(STwavelet[k][:,s])-np.min(STwavelet[k][:,s]+eps))),\n",
    "#                  (np.sign(STwavelet[k][-1,s]),(STwavelet[k][-1,s]-STwavelet[k][-2,s]+eps)/(np.max(STwavelet[k][:,s])-np.min(STwavelet[k][:,s]+eps)))) for k in STsignal.keys()}\n",
    "# Tcriteria = {k: ((np.sign(Twavelet[k][0,s]),(Twavelet[k][0,s]-Twavelet[k][1,s]+eps)/(np.max(Twavelet[k][:,s])-np.min(Twavelet[k][:,s]+eps))),\n",
    "#                  (np.sign(Twavelet[k][-1,s]),(Twavelet[k][-1,s]-Twavelet[k][-2,s]+eps)/(np.max(Twavelet[k][:,s])-np.min(Twavelet[k][:,s]+eps)))) for k in Tsignal.keys()}\n",
    "# TPcriteria = {k: ((np.sign(TPwavelet[k][0,s]),(TPwavelet[k][0,s]-TPwavelet[k][1,s]+eps)/(np.max(TPwavelet[k][:,s])-np.min(TPwavelet[k][:,s]+eps))),\n",
    "#                  (np.sign(TPwavelet[k][-1,s]),(TPwavelet[k][-1,s]-TPwavelet[k][-2,s]+eps)/(np.max(TPwavelet[k][:,s])-np.min(TPwavelet[k][:,s]+eps)))) for k in TPsignal.keys()}"
   ]
  },
  {
   "cell_type": "code",
   "execution_count": null,
   "metadata": {},
   "outputs": [],
   "source": [
    "# N = 2048\n",
    "# s = 3\n",
    "\n",
    "# has_P = np.random.rand(1) > 0.1\n",
    "# has_PQ = np.random.rand(1) > 0.2\n",
    "# has_ST = np.random.rand(1) > 0.2\n",
    "# has_BBB = np.random.rand(1) > 0.9\n",
    "# counter_BBB = 0\n",
    "# repetitions_BBB = np.random.randint(2,4)\n",
    "\n",
    "# beats = []\n",
    "# ids = []\n",
    "\n",
    "# # Include first beat\n",
    "# ids.append(('TPsignal',np.random.randint(0,len(TPsignal))))\n",
    "# beats.append(sak.signal.on_off_correction(TPsignal[list(TPsignal)[ids[-1][1]]]))\n",
    "# size = beats[0].size\n",
    "# masks = np.zeros((size,),dtype='int8')\n",
    "# onset = np.random.randint(0,size)\n",
    "# while size-onset < N:\n",
    "#     # P wave (sometimes)\n",
    "#     if has_BBB:\n",
    "#         if counter_BBB == 0:\n",
    "#             id_BBB_P = ('Psignal',np.random.randint(0,len(Psignal)))\n",
    "#         ids.append(id_BBB_P)\n",
    "#         p = trailonset(Psignal[list(Psignal)[ids[-1][1]]],beats[-1][-1])[1:]\n",
    "#         beats.append(p)\n",
    "#         masks = np.concatenate((masks,1*np.ones((p.size,),dtype='int8')))\n",
    "\n",
    "#         if has_PQ:\n",
    "#             # PQ segment\n",
    "#             ids.append(('PQsignal',np.random.randint(0,len(PQsignal))))\n",
    "#             pq = trailonset(PQsignal[list(PQsignal)[ids[-1][1]]],beats[-1][-1])[1:]\n",
    "#             beats.append(pq)\n",
    "#             masks = np.concatenate((masks,np.zeros((pq.size,),dtype='int8')))\n",
    "#     elif (np.random.rand(1) < 0.75) and (has_P):\n",
    "#         ids.append(('Psignal',np.random.randint(0,len(Psignal))))\n",
    "#         p = trailonset(Psignal[list(Psignal)[ids[-1][1]]],beats[-1][-1])[1:]\n",
    "#         beats.append(p)\n",
    "#         masks = np.concatenate((masks,1*np.ones((p.size,),dtype='int8')))\n",
    "\n",
    "#         if has_PQ:\n",
    "#             # PQ segment\n",
    "#             ids.append(('PQsignal',np.random.randint(0,len(PQsignal))))\n",
    "#             pq = trailonset(PQsignal[list(PQsignal)[ids[-1][1]]],beats[-1][-1])[1:]\n",
    "#             beats.append(pq)\n",
    "#             masks = np.concatenate((masks,np.zeros((pq.size,),dtype='int8')))\n",
    "\n",
    "#     # QRS wave\n",
    "#     has_QRS = np.random.rand(1)\n",
    "#     if has_BBB:\n",
    "#         if counter_BBB%repetitions_BBB == 0:\n",
    "#             id_BBB_QRS = ('QRSsignal',np.random.randint(0,len(QRSsignal)))\n",
    "#             ids.append(id_BBB_QRS)\n",
    "#             qrs = trailonset(QRSsignal[list(QRSsignal)[ids[-1][1]]],beats[-1][-1])[1:]\n",
    "#             beats.append(qrs)\n",
    "#             masks = np.concatenate((masks,2*np.ones((qrs.size,),dtype='int8')))\n",
    "#         else:\n",
    "#             pass\n",
    "#     elif (has_QRS < 0.99):\n",
    "#         ids.append(('QRSsignal',np.random.randint(0,len(QRSsignal))))\n",
    "#         qrs = trailonset(QRSsignal[list(QRSsignal)[ids[-1][1]]],beats[-1][-1])[1:]\n",
    "#         beats.append(qrs)\n",
    "#         masks = np.concatenate((masks,2*np.ones((qrs.size,),dtype='int8')))\n",
    "    \n",
    "#     # ST segment\n",
    "#     if has_BBB and (counter_BBB%repetitions_BBB != 0):\n",
    "#         pass\n",
    "#     elif (np.random.rand(1) < 0.75) and (has_ST):\n",
    "#         ids.append(('STsignal',np.random.randint(0,len(STsignal))))\n",
    "#         st = trailonset(STsignal[list(STsignal)[ids[-1][1]]],beats[-1][-1])[1:]\n",
    "#         beats.append(st)\n",
    "#         masks = np.concatenate((masks,np.zeros((st.size,),dtype='int8')))\n",
    "\n",
    "#     # T wave\n",
    "#     if has_BBB:\n",
    "#         if counter_BBB%repetitions_BBB == 0:\n",
    "#             ids.append(('Tsignal',np.random.randint(0,len(Tsignal))))\n",
    "#             t = trailonset(Tsignal[list(Tsignal)[ids[-1][1]]],beats[-1][-1])[1:]\n",
    "#             beats.append(t)\n",
    "#             masks = np.concatenate((masks,3*np.ones((t.size,),dtype='int8')))\n",
    "#         else:\n",
    "#             pass\n",
    "#     elif (has_QRS < 0.99):\n",
    "#         ids.append(('Tsignal',np.random.randint(0,len(Tsignal))))\n",
    "#         t = trailonset(Tsignal[list(Tsignal)[ids[-1][1]]],beats[-1][-1])[1:]\n",
    "#         beats.append(t)\n",
    "#         masks = np.concatenate((masks,3*np.ones((t.size,),dtype='int8')))\n",
    "\n",
    "#     # TP segment\n",
    "#     if has_BBB:\n",
    "#         if counter_BBB == 0:\n",
    "#             id_BBB_TP = ('TPsignal',np.random.randint(0,len(TPsignal)))\n",
    "#         ids.append(id_BBB_TP)\n",
    "#         tp = trailonset(TPsignal[list(TPsignal)[ids[-1][1]]],beats[-1][-1])[1:]\n",
    "#         beats.append(tp)\n",
    "#         masks = np.concatenate((masks,np.zeros((tp.size,),dtype='int8')))\n",
    "#     else:\n",
    "#         ids.append(('TPsignal',np.random.randint(0,len(TPsignal))))\n",
    "#         tp = trailonset(TPsignal[list(TPsignal)[ids[-1][1]]],beats[-1][-1])[1:]\n",
    "#         beats.append(tp)\n",
    "#         masks = np.concatenate((masks,np.zeros((tp.size,),dtype='int8')))\n",
    "    \n",
    "#     # Account for total signal size\n",
    "#     size = sum([beats[i].size for i in range(len(beats))])\n",
    "        \n",
    "#     # Update BBB counter\n",
    "#     if has_BBB:\n",
    "#         counter_BBB += 1\n",
    "\n",
    "# sig = np.concatenate(beats)[onset:onset+2048]\n",
    "# # sig = sp.signal.filtfilt(*sp.signal.butter(4,   0.5/250, 'high'),sig)\n",
    "# signal = sig# + np.convolve(np.cumsum(norm.rvs(scale=0.15**(2*0.5),size=N)),np.hamming(w)/(w/2),mode='same')\n",
    "\n",
    "# masks = masks[onset:onset+2048]\n",
    "# masks_all = np.zeros((N,3),dtype=bool)\n",
    "# masks_all[:,0] = masks == 1\n",
    "# masks_all[:,1] = masks == 2\n",
    "# masks_all[:,2] = masks == 3\n",
    "# mskplt = ((np.max(signal)-np.min(signal))*masks_all)+np.min(signal)\n",
    "\n",
    "# # f,ax = plt.subplots(nrows=1,figsize=(20,4))\n",
    "# # ax = np.array(ax)\n",
    "# # if len(ax.shape) == 0: ax = ax[None]\n",
    "# # [ax[i].set_xlim([0,N]) for i in range(ax.size)]\n",
    "# # [ax[i].fill_between(np.arange(N), mskplt[:,0], mskplt[:,0].min(), linewidth=0, alpha=0.15, color='red') for i in range(ax.size)]\n",
    "# # [ax[i].fill_between(np.arange(N), mskplt[:,1], mskplt[:,1].min(), linewidth=0, alpha=0.15, color='green') for i in range(ax.size)]\n",
    "# # [ax[i].fill_between(np.arange(N), mskplt[:,2], mskplt[:,2].min(), linewidth=0, alpha=0.15, color='magenta') for i in range(ax.size)]\n",
    "# # ax[0].plot(signal)\n",
    "# # # ax[1].plot(wvlts,color='orange')\n",
    "# # # ax[2].plot(wvlts_signal,color='orange')"
   ]
  },
  {
   "cell_type": "code",
   "execution_count": null,
   "metadata": {},
   "outputs": [],
   "source": [
    "# N = 2048\n",
    "\n",
    "# beats = []\n",
    "# ids = []\n",
    "\n",
    "# # Include first beat\n",
    "# ids.append(('TPsignal',np.random.randint(0,len(TPsignal))))\n",
    "# beats.append(sak.signal.on_off_correction(TPsignal[list(TPsignal)[ids[-1][1]]]))\n",
    "# # beats.append(TPsignal[list(TPsignal)[np.random.randint(0,len(TPsignal))]])\n",
    "# size = beats[0].size\n",
    "# masks = np.zeros((size,))\n",
    "# onset = np.random.randint(0,size)\n",
    "# while size-onset < N:\n",
    "#     # P wave (sometimes)\n",
    "#     if np.random.rand(1) < 0.75:\n",
    "#         # p = sak.signal.on_off_correction(Psignal[list(Psignal)[np.random.randint(0,len(Psignal))]])\n",
    "#         ids.append(('Psignal',np.random.randint(0,len(Psignal))))\n",
    "#         p = trailonset(Psignal[list(Psignal)[ids[-1][1]]],beats[-1][-1])\n",
    "#         # p = Psignal[list(Psignal)[np.random.randint(0,len(Psignal))]]\n",
    "#         beats.append(p)\n",
    "#         masks = np.concatenate((masks,1*np.ones((p.size,))))\n",
    "\n",
    "#     # PQ segment\n",
    "#     # pq = sak.signal.on_off_correction(PQsignal[list(PQsignal)[np.random.randint(0,len(PQsignal))]])\n",
    "#     ids.append(('PQsignal',np.random.randint(0,len(PQsignal))))\n",
    "#     pq = trailonset(PQsignal[list(PQsignal)[ids[-1][1]]],beats[-1][-1])\n",
    "#     # pq = PQsignal[list(PQsignal)[np.random.randint(0,len(PQsignal))]]\n",
    "#     beats.append(pq)\n",
    "#     masks = np.concatenate((masks,np.zeros((pq.size,))))\n",
    "\n",
    "#     # QRS wave\n",
    "#     # qrs = sak.signal.on_off_correction(QRSsignal[list(QRSsignal)[np.random.randint(0,len(QRSsignal))]])\n",
    "#     ids.append(('QRSsignal',np.random.randint(0,len(QRSsignal))))\n",
    "#     qrs = trailonset(QRSsignal[list(QRSsignal)[ids[-1][1]]],beats[-1][-1])\n",
    "#     # qrs = QRSsignal[list(QRSsignal)[np.random.randint(0,len(QRSsignal))]]\n",
    "#     beats.append(qrs)\n",
    "#     masks = np.concatenate((masks,2*np.ones((qrs.size,))))\n",
    "\n",
    "#     # ST segment\n",
    "#     # st = sak.signal.on_off_correction(STsignal[list(STsignal)[np.random.randint(0,len(STsignal))]])\n",
    "#     ids.append(('STsignal',np.random.randint(0,len(STsignal))))\n",
    "#     st = trailonset(STsignal[list(STsignal)[ids[-1][1]]],beats[-1][-1])\n",
    "#     # st = STsignal[list(STsignal)[np.random.randint(0,len(STsignal))]]\n",
    "#     beats.append(st)\n",
    "#     masks = np.concatenate((masks,np.zeros((st.size,))))\n",
    "\n",
    "#     # T wave\n",
    "#     # t = sak.signal.on_off_correction(Tsignal[list(Tsignal)[np.random.randint(0,len(Tsignal))]])\n",
    "#     ids.append(('Tsignal',np.random.randint(0,len(Tsignal))))\n",
    "#     t = trailonset(Tsignal[list(Tsignal)[ids[-1][1]]],beats[-1][-1])\n",
    "#     # t = Tsignal[list(Tsignal)[np.random.randint(0,len(Tsignal))]]\n",
    "#     beats.append(t)\n",
    "#     masks = np.concatenate((masks,3*np.ones((t.size,))))\n",
    "\n",
    "#     # TP segment\n",
    "#     # tp = sak.signal.on_off_correction(TPsignal[list(TPsignal)[np.random.randint(0,len(TPsignal))]])\n",
    "#     ids.append(('TPsignal',np.random.randint(0,len(TPsignal))))\n",
    "#     tp = trailonset(TPsignal[list(TPsignal)[ids[-1][1]]],beats[-1][-1])\n",
    "#     # tp = TPsignal[list(TPsignal)[np.random.randint(0,len(TPsignal))]]\n",
    "#     beats.append(tp)\n",
    "#     masks = np.concatenate((masks,np.zeros((tp.size,))))\n",
    "\n",
    "#     size = sum([beats[i].size for i in range(len(beats))])\n",
    "\n",
    "# w = 51\n",
    "# sig = np.concatenate(beats)[onset:onset+2048]\n",
    "# sig = sp.signal.filtfilt(*sp.signal.butter(4,   0.5/250, 'high'),sig)\n",
    "# signal = sig# + np.convolve(np.cumsum(norm.rvs(scale=0.15**(2*0.5),size=N)),np.hamming(w)/(w/2),mode='same')\n",
    "\n",
    "# masks = masks[onset:onset+2048]\n",
    "# masks_all = np.zeros((N,3),dtype=bool)\n",
    "# masks_all[:,0] = masks == 1\n",
    "# masks_all[:,1] = masks == 2\n",
    "# masks_all[:,2] = masks == 3\n",
    "# mskplt = ((np.max(signal)-np.min(signal))*masks_all)+np.min(signal)\n",
    "\n",
    "# plt.figure(figsize=(20,5))\n",
    "# plt.plot(signal)\n",
    "# plt.gca().fill_between(np.arange(N), mskplt[:,0], mskplt[:,0].min(), linewidth=0, alpha=0.15, color='red')\n",
    "# plt.gca().fill_between(np.arange(N), mskplt[:,1], mskplt[:,1].min(), linewidth=0, alpha=0.15, color='green')\n",
    "# plt.gca().fill_between(np.arange(N), mskplt[:,2], mskplt[:,2].min(), linewidth=0, alpha=0.15, color='magenta')\n",
    "# plt.show()"
   ]
  },
  {
   "cell_type": "code",
   "execution_count": null,
   "metadata": {},
   "outputs": [],
   "source": []
  }
 ],
 "metadata": {
  "kernelspec": {
   "display_name": "DeepLearning3",
   "language": "python",
   "name": "deeplearning3"
  },
  "language_info": {
   "codemirror_mode": {
    "name": "ipython",
    "version": 3
   },
   "file_extension": ".py",
   "mimetype": "text/x-python",
   "name": "python",
   "nbconvert_exporter": "python",
   "pygments_lexer": "ipython3",
   "version": "3.8.2"
  }
 },
 "nbformat": 4,
 "nbformat_minor": 4
}
