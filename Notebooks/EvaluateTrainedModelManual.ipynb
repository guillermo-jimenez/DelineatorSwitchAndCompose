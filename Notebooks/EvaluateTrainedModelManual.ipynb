{
 "cells": [
  {
   "cell_type": "code",
   "execution_count": 1,
   "metadata": {},
   "outputs": [],
   "source": [
    "%load_ext autoreload\n",
    "%autoreload 2"
   ]
  },
  {
   "cell_type": "code",
   "execution_count": 2,
   "metadata": {},
   "outputs": [],
   "source": [
    "import os\n",
    "import os.path\n",
    "import skimage\n",
    "import skimage.segmentation\n",
    "import sklearn.preprocessing\n",
    "import sklearn.model_selection\n",
    "import math\n",
    "import shutil\n",
    "import pathlib\n",
    "import glob\n",
    "import shutil\n",
    "import uuid\n",
    "import random\n",
    "import platform\n",
    "import torch\n",
    "import torchvision\n",
    "import numpy as np\n",
    "import scipy as sp\n",
    "import scipy.io\n",
    "import scipy.signal\n",
    "import pandas as pd\n",
    "import networkx\n",
    "import wfdb\n",
    "import json\n",
    "import tqdm\n",
    "import dill\n",
    "import pickle\n",
    "import matplotlib.pyplot as plt\n",
    "\n",
    "import scipy.stats\n",
    "import cv2\n",
    "\n",
    "import src.data\n",
    "import src.metrics\n",
    "import sak\n",
    "import sak.wavelet\n",
    "import sak.data\n",
    "import sak.data.augmentation\n",
    "import sak.visualization\n",
    "import sak.visualization.plot\n",
    "import sak.torch\n",
    "import sak.torch.nn\n",
    "import sak.torch.nn as nn\n",
    "import sak.torch.nn\n",
    "import sak.torch.train\n",
    "import sak.torch.data\n",
    "import sak.torch.preprocessing\n",
    "import sak.torch.models\n",
    "import sak.torch.models.lego\n",
    "import sak.torch.models.variational\n",
    "import sak.torch.models.classification\n",
    "\n",
    "from sak.signal import StandardHeader\n",
    "\n",
    "def smooth(x: np.ndarray, window_size: int, conv_mode: str = 'same'):\n",
    "    x = np.pad(np.copy(x),(window_size,window_size),'edge')\n",
    "    window = np.hamming(window_size)/(window_size//2)\n",
    "    x = np.convolve(x, window, mode=conv_mode)\n",
    "    x = x[window_size:-window_size]\n",
    "    return x"
   ]
  },
  {
   "cell_type": "markdown",
   "metadata": {},
   "source": [
    "# Step 0: Paths and stuff - Argparse"
   ]
  },
  {
   "cell_type": "code",
   "execution_count": 3,
   "metadata": {},
   "outputs": [],
   "source": [
    "basedir = '/media/guille/DADES/DADES/Delineator'\n",
    "model_name = 'Multi5All'\n",
    "valid_folds = sak.load_data(os.path.join(basedir,'TrainedModels',model_name,'validation_files.csv'),dtype=None)"
   ]
  },
  {
   "cell_type": "code",
   "execution_count": 4,
   "metadata": {},
   "outputs": [],
   "source": [
    "# Convert valid folds to opposite map\n",
    "fold_of_file = {fname: k for k in valid_folds for fname in valid_folds[k]}"
   ]
  },
  {
   "cell_type": "markdown",
   "metadata": {},
   "source": [
    "# Step 1: Load models"
   ]
  },
  {
   "cell_type": "code",
   "execution_count": 5,
   "metadata": {},
   "outputs": [],
   "source": [
    "models = {}\n",
    "\n",
    "for i in range(5):\n",
    "    models['fold_{}'.format(i+1)] = torch.load(os.path.join(basedir,'TrainedModels',model_name,'fold_{}'.format(i+1),'model_best.model'),pickle_module=dill).eval().float()"
   ]
  },
  {
   "cell_type": "code",
   "execution_count": null,
   "metadata": {},
   "outputs": [],
   "source": []
  },
  {
   "cell_type": "markdown",
   "metadata": {},
   "source": [
    "# Step 2: Predict databases"
   ]
  },
  {
   "cell_type": "markdown",
   "metadata": {},
   "source": [
    "### 1.1. QTDB"
   ]
  },
  {
   "cell_type": "code",
   "execution_count": 578,
   "metadata": {},
   "outputs": [],
   "source": [
    "dataset = pd.read_csv(os.path.join(basedir,'QTDB','Dataset.csv'), index_col=0)\n",
    "dataset = dataset.sort_index(axis=1)\n",
    "validity = sak.load_data(os.path.join(basedir, 'QTDB', 'validity.csv'))\n",
    "\n",
    "Pon    = sak.load_data(os.path.join(basedir, 'QTDB', 'PonNew.csv'))\n",
    "Poff   = sak.load_data(os.path.join(basedir, 'QTDB', 'PoffNew.csv'))\n",
    "QRSon  = sak.load_data(os.path.join(basedir, 'QTDB', 'QRSonNew.csv'))\n",
    "QRSoff = sak.load_data(os.path.join(basedir, 'QTDB', 'QRSoffNew.csv'))\n",
    "Ton    = sak.load_data(os.path.join(basedir, 'QTDB', 'TonNew.csv'))\n",
    "Toff   = sak.load_data(os.path.join(basedir, 'QTDB', 'ToffNew.csv'))"
   ]
  },
  {
   "cell_type": "code",
   "execution_count": 754,
   "metadata": {},
   "outputs": [
    {
     "name": "stderr",
     "output_type": "stream",
     "text": [
      "100%|██████████| 210/210 [02:26<00:00,  1.43it/s]\n"
     ]
    }
   ],
   "source": [
    "dataset2 = {}\n",
    "predictions = {}\n",
    "batch_size = 16\n",
    "stride = 512\n",
    "window_size = 2**11\n",
    "\n",
    "for i,(sig_name,signal) in enumerate(tqdm.tqdm(dataset.iteritems(),total=dataset.shape[1])):\n",
    "    # Retrieve signal name and fold\n",
    "    fname = sig_name.split('_')[0]\n",
    "    if fname not in fold_of_file:\n",
    "        continue\n",
    "    fold = fold_of_file[fname]\n",
    "    \n",
    "    if fname in ['sel35','sel36','sel103','sel232','sel310']: continue\n",
    "        \n",
    "    # Copy signal just in case\n",
    "    signal = np.copy(signal.values)\n",
    "    \n",
    "    # Filter signal\n",
    "    signal = sp.signal.filtfilt(*sp.signal.butter(4,   0.5/250., 'high'),signal.T).T\n",
    "    signal = sp.signal.filtfilt(*sp.signal.butter(4, 125.0/250.,  'low'),signal.T).T\n",
    "\n",
    "    # Normalize and pad signal for inputing in algorithm\n",
    "    pad_size = math.ceil(signal.size/window_size)*window_size - signal.size\n",
    "    signal = np.pad(signal, (0,pad_size), mode='edge')\n",
    "    normalization = np.median(sak.signal.moving_lambda(signal,256,sak.signal.abs_max))\n",
    "    normalized_signal = signal/normalization\n",
    "    \n",
    "    # Window signal for meeting the input size\n",
    "    windowed_signal = (skimage.util.view_as_windows(normalized_signal, window_size, stride) - 0)[:,None,:]\n",
    "    windowed_mask  = torch.zeros((windowed_signal.shape[0],3,window_size),dtype=float)\n",
    "    \n",
    "    # Predict masks\n",
    "    with torch.no_grad():\n",
    "        for i in range(0,windowed_signal.shape[0],batch_size):\n",
    "            windowed_mask[i:i+batch_size] = models[fold].cuda()(torch.tensor(windowed_signal[i:i+batch_size]).cuda().float())[0]\n",
    "            models[fold] = models[fold].cpu()\n",
    "    windowed_mask = np.round(windowed_mask.cpu().detach().numpy()).astype(int)\n",
    "\n",
    "    # Retrieve mask as 1D\n",
    "    counter = np.zeros_like(signal, dtype=int)\n",
    "    signal_mask = np.zeros((3,signal.size))\n",
    "\n",
    "    for i in range(windowed_mask.shape[0]):\n",
    "        counter[i*stride:i*stride+window_size] += 1\n",
    "        signal_mask[:,i*stride:i*stride+window_size] += windowed_mask[i]\n",
    "    signal_mask = (signal_mask/counter) > 0.5\n",
    "    \n",
    "    # Opening/closing operations\n",
    "    signal_mask[0,:] = cv2.morphologyEx(signal_mask[0,:].astype(float), cv2.MORPH_CLOSE, np.ones((25,))).squeeze().astype(bool)\n",
    "    signal_mask[1,:] = cv2.morphologyEx(signal_mask[1,:].astype(float), cv2.MORPH_CLOSE, np.ones((25,))).squeeze().astype(bool)\n",
    "    signal_mask[2,:] = cv2.morphologyEx(signal_mask[2,:].astype(float), cv2.MORPH_CLOSE, np.ones((25,))).squeeze().astype(bool)\n",
    "\n",
    "    signal_mask[0,:] = cv2.morphologyEx(signal_mask[0,:].astype(float), cv2.MORPH_OPEN, np.ones((5,))).squeeze().astype(bool)\n",
    "    signal_mask[1,:] = cv2.morphologyEx(signal_mask[1,:].astype(float), cv2.MORPH_OPEN, np.ones((5,))).squeeze().astype(bool)\n",
    "    signal_mask[2,:] = cv2.morphologyEx(signal_mask[2,:].astype(float), cv2.MORPH_OPEN, np.ones((5,))).squeeze().astype(bool)\n",
    "\n",
    "    # Store prediction\n",
    "    dataset2[sig_name] = normalized_signal\n",
    "    predictions[sig_name] = signal_mask"
   ]
  },
  {
   "cell_type": "code",
   "execution_count": 755,
   "metadata": {},
   "outputs": [
    {
     "name": "stderr",
     "output_type": "stream",
     "text": [
      "100%|██████████| 200/200 [00:00<00:00, 343.32it/s]\n"
     ]
    }
   ],
   "source": [
    "# Retrieve onsets and offsets\n",
    "pon, poff, qrson, qrsoff, ton, toff = {},{},{},{},{},{}\n",
    "\n",
    "for k in tqdm.tqdm(predictions):\n",
    "    pon[k],poff[k]     = sak.signal.get_mask_boundary(predictions[k][0,],aslist=False)\n",
    "    qrson[k],qrsoff[k] = sak.signal.get_mask_boundary(predictions[k][1,],aslist=False)\n",
    "    ton[k],toff[k]     = sak.signal.get_mask_boundary(predictions[k][2,],aslist=False)\n",
    "\n",
    "    # Refine results\n",
    "    val_on = validity[k][0::2].tolist()\n",
    "    val_off = validity[k][1::2].tolist()\n",
    "    \n",
    "    # P wave\n",
    "    joint_on = []\n",
    "    joint_off = []\n",
    "    for v_on,v_off in zip(val_on,val_off):\n",
    "        tmp_on, tmp_off = src.metrics.filter_valid(pon[k],poff[k],v_on,v_off)\n",
    "        joint_on.append(tmp_on)\n",
    "        joint_off.append(tmp_off)\n",
    "    pon[k],poff[k] = np.concatenate(joint_on),np.concatenate(joint_off)\n",
    "    \n",
    "    # QRS wave\n",
    "    joint_on = []\n",
    "    joint_off = []\n",
    "    for v_on,v_off in zip(val_on,val_off):\n",
    "        tmp_on, tmp_off = src.metrics.filter_valid(qrson[k],qrsoff[k],v_on,v_off)\n",
    "        joint_on.append(tmp_on)\n",
    "        joint_off.append(tmp_off)\n",
    "    qrson[k],qrsoff[k] = np.concatenate(joint_on),np.concatenate(joint_off)\n",
    "    \n",
    "    # T wave\n",
    "    joint_on = []\n",
    "    joint_off = []\n",
    "    for v_on,v_off in zip(val_on,val_off):\n",
    "        tmp_on, tmp_off = src.metrics.filter_valid(ton[k],toff[k],v_on,v_off)\n",
    "        joint_on.append(tmp_on)\n",
    "        joint_off.append(tmp_off)\n",
    "    ton[k],toff[k] = np.concatenate(joint_on),np.concatenate(joint_off)\n",
    "    \n",
    "    "
   ]
  },
  {
   "cell_type": "markdown",
   "metadata": {},
   "source": [
    "# Single-lead"
   ]
  },
  {
   "cell_type": "code",
   "execution_count": 756,
   "metadata": {},
   "outputs": [
    {
     "name": "stderr",
     "output_type": "stream",
     "text": [
      "100%|██████████| 200/200 [00:00<00:00, 1366.31it/s]\n"
     ]
    }
   ],
   "source": [
    "truepositives = {}\n",
    "falsepositives = {}\n",
    "falsenegatives = {}\n",
    "\n",
    "wave = 'p'\n",
    "\n",
    "input_on   = eval('{}on'.format(wave.lower()))\n",
    "input_off  = eval('{}off'.format(wave.lower()))\n",
    "target_on  = eval('{}on'.format(wave.upper()))\n",
    "target_off = eval('{}off'.format(wave.upper()))\n",
    "\n",
    "for k in tqdm.tqdm(input_on):\n",
    "    if fname in ['sel35','sel36','sel103','sel232','sel310']: continue\n",
    "    try:\n",
    "        tp,fp,fn,dice,onerror,offerror = src.metrics.compute_metrics(input_on[k],input_off[k],target_on[k],target_off[k])\n",
    "    except:\n",
    "        continue\n",
    "    truepositives[k] = tp\n",
    "    falsepositives[k] = fp\n",
    "    falsenegatives[k] = fn"
   ]
  },
  {
   "cell_type": "markdown",
   "metadata": {},
   "source": [
    "# Multi-lead"
   ]
  },
  {
   "cell_type": "code",
   "execution_count": 763,
   "metadata": {},
   "outputs": [
    {
     "name": "stderr",
     "output_type": "stream",
     "text": [
      "100%|██████████| 200/200 [00:00<00:00, 555.95it/s]"
     ]
    },
    {
     "name": "stdout",
     "output_type": "stream",
     "text": [
      "######### P wave #########\n",
      "\n",
      "Precision:    98.22%\n",
      "Recall:       93.66%\n",
      "F1 score:     95.89%\n",
      "\n",
      "Onset Error:  -5.61 ± 15.21 ms\n",
      "Offset Error: 3.09 ± 11.72 ms\n"
     ]
    },
    {
     "name": "stderr",
     "output_type": "stream",
     "text": [
      "\n"
     ]
    }
   ],
   "source": [
    "truepositives = {}\n",
    "falsepositives = {}\n",
    "falsenegatives = {}\n",
    "onerrors = {}\n",
    "offerrors = {}\n",
    "\n",
    "wave = 'p'\n",
    "\n",
    "input_on   = eval('{}on'.format(wave.lower()))\n",
    "input_off  = eval('{}off'.format(wave.lower()))\n",
    "target_on  = eval('{}on'.format(wave.upper()))\n",
    "target_off = eval('{}off'.format(wave.upper()))\n",
    "\n",
    "listkeys = [k.split('_')[0] for k in input_on]\n",
    "\n",
    "for k in tqdm.tqdm(listkeys):\n",
    "    if k in ['sel35','sel36','sel103','sel232','sel310']: continue\n",
    "    try:\n",
    "        tp,fp,fn,dice,on,off = src.metrics.compute_QTDB_metrics(input_on[k+'_0'],input_off[k+'_0'],\n",
    "                                                                input_on[k+'_1'],input_off[k+'_1'],\n",
    "                                                                target_on[k+'_0'],target_off[k+'_0'])\n",
    "    except:\n",
    "        continue\n",
    "    truepositives[k] = tp\n",
    "    falsepositives[k] = fp\n",
    "    falsenegatives[k] = fn\n",
    "    onerrors[k] = on\n",
    "    offerrors[k] = off\n",
    "    \n",
    "print(\"######### {} wave #########\".format(wave.upper()))\n",
    "print(\"\")\n",
    "print(\"Precision:    {}%\".format(np.round(src.metrics.precision(sum(truepositives.values()),sum(falsepositives.values()),sum(falsenegatives.values()))*100,decimals=2)))\n",
    "print(\"Recall:       {}%\".format(np.round(src.metrics.recall(sum(truepositives.values()),sum(falsepositives.values()),sum(falsenegatives.values()))*100,decimals=2)))\n",
    "print(\"F1 score:     {}%\".format(np.round(src.metrics.f1_score(sum(truepositives.values()),sum(falsepositives.values()),sum(falsenegatives.values()))*100,decimals=2)))\n",
    "print(\"\")\n",
    "print(\"Onset Error:  {} ± {} ms\".format(np.round(np.mean([v for l in onerrors.values() for v in l])/250*1000,decimals=2),np.round(np.std([v for l in onerrors.values() for v in l])/250*1000,decimals=2)))\n",
    "print(\"Offset Error: {} ± {} ms\".format(np.round(np.mean([v for l in offerrors.values() for v in l])/250*1000,decimals=2),np.round(np.std([v for l in offerrors.values() for v in l])/250*1000,decimals=2)))"
   ]
  },
  {
   "cell_type": "code",
   "execution_count": 832,
   "metadata": {},
   "outputs": [],
   "source": [
    "amplitudes = {}\n",
    "sizes = {}\n",
    "\n",
    "for k in QRSon:\n",
    "    for i,(on,off) in enumerate(zip(QRSon[k],QRSoff[k])):\n",
    "        if k in dataset2:\n",
    "            amplitudes[k+'###{}'.format(i)] = sak.signal.amplitude(dataset2[k][on:off])\n",
    "            sizes[k+'###{}'.format(i)] = off-on"
   ]
  },
  {
   "cell_type": "code",
   "execution_count": 833,
   "metadata": {},
   "outputs": [],
   "source": [
    "signames = np.array([k for k in amplitudes])\n",
    "sigvalue = np.array([amplitudes[k] for k in amplitudes])\n",
    "sigsizes = np.array([sizes[k] for k in sizes])\n",
    "sorter = np.argsort(sigvalue)\n",
    "signames = signames[sorter]\n",
    "sigvalue = sigvalue[sorter]\n",
    "sigsizes = sigsizes[sorter]"
   ]
  },
  {
   "cell_type": "code",
   "execution_count": 850,
   "metadata": {},
   "outputs": [
    {
     "data": {
      "text/plain": [
       "75.78"
      ]
     },
     "execution_count": 850,
     "metadata": {},
     "output_type": "execute_result"
    }
   ],
   "source": [
    "np.round(100*(sigvalue < 1.5).sum()/sigvalue.size,decimals=2)"
   ]
  },
  {
   "cell_type": "code",
   "execution_count": 849,
   "metadata": {},
   "outputs": [
    {
     "data": {
      "image/png": "[encoded data removed]",
      "text/plain": [
       "<Figure size 432x288 with 2 Axes>"
      ]
     },
     "metadata": {
      "needs_background": "light"
     },
     "output_type": "display_data"
    }
   ],
   "source": [
    "threshold = 2\n",
    "_=plt.hist(sigsizes[sigvalue  < threshold],bins=50)\n",
    "plt.twinx()\n",
    "_=plt.hist(sigsizes[sigvalue >= threshold],bins=50, color='orange')"
   ]
  },
  {
   "cell_type": "code",
   "execution_count": null,
   "metadata": {},
   "outputs": [],
   "source": []
  },
  {
   "cell_type": "code",
   "execution_count": null,
   "metadata": {},
   "outputs": [],
   "source": []
  },
  {
   "cell_type": "code",
   "execution_count": 764,
   "metadata": {
    "scrolled": false
   },
   "outputs": [
    {
     "data": {
      "text/plain": [
       "{'sel100': 0,\n",
       " 'sel104': 0,\n",
       " 'sel114': 9,\n",
       " 'sel116': 0,\n",
       " 'sel117': 0,\n",
       " 'sel123': 0,\n",
       " 'sel14046': 0,\n",
       " 'sel14157': 2,\n",
       " 'sel14172': 0,\n",
       " 'sel15814': 0,\n",
       " 'sel16265': 1,\n",
       " 'sel16272': 0,\n",
       " 'sel16273': 0,\n",
       " 'sel16420': 0,\n",
       " 'sel16483': 0,\n",
       " 'sel16539': 0,\n",
       " 'sel16773': 0,\n",
       " 'sel16786': 0,\n",
       " 'sel16795': 0,\n",
       " 'sel17152': 0,\n",
       " 'sel17453': 0,\n",
       " 'sel213': 3,\n",
       " 'sel223': 0,\n",
       " 'sel230': 0,\n",
       " 'sel231': 13,\n",
       " 'sel233': 0,\n",
       " 'sel301': 0,\n",
       " 'sel302': 0,\n",
       " 'sel306': 0,\n",
       " 'sel307': 0,\n",
       " 'sel308': 1,\n",
       " 'sel30': 0,\n",
       " 'sel31': 0,\n",
       " 'sel32': 0,\n",
       " 'sel33': 0,\n",
       " 'sel34': 3,\n",
       " 'sel38': 30,\n",
       " 'sel39': 0,\n",
       " 'sel40': 30,\n",
       " 'sel41': 5,\n",
       " 'sel42': 6,\n",
       " 'sel43': 0,\n",
       " 'sel44': 0,\n",
       " 'sel45': 0,\n",
       " 'sel46': 19,\n",
       " 'sel47': 0,\n",
       " 'sel48': 0,\n",
       " 'sel49': 0,\n",
       " 'sel51': 0,\n",
       " 'sel52': 0,\n",
       " 'sel803': 0,\n",
       " 'sel808': 0,\n",
       " 'sel811': 0,\n",
       " 'sel820': 2,\n",
       " 'sel821': 0,\n",
       " 'sel840': 8,\n",
       " 'sel847': 1,\n",
       " 'sel853': 0,\n",
       " 'sel871': 0,\n",
       " 'sel872': 0,\n",
       " 'sel873': 0,\n",
       " 'sel883': 0,\n",
       " 'sel891': 22,\n",
       " 'sele0104': 0,\n",
       " 'sele0106': 0,\n",
       " 'sele0107': 0,\n",
       " 'sele0110': 0,\n",
       " 'sele0111': 0,\n",
       " 'sele0112': 1,\n",
       " 'sele0114': 0,\n",
       " 'sele0116': 30,\n",
       " 'sele0121': 0,\n",
       " 'sele0122': 0,\n",
       " 'sele0124': 0,\n",
       " 'sele0126': 0,\n",
       " 'sele0129': 0,\n",
       " 'sele0133': 0,\n",
       " 'sele0136': 0,\n",
       " 'sele0166': 0,\n",
       " 'sele0170': 0,\n",
       " 'sele0203': 3,\n",
       " 'sele0210': 1,\n",
       " 'sele0211': 0,\n",
       " 'sele0303': 0,\n",
       " 'sele0405': 0,\n",
       " 'sele0406': 0,\n",
       " 'sele0409': 0,\n",
       " 'sele0411': 0,\n",
       " 'sele0509': 0,\n",
       " 'sele0603': 0,\n",
       " 'sele0604': 0,\n",
       " 'sele0606': 0,\n",
       " 'sele0607': 0,\n",
       " 'sele0609': 0,\n",
       " 'sele0612': 0,\n",
       " 'sele0704': 0}"
      ]
     },
     "execution_count": 764,
     "metadata": {},
     "output_type": "execute_result"
    }
   ],
   "source": [
    "falsenegatives"
   ]
  },
  {
   "cell_type": "code",
   "execution_count": 777,
   "metadata": {},
   "outputs": [
    {
     "data": {
      "text/plain": [
       "[(150389.0, 152437.0), (150389.0, 152437.0)]"
      ]
     },
     "execution_count": 777,
     "metadata": {},
     "output_type": "execute_result"
    },
    {
     "data": {
      "image/png": "[encoded data removed]",
      "text/plain": [
       "<Figure size 1080x360 with 2 Axes>"
      ]
     },
     "metadata": {
      "needs_background": "light"
     },
     "output_type": "display_data"
    }
   ],
   "source": [
    "# k = 'sel46_1'\n",
    "# k = 'sele0116_1'\n",
    "k = 'sel46_1'\n",
    "w = 0*2048+0\n",
    "v_on = validity[k][0]\n",
    "f,ax = plt.subplots(nrows=2,figsize=(15,5))\n",
    "ax[0].plot(dataset[k][v_on+w:v_on+2048+w])\n",
    "ax[1].plot(dataset[k][v_on+w:v_on+2048+w])\n",
    "if k in Pon: [ax[0].axvspan(on,off,color='red',alpha=0.15) for on,off in zip(Pon[k],Poff[k])]\n",
    "[ax[0].axvspan(on,off,color='green',alpha=0.15) for on,off in zip(QRSon[k],QRSoff[k])]\n",
    "[ax[0].axvspan(on,off,color='magenta',alpha=0.15) for on,off in zip(Ton[k],Toff[k])]\n",
    "if k in pon: [ax[1].axvspan(on,off,color='red',alpha=0.15) for on,off in zip(pon[k],poff[k])]\n",
    "[ax[1].axvspan(on,off,color='green',alpha=0.15) for on,off in zip(qrson[k],qrsoff[k])]\n",
    "[ax[1].axvspan(on,off,color='magenta',alpha=0.15) for on,off in zip(ton[k],toff[k])]\n",
    "\n",
    "# [ax[i].axvline(154820,color='red') for i in range(2)]\n",
    "[ax[i].set_xlim([v_on+w,v_on+2048+w]) for i in range(2)]\n"
   ]
  },
  {
   "cell_type": "markdown",
   "metadata": {},
   "source": [
    "### Multilead+CV2\n",
    "\n",
    "######### P wave #########\n",
    "\n",
    "Precision:    98.22%\n",
    "Recall:       93.66% # Check+fix \n",
    "F1 score:     95.89%\n",
    "\n",
    "Onset Error:  -5.61 ± 15.21 ms\n",
    "Offset Error: 3.09 ± 11.72 ms\n",
    "\n",
    "######### QRS wave #########\n",
    "\n",
    "Precision:    97.24%  # P waves+spikes+AV block\n",
    "Recall:       100.0%\n",
    "F1 score:     98.6%\n",
    "\n",
    "Onset Error:  -1.5 ± 8.37 ms\n",
    "Offset Error: 4.87 ± 17.92 ms\n",
    "\n",
    "######### T wave #########\n",
    "\n",
    "Precision:    94.22% # Check\n",
    "Recall:       97.62% # Check\n",
    "F1 score:     95.89%\n",
    "\n",
    "Onset Error:  5.59 ± 40.33 ms\n",
    "Offset Error: 9.66 ± 44.57 ms"
   ]
  },
  {
   "cell_type": "markdown",
   "metadata": {},
   "source": [
    "### 1.25*AbsMax\n",
    "\n",
    "######### P wave #########\n",
    "\n",
    "Precision:    98.35%\n",
    "Recall:       86.91%\n",
    "F1 score:     92.28%\n",
    "\n",
    "Onset Error:  0 ± 0 ms\n",
    "Offset Error: 0 ± 0 ms\n",
    "\n",
    "######### QRS wave #########\n",
    "\n",
    "Precision:    97.61%\n",
    "Recall:       99.97%\n",
    "F1 score:     98.78%\n",
    "\n",
    "Onset Error:  0 ± 0 ms\n",
    "Offset Error: 0 ± 0 ms\n",
    "\n",
    "######### T wave #########\n",
    "\n",
    "Precision:    94.57%\n",
    "Recall:       94.6%\n",
    "F1 score:     94.59%\n",
    "\n",
    "Onset Error:  0 ± 0 ms\n",
    "Offset Error: 0 ± 0 ms"
   ]
  },
  {
   "cell_type": "markdown",
   "metadata": {},
   "source": [
    "### AbsMax\n",
    "\n",
    "######### P wave #########\n",
    "\n",
    "Precision:    98.54%\n",
    "Recall:       86.87%\n",
    "F1 score:     92.34%\n",
    "\n",
    "Onset Error:  0 ± 0 ms\n",
    "Offset Error: 0 ± 0 ms\n",
    "\n",
    "######### QRS wave #########\n",
    "\n",
    "Precision:    97.92%\n",
    "Recall:       99.97%\n",
    "F1 score:     98.93%\n",
    "\n",
    "Onset Error:  0 ± 0 ms\n",
    "Offset Error: 0 ± 0 ms\n",
    "\n",
    "######### T wave #########\n",
    "\n",
    "Precision:    95.06%\n",
    "Recall:       93.9%\n",
    "F1 score:     94.48%\n",
    "\n",
    "Onset Error:  0 ± 0 ms\n",
    "Offset Error: 0 ± 0 ms"
   ]
  },
  {
   "cell_type": "markdown",
   "metadata": {},
   "source": [
    "### Amplitude\n",
    "\n",
    "######### P wave #########\n",
    "\n",
    "Precision:    98.57%\n",
    "Recall:       86.6%\n",
    "F1 score:     92.2%\n",
    "\n",
    "Onset Error:  0 ± 0 ms\n",
    "Offset Error: 0 ± 0 ms\n",
    "\n",
    "######### QRS wave #########\n",
    "\n",
    "Precision:    98.07%\n",
    "Recall:       99.97%\n",
    "F1 score:     99.01%\n",
    "\n",
    "Onset Error:  0 ± 0 ms\n",
    "Offset Error: 0 ± 0 ms\n",
    "\n",
    "######### T wave #########\n",
    "\n",
    "Precision:    95.11%\n",
    "Recall:       93.22%\n",
    "F1 score:     94.16%\n",
    "\n",
    "Onset Error:  0 ± 0 ms\n",
    "Offset Error: 0 ± 0 ms"
   ]
  },
  {
   "cell_type": "code",
   "execution_count": null,
   "metadata": {},
   "outputs": [],
   "source": []
  },
  {
   "cell_type": "code",
   "execution_count": null,
   "metadata": {},
   "outputs": [],
   "source": []
  },
  {
   "cell_type": "code",
   "execution_count": null,
   "metadata": {},
   "outputs": [],
   "source": []
  },
  {
   "cell_type": "code",
   "execution_count": null,
   "metadata": {},
   "outputs": [],
   "source": []
  },
  {
   "cell_type": "markdown",
   "metadata": {},
   "source": [
    "# Step 3: Compute metrics"
   ]
  },
  {
   "cell_type": "code",
   "execution_count": null,
   "metadata": {},
   "outputs": [],
   "source": []
  },
  {
   "cell_type": "code",
   "execution_count": null,
   "metadata": {},
   "outputs": [],
   "source": []
  },
  {
   "cell_type": "code",
   "execution_count": null,
   "metadata": {},
   "outputs": [],
   "source": []
  },
  {
   "cell_type": "code",
   "execution_count": null,
   "metadata": {},
   "outputs": [],
   "source": []
  },
  {
   "cell_type": "code",
   "execution_count": null,
   "metadata": {},
   "outputs": [],
   "source": []
  },
  {
   "cell_type": "code",
   "execution_count": null,
   "metadata": {},
   "outputs": [],
   "source": []
  },
  {
   "cell_type": "code",
   "execution_count": null,
   "metadata": {},
   "outputs": [],
   "source": []
  },
  {
   "cell_type": "code",
   "execution_count": null,
   "metadata": {},
   "outputs": [],
   "source": []
  },
  {
   "cell_type": "code",
   "execution_count": null,
   "metadata": {},
   "outputs": [],
   "source": []
  },
  {
   "cell_type": "code",
   "execution_count": null,
   "metadata": {},
   "outputs": [],
   "source": []
  },
  {
   "cell_type": "code",
   "execution_count": null,
   "metadata": {},
   "outputs": [],
   "source": []
  },
  {
   "cell_type": "code",
   "execution_count": null,
   "metadata": {},
   "outputs": [],
   "source": []
  },
  {
   "cell_type": "code",
   "execution_count": null,
   "metadata": {},
   "outputs": [],
   "source": []
  },
  {
   "cell_type": "markdown",
   "metadata": {},
   "source": [
    "# OLD AND CREEPY"
   ]
  },
  {
   "cell_type": "code",
   "execution_count": 357,
   "metadata": {},
   "outputs": [],
   "source": [
    "# limit = 500\n",
    "\n",
    "# check = []\n",
    "# where = []\n",
    "# sampl = []\n",
    "# snext = []\n",
    "# sbegi = []\n",
    "# sendi = []\n",
    "\n",
    "# validity = {}\n",
    "# for k in QRSon:\n",
    "#     if k not in Toff: continue\n",
    "#     deltaQRS = QRSon[k][1:]-QRSon[k][:-1]\n",
    "#     first = int(min(np.hstack([Pon.get(k,[]),QRSon.get(k,[]),Ton.get(k,[])]))-20)\n",
    "#     last = int(max(np.hstack([Poff.get(k,[]),QRSoff.get(k,[]),Toff.get(k,[])]))+20)\n",
    "#     if max(deltaQRS) > limit:\n",
    "#         check.append(k)\n",
    "#         where.append(np.argwhere(deltaQRS > limit))\n",
    "#         sampl.append(Toff[k][np.argwhere(deltaQRS > limit)])\n",
    "#         snext.append(QRSon[k][np.argwhere(deltaQRS > limit)])\n",
    "#         sbegi.append([first])\n",
    "#         sendi.append([last])\n",
    "        \n",
    "#     validity[k] = [[first,last]]\n",
    "\n",
    "# validity['sel231_0']   = [[150280,161620],[165900,171550]]\n",
    "# validity['sel231_1']   = [[150280,161620],[165900,171550]]\n",
    "# validity['sel213_0']   = [[150130,154000],[190830,196810]]\n",
    "# validity['sel213_1']   = [[150130,154000],[190830,196810]]\n",
    "# validity['sel301_0']   = [[150180,153380],[157000,159800]]\n",
    "# validity['sel301_1']   = [[150180,153380],[157000,159800]]\n",
    "# validity['sele0112_0'] = [[150410,160470],[207800,213850]]\n",
    "# validity['sele0112_1'] = [[150410,160470],[207800,213850]]\n",
    "\n",
    "# sak.save_data(os.path.join(basedir,'QTDB','validity.csv'),validity)"
   ]
  },
  {
   "cell_type": "code",
   "execution_count": 359,
   "metadata": {},
   "outputs": [],
   "source": [
    "# i = 8\n",
    "# k = check[i]\n",
    "# s = int(sbegi[i][0])\n",
    "# print(s)\n",
    "# print(k)\n",
    "\n",
    "# pon,poff     = src.metrics.filter_valid(Pon[k],Poff[k],s-2000,s+2000)\n",
    "# qrson,qrsoff = src.metrics.filter_valid(QRSon[k],QRSoff[k],s-2000,s+2000)\n",
    "# ton,toff     = src.metrics.filter_valid(Ton[k],Toff[k],s-2000,s+2000)\n",
    "\n",
    "# plt.figure(figsize=(15,4))\n",
    "# plt.plot(dataset[k][s-1000:s+1000])\n",
    "# [plt.gca().axvspan(onset,offset, color='red', alpha=0.15) for (onset,offset) in zip(pon,poff)]\n",
    "# [plt.gca().axvspan(onset,offset, color='green', alpha=0.15) for (onset,offset) in zip(qrson,qrsoff)]\n",
    "# [plt.gca().axvspan(onset,offset, color='magenta', alpha=0.15) for (onset,offset) in zip(ton,toff)]\n",
    "# # plt.gca().axvline(s-20,color='orange')\n",
    "# plt.gca().axvline(s,color='red')\n",
    "# plt.gca().axvline(150130,color='orange')\n",
    "# plt.xlim([s-1000,s+1000])\n",
    "# plt.show()"
   ]
  },
  {
   "cell_type": "code",
   "execution_count": 360,
   "metadata": {},
   "outputs": [],
   "source": [
    "# # Plot validity\n",
    "# f = plt.figure(figsize=(15,4))\n",
    "\n",
    "# for k in tqdm.tqdm(validity):\n",
    "#     on,off = validity[k][0]\n",
    "#     if k in Pon:\n",
    "#         pon,poff = src.metrics.filter_valid(Pon[k],Poff[k],on,off)\n",
    "#     qrson,qrsoff = src.metrics.filter_valid(QRSon[k],QRSoff[k],on,off)\n",
    "#     ton,toff     = src.metrics.filter_valid(Ton[k],Toff[k],on,off)\n",
    "    \n",
    "#     s = on\n",
    "    \n",
    "#     f.gca().plot(dataset[k][s-1000:s+1000])\n",
    "#     if k in Pon:\n",
    "#         [f.gca().axvspan(onset,offset, color='red', alpha=0.15) for (onset,offset) in zip(pon,poff)]\n",
    "#     [f.gca().axvspan(onset,offset, color='green', alpha=0.15) for (onset,offset) in zip(qrson,qrsoff)]\n",
    "#     [f.gca().axvspan(onset,offset, color='magenta', alpha=0.15) for (onset,offset) in zip(ton,toff)]\n",
    "#     f.gca().axvline(s,color='red')\n",
    "#     f.gca().set_xlim([s-1000,s+1000])\n",
    "#     f.savefig(os.path.join('/home/guille/Escritorio/Valid/',k+'_first'))\n",
    "#     f.gca().clear()\n",
    "    \n",
    "#     s = off\n",
    "\n",
    "#     f.gca().plot(dataset[k][s-1000:s+1000])\n",
    "#     if k in Pon:\n",
    "#         [f.gca().axvspan(onset,offset, color='red', alpha=0.15) for (onset,offset) in zip(pon,poff)]\n",
    "#     [f.gca().axvspan(onset,offset, color='green', alpha=0.15) for (onset,offset) in zip(qrson,qrsoff)]\n",
    "#     [f.gca().axvspan(onset,offset, color='magenta', alpha=0.15) for (onset,offset) in zip(ton,toff)]\n",
    "#     f.gca().axvline(s,color='red')\n",
    "#     f.gca().set_xlim([s-1000,s+1000])\n",
    "#     f.savefig(os.path.join('/home/guille/Escritorio/Valid/',k+'_last.png'))\n",
    "#     f.gca().clear()\n",
    "    "
   ]
  },
  {
   "cell_type": "code",
   "execution_count": null,
   "metadata": {},
   "outputs": [],
   "source": []
  },
  {
   "cell_type": "code",
   "execution_count": null,
   "metadata": {},
   "outputs": [],
   "source": []
  }
 ],
 "metadata": {
  "kernelspec": {
   "display_name": "DeepLearning3",
   "language": "python",
   "name": "deeplearning3"
  },
  "language_info": {
   "codemirror_mode": {
    "name": "ipython",
    "version": 3
   },
   "file_extension": ".py",
   "mimetype": "text/x-python",
   "name": "python",
   "nbconvert_exporter": "python",
   "pygments_lexer": "ipython3",
   "version": "3.8.2"
  }
 },
 "nbformat": 4,
 "nbformat_minor": 4
}
