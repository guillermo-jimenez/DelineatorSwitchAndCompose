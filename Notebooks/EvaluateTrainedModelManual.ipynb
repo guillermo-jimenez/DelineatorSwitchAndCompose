{
 "cells": [
  {
   "cell_type": "code",
   "execution_count": 1,
   "metadata": {},
   "outputs": [],
   "source": [
    "%load_ext autoreload\n",
    "%autoreload 2"
   ]
  },
  {
   "cell_type": "code",
   "execution_count": 2,
   "metadata": {},
   "outputs": [],
   "source": [
    "import os\n",
    "import os.path\n",
    "import skimage\n",
    "import skimage.segmentation\n",
    "import sklearn.preprocessing\n",
    "import sklearn.model_selection\n",
    "import math\n",
    "import shutil\n",
    "import pathlib\n",
    "import glob\n",
    "import shutil\n",
    "import uuid\n",
    "import random\n",
    "import platform\n",
    "import ecgdetectors\n",
    "import torch\n",
    "import torchvision\n",
    "import numpy as np\n",
    "import scipy as sp\n",
    "import scipy.io\n",
    "import scipy.signal\n",
    "import pandas as pd\n",
    "import networkx\n",
    "import wfdb\n",
    "import json\n",
    "import tqdm\n",
    "import dill\n",
    "import pickle\n",
    "import matplotlib.pyplot as plt\n",
    "\n",
    "import scipy.stats\n",
    "\n",
    "import src.data\n",
    "import src.metrics\n",
    "import utils\n",
    "import utils.wavelet\n",
    "import utils.data\n",
    "import utils.data.augmentation\n",
    "import utils.visualization\n",
    "import utils.visualization.plot\n",
    "import utils.torch\n",
    "import utils.torch.nn\n",
    "import utils.torch.nn as nn\n",
    "import utils.torch.loss\n",
    "import utils.torch.train\n",
    "import utils.torch.data\n",
    "import utils.torch.preprocessing\n",
    "import utils.torch.models\n",
    "import utils.torch.models.lego\n",
    "import utils.torch.models.variational\n",
    "import utils.torch.models.classification\n",
    "\n",
    "from utils.signal import StandardHeader\n",
    "\n",
    "def smooth(x: np.ndarray, window_size: int, conv_mode: str = 'same'):\n",
    "    x = np.pad(np.copy(x),(window_size,window_size),'edge')\n",
    "    window = np.hamming(window_size)/(window_size//2)\n",
    "    x = np.convolve(x, window, mode=conv_mode)\n",
    "    x = x[window_size:-window_size]\n",
    "    return x"
   ]
  },
  {
   "cell_type": "markdown",
   "metadata": {},
   "source": [
    "# Step 0: Paths and stuff - Argparse"
   ]
  },
  {
   "cell_type": "code",
   "execution_count": 3,
   "metadata": {},
   "outputs": [],
   "source": [
    "basedir = '/media/guille/DADES/DADES/Delineator'\n",
    "model_name = 'Multi5All'\n",
    "valid_folds = utils.load_data(os.path.join(basedir,'TrainedModels',model_name,'validation_files.csv'),dtype=None)"
   ]
  },
  {
   "cell_type": "code",
   "execution_count": 4,
   "metadata": {},
   "outputs": [],
   "source": [
    "# Convert valid folds to opposite map\n",
    "fold_of_file = {fname: k for k in valid_folds for fname in valid_folds[k]}"
   ]
  },
  {
   "cell_type": "markdown",
   "metadata": {},
   "source": [
    "# Step 1: Load models"
   ]
  },
  {
   "cell_type": "code",
   "execution_count": 5,
   "metadata": {},
   "outputs": [],
   "source": [
    "models = {}\n",
    "\n",
    "for i in range(5):\n",
    "    models['fold_{}'.format(i+1)] = torch.load(os.path.join(basedir,'TrainedModels',model_name,'fold_{}'.format(i+1),'model_best.model'),pickle_module=dill).eval().float()"
   ]
  },
  {
   "cell_type": "code",
   "execution_count": null,
   "metadata": {},
   "outputs": [],
   "source": []
  },
  {
   "cell_type": "markdown",
   "metadata": {},
   "source": [
    "# Step 2: Predict databases"
   ]
  },
  {
   "cell_type": "markdown",
   "metadata": {},
   "source": [
    "### 1.1. QTDB"
   ]
  },
  {
   "cell_type": "code",
   "execution_count": 578,
   "metadata": {},
   "outputs": [],
   "source": [
    "dataset = pd.read_csv(os.path.join(basedir,'QTDB','Dataset.csv'), index_col=0)\n",
    "dataset = dataset.sort_index(axis=1)\n",
    "validity = utils.load_data(os.path.join(basedir, 'QTDB', 'validity.csv'))\n",
    "\n",
    "Pon    = utils.load_data(os.path.join(basedir, 'QTDB', 'PonNew.csv'))\n",
    "Poff   = utils.load_data(os.path.join(basedir, 'QTDB', 'PoffNew.csv'))\n",
    "QRSon  = utils.load_data(os.path.join(basedir, 'QTDB', 'QRSonNew.csv'))\n",
    "QRSoff = utils.load_data(os.path.join(basedir, 'QTDB', 'QRSoffNew.csv'))\n",
    "Ton    = utils.load_data(os.path.join(basedir, 'QTDB', 'TonNew.csv'))\n",
    "Toff   = utils.load_data(os.path.join(basedir, 'QTDB', 'ToffNew.csv'))"
   ]
  },
  {
   "cell_type": "code",
   "execution_count": 579,
   "metadata": {},
   "outputs": [
    {
     "name": "stderr",
     "output_type": "stream",
     "text": [
      "210it [01:54,  1.83it/s]\n"
     ]
    }
   ],
   "source": [
    "dataset2 = {}\n",
    "predictions = {}\n",
    "batch_size = 16\n",
    "stride = 512\n",
    "window_size = 2**11\n",
    "\n",
    "for i,(sig_name,signal) in enumerate(tqdm.tqdm(dataset.iteritems())):\n",
    "    # Retrieve signal name and fold\n",
    "    fname = sig_name.split('_')[0]\n",
    "    if fname not in fold_of_file:\n",
    "        continue\n",
    "    fold = fold_of_file[fname]\n",
    "    \n",
    "    if fname in ['sel35','sel36','sel103','sel232','sel310']: continue\n",
    "        \n",
    "    # Copy signal just in case\n",
    "    signal = np.copy(signal.values)\n",
    "    \n",
    "    # Filter signal\n",
    "    signal = sp.signal.filtfilt(*sp.signal.butter(4,   0.5/250., 'high'),signal.T).T\n",
    "    signal = sp.signal.filtfilt(*sp.signal.butter(4, 125.0/250.,  'low'),signal.T).T\n",
    "\n",
    "    # Normalize and pad signal for inputing in algorithm\n",
    "    pad_size = math.ceil(signal.size/window_size)*window_size - signal.size\n",
    "    signal = np.pad(signal, (0,pad_size), mode='edge')\n",
    "    normalization = np.median(utils.signal.moving_lambda(signal,256,utils.signal.amplitude))\n",
    "    normalized_signal = signal/normalization\n",
    "    \n",
    "    # Window signal for meeting the input size\n",
    "    windowed_signal = (skimage.util.view_as_windows(normalized_signal, window_size, stride) - 0)[:,None,:]\n",
    "    windowed_mask  = torch.zeros((windowed_signal.shape[0],3,window_size),dtype=float)\n",
    "    \n",
    "    # Predict masks\n",
    "    with torch.no_grad():\n",
    "        for i in range(0,windowed_signal.shape[0],batch_size):\n",
    "            windowed_mask[i:i+batch_size] = models[fold].cuda()(torch.tensor(windowed_signal[i:i+batch_size]).cuda().float())[0]\n",
    "            models[fold] = models[fold].cpu()\n",
    "    windowed_mask = np.round(windowed_mask.cpu().detach().numpy()).astype(int)\n",
    "\n",
    "    # Retrieve mask as 1D\n",
    "    counter = np.zeros_like(signal, dtype=int)\n",
    "    signal_mask = np.zeros((3,signal.size))\n",
    "\n",
    "    for i in range(windowed_mask.shape[0]):\n",
    "        counter[i*stride:i*stride+window_size] += 1\n",
    "        signal_mask[:,i*stride:i*stride+window_size] += windowed_mask[i]\n",
    "    signal_mask = (signal_mask/counter) > 0.5\n",
    "\n",
    "    # Store prediction\n",
    "    dataset2[sig_name] = normalized_signal\n",
    "    predictions[sig_name] = signal_mask"
   ]
  },
  {
   "cell_type": "code",
   "execution_count": 610,
   "metadata": {},
   "outputs": [
    {
     "name": "stderr",
     "output_type": "stream",
     "text": [
      "100%|██████████| 200/200 [00:00<00:00, 354.13it/s]\n"
     ]
    }
   ],
   "source": [
    "# Retrieve onsets and offsets\n",
    "pon, poff, qrson, qrsoff, ton, toff = {},{},{},{},{},{}\n",
    "\n",
    "for k in tqdm.tqdm(predictions):\n",
    "    pon[k],poff[k]     = utils.signal.get_mask_boundary(predictions[k][0,],aslist=False)\n",
    "    qrson[k],qrsoff[k] = utils.signal.get_mask_boundary(predictions[k][1,],aslist=False)\n",
    "    ton[k],toff[k]     = utils.signal.get_mask_boundary(predictions[k][2,],aslist=False)\n",
    "\n",
    "    # Refine results\n",
    "    val_on = validity[k][0::2].tolist()\n",
    "    val_off = validity[k][1::2].tolist()\n",
    "    \n",
    "    # P wave\n",
    "    joint_on = []\n",
    "    joint_off = []\n",
    "    for v_on,v_off in zip(val_on,val_off):\n",
    "        tmp_on, tmp_off = src.metrics.filter_valid(pon[k],poff[k],v_on,v_off)\n",
    "        joint_on.append(tmp_on)\n",
    "        joint_off.append(tmp_off)\n",
    "    pon[k],poff[k] = np.concatenate(joint_on),np.concatenate(joint_off)\n",
    "    \n",
    "    # QRS wave\n",
    "    joint_on = []\n",
    "    joint_off = []\n",
    "    for v_on,v_off in zip(val_on,val_off):\n",
    "        tmp_on, tmp_off = src.metrics.filter_valid(qrson[k],qrsoff[k],v_on,v_off)\n",
    "        joint_on.append(tmp_on)\n",
    "        joint_off.append(tmp_off)\n",
    "    qrson[k],qrsoff[k] = np.concatenate(joint_on),np.concatenate(joint_off)\n",
    "    \n",
    "    # T wave\n",
    "    joint_on = []\n",
    "    joint_off = []\n",
    "    for v_on,v_off in zip(val_on,val_off):\n",
    "        tmp_on, tmp_off = src.metrics.filter_valid(ton[k],toff[k],v_on,v_off)\n",
    "        joint_on.append(tmp_on)\n",
    "        joint_off.append(tmp_off)\n",
    "    ton[k],toff[k] = np.concatenate(joint_on),np.concatenate(joint_off)\n",
    "    \n",
    "    "
   ]
  },
  {
   "cell_type": "code",
   "execution_count": 634,
   "metadata": {},
   "outputs": [
    {
     "name": "stderr",
     "output_type": "stream",
     "text": [
      "100%|██████████| 200/200 [00:00<00:00, 1217.62it/s]\n"
     ]
    }
   ],
   "source": [
    "truepositives = {}\n",
    "falsepositives = {}\n",
    "falsenegatives = {}\n",
    "\n",
    "wave = 'QRS'\n",
    "\n",
    "input_on   = eval('{}on'.format(wave.lower()))\n",
    "input_off  = eval('{}off'.format(wave.lower()))\n",
    "target_on  = eval('{}on'.format(wave.upper()))\n",
    "target_off = eval('{}off'.format(wave.upper()))\n",
    "\n",
    "for k in tqdm.tqdm(input_on):\n",
    "    if fname in ['sel35','sel36','sel103','sel232','sel310']: continue\n",
    "    try:\n",
    "        tp,fp,fn,dice,onerror,offerror = src.metrics.compute_metrics(input_on[k],input_off[k],target_on[k],target_off[k])\n",
    "    except:\n",
    "        continue\n",
    "    truepositives[k] = tp\n",
    "    falsepositives[k] = fp\n",
    "    falsenegatives[k] = fn"
   ]
  },
  {
   "cell_type": "code",
   "execution_count": 635,
   "metadata": {
    "scrolled": false
   },
   "outputs": [
    {
     "data": {
      "text/plain": [
       "{'sel100_0': 0,\n",
       " 'sel100_1': 0,\n",
       " 'sel102_0': 0,\n",
       " 'sel102_1': 0,\n",
       " 'sel104_0': 0,\n",
       " 'sel104_1': 0,\n",
       " 'sel114_0': 0,\n",
       " 'sel114_1': 0,\n",
       " 'sel116_0': 0,\n",
       " 'sel116_1': 0,\n",
       " 'sel117_0': 0,\n",
       " 'sel117_1': 0,\n",
       " 'sel123_0': 0,\n",
       " 'sel123_1': 0,\n",
       " 'sel14046_0': 0,\n",
       " 'sel14046_1': 0,\n",
       " 'sel14157_0': 0,\n",
       " 'sel14157_1': 0,\n",
       " 'sel14172_0': 0,\n",
       " 'sel14172_1': 0,\n",
       " 'sel15814_0': 0,\n",
       " 'sel15814_1': 0,\n",
       " 'sel16265_0': 0,\n",
       " 'sel16265_1': 0,\n",
       " 'sel16272_0': 0,\n",
       " 'sel16272_1': 0,\n",
       " 'sel16273_0': 0,\n",
       " 'sel16273_1': 0,\n",
       " 'sel16420_0': 0,\n",
       " 'sel16420_1': 0,\n",
       " 'sel16483_0': 0,\n",
       " 'sel16483_1': 0,\n",
       " 'sel16539_0': 0,\n",
       " 'sel16539_1': 0,\n",
       " 'sel16773_0': 0,\n",
       " 'sel16773_1': 0,\n",
       " 'sel16786_0': 0,\n",
       " 'sel16786_1': 0,\n",
       " 'sel16795_0': 0,\n",
       " 'sel16795_1': 0,\n",
       " 'sel17152_0': 0,\n",
       " 'sel17152_1': 0,\n",
       " 'sel17453_0': 0,\n",
       " 'sel17453_1': 0,\n",
       " 'sel213_0': 0,\n",
       " 'sel213_1': 0,\n",
       " 'sel221_0': 0,\n",
       " 'sel221_1': 9,\n",
       " 'sel223_0': 0,\n",
       " 'sel223_1': 0,\n",
       " 'sel230_0': 0,\n",
       " 'sel230_1': 0,\n",
       " 'sel231_0': 13,\n",
       " 'sel231_1': 2,\n",
       " 'sel233_0': 0,\n",
       " 'sel233_1': 0,\n",
       " 'sel301_0': 0,\n",
       " 'sel301_1': 0,\n",
       " 'sel302_0': 0,\n",
       " 'sel302_1': 0,\n",
       " 'sel306_0': 0,\n",
       " 'sel306_1': 0,\n",
       " 'sel307_0': 0,\n",
       " 'sel307_1': 0,\n",
       " 'sel308_0': 1,\n",
       " 'sel308_1': 0,\n",
       " 'sel30_0': 0,\n",
       " 'sel30_1': 0,\n",
       " 'sel31_0': 0,\n",
       " 'sel31_1': 0,\n",
       " 'sel32_0': 0,\n",
       " 'sel32_1': 0,\n",
       " 'sel33_0': 11,\n",
       " 'sel33_1': 9,\n",
       " 'sel34_0': 0,\n",
       " 'sel34_1': 0,\n",
       " 'sel38_0': 0,\n",
       " 'sel38_1': 0,\n",
       " 'sel39_0': 0,\n",
       " 'sel39_1': 0,\n",
       " 'sel40_0': 0,\n",
       " 'sel40_1': 0,\n",
       " 'sel41_0': 0,\n",
       " 'sel41_1': 0,\n",
       " 'sel42_0': 0,\n",
       " 'sel42_1': 16,\n",
       " 'sel43_0': 0,\n",
       " 'sel43_1': 0,\n",
       " 'sel44_0': 0,\n",
       " 'sel44_1': 0,\n",
       " 'sel45_0': 0,\n",
       " 'sel45_1': 0,\n",
       " 'sel46_0': 0,\n",
       " 'sel46_1': 14,\n",
       " 'sel47_0': 0,\n",
       " 'sel47_1': 0,\n",
       " 'sel48_0': 0,\n",
       " 'sel48_1': 0,\n",
       " 'sel49_0': 8,\n",
       " 'sel49_1': 8,\n",
       " 'sel50_0': 2,\n",
       " 'sel50_1': 1,\n",
       " 'sel51_0': 9,\n",
       " 'sel51_1': 13,\n",
       " 'sel52_0': 0,\n",
       " 'sel52_1': 1,\n",
       " 'sel803_0': 1,\n",
       " 'sel803_1': 1,\n",
       " 'sel808_0': 0,\n",
       " 'sel808_1': 0,\n",
       " 'sel811_0': 0,\n",
       " 'sel811_1': 0,\n",
       " 'sel820_0': 0,\n",
       " 'sel820_1': 0,\n",
       " 'sel821_0': 0,\n",
       " 'sel821_1': 0,\n",
       " 'sel840_0': 0,\n",
       " 'sel840_1': 0,\n",
       " 'sel847_0': 0,\n",
       " 'sel847_1': 0,\n",
       " 'sel853_0': 0,\n",
       " 'sel853_1': 0,\n",
       " 'sel871_0': 0,\n",
       " 'sel871_1': 0,\n",
       " 'sel872_0': 0,\n",
       " 'sel872_1': 0,\n",
       " 'sel873_0': 0,\n",
       " 'sel873_1': 0,\n",
       " 'sel883_0': 0,\n",
       " 'sel883_1': 0,\n",
       " 'sel891_0': 0,\n",
       " 'sel891_1': 0,\n",
       " 'sele0104_0': 0,\n",
       " 'sele0104_1': 0,\n",
       " 'sele0106_0': 0,\n",
       " 'sele0106_1': 0,\n",
       " 'sele0107_0': 0,\n",
       " 'sele0107_1': 0,\n",
       " 'sele0110_0': 0,\n",
       " 'sele0110_1': 0,\n",
       " 'sele0111_0': 0,\n",
       " 'sele0111_1': 0,\n",
       " 'sele0112_0': 0,\n",
       " 'sele0112_1': 0,\n",
       " 'sele0114_0': 0,\n",
       " 'sele0114_1': 0,\n",
       " 'sele0116_0': 0,\n",
       " 'sele0116_1': 1,\n",
       " 'sele0121_0': 0,\n",
       " 'sele0121_1': 0,\n",
       " 'sele0122_0': 0,\n",
       " 'sele0122_1': 0,\n",
       " 'sele0124_0': 0,\n",
       " 'sele0124_1': 0,\n",
       " 'sele0126_0': 0,\n",
       " 'sele0126_1': 0,\n",
       " 'sele0129_0': 0,\n",
       " 'sele0129_1': 0,\n",
       " 'sele0133_0': 0,\n",
       " 'sele0133_1': 0,\n",
       " 'sele0136_0': 0,\n",
       " 'sele0136_1': 0,\n",
       " 'sele0166_0': 0,\n",
       " 'sele0166_1': 0,\n",
       " 'sele0170_0': 0,\n",
       " 'sele0170_1': 0,\n",
       " 'sele0203_0': 1,\n",
       " 'sele0203_1': 0,\n",
       " 'sele0210_0': 1,\n",
       " 'sele0210_1': 2,\n",
       " 'sele0211_0': 0,\n",
       " 'sele0211_1': 0,\n",
       " 'sele0303_0': 1,\n",
       " 'sele0303_1': 1,\n",
       " 'sele0405_0': 0,\n",
       " 'sele0405_1': 0,\n",
       " 'sele0406_0': 0,\n",
       " 'sele0406_1': 0,\n",
       " 'sele0409_0': 0,\n",
       " 'sele0409_1': 0,\n",
       " 'sele0411_0': 0,\n",
       " 'sele0411_1': 0,\n",
       " 'sele0509_0': 0,\n",
       " 'sele0509_1': 0,\n",
       " 'sele0603_0': 0,\n",
       " 'sele0603_1': 0,\n",
       " 'sele0604_0': 0,\n",
       " 'sele0604_1': 0,\n",
       " 'sele0606_0': 0,\n",
       " 'sele0606_1': 0,\n",
       " 'sele0607_0': 0,\n",
       " 'sele0607_1': 0,\n",
       " 'sele0609_0': 0,\n",
       " 'sele0609_1': 0,\n",
       " 'sele0612_0': 0,\n",
       " 'sele0612_1': 0,\n",
       " 'sele0704_0': 0,\n",
       " 'sele0704_1': 0}"
      ]
     },
     "execution_count": 635,
     "metadata": {},
     "output_type": "execute_result"
    }
   ],
   "source": [
    "falsepositives"
   ]
  },
  {
   "cell_type": "code",
   "execution_count": null,
   "metadata": {},
   "outputs": [],
   "source": []
  },
  {
   "cell_type": "code",
   "execution_count": 626,
   "metadata": {},
   "outputs": [
    {
     "data": {
      "text/plain": [
       "[(154564.0, 156612.0), (154564.0, 156612.0)]"
      ]
     },
     "execution_count": 626,
     "metadata": {},
     "output_type": "execute_result"
    },
    {
     "data": {
      "image/png": "[encoded data removed]",
      "text/plain": [
       "<Figure size 1080x360 with 2 Axes>"
      ]
     },
     "metadata": {
      "needs_background": "light"
     },
     "output_type": "display_data"
    }
   ],
   "source": [
    "# k = 'sel46_1'\n",
    "# k = 'sele0116_1'\n",
    "k = 'sel221_1'\n",
    "w = 2*2048+0\n",
    "v_on = validity[k][0]\n",
    "f,ax = plt.subplots(nrows=2,figsize=(15,5))\n",
    "ax[0].plot(dataset[k][v_on+w:v_on+2048+w])\n",
    "ax[1].plot(dataset[k][v_on+w:v_on+2048+w])\n",
    "if k in Pon: [ax[0].axvspan(on,off,color='red',alpha=0.15) for on,off in zip(Pon[k],Poff[k])]\n",
    "[ax[0].axvspan(on,off,color='green',alpha=0.15) for on,off in zip(QRSon[k],QRSoff[k])]\n",
    "[ax[0].axvspan(on,off,color='magenta',alpha=0.15) for on,off in zip(Ton[k],Toff[k])]\n",
    "if k in pon: [ax[1].axvspan(on,off,color='red',alpha=0.15) for on,off in zip(pon[k],poff[k])]\n",
    "[ax[1].axvspan(on,off,color='green',alpha=0.15) for on,off in zip(qrson[k],qrsoff[k])]\n",
    "[ax[1].axvspan(on,off,color='magenta',alpha=0.15) for on,off in zip(ton[k],toff[k])]\n",
    "\n",
    "# [ax[i].axvline(154820,color='red') for i in range(2)]\n",
    "[ax[i].set_xlim([v_on+w,v_on+2048+w]) for i in range(2)]\n"
   ]
  },
  {
   "cell_type": "code",
   "execution_count": 651,
   "metadata": {},
   "outputs": [
    {
     "name": "stdout",
     "output_type": "stream",
     "text": [
      "######### QRS wave #########\n",
      "\n",
      "Precision:    98.07%\n",
      "Recall:       99.97%\n",
      "F1 score:     99.01%\n",
      "\n",
      "Onset Error:  0 ± 0 ms\n",
      "Offset Error: 0 ± 0 ms\n"
     ]
    }
   ],
   "source": [
    "print(\"######### {} wave #########\".format(wave.upper()))\n",
    "print(\"\")\n",
    "print(\"Precision:    {}%\".format(np.round(src.metrics.precision(sum(truepositives.values()),sum(falsepositives.values()),sum(falsenegatives.values()))*100,decimals=2)))\n",
    "print(\"Recall:       {}%\".format(np.round(src.metrics.recall(sum(truepositives.values()),sum(falsepositives.values()),sum(falsenegatives.values()))*100,decimals=2)))\n",
    "print(\"F1 score:     {}%\".format(np.round(src.metrics.f1_score(sum(truepositives.values()),sum(falsepositives.values()),sum(falsenegatives.values()))*100,decimals=2)))\n",
    "print(\"\")\n",
    "print(\"Onset Error:  {} ± {} ms\".format(0,0))\n",
    "print(\"Offset Error: {} ± {} ms\".format(0,0))\n"
   ]
  },
  {
   "cell_type": "code",
   "execution_count": null,
   "metadata": {},
   "outputs": [],
   "source": []
  },
  {
   "cell_type": "code",
   "execution_count": null,
   "metadata": {},
   "outputs": [],
   "source": []
  },
  {
   "cell_type": "code",
   "execution_count": null,
   "metadata": {},
   "outputs": [],
   "source": []
  },
  {
   "cell_type": "markdown",
   "metadata": {},
   "source": [
    "# Step 3: Compute metrics"
   ]
  },
  {
   "cell_type": "code",
   "execution_count": null,
   "metadata": {},
   "outputs": [],
   "source": []
  },
  {
   "cell_type": "code",
   "execution_count": null,
   "metadata": {},
   "outputs": [],
   "source": []
  },
  {
   "cell_type": "code",
   "execution_count": null,
   "metadata": {},
   "outputs": [],
   "source": []
  },
  {
   "cell_type": "code",
   "execution_count": null,
   "metadata": {},
   "outputs": [],
   "source": []
  },
  {
   "cell_type": "code",
   "execution_count": null,
   "metadata": {},
   "outputs": [],
   "source": []
  },
  {
   "cell_type": "code",
   "execution_count": null,
   "metadata": {},
   "outputs": [],
   "source": []
  },
  {
   "cell_type": "code",
   "execution_count": null,
   "metadata": {},
   "outputs": [],
   "source": []
  },
  {
   "cell_type": "code",
   "execution_count": null,
   "metadata": {},
   "outputs": [],
   "source": []
  },
  {
   "cell_type": "code",
   "execution_count": null,
   "metadata": {},
   "outputs": [],
   "source": []
  },
  {
   "cell_type": "code",
   "execution_count": null,
   "metadata": {},
   "outputs": [],
   "source": []
  },
  {
   "cell_type": "code",
   "execution_count": null,
   "metadata": {},
   "outputs": [],
   "source": []
  },
  {
   "cell_type": "code",
   "execution_count": null,
   "metadata": {},
   "outputs": [],
   "source": []
  },
  {
   "cell_type": "code",
   "execution_count": null,
   "metadata": {},
   "outputs": [],
   "source": []
  },
  {
   "cell_type": "markdown",
   "metadata": {},
   "source": [
    "# OLD AND CREEPY"
   ]
  },
  {
   "cell_type": "code",
   "execution_count": 357,
   "metadata": {},
   "outputs": [],
   "source": [
    "# limit = 500\n",
    "\n",
    "# check = []\n",
    "# where = []\n",
    "# sampl = []\n",
    "# snext = []\n",
    "# sbegi = []\n",
    "# sendi = []\n",
    "\n",
    "# validity = {}\n",
    "# for k in QRSon:\n",
    "#     if k not in Toff: continue\n",
    "#     deltaQRS = QRSon[k][1:]-QRSon[k][:-1]\n",
    "#     first = int(min(np.hstack([Pon.get(k,[]),QRSon.get(k,[]),Ton.get(k,[])]))-20)\n",
    "#     last = int(max(np.hstack([Poff.get(k,[]),QRSoff.get(k,[]),Toff.get(k,[])]))+20)\n",
    "#     if max(deltaQRS) > limit:\n",
    "#         check.append(k)\n",
    "#         where.append(np.argwhere(deltaQRS > limit))\n",
    "#         sampl.append(Toff[k][np.argwhere(deltaQRS > limit)])\n",
    "#         snext.append(QRSon[k][np.argwhere(deltaQRS > limit)])\n",
    "#         sbegi.append([first])\n",
    "#         sendi.append([last])\n",
    "        \n",
    "#     validity[k] = [[first,last]]\n",
    "\n",
    "# validity['sel231_0']   = [[150280,161620],[165900,171550]]\n",
    "# validity['sel231_1']   = [[150280,161620],[165900,171550]]\n",
    "# validity['sel213_0']   = [[150130,154000],[190830,196810]]\n",
    "# validity['sel213_1']   = [[150130,154000],[190830,196810]]\n",
    "# validity['sel301_0']   = [[150180,153380],[157000,159800]]\n",
    "# validity['sel301_1']   = [[150180,153380],[157000,159800]]\n",
    "# validity['sele0112_0'] = [[150410,160470],[207800,213850]]\n",
    "# validity['sele0112_1'] = [[150410,160470],[207800,213850]]\n",
    "\n",
    "# utils.save_data(os.path.join(basedir,'QTDB','validity.csv'),validity)"
   ]
  },
  {
   "cell_type": "code",
   "execution_count": 359,
   "metadata": {},
   "outputs": [],
   "source": [
    "# i = 8\n",
    "# k = check[i]\n",
    "# s = int(sbegi[i][0])\n",
    "# print(s)\n",
    "# print(k)\n",
    "\n",
    "# pon,poff     = src.metrics.filter_valid(Pon[k],Poff[k],s-2000,s+2000)\n",
    "# qrson,qrsoff = src.metrics.filter_valid(QRSon[k],QRSoff[k],s-2000,s+2000)\n",
    "# ton,toff     = src.metrics.filter_valid(Ton[k],Toff[k],s-2000,s+2000)\n",
    "\n",
    "# plt.figure(figsize=(15,4))\n",
    "# plt.plot(dataset[k][s-1000:s+1000])\n",
    "# [plt.gca().axvspan(onset,offset, color='red', alpha=0.15) for (onset,offset) in zip(pon,poff)]\n",
    "# [plt.gca().axvspan(onset,offset, color='green', alpha=0.15) for (onset,offset) in zip(qrson,qrsoff)]\n",
    "# [plt.gca().axvspan(onset,offset, color='magenta', alpha=0.15) for (onset,offset) in zip(ton,toff)]\n",
    "# # plt.gca().axvline(s-20,color='orange')\n",
    "# plt.gca().axvline(s,color='red')\n",
    "# plt.gca().axvline(150130,color='orange')\n",
    "# plt.xlim([s-1000,s+1000])\n",
    "# plt.show()"
   ]
  },
  {
   "cell_type": "code",
   "execution_count": 360,
   "metadata": {},
   "outputs": [],
   "source": [
    "# # Plot validity\n",
    "# f = plt.figure(figsize=(15,4))\n",
    "\n",
    "# for k in tqdm.tqdm(validity):\n",
    "#     on,off = validity[k][0]\n",
    "#     if k in Pon:\n",
    "#         pon,poff = src.metrics.filter_valid(Pon[k],Poff[k],on,off)\n",
    "#     qrson,qrsoff = src.metrics.filter_valid(QRSon[k],QRSoff[k],on,off)\n",
    "#     ton,toff     = src.metrics.filter_valid(Ton[k],Toff[k],on,off)\n",
    "    \n",
    "#     s = on\n",
    "    \n",
    "#     f.gca().plot(dataset[k][s-1000:s+1000])\n",
    "#     if k in Pon:\n",
    "#         [f.gca().axvspan(onset,offset, color='red', alpha=0.15) for (onset,offset) in zip(pon,poff)]\n",
    "#     [f.gca().axvspan(onset,offset, color='green', alpha=0.15) for (onset,offset) in zip(qrson,qrsoff)]\n",
    "#     [f.gca().axvspan(onset,offset, color='magenta', alpha=0.15) for (onset,offset) in zip(ton,toff)]\n",
    "#     f.gca().axvline(s,color='red')\n",
    "#     f.gca().set_xlim([s-1000,s+1000])\n",
    "#     f.savefig(os.path.join('/home/guille/Escritorio/Valid/',k+'_first'))\n",
    "#     f.gca().clear()\n",
    "    \n",
    "#     s = off\n",
    "\n",
    "#     f.gca().plot(dataset[k][s-1000:s+1000])\n",
    "#     if k in Pon:\n",
    "#         [f.gca().axvspan(onset,offset, color='red', alpha=0.15) for (onset,offset) in zip(pon,poff)]\n",
    "#     [f.gca().axvspan(onset,offset, color='green', alpha=0.15) for (onset,offset) in zip(qrson,qrsoff)]\n",
    "#     [f.gca().axvspan(onset,offset, color='magenta', alpha=0.15) for (onset,offset) in zip(ton,toff)]\n",
    "#     f.gca().axvline(s,color='red')\n",
    "#     f.gca().set_xlim([s-1000,s+1000])\n",
    "#     f.savefig(os.path.join('/home/guille/Escritorio/Valid/',k+'_last.png'))\n",
    "#     f.gca().clear()\n",
    "    "
   ]
  },
  {
   "cell_type": "code",
   "execution_count": null,
   "metadata": {},
   "outputs": [],
   "source": []
  },
  {
   "cell_type": "code",
   "execution_count": null,
   "metadata": {},
   "outputs": [],
   "source": []
  }
 ],
 "metadata": {
  "kernelspec": {
   "display_name": "DeepLearning3",
   "language": "python",
   "name": "deeplearning3"
  },
  "language_info": {
   "codemirror_mode": {
    "name": "ipython",
    "version": 3
   },
   "file_extension": ".py",
   "mimetype": "text/x-python",
   "name": "python",
   "nbconvert_exporter": "python",
   "pygments_lexer": "ipython3",
   "version": "3.8.2"
  }
 },
 "nbformat": 4,
 "nbformat_minor": 4
}
