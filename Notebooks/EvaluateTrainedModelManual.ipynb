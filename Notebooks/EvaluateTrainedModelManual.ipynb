{
 "cells": [
  {
   "cell_type": "code",
   "execution_count": 1,
   "metadata": {},
   "outputs": [],
   "source": [
    "%load_ext autoreload\n",
    "%autoreload 2"
   ]
  },
  {
   "cell_type": "code",
   "execution_count": 2,
   "metadata": {},
   "outputs": [],
   "source": [
    "import os\n",
    "import os.path\n",
    "import skimage\n",
    "import skimage.segmentation\n",
    "import sklearn.preprocessing\n",
    "import sklearn.model_selection\n",
    "import math\n",
    "import shutil\n",
    "import pathlib\n",
    "import glob\n",
    "import shutil\n",
    "import uuid\n",
    "import random\n",
    "import platform\n",
    "import torch\n",
    "import torchvision\n",
    "import numpy as np\n",
    "import scipy as sp\n",
    "import scipy.io\n",
    "import scipy.signal\n",
    "import pandas as pd\n",
    "import networkx\n",
    "import wfdb\n",
    "import json\n",
    "import tqdm\n",
    "import dill\n",
    "import pickle\n",
    "import matplotlib.pyplot as plt\n",
    "\n",
    "import scipy.stats\n",
    "import cv2\n",
    "\n",
    "import src.data\n",
    "import src.metrics\n",
    "import sak\n",
    "import sak.wavelet\n",
    "import sak.data\n",
    "import sak.data.augmentation\n",
    "import sak.data.preprocessing\n",
    "import sak.visualization\n",
    "import sak.visualization.plot\n",
    "import sak.torch\n",
    "import sak.torch.nn\n",
    "import sak.torch.nn as nn\n",
    "import sak.torch.nn\n",
    "import sak.torch.train\n",
    "import sak.torch.data\n",
    "import sak.torch.models\n",
    "import sak.torch.models.lego\n",
    "import sak.torch.models.variational\n",
    "import sak.torch.models.classification\n",
    "\n",
    "from sak.signal import StandardHeader\n",
    "\n",
    "def smooth(x: np.ndarray, window_size: int, conv_mode: str = 'same'):\n",
    "    x = np.pad(np.copy(x),(window_size,window_size),'edge')\n",
    "    window = np.hamming(window_size)/(window_size//2)\n",
    "    x = np.convolve(x, window, mode=conv_mode)\n",
    "    x = x[window_size:-window_size]\n",
    "    return x"
   ]
  },
  {
   "cell_type": "markdown",
   "metadata": {},
   "source": [
    "# Step 0: Paths and stuff - Argparse"
   ]
  },
  {
   "cell_type": "code",
   "execution_count": 3,
   "metadata": {},
   "outputs": [],
   "source": [
    "basedir = '/media/guille/DADES/DADES/Delineator'\n",
    "model_name = 'WNet5_20201023000000'\n",
    "valid_folds = sak.load_data(os.path.join(basedir,'TrainedModels',model_name,'validation_files.csv'),dtype=None)"
   ]
  },
  {
   "cell_type": "code",
   "execution_count": 4,
   "metadata": {},
   "outputs": [],
   "source": [
    "# Convert valid folds to opposite map\n",
    "fold_of_file = {fname: k for k in valid_folds for fname in valid_folds[k]}"
   ]
  },
  {
   "cell_type": "markdown",
   "metadata": {},
   "source": [
    "# Step 1: Load models"
   ]
  },
  {
   "cell_type": "code",
   "execution_count": 5,
   "metadata": {},
   "outputs": [],
   "source": [
    "models = {}\n",
    "\n",
    "for i in range(5):\n",
    "    models['fold_{}'.format(i+1)] = torch.load(os.path.join(basedir,'TrainedModels',model_name,'fold_{}'.format(i+1),'model_best.model'),pickle_module=dill).eval().float()"
   ]
  },
  {
   "cell_type": "markdown",
   "metadata": {},
   "source": [
    "# Step 2: Predict databases"
   ]
  },
  {
   "cell_type": "markdown",
   "metadata": {},
   "source": [
    "### 1.1. QTDB"
   ]
  },
  {
   "cell_type": "code",
   "execution_count": 6,
   "metadata": {},
   "outputs": [],
   "source": [
    "dataset = pd.read_csv(os.path.join(basedir,'QTDB','Dataset.csv'), index_col=0)\n",
    "dataset = dataset.sort_index(axis=1)\n",
    "validity = sak.load_data(os.path.join(basedir, 'QTDB', 'validity.csv'))\n",
    "\n",
    "Pon    = sak.load_data(os.path.join(basedir, 'QTDB', 'PonNew.csv'))\n",
    "Poff   = sak.load_data(os.path.join(basedir, 'QTDB', 'PoffNew.csv'))\n",
    "QRSon  = sak.load_data(os.path.join(basedir, 'QTDB', 'QRSonNew.csv'))\n",
    "QRSoff = sak.load_data(os.path.join(basedir, 'QTDB', 'QRSoffNew.csv'))\n",
    "Ton    = sak.load_data(os.path.join(basedir, 'QTDB', 'TonNew.csv'))\n",
    "Toff   = sak.load_data(os.path.join(basedir, 'QTDB', 'ToffNew.csv'))"
   ]
  },
  {
   "cell_type": "code",
   "execution_count": 10,
   "metadata": {},
   "outputs": [
    {
     "name": "stderr",
     "output_type": "stream",
     "text": [
      "100%|██████████| 210/210 [03:52<00:00,  1.11s/it]\n"
     ]
    }
   ],
   "source": [
    "dataset2 = {}\n",
    "predictions = {}\n",
    "batch_size = 16\n",
    "window_size = 2**11\n",
    "stride = window_size//(2**2)\n",
    "\n",
    "for i,(sig_name,signal) in enumerate(tqdm.tqdm(dataset.iteritems(),total=dataset.shape[1])):\n",
    "    # Retrieve signal name and fold\n",
    "    fname = sig_name.split('_')[0]\n",
    "    if fname not in fold_of_file:\n",
    "        continue\n",
    "    fold = fold_of_file[fname]\n",
    "    \n",
    "    if fname in ['sel35','sel36','sel103','sel232','sel310']: continue\n",
    "        \n",
    "    # Copy signal just in case\n",
    "    signal = np.copy(signal.values)\n",
    "    \n",
    "    # Filter signal\n",
    "    signal = sp.signal.filtfilt(*sp.signal.butter(4,   0.5/250., 'high'),signal.T).T\n",
    "    signal = sp.signal.filtfilt(*sp.signal.butter(4, 125.0/250.,  'low'),signal.T).T\n",
    "\n",
    "    # Normalize and pad signal for inputing in algorithm\n",
    "    pad_size = math.ceil(signal.size/window_size)*window_size - signal.size\n",
    "    signal = np.pad(signal, (0,pad_size), mode='edge')\n",
    "    normalization = np.median(sak.signal.moving_lambda(signal,256,sak.signal.abs_max))\n",
    "    normalized_signal = signal/normalization\n",
    "    \n",
    "    # Window signal for meeting the input size\n",
    "    windowed_signal = (skimage.util.view_as_windows(normalized_signal, window_size, stride) - 0)[:,None,:]\n",
    "    windowed_mask  = torch.zeros((windowed_signal.shape[0],3,window_size),dtype=float)\n",
    "    \n",
    "    # Predict masks\n",
    "    with torch.no_grad():\n",
    "        for i in range(0,windowed_signal.shape[0],batch_size):\n",
    "            inputs = {\"x\": torch.tensor(windowed_signal[i:i+batch_size]).cuda().float()}\n",
    "            windowed_mask[i:i+batch_size] = models[fold].cuda()(inputs)[\"sigmoid\"]\n",
    "            # windowed_mask[i:i+batch_size] = models[fold].cuda()(torch.tensor(windowed_signal[i:i+batch_size]).cuda().float())[0]\n",
    "            models[fold] = models[fold].cpu()\n",
    "    windowed_mask = np.round(windowed_mask.cpu().detach().numpy()).astype(int)\n",
    "\n",
    "    # Retrieve mask as 1D\n",
    "    counter = np.zeros_like(signal, dtype=int)\n",
    "    signal_mask = np.zeros((3,signal.size))\n",
    "\n",
    "    for i in range(windowed_mask.shape[0]):\n",
    "        counter[i*stride:i*stride+window_size] += 1\n",
    "        signal_mask[:,i*stride:i*stride+window_size] += windowed_mask[i]\n",
    "    signal_mask = (signal_mask/counter) > 0.5\n",
    "    \n",
    "    # Opening/closing operations\n",
    "    signal_mask[0,:] = cv2.morphologyEx(signal_mask[0,:].astype(float), cv2.MORPH_CLOSE, np.ones((25,))).squeeze().astype(bool)\n",
    "    signal_mask[1,:] = cv2.morphologyEx(signal_mask[1,:].astype(float), cv2.MORPH_CLOSE, np.ones((25,))).squeeze().astype(bool)\n",
    "    signal_mask[2,:] = cv2.morphologyEx(signal_mask[2,:].astype(float), cv2.MORPH_CLOSE, np.ones((25,))).squeeze().astype(bool)\n",
    "\n",
    "    signal_mask[0,:] = cv2.morphologyEx(signal_mask[0,:].astype(float), cv2.MORPH_OPEN, np.ones((5,))).squeeze().astype(bool)\n",
    "    signal_mask[1,:] = cv2.morphologyEx(signal_mask[1,:].astype(float), cv2.MORPH_OPEN, np.ones((5,))).squeeze().astype(bool)\n",
    "    signal_mask[2,:] = cv2.morphologyEx(signal_mask[2,:].astype(float), cv2.MORPH_OPEN, np.ones((5,))).squeeze().astype(bool)\n",
    "\n",
    "    # Store prediction\n",
    "    dataset2[sig_name] = normalized_signal\n",
    "    predictions[sig_name] = signal_mask"
   ]
  },
  {
   "cell_type": "code",
   "execution_count": 11,
   "metadata": {},
   "outputs": [
    {
     "name": "stderr",
     "output_type": "stream",
     "text": [
      "100%|██████████| 200/200 [00:00<00:00, 293.45it/s]\n"
     ]
    }
   ],
   "source": [
    "# Retrieve onsets and offsets\n",
    "pon, poff, qrson, qrsoff, ton, toff = {},{},{},{},{},{}\n",
    "\n",
    "for k in tqdm.tqdm(predictions):\n",
    "    pon[k],poff[k]     = sak.signal.get_mask_boundary(predictions[k][0,],aslist=False)\n",
    "    qrson[k],qrsoff[k] = sak.signal.get_mask_boundary(predictions[k][1,],aslist=False)\n",
    "    ton[k],toff[k]     = sak.signal.get_mask_boundary(predictions[k][2,],aslist=False)\n",
    "\n",
    "    # Refine results\n",
    "    val_on = validity[k][0::2].tolist()\n",
    "    val_off = validity[k][1::2].tolist()\n",
    "    \n",
    "    # P wave\n",
    "    joint_on = []\n",
    "    joint_off = []\n",
    "    for v_on,v_off in zip(val_on,val_off):\n",
    "        tmp_on, tmp_off = src.metrics.filter_valid(pon[k],poff[k],v_on,v_off)\n",
    "        joint_on.append(tmp_on)\n",
    "        joint_off.append(tmp_off)\n",
    "    pon[k],poff[k] = np.concatenate(joint_on),np.concatenate(joint_off)\n",
    "    \n",
    "    # QRS wave\n",
    "    joint_on = []\n",
    "    joint_off = []\n",
    "    for v_on,v_off in zip(val_on,val_off):\n",
    "        tmp_on, tmp_off = src.metrics.filter_valid(qrson[k],qrsoff[k],v_on,v_off)\n",
    "        joint_on.append(tmp_on)\n",
    "        joint_off.append(tmp_off)\n",
    "    qrson[k],qrsoff[k] = np.concatenate(joint_on),np.concatenate(joint_off)\n",
    "    \n",
    "    # T wave\n",
    "    joint_on = []\n",
    "    joint_off = []\n",
    "    for v_on,v_off in zip(val_on,val_off):\n",
    "        tmp_on, tmp_off = src.metrics.filter_valid(ton[k],toff[k],v_on,v_off)\n",
    "        joint_on.append(tmp_on)\n",
    "        joint_off.append(tmp_off)\n",
    "    ton[k],toff[k] = np.concatenate(joint_on),np.concatenate(joint_off)\n",
    "    \n",
    "    "
   ]
  },
  {
   "cell_type": "markdown",
   "metadata": {},
   "source": [
    "# Single-lead"
   ]
  },
  {
   "cell_type": "code",
   "execution_count": 14,
   "metadata": {},
   "outputs": [
    {
     "name": "stderr",
     "output_type": "stream",
     "text": [
      "100%|██████████| 200/200 [00:00<00:00, 951.01it/s]\n",
      "100%|██████████| 200/200 [00:00<00:00, 827.72it/s]\n",
      "100%|██████████| 200/200 [00:00<00:00, 780.20it/s]"
     ]
    },
    {
     "name": "stdout",
     "output_type": "stream",
     "text": [
      "######### P wave #########\n",
      "\n",
      "Precision:    98.91%\n",
      "Recall:       75.29%\n",
      "F1 score:     85.5%\n",
      "\n",
      "Onset Error:  -1.1 ± 22.6 ms\n",
      "Offset Error: -1.18 ± 16.21 ms\n",
      "\n",
      "\n",
      "######### QRS wave #########\n",
      "\n",
      "Precision:    99.63%\n",
      "Recall:       99.9%\n",
      "F1 score:     99.77%\n",
      "\n",
      "Onset Error:  -0.55 ± 11.86 ms\n",
      "Offset Error: 4.47 ± 15.64 ms\n",
      "\n",
      "\n",
      "######### T wave #########\n",
      "\n",
      "Precision:    99.65%\n",
      "Recall:       99.55%\n",
      "F1 score:     99.6%\n",
      "\n",
      "Onset Error:  10.67 ± 43.55 ms\n",
      "Offset Error: -1.59 ± 56.99 ms\n",
      "\n",
      "\n"
     ]
    },
    {
     "name": "stderr",
     "output_type": "stream",
     "text": [
      "\n"
     ]
    }
   ],
   "source": [
    "metrics = {}\n",
    "\n",
    "for wave in ['p','qrs','t']:\n",
    "    metrics[wave] = {}\n",
    "    metrics[wave]['truepositives'] = {}\n",
    "    metrics[wave]['falsepositives'] = {}\n",
    "    metrics[wave]['falsenegatives'] = {}\n",
    "    metrics[wave]['onerrors'] = {}\n",
    "    metrics[wave]['offerrors'] = {}\n",
    "\n",
    "    input_on   = eval('{}on'.format(wave.lower()))\n",
    "    input_off  = eval('{}off'.format(wave.lower()))\n",
    "    target_on  = eval('{}on'.format(wave.upper()))\n",
    "    target_off = eval('{}off'.format(wave.upper()))\n",
    "    \n",
    "    # Compute metrics\n",
    "    for k in tqdm.tqdm(input_on):\n",
    "        if fname in ['sel35','sel36','sel103','sel232','sel310']: continue\n",
    "        try:\n",
    "            # Refine input and output's regions w/ validity vectors\n",
    "            (input_on[k],input_off[k]) = src.metrics.filter_valid(input_on[k],input_off[k], validity[k][0], validity[k][1])\n",
    "            (target_on[k],target_off[k]) = src.metrics.filter_valid(target_on[k],target_off[k], validity[k][0], validity[k][1])\n",
    "            tp,fp,fn,dice,onerror,offerror = src.metrics.compute_metrics(input_on[k],input_off[k],target_on[k],target_off[k])\n",
    "        except:\n",
    "            continue\n",
    "        metrics[wave]['truepositives'][k] = tp\n",
    "        metrics[wave]['falsepositives'][k] = fp\n",
    "        metrics[wave]['falsenegatives'][k] = fn\n",
    "        metrics[wave]['onerrors'][k] = np.copy(np.array(onerror))\n",
    "        metrics[wave]['offerrors'][k] = np.copy(np.array(offerror))\n",
    "    \n",
    "for wave in ['p','qrs','t']:\n",
    "    print(\"######### {} wave #########\".format(wave.upper()))\n",
    "    print(\"\")\n",
    "    print(\"Precision:    {}%\".format(np.round(src.metrics.precision(sum(metrics[wave]['truepositives'].values()),sum(metrics[wave]['falsepositives'].values()),sum(metrics[wave]['falsenegatives'].values()))*100,decimals=2)))\n",
    "    print(\"Recall:       {}%\".format(np.round(src.metrics.recall(sum(metrics[wave]['truepositives'].values()),sum(metrics[wave]['falsepositives'].values()),sum(metrics[wave]['falsenegatives'].values()))*100,decimals=2)))\n",
    "    print(\"F1 score:     {}%\".format(np.round(src.metrics.f1_score(sum(metrics[wave]['truepositives'].values()),sum(metrics[wave]['falsepositives'].values()),sum(metrics[wave]['falsenegatives'].values()))*100,decimals=2)))\n",
    "    print(\"\")\n",
    "    print(\"Onset Error:  {} ± {} ms\".format(np.round(np.mean([v for l in metrics[wave]['onerrors'].values() for v in l])/250*1000,decimals=2),np.round(np.std([v for l in metrics[wave]['onerrors'].values() for v in l])/250*1000,decimals=2)))\n",
    "    print(\"Offset Error: {} ± {} ms\".format(np.round(np.mean([v for l in metrics[wave]['offerrors'].values() for v in l])/250*1000,decimals=2),np.round(np.std([v for l in metrics[wave]['offerrors'].values() for v in l])/250*1000,decimals=2)))\n",
    "    print(\"\\n\")"
   ]
  },
  {
   "cell_type": "markdown",
   "metadata": {},
   "source": [
    "# Multi-lead"
   ]
  },
  {
   "cell_type": "code",
   "execution_count": 124,
   "metadata": {},
   "outputs": [
    {
     "name": "stderr",
     "output_type": "stream",
     "text": [
      "100%|██████████| 200/200 [00:00<00:00, 553.80it/s]\n",
      "100%|██████████| 200/200 [00:00<00:00, 469.96it/s]\n",
      "100%|██████████| 200/200 [00:00<00:00, 472.11it/s]"
     ]
    },
    {
     "name": "stdout",
     "output_type": "stream",
     "text": [
      "######### P wave #########\n",
      "\n",
      "Precision:    98.45%\n",
      "Recall:       76.71%\n",
      "F1 score:     86.23%\n",
      "\n",
      "Onset Error:  -1.01 ± 17.87 ms\n",
      "Offset Error: -1.86 ± 10.73 ms\n",
      "\n",
      "\n",
      "######### QRS wave #########\n",
      "\n",
      "Precision:    99.55%\n",
      "Recall:       99.94%\n",
      "F1 score:     99.74%\n",
      "\n",
      "Onset Error:  -0.02 ± 8.18 ms\n",
      "Offset Error: 1.99 ± 10.13 ms\n",
      "\n",
      "\n",
      "######### T wave #########\n",
      "\n",
      "Precision:    99.49%\n",
      "Recall:       99.9%\n",
      "F1 score:     99.7%\n",
      "\n",
      "Onset Error:  8.8 ± 34.68 ms\n",
      "Offset Error: 0.5 ± 44.54 ms\n",
      "\n",
      "\n"
     ]
    },
    {
     "name": "stderr",
     "output_type": "stream",
     "text": [
      "\n"
     ]
    }
   ],
   "source": [
    "metrics = {}\n",
    "\n",
    "for wave in ['p','qrs','t']:\n",
    "    metrics[wave] = {}\n",
    "    metrics[wave]['truepositives'] = {}\n",
    "    metrics[wave]['falsepositives'] = {}\n",
    "    metrics[wave]['falsenegatives'] = {}\n",
    "    metrics[wave]['onerrors'] = {}\n",
    "    metrics[wave]['offerrors'] = {}\n",
    "\n",
    "    input_on   = eval('{}on'.format(wave.lower()))\n",
    "    input_off  = eval('{}off'.format(wave.lower()))\n",
    "    target_on  = eval('{}on'.format(wave.upper()))\n",
    "    target_off = eval('{}off'.format(wave.upper()))\n",
    "\n",
    "    listkeys = [k.split('_')[0] for k in input_on]\n",
    "\n",
    "    for k in tqdm.tqdm(listkeys):\n",
    "        if k in ['sel35','sel36','sel103','sel232','sel310']: continue\n",
    "        try:\n",
    "            # Refine input and output's regions w/ validity vectors\n",
    "            (input_on[k+'_0'],input_off[k+'_0']) = src.metrics.filter_valid(input_on[k+'_0'],input_off[k+'_0'], validity[k+'_0'][0], validity[k+'_0'][1])\n",
    "            (target_on[k+'_0'],target_off[k+'_0']) = src.metrics.filter_valid(target_on[k+'_0'],target_off[k+'_0'], validity[k+'_0'][0], validity[k+'_0'][1])\n",
    "            (input_on[k+'_1'],input_off[k+'_1']) = src.metrics.filter_valid(input_on[k+'_1'],input_off[k+'_1'], validity[k+'_1'][0], validity[k+'_1'][1])\n",
    "            (target_on[k+'_1'],target_off[k+'_1']) = src.metrics.filter_valid(target_on[k+'_1'],target_off[k+'_1'], validity[k+'_1'][0], validity[k+'_1'][1])\n",
    "            tp,fp,fn,dice,on,off = src.metrics.compute_QTDB_metrics(input_on[k+'_0'],input_off[k+'_0'],\n",
    "                                                                    input_on[k+'_1'],input_off[k+'_1'],\n",
    "                                                                    target_on[k+'_0'],target_off[k+'_0'])\n",
    "        except:\n",
    "            continue\n",
    "        metrics[wave]['truepositives'][k] = tp\n",
    "        metrics[wave]['falsepositives'][k] = fp\n",
    "        metrics[wave]['falsenegatives'][k] = fn\n",
    "        metrics[wave]['onerrors'][k] = on\n",
    "        metrics[wave]['offerrors'][k] = off\n",
    "\n",
    "for wave in ['p','qrs','t']:\n",
    "    print(\"######### {} wave #########\".format(wave.upper()))\n",
    "    print(\"\")\n",
    "    print(\"Precision:    {}%\".format(np.round(src.metrics.precision(sum(metrics[wave]['truepositives'].values()),sum(metrics[wave]['falsepositives'].values()),sum(metrics[wave]['falsenegatives'].values()))*100,decimals=2)))\n",
    "    print(\"Recall:       {}%\".format(np.round(src.metrics.recall(sum(metrics[wave]['truepositives'].values()),sum(metrics[wave]['falsepositives'].values()),sum(metrics[wave]['falsenegatives'].values()))*100,decimals=2)))\n",
    "    print(\"F1 score:     {}%\".format(np.round(src.metrics.f1_score(sum(metrics[wave]['truepositives'].values()),sum(metrics[wave]['falsepositives'].values()),sum(metrics[wave]['falsenegatives'].values()))*100,decimals=2)))\n",
    "    print(\"\")\n",
    "    print(\"Onset Error:  {} ± {} ms\".format(np.round(np.mean([v for l in metrics[wave]['onerrors'].values() for v in l])/250*1000,decimals=2),np.round(np.std([v for l in metrics[wave]['onerrors'].values() for v in l])/250*1000,decimals=2)))\n",
    "    print(\"Offset Error: {} ± {} ms\".format(np.round(np.mean([v for l in metrics[wave]['offerrors'].values() for v in l])/250*1000,decimals=2),np.round(np.std([v for l in metrics[wave]['offerrors'].values() for v in l])/250*1000,decimals=2)))\n",
    "    print(\"\\n\")"
   ]
  },
  {
   "cell_type": "code",
   "execution_count": 17,
   "metadata": {
    "scrolled": false
   },
   "outputs": [
    {
     "data": {
      "text/plain": [
       "{'sel104_1': 1,\n",
       " 'sel114_0': 30,\n",
       " 'sel114_1': 30,\n",
       " 'sel14157_0': 32,\n",
       " 'sel14157_1': 32,\n",
       " 'sel14172_0': 32,\n",
       " 'sel14172_1': 32,\n",
       " 'sel16265_0': 30,\n",
       " 'sel16265_1': 30,\n",
       " 'sel16539_0': 30,\n",
       " 'sel16539_1': 30,\n",
       " 'sel16786_0': 30,\n",
       " 'sel16786_1': 30,\n",
       " 'sel17152_1': 1,\n",
       " 'sel213_0': 1,\n",
       " 'sel213_1': 2,\n",
       " 'sel231_0': 4,\n",
       " 'sel231_1': 5,\n",
       " 'sel308_0': 47,\n",
       " 'sel308_1': 47,\n",
       " 'sel30_0': 30,\n",
       " 'sel30_1': 30,\n",
       " 'sel32_0': 30,\n",
       " 'sel32_1': 30,\n",
       " 'sel34_1': 1,\n",
       " 'sel38_0': 24,\n",
       " 'sel38_1': 28,\n",
       " 'sel40_0': 30,\n",
       " 'sel40_1': 30,\n",
       " 'sel41_0': 11,\n",
       " 'sel41_1': 10,\n",
       " 'sel42_0': 30,\n",
       " 'sel44_0': 26,\n",
       " 'sel44_1': 26,\n",
       " 'sel46_0': 1,\n",
       " 'sel48_1': 2,\n",
       " 'sel803_0': 29,\n",
       " 'sel803_1': 29,\n",
       " 'sel808_0': 30,\n",
       " 'sel808_1': 30,\n",
       " 'sel820_0': 2,\n",
       " 'sel840_0': 1,\n",
       " 'sel847_0': 1,\n",
       " 'sel891_0': 3,\n",
       " 'sel891_1': 4,\n",
       " 'sele0107_0': 30,\n",
       " 'sele0107_1': 30,\n",
       " 'sele0112_0': 30,\n",
       " 'sele0112_1': 30,\n",
       " 'sele0114_0': 3,\n",
       " 'sele0116_0': 29,\n",
       " 'sele0116_1': 25,\n",
       " 'sele0136_0': 30,\n",
       " 'sele0136_1': 30,\n",
       " 'sele0166_0': 32,\n",
       " 'sele0166_1': 32,\n",
       " 'sele0170_0': 30,\n",
       " 'sele0170_1': 30,\n",
       " 'sele0203_1': 6,\n",
       " 'sele0211_0': 30,\n",
       " 'sele0211_1': 30,\n",
       " 'sele0409_1': 1,\n",
       " 'sele0609_0': 30,\n",
       " 'sele0609_1': 30}"
      ]
     },
     "execution_count": 17,
     "metadata": {},
     "output_type": "execute_result"
    }
   ],
   "source": [
    "{k: metrics['p']['falsenegatives'][k] for k in metrics['p']['falsenegatives'] if metrics['p']['falsenegatives'][k] > 0}"
   ]
  },
  {
   "cell_type": "code",
   "execution_count": 143,
   "metadata": {},
   "outputs": [],
   "source": [
    "w = 'qrs'\n",
    "f = 'falsepositives'\n",
    "tmp = {k: metrics[w][f][k] for k in metrics[w][f] if np.mean(metrics[w][f][k]) > 0}\n",
    "tmplist = list(tmp)"
   ]
  },
  {
   "cell_type": "code",
   "execution_count": 145,
   "metadata": {},
   "outputs": [
    {
     "data": {
      "text/plain": [
       "['sel221', 'sel49', 'sel803']"
      ]
     },
     "execution_count": 145,
     "metadata": {},
     "output_type": "execute_result"
    }
   ],
   "source": [
    "tmplist"
   ]
  },
  {
   "cell_type": "code",
   "execution_count": 153,
   "metadata": {},
   "outputs": [
    {
     "name": "stdout",
     "output_type": "stream",
     "text": [
      "sel803\n"
     ]
    },
    {
     "data": {
      "image/png": "[encoded data removed]",
      "text/plain": [
       "<Figure size 1080x360 with 2 Axes>"
      ]
     },
     "metadata": {
      "needs_background": "light"
     },
     "output_type": "display_data"
    }
   ],
   "source": [
    "# k = 'sel46_1'\n",
    "# k = 'sele0116_1'\n",
    "# k = 'sel30_1'\n",
    "k = tmplist[2]\n",
    "print(k)\n",
    "\n",
    "k1 = k.split('_')[0] + '_0'\n",
    "k2 = k.split('_')[0] + '_1'\n",
    "w = 0*2048+0\n",
    "v_on = validity[k1][0]\n",
    "f,ax = plt.subplots(nrows=2,figsize=(15,5))\n",
    "ax[0].plot(dataset[k1][v_on+w:v_on+2048+w])\n",
    "ax[1].plot(dataset[k2][v_on+w:v_on+2048+w])\n",
    "if k1 in Pon: [ax[0].axvspan(on,off,color='red',alpha=0.15) for on,off in zip(Pon[k1],Poff[k1])]\n",
    "[ax[0].axvspan(on,off,color='green',alpha=0.15) for on,off in zip(QRSon[k1],QRSoff[k1])]\n",
    "[ax[0].axvspan(on,off,color='magenta',alpha=0.15) for on,off in zip(Ton[k1],Toff[k1])]\n",
    "if k2 in pon: [ax[1].axvspan(on,off,color='red',alpha=0.15) for on,off in zip(pon[k2],poff[k2])]\n",
    "[ax[1].axvspan(on,off,color='green',alpha=0.15) for on,off in zip(qrson[k2],qrsoff[k2])]\n",
    "[ax[1].axvspan(on,off,color='magenta',alpha=0.15) for on,off in zip(ton[k2],toff[k2])]\n",
    "\n",
    "# [ax[i].axvline(154820,color='red') for i in range(2)]\n",
    "[ax[i].set_xlim([v_on+w,v_on+2048+w]) for i in range(2)]\n",
    "plt.show()"
   ]
  },
  {
   "cell_type": "markdown",
   "metadata": {},
   "source": [
    "### Multilead+CV2\n",
    "\n",
    "######### P wave #########\n",
    "\n",
    "Precision:    98.22%\n",
    "Recall:       93.66% # Check+fix \n",
    "F1 score:     95.89%\n",
    "\n",
    "Onset Error:  -5.61 ± 15.21 ms\n",
    "Offset Error: 3.09 ± 11.72 ms\n",
    "\n",
    "######### QRS wave #########\n",
    "\n",
    "Precision:    97.24%  # P waves+spikes+AV block\n",
    "Recall:       100.0%\n",
    "F1 score:     98.6%\n",
    "\n",
    "Onset Error:  -1.5 ± 8.37 ms\n",
    "Offset Error: 4.87 ± 17.92 ms\n",
    "\n",
    "######### T wave #########\n",
    "\n",
    "Precision:    94.22% # Check\n",
    "Recall:       97.62% # Check\n",
    "F1 score:     95.89%\n",
    "\n",
    "Onset Error:  5.59 ± 40.33 ms\n",
    "Offset Error: 9.66 ± 44.57 ms"
   ]
  },
  {
   "cell_type": "markdown",
   "metadata": {},
   "source": [
    "### 1.25*AbsMax\n",
    "\n",
    "######### P wave #########\n",
    "\n",
    "Precision:    98.35%\n",
    "Recall:       86.91%\n",
    "F1 score:     92.28%\n",
    "\n",
    "Onset Error:  0 ± 0 ms\n",
    "Offset Error: 0 ± 0 ms\n",
    "\n",
    "######### QRS wave #########\n",
    "\n",
    "Precision:    97.61%\n",
    "Recall:       99.97%\n",
    "F1 score:     98.78%\n",
    "\n",
    "Onset Error:  0 ± 0 ms\n",
    "Offset Error: 0 ± 0 ms\n",
    "\n",
    "######### T wave #########\n",
    "\n",
    "Precision:    94.57%\n",
    "Recall:       94.6%\n",
    "F1 score:     94.59%\n",
    "\n",
    "Onset Error:  0 ± 0 ms\n",
    "Offset Error: 0 ± 0 ms"
   ]
  },
  {
   "cell_type": "markdown",
   "metadata": {},
   "source": [
    "### AbsMax\n",
    "\n",
    "######### P wave #########\n",
    "\n",
    "Precision:    98.54%\n",
    "Recall:       86.87%\n",
    "F1 score:     92.34%\n",
    "\n",
    "Onset Error:  0 ± 0 ms\n",
    "Offset Error: 0 ± 0 ms\n",
    "\n",
    "######### QRS wave #########\n",
    "\n",
    "Precision:    97.92%\n",
    "Recall:       99.97%\n",
    "F1 score:     98.93%\n",
    "\n",
    "Onset Error:  0 ± 0 ms\n",
    "Offset Error: 0 ± 0 ms\n",
    "\n",
    "######### T wave #########\n",
    "\n",
    "Precision:    95.06%\n",
    "Recall:       93.9%\n",
    "F1 score:     94.48%\n",
    "\n",
    "Onset Error:  0 ± 0 ms\n",
    "Offset Error: 0 ± 0 ms"
   ]
  },
  {
   "cell_type": "markdown",
   "metadata": {},
   "source": [
    "### Amplitude\n",
    "\n",
    "######### P wave #########\n",
    "\n",
    "Precision:    98.57%\n",
    "Recall:       86.6%\n",
    "F1 score:     92.2%\n",
    "\n",
    "Onset Error:  0 ± 0 ms\n",
    "Offset Error: 0 ± 0 ms\n",
    "\n",
    "######### QRS wave #########\n",
    "\n",
    "Precision:    98.07%\n",
    "Recall:       99.97%\n",
    "F1 score:     99.01%\n",
    "\n",
    "Onset Error:  0 ± 0 ms\n",
    "Offset Error: 0 ± 0 ms\n",
    "\n",
    "######### T wave #########\n",
    "\n",
    "Precision:    95.11%\n",
    "Recall:       93.22%\n",
    "F1 score:     94.16%\n",
    "\n",
    "Onset Error:  0 ± 0 ms\n",
    "Offset Error: 0 ± 0 ms\n"
   ]
  },
  {
   "cell_type": "markdown",
   "metadata": {},
   "source": [
    "# Multi5All_20201009184921\n",
    "\n",
    "--- SINGLE ---\n",
    "\n",
    "######### P wave #########\n",
    "\n",
    "Precision:    98.07%\n",
    "Recall:       96.14%\n",
    "F1 score:     97.09%\n",
    "\n",
    "Onset Error:  -2.66 ± 20.65 ms\n",
    "Offset Error: -1.19 ± 17.92 ms\n",
    "\n",
    "\n",
    "######### QRS wave #########\n",
    "\n",
    "Precision:    99.58%\n",
    "Recall:       99.7%\n",
    "F1 score:     99.64%\n",
    "\n",
    "Onset Error:  -1.25 ± 11.77 ms\n",
    "Offset Error: 6.35 ± 16.96 ms\n",
    "\n",
    "\n",
    "######### T wave #########\n",
    "\n",
    "Precision:    98.88%\n",
    "Recall:       98.5%\n",
    "F1 score:     98.69%\n",
    "\n",
    "Onset Error:  0.59 ± 37.92 ms\n",
    "Offset Error: 6.85 ± 56.09 ms\n",
    "\n",
    "---\n",
    "--- MULTI ---\n",
    "\n",
    "######### P wave #########\n",
    "\n",
    "Precision:    97.44%\n",
    "Recall:       97.6%\n",
    "F1 score:     97.52%\n",
    "\n",
    "Onset Error:  -2.09 ± 16.84 ms\n",
    "Offset Error: -1.53 ± 11.23 ms\n",
    "\n",
    "\n",
    "######### QRS wave #########\n",
    "\n",
    "Precision:    99.44%\n",
    "Recall:       99.97%\n",
    "F1 score:     99.7%\n",
    "\n",
    "Onset Error:  -0.54 ± 8.09 ms\n",
    "Offset Error: 3.27 ± 10.59 ms\n",
    "\n",
    "\n",
    "######### T wave #########\n",
    "\n",
    "Precision:    97.16%\n",
    "Recall:       99.29%\n",
    "F1 score:     98.21%\n",
    "\n",
    "Onset Error:  1.66 ± 35.72 ms\n",
    "Offset Error: 7.06 ± 46.0 ms\n"
   ]
  },
  {
   "cell_type": "markdown",
   "metadata": {},
   "source": [
    "# Multi5All_20201016205331 (+real data)\n",
    "\n",
    "--- SINGLE ---\n",
    "\n",
    "######### P wave #########\n",
    "\n",
    "Precision:    98.48%\n",
    "Recall:       95.84%\n",
    "F1 score:     97.14%\n",
    "\n",
    "Onset Error:  -0.09 ± 19.02 ms\n",
    "Offset Error: 2.12 ± 15.21 ms\n",
    "\n",
    "\n",
    "######### QRS wave #########\n",
    "\n",
    "Precision:    99.55%\n",
    "Recall:       99.91%\n",
    "F1 score:     99.73%\n",
    "\n",
    "Onset Error:  0.64 ± 11.19 ms\n",
    "Offset Error: 4.46 ± 15.92 ms\n",
    "\n",
    "\n",
    "######### T wave #########\n",
    "\n",
    "Precision:    98.5%\n",
    "Recall:       99.36%\n",
    "F1 score:     98.92%\n",
    "\n",
    "Onset Error:  0.53 ± 40.02 ms\n",
    "Offset Error: 5.73 ± 52.0 ms\n",
    "\n",
    "---\n",
    "--- MULTI ---\n",
    "\n",
    "######### P wave #########\n",
    "\n",
    "Precision:    97.88%\n",
    "Recall:       97.0%\n",
    "F1 score:     97.44%\n",
    "\n",
    "Onset Error:  0.16 ± 13.18 ms\n",
    "Offset Error: 0.8 ± 9.59 ms\n",
    "\n",
    "\n",
    "######### QRS wave #########\n",
    "\n",
    "Precision:    99.44%\n",
    "Recall:       99.97%\n",
    "F1 score:     99.7%\n",
    "\n",
    "Onset Error:  0.74 ± 7.61 ms\n",
    "Offset Error: 2.59 ± 11.76 ms\n",
    "\n",
    "\n",
    "######### T wave #########\n",
    "\n",
    "Precision:    96.55%\n",
    "Recall:       99.35%\n",
    "F1 score:     97.93%\n",
    "\n",
    "Onset Error:  0.7 ± 37.42 ms\n",
    "Offset Error: 7.49 ± 42.41 ms\n"
   ]
  },
  {
   "cell_type": "markdown",
   "metadata": {},
   "source": [
    "# W-Net\n",
    "\n",
    "--- MULTI ---\n",
    "\n",
    "######### P wave #########\n",
    "\n",
    "Precision:    98.91%\n",
    "Recall:       75.29%\n",
    "F1 score:     85.5%\n",
    "\n",
    "Onset Error:  -1.1 ± 22.6 ms\n",
    "Offset Error: -1.18 ± 16.21 ms\n",
    "\n",
    "\n",
    "######### QRS wave #########\n",
    "\n",
    "Precision:    99.63%\n",
    "Recall:       99.9%\n",
    "F1 score:     99.77%\n",
    "\n",
    "Onset Error:  -0.55 ± 11.86 ms\n",
    "Offset Error: 4.47 ± 15.64 ms\n",
    "\n",
    "\n",
    "######### T wave #########\n",
    "\n",
    "Precision:    99.65%\n",
    "Recall:       99.55%\n",
    "F1 score:     99.6%\n",
    "\n",
    "Onset Error:  10.67 ± 43.55 ms\n",
    "Offset Error: -1.59 ± 56.99 ms\n",
    "\n",
    "\n",
    "---\n",
    "--- MULTI ---\n",
    "\n",
    "\n",
    "######### P wave #########\n",
    "\n",
    "Precision:    98.45%\n",
    "Recall:       76.71%\n",
    "F1 score:     86.23%\n",
    "\n",
    "Onset Error:  -1.01 ± 17.87 ms\n",
    "Offset Error: -1.86 ± 10.73 ms\n",
    "\n",
    "\n",
    "######### QRS wave #########\n",
    "\n",
    "Precision:    99.55%\n",
    "Recall:       99.94%\n",
    "F1 score:     99.74%\n",
    "\n",
    "Onset Error:  -0.02 ± 8.18 ms\n",
    "Offset Error: 1.99 ± 10.13 ms\n",
    "\n",
    "\n",
    "######### T wave #########\n",
    "\n",
    "Precision:    99.49%\n",
    "Recall:       99.9%\n",
    "F1 score:     99.7%\n",
    "\n",
    "Onset Error:  8.8 ± 34.68 ms\n",
    "Offset Error: 0.5 ± 44.54 ms"
   ]
  },
  {
   "cell_type": "code",
   "execution_count": null,
   "metadata": {},
   "outputs": [],
   "source": []
  },
  {
   "cell_type": "code",
   "execution_count": null,
   "metadata": {},
   "outputs": [],
   "source": []
  },
  {
   "cell_type": "code",
   "execution_count": null,
   "metadata": {},
   "outputs": [],
   "source": []
  },
  {
   "cell_type": "markdown",
   "metadata": {},
   "source": [
    "# Step 3: Compute metrics"
   ]
  },
  {
   "cell_type": "code",
   "execution_count": null,
   "metadata": {},
   "outputs": [],
   "source": []
  },
  {
   "cell_type": "code",
   "execution_count": null,
   "metadata": {},
   "outputs": [],
   "source": []
  },
  {
   "cell_type": "code",
   "execution_count": null,
   "metadata": {},
   "outputs": [],
   "source": []
  },
  {
   "cell_type": "code",
   "execution_count": null,
   "metadata": {},
   "outputs": [],
   "source": []
  },
  {
   "cell_type": "code",
   "execution_count": null,
   "metadata": {},
   "outputs": [],
   "source": []
  },
  {
   "cell_type": "code",
   "execution_count": null,
   "metadata": {},
   "outputs": [],
   "source": []
  },
  {
   "cell_type": "code",
   "execution_count": null,
   "metadata": {},
   "outputs": [],
   "source": []
  },
  {
   "cell_type": "markdown",
   "metadata": {},
   "source": [
    "# DICOM"
   ]
  },
  {
   "cell_type": "code",
   "execution_count": 14,
   "metadata": {},
   "outputs": [],
   "source": [
    "import pydicom\n",
    "\n",
    "def predict_mask(signal, N, stride, model, ptg_voting = 0.25):\n",
    "    total_samples = np.zeros((1,),dtype='int64')\n",
    "    \n",
    "    # Data structure for computing the segmentation\n",
    "    windowed_signal = np.array([(skimage.util.view_as_windows((signal)[:,lead],N,stride)) for lead in range(signal.shape[1])])[:,:,None,:]\n",
    "    windowed_sample = np.array((skimage.util.view_as_windows(np.arange(signal.shape[0]),N,stride)))\n",
    "\n",
    "    segmentation = np.zeros((3,signal.shape[0]),dtype=int)\n",
    "    samples_voting = np.zeros((signal.shape[0],),dtype=int)\n",
    "\n",
    "    # Compute segmentation for all leads independently\n",
    "    for lead in range(windowed_signal.shape[0]):\n",
    "        for i in range(0,windowed_signal.shape[1]):\n",
    "            with torch.no_grad():\n",
    "                prediction = predict_segment(model,windowed_signal[lead,i,None,...]) > thr_dice\n",
    "\n",
    "            # Fused segmentation\n",
    "            segmentation[:,windowed_sample[i]] += prediction\n",
    "            samples_voting[windowed_sample[i]] += 1\n",
    "\n",
    "    # Keep track of number of samples predicted\n",
    "    total_samples += samples_voting.sum()\n",
    "\n",
    "    # Majority voting according to number of times windowed and computed\n",
    "    segmentation = (segmentation > (samples_voting*ptg_voting).astype(int))\n",
    "    \n",
    "    return segmentation\n"
   ]
  },
  {
   "cell_type": "code",
   "execution_count": 15,
   "metadata": {},
   "outputs": [],
   "source": [
    "dicom = pydicom.dcmread('../../PediatricEchoHitachi/input/AG183834/F3QKAC02')\n",
    "ecg = dicom[(0x7fe1,  0x1001)][0][(0x7fe1, 0x1010)][2][(0x7fe1, 0x1020)][0][(0x7fe1, 0x103a)][0]\n",
    "vals = []\n",
    "ecgValue = ecg[(0x7fe1, 0x1069)].value\n",
    "for i in range(len(ecg[(0x7fe1, 0x1069)].value)//2):\n",
    "\n",
    "    val = (256) * ecgValue[2*i + 1] +  ecgValue[2*i]\n",
    "    if ecgValue[2*i + 1] >=128: #Two's complement\n",
    "        val -= 2**16\n",
    "    vals.append(val)\n",
    "\n",
    "ecg = np.array(vals, dtype=float)\n",
    "ecg = sak.signal.on_off_correction(ecg)\n",
    "ecg = sak.data.ball_scaling(ecg,metric=sak.signal.abs_max)\n",
    "ecg = sp.interpolate.interp1d(np.linspace(0,1,ecg.size),ecg)(np.linspace(0,1,ecg.size//3))"
   ]
  },
  {
   "cell_type": "code",
   "execution_count": 16,
   "metadata": {},
   "outputs": [],
   "source": [
    "model = []\n",
    "for i in range(5):\n",
    "    model.append(torch.load(os.path.join(basedir,'TrainedModels',model_name,'fold_{}'.format(i+1),'model_best.model'),pickle_module=dill).eval().float())"
   ]
  },
  {
   "cell_type": "code",
   "execution_count": 17,
   "metadata": {},
   "outputs": [],
   "source": [
    "# Obtain segmentation\n",
    "tensor_ecg = torch.tensor(ecg)[None,None,].float().cuda()\n",
    "with torch.no_grad():\n",
    "    for i,m in enumerate(model):\n",
    "        if i == 0:\n",
    "            segmentation = m(tensor_ecg)[0].cpu().numpy().astype(int)\n",
    "        else:\n",
    "            segmentation += m(tensor_ecg)[0].cpu().numpy().astype(int)\n",
    "\n",
    "    segmentation = segmentation >= 3\n",
    "segmentation = segmentation[0,]"
   ]
  },
  {
   "cell_type": "code",
   "execution_count": 18,
   "metadata": {},
   "outputs": [],
   "source": [
    "pon,poff = sak.signal.get_mask_boundary(segmentation[0,:])\n",
    "qrson,qrsoff = sak.signal.get_mask_boundary(segmentation[1,:])\n",
    "ton,toff = sak.signal.get_mask_boundary(segmentation[2,:])"
   ]
  },
  {
   "cell_type": "code",
   "execution_count": 21,
   "metadata": {},
   "outputs": [
    {
     "data": {
      "text/plain": [
       "[<matplotlib.patches.Polygon at 0x7f319f3d25b0>,\n",
       " <matplotlib.patches.Polygon at 0x7f319f39a460>,\n",
       " <matplotlib.patches.Polygon at 0x7f319f39a6a0>,\n",
       " <matplotlib.patches.Polygon at 0x7f319f39a8b0>,\n",
       " <matplotlib.patches.Polygon at 0x7f319f39aac0>,\n",
       " <matplotlib.patches.Polygon at 0x7f319f39acd0>,\n",
       " <matplotlib.patches.Polygon at 0x7f319f39aee0>,\n",
       " <matplotlib.patches.Polygon at 0x7f319f329130>]"
      ]
     },
     "execution_count": 21,
     "metadata": {},
     "output_type": "execute_result"
    },
    {
     "data": {
      "image/png": "[encoded data removed]",
      "text/plain": [
       "<Figure size 1152x288 with 1 Axes>"
      ]
     },
     "metadata": {
      "needs_background": "light"
     },
     "output_type": "display_data"
    }
   ],
   "source": [
    "plt.figure(figsize=(16,4))\n",
    "plt.plot(ecg)\n",
    "ax = plt.gca()\n",
    "[ax.axvspan(on,off,color='red',alpha=0.15) for on,off in zip(pon,poff)]\n",
    "[ax.axvspan(on,off,color='green',alpha=0.15) for on,off in zip(qrson,qrsoff)]\n",
    "[ax.axvspan(on,off,color='magenta',alpha=0.15) for on,off in zip(ton,toff)]"
   ]
  },
  {
   "cell_type": "code",
   "execution_count": 43,
   "metadata": {},
   "outputs": [
    {
     "data": {
      "text/plain": [
       "3600"
      ]
     },
     "execution_count": 43,
     "metadata": {},
     "output_type": "execute_result"
    }
   ],
   "source": [
    "ecg.size"
   ]
  },
  {
   "cell_type": "code",
   "execution_count": null,
   "metadata": {},
   "outputs": [],
   "source": []
  },
  {
   "cell_type": "code",
   "execution_count": null,
   "metadata": {},
   "outputs": [],
   "source": []
  },
  {
   "cell_type": "markdown",
   "metadata": {},
   "source": [
    "# OLD AND CREEPY"
   ]
  },
  {
   "cell_type": "code",
   "execution_count": 11,
   "metadata": {},
   "outputs": [],
   "source": [
    "# amplitudes = {}\n",
    "# sizes = {}\n",
    "\n",
    "# for k in QRSon:\n",
    "#     for i,(on,off) in enumerate(zip(QRSon[k],QRSoff[k])):\n",
    "#         if k in dataset2:\n",
    "#             amplitudes[k+'###{}'.format(i)] = sak.signal.amplitude(dataset2[k][on:off])\n",
    "#             sizes[k+'###{}'.format(i)] = off-on"
   ]
  },
  {
   "cell_type": "code",
   "execution_count": 12,
   "metadata": {},
   "outputs": [],
   "source": [
    "# signames = np.array([k for k in amplitudes])\n",
    "# sigvalue = np.array([amplitudes[k] for k in amplitudes])\n",
    "# sigsizes = np.array([sizes[k] for k in sizes])\n",
    "# sorter = np.argsort(sigvalue)\n",
    "# signames = signames[sorter]\n",
    "# sigvalue = sigvalue[sorter]\n",
    "# sigsizes = sigsizes[sorter]"
   ]
  },
  {
   "cell_type": "code",
   "execution_count": 13,
   "metadata": {},
   "outputs": [],
   "source": [
    "# np.round(100*(sigvalue < 1.5).sum()/sigvalue.size,decimals=2)"
   ]
  },
  {
   "cell_type": "code",
   "execution_count": 849,
   "metadata": {},
   "outputs": [
    {
     "data": {
      "image/png": "[encoded data removed]",
      "text/plain": [
       "<Figure size 432x288 with 2 Axes>"
      ]
     },
     "metadata": {
      "needs_background": "light"
     },
     "output_type": "display_data"
    }
   ],
   "source": [
    "# threshold = 2\n",
    "# _=plt.hist(sigsizes[sigvalue  < threshold],bins=50)\n",
    "# plt.twinx()\n",
    "# _=plt.hist(sigsizes[sigvalue >= threshold],bins=50, color='orange')"
   ]
  },
  {
   "cell_type": "code",
   "execution_count": 357,
   "metadata": {},
   "outputs": [],
   "source": [
    "# limit = 500\n",
    "\n",
    "# check = []\n",
    "# where = []\n",
    "# sampl = []\n",
    "# snext = []\n",
    "# sbegi = []\n",
    "# sendi = []\n",
    "\n",
    "# validity = {}\n",
    "# for k in QRSon:\n",
    "#     if k not in Toff: continue\n",
    "#     deltaQRS = QRSon[k][1:]-QRSon[k][:-1]\n",
    "#     first = int(min(np.hstack([Pon.get(k,[]),QRSon.get(k,[]),Ton.get(k,[])]))-20)\n",
    "#     last = int(max(np.hstack([Poff.get(k,[]),QRSoff.get(k,[]),Toff.get(k,[])]))+20)\n",
    "#     if max(deltaQRS) > limit:\n",
    "#         check.append(k)\n",
    "#         where.append(np.argwhere(deltaQRS > limit))\n",
    "#         sampl.append(Toff[k][np.argwhere(deltaQRS > limit)])\n",
    "#         snext.append(QRSon[k][np.argwhere(deltaQRS > limit)])\n",
    "#         sbegi.append([first])\n",
    "#         sendi.append([last])\n",
    "        \n",
    "#     validity[k] = [[first,last]]\n",
    "\n",
    "# validity['sel231_0']   = [[150280,161620],[165900,171550]]\n",
    "# validity['sel231_1']   = [[150280,161620],[165900,171550]]\n",
    "# validity['sel213_0']   = [[150130,154000],[190830,196810]]\n",
    "# validity['sel213_1']   = [[150130,154000],[190830,196810]]\n",
    "# validity['sel301_0']   = [[150180,153380],[157000,159800]]\n",
    "# validity['sel301_1']   = [[150180,153380],[157000,159800]]\n",
    "# validity['sele0112_0'] = [[150410,160470],[207800,213850]]\n",
    "# validity['sele0112_1'] = [[150410,160470],[207800,213850]]\n",
    "\n",
    "# sak.save_data(validity,os.path.join(basedir,'QTDB','validity.csv'))"
   ]
  },
  {
   "cell_type": "code",
   "execution_count": 359,
   "metadata": {},
   "outputs": [],
   "source": [
    "# i = 8\n",
    "# k = check[i]\n",
    "# s = int(sbegi[i][0])\n",
    "# print(s)\n",
    "# print(k)\n",
    "\n",
    "# pon,poff     = src.metrics.filter_valid(Pon[k],Poff[k],s-2000,s+2000)\n",
    "# qrson,qrsoff = src.metrics.filter_valid(QRSon[k],QRSoff[k],s-2000,s+2000)\n",
    "# ton,toff     = src.metrics.filter_valid(Ton[k],Toff[k],s-2000,s+2000)\n",
    "\n",
    "# plt.figure(figsize=(15,4))\n",
    "# plt.plot(dataset[k][s-1000:s+1000])\n",
    "# [plt.gca().axvspan(onset,offset, color='red', alpha=0.15) for (onset,offset) in zip(pon,poff)]\n",
    "# [plt.gca().axvspan(onset,offset, color='green', alpha=0.15) for (onset,offset) in zip(qrson,qrsoff)]\n",
    "# [plt.gca().axvspan(onset,offset, color='magenta', alpha=0.15) for (onset,offset) in zip(ton,toff)]\n",
    "# # plt.gca().axvline(s-20,color='orange')\n",
    "# plt.gca().axvline(s,color='red')\n",
    "# plt.gca().axvline(150130,color='orange')\n",
    "# plt.xlim([s-1000,s+1000])\n",
    "# plt.show()"
   ]
  },
  {
   "cell_type": "code",
   "execution_count": 360,
   "metadata": {},
   "outputs": [],
   "source": [
    "# # Plot validity\n",
    "# f = plt.figure(figsize=(15,4))\n",
    "\n",
    "# for k in tqdm.tqdm(validity):\n",
    "#     on,off = validity[k][0]\n",
    "#     if k in Pon:\n",
    "#         pon,poff = src.metrics.filter_valid(Pon[k],Poff[k],on,off)\n",
    "#     qrson,qrsoff = src.metrics.filter_valid(QRSon[k],QRSoff[k],on,off)\n",
    "#     ton,toff     = src.metrics.filter_valid(Ton[k],Toff[k],on,off)\n",
    "    \n",
    "#     s = on\n",
    "    \n",
    "#     f.gca().plot(dataset[k][s-1000:s+1000])\n",
    "#     if k in Pon:\n",
    "#         [f.gca().axvspan(onset,offset, color='red', alpha=0.15) for (onset,offset) in zip(pon,poff)]\n",
    "#     [f.gca().axvspan(onset,offset, color='green', alpha=0.15) for (onset,offset) in zip(qrson,qrsoff)]\n",
    "#     [f.gca().axvspan(onset,offset, color='magenta', alpha=0.15) for (onset,offset) in zip(ton,toff)]\n",
    "#     f.gca().axvline(s,color='red')\n",
    "#     f.gca().set_xlim([s-1000,s+1000])\n",
    "#     f.savefig(os.path.join('/home/guille/Escritorio/Valid/',k+'_first'))\n",
    "#     f.gca().clear()\n",
    "    \n",
    "#     s = off\n",
    "\n",
    "#     f.gca().plot(dataset[k][s-1000:s+1000])\n",
    "#     if k in Pon:\n",
    "#         [f.gca().axvspan(onset,offset, color='red', alpha=0.15) for (onset,offset) in zip(pon,poff)]\n",
    "#     [f.gca().axvspan(onset,offset, color='green', alpha=0.15) for (onset,offset) in zip(qrson,qrsoff)]\n",
    "#     [f.gca().axvspan(onset,offset, color='magenta', alpha=0.15) for (onset,offset) in zip(ton,toff)]\n",
    "#     f.gca().axvline(s,color='red')\n",
    "#     f.gca().set_xlim([s-1000,s+1000])\n",
    "#     f.savefig(os.path.join('/home/guille/Escritorio/Valid/',k+'_last.png'))\n",
    "#     f.gca().clear()\n",
    "    "
   ]
  },
  {
   "cell_type": "code",
   "execution_count": null,
   "metadata": {},
   "outputs": [],
   "source": []
  },
  {
   "cell_type": "code",
   "execution_count": null,
   "metadata": {},
   "outputs": [],
   "source": []
  }
 ],
 "metadata": {
  "kernelspec": {
   "display_name": "DeepLearning3",
   "language": "python",
   "name": "deeplearning3"
  },
  "language_info": {
   "codemirror_mode": {
    "name": "ipython",
    "version": 3
   },
   "file_extension": ".py",
   "mimetype": "text/x-python",
   "name": "python",
   "nbconvert_exporter": "python",
   "pygments_lexer": "ipython3",
   "version": "3.8.5"
  }
 },
 "nbformat": 4,
 "nbformat_minor": 4
}
