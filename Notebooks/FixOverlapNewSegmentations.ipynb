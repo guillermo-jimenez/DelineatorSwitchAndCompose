{
 "cells": [
  {
   "cell_type": "code",
   "execution_count": 1,
   "metadata": {},
   "outputs": [],
   "source": [
    "%load_ext autoreload\n",
    "%autoreload 2"
   ]
  },
  {
   "cell_type": "code",
   "execution_count": 35,
   "metadata": {},
   "outputs": [],
   "source": [
    "import os\n",
    "import os.path\n",
    "import utils\n",
    "import numpy as np\n",
    "import scipy as sp\n",
    "import scipy.signal\n",
    "import pandas as pd\n",
    "import json\n",
    "import tqdm\n",
    "import matplotlib.pyplot as plt\n",
    "from scipy.stats import norm\n",
    "\n",
    "# Data loader to un-clutter code    \n",
    "def save_data(filepath, dic):\n",
    "    with open(filepath, 'w') as f:\n",
    "        for key in dic.keys():\n",
    "            # f.write(\"%s,%s\\n\"%(key,dic[key].tolist()))\n",
    "            f.write(\"{},{}\\n\".format(key,str(dic[key].tolist()).replace(']','').replace('[','').replace(' ','')))\n",
    "\n",
    "# Data loader to un-clutter code    \n",
    "def load_data(filepath):\n",
    "    dic = dict()\n",
    "    with open(filepath) as f:\n",
    "        text = list(f)\n",
    "    for line in text:\n",
    "        line = line.replace(' ','').replace('\\n','').replace(',,','')\n",
    "        if line[-1] == ',': line = line[:-1]\n",
    "        head = line.split(',')[0]\n",
    "        tail = line.split(',')[1:]\n",
    "        if tail == ['']:\n",
    "            tail = np.asarray([])\n",
    "        else:\n",
    "            tail = np.asarray(tail).astype(int)\n",
    "\n",
    "        dic[head] = tail\n",
    "    return dic\n",
    "\n",
    "\n",
    "def trailonset(sig,on):\n",
    "    on = on-sig[0]\n",
    "    off = on-sig[0]+sig[-1]\n",
    "    sig = sig+np.linspace(on,off,sig.size)\n",
    "    \n",
    "    return sig\n"
   ]
  },
  {
   "cell_type": "code",
   "execution_count": 36,
   "metadata": {},
   "outputs": [],
   "source": [
    "# Load delineations\n",
    "new_P = load_data(r'C:\\Users\\Emilio\\Documents\\DADES\\DADES\\PhysioNet\\QTDB\\P_NEW.csv')\n",
    "new_QRS = load_data(r'C:\\Users\\Emilio\\Documents\\DADES\\DADES\\PhysioNet\\QTDB\\QRS_NEW.csv')\n",
    "new_T = load_data(r'C:\\Users\\Emilio\\Documents\\DADES\\DADES\\PhysioNet\\QTDB\\T_NEW.csv')\n",
    "\n",
    "# Load divide in onset/offset\n",
    "Pon = {k: new_P[k][::2] for k in new_P}\n",
    "Poff = {k: new_P[k][1::2] for k in new_P}\n",
    "QRSon = {k: new_QRS[k][::2] for k in new_QRS}\n",
    "QRSoff = {k: new_QRS[k][1::2] for k in new_QRS}\n",
    "Ton = {k: new_T[k][::2] for k in new_T}\n",
    "Toff = {k: new_T[k][1::2] for k in new_T}\n",
    "\n",
    "# Sanity check\n",
    "for k in QRSon:\n",
    "    if k in Pon:\n",
    "        if Pon[k].size != Poff[k].size:\n",
    "            print(\"Check P size {}\".format(k))\n",
    "        for i in range(len(Pon[k])):\n",
    "            if Pon[k][i] == Poff[k][i]:\n",
    "                print(\"Check P same {}, {}\".format(k,i))\n",
    "            if Pon[k][i] > Poff[k][i]:\n",
    "                print(\"Check P larger {}, {}\".format(k,i))\n",
    "    \n",
    "    if QRSon[k].size != QRSoff[k].size:\n",
    "        print(\"Check QRS size {}\".format(k))\n",
    "    for i in range(len(QRSon[k])):\n",
    "        if QRSon[k][i] == QRSoff[k][i]:\n",
    "            print(\"Check QRS same {}, {}\".format(k,i))\n",
    "        if QRSon[k][i] > QRSoff[k][i]:\n",
    "            print(\"Check QRS larger {}, {}\".format(k,i))\n",
    "    \n",
    "    if k in Ton:\n",
    "        if Ton[k].size != Toff[k].size:\n",
    "            print(\"Check T size {}\".format(k))\n",
    "        for i in range(len(Ton[k])):\n",
    "            if Ton[k][i] == Toff[k][i]:\n",
    "                print(\"Check T same {}, {}\".format(k,i))\n",
    "            if Ton[k][i] > Toff[k][i]:\n",
    "                print(\"Check T larger {}, {}\".format(k,i))\n",
    "\n",
    "# Save new format\n",
    "save_data(r'C:\\Users\\Emilio\\Documents\\DADES\\DADES\\PhysioNet\\QTDB\\PonNew.csv',Pon)\n",
    "save_data(r'C:\\Users\\Emilio\\Documents\\DADES\\DADES\\PhysioNet\\QTDB\\PoffNew.csv',Poff)\n",
    "save_data(r'C:\\Users\\Emilio\\Documents\\DADES\\DADES\\PhysioNet\\QTDB\\QRSonNew.csv',QRSon)\n",
    "save_data(r'C:\\Users\\Emilio\\Documents\\DADES\\DADES\\PhysioNet\\QTDB\\QRSoffNew.csv',QRSoff)\n",
    "save_data(r'C:\\Users\\Emilio\\Documents\\DADES\\DADES\\PhysioNet\\QTDB\\TonNew.csv',Ton)\n",
    "save_data(r'C:\\Users\\Emilio\\Documents\\DADES\\DADES\\PhysioNet\\QTDB\\ToffNew.csv',Toff)\n"
   ]
  },
  {
   "cell_type": "code",
   "execution_count": 25,
   "metadata": {},
   "outputs": [
    {
     "ename": "NameError",
     "evalue": "name 'ajgkns' is not defined",
     "output_type": "error",
     "traceback": [
      "\u001b[1;31m---------------------------------------------------------------------------\u001b[0m",
      "\u001b[1;31mNameError\u001b[0m                                 Traceback (most recent call last)",
      "\u001b[1;32m<ipython-input-25-5e072748409c>\u001b[0m in \u001b[0;36m<module>\u001b[1;34m\u001b[0m\n\u001b[0;32m     15\u001b[0m         \u001b[0mton\u001b[0m \u001b[1;33m=\u001b[0m \u001b[0mnp\u001b[0m\u001b[1;33m.\u001b[0m\u001b[0marray\u001b[0m\u001b[1;33m(\u001b[0m\u001b[1;33m[\u001b[0m\u001b[1;33m]\u001b[0m\u001b[1;33m)\u001b[0m\u001b[1;33m\u001b[0m\u001b[1;33m\u001b[0m\u001b[0m\n\u001b[0;32m     16\u001b[0m         \u001b[0mtof\u001b[0m \u001b[1;33m=\u001b[0m \u001b[0mnp\u001b[0m\u001b[1;33m.\u001b[0m\u001b[0marray\u001b[0m\u001b[1;33m(\u001b[0m\u001b[1;33m[\u001b[0m\u001b[1;33m]\u001b[0m\u001b[1;33m)\u001b[0m\u001b[1;33m\u001b[0m\u001b[1;33m\u001b[0m\u001b[0m\n\u001b[1;32m---> 17\u001b[1;33m     \u001b[0majgkns\u001b[0m\u001b[1;33m\u001b[0m\u001b[1;33m\u001b[0m\u001b[0m\n\u001b[0m",
      "\u001b[1;31mNameError\u001b[0m: name 'ajgkns' is not defined"
     ]
    }
   ],
   "source": [
    "# Fix format\n",
    "for k in QRSon:\n",
    "    if k in Pon:\n",
    "        pon = Pon[k]\n",
    "        pof = Poff[k]\n",
    "    else:\n",
    "        pon = np.array([])\n",
    "        pof = np.array([])\n",
    "    qon = QRSon[k]\n",
    "    qof = QRSoff[k]\n",
    "    if k in Ton:\n",
    "        ton = Ton[k]\n",
    "        tof = Toff[k]\n",
    "    else:\n",
    "        ton = np.array([])\n",
    "        tof = np.array([])\n",
    "    ajgkns"
   ]
  },
  {
   "cell_type": "code",
   "execution_count": null,
   "metadata": {},
   "outputs": [],
   "source": []
  },
  {
   "cell_type": "code",
   "execution_count": null,
   "metadata": {},
   "outputs": [],
   "source": []
  },
  {
   "cell_type": "code",
   "execution_count": null,
   "metadata": {},
   "outputs": [],
   "source": []
  },
  {
   "cell_type": "code",
   "execution_count": null,
   "metadata": {},
   "outputs": [],
   "source": []
  },
  {
   "cell_type": "code",
   "execution_count": null,
   "metadata": {},
   "outputs": [],
   "source": []
  },
  {
   "cell_type": "code",
   "execution_count": null,
   "metadata": {},
   "outputs": [],
   "source": []
  },
  {
   "cell_type": "code",
   "execution_count": null,
   "metadata": {},
   "outputs": [],
   "source": []
  }
 ],
 "metadata": {
  "kernelspec": {
   "display_name": "Python 3.7.6 64-bit ('DeepLearning3': conda)",
   "language": "python",
   "name": "python37664bitdeeplearning3condabf088a77164d4ce6bfcfdd19e2be2eaa"
  },
  "language_info": {
   "codemirror_mode": {
    "name": "ipython",
    "version": 3
   },
   "file_extension": ".py",
   "mimetype": "text/x-python",
   "name": "python",
   "nbconvert_exporter": "python",
   "pygments_lexer": "ipython3",
   "version": "3.7.6"
  }
 },
 "nbformat": 4,
 "nbformat_minor": 2
}
